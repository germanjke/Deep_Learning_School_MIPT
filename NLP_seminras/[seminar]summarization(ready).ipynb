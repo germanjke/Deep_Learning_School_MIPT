{
  "nbformat": 4,
  "nbformat_minor": 0,
  "metadata": {
    "colab": {
      "name": "[seminar]summarization(ready).ipynb",
      "provenance": [],
      "collapsed_sections": [
        "xdTrfxycB7cd",
        "7Sfauc4VGgyw",
        "AOkUL_YIGp-S",
        "seH13yXuGt03",
        "4q2Gb6ODHHB_"
      ],
      "include_colab_link": true
    },
    "kernelspec": {
      "name": "python3",
      "display_name": "Python 3"
    },
    "accelerator": "GPU",
    "widgets": {
      "application/vnd.jupyter.widget-state+json": {
        "71a8d50ac10c420abfb7f101698cd1e9": {
          "model_module": "@jupyter-widgets/controls",
          "model_name": "HBoxModel",
          "state": {
            "_view_name": "HBoxView",
            "_dom_classes": [],
            "_model_name": "HBoxModel",
            "_view_module": "@jupyter-widgets/controls",
            "_model_module_version": "1.5.0",
            "_view_count": null,
            "_view_module_version": "1.5.0",
            "box_style": "",
            "layout": "IPY_MODEL_2b33e076169547f8b8b3a4a333bac91f",
            "_model_module": "@jupyter-widgets/controls",
            "children": [
              "IPY_MODEL_b911e04925794871b5524d0e503e20a4",
              "IPY_MODEL_166ac3096cab4733aba73b81095ee7db"
            ]
          }
        },
        "2b33e076169547f8b8b3a4a333bac91f": {
          "model_module": "@jupyter-widgets/base",
          "model_name": "LayoutModel",
          "state": {
            "_view_name": "LayoutView",
            "grid_template_rows": null,
            "right": null,
            "justify_content": null,
            "_view_module": "@jupyter-widgets/base",
            "overflow": null,
            "_model_module_version": "1.2.0",
            "_view_count": null,
            "flex_flow": null,
            "width": null,
            "min_width": null,
            "border": null,
            "align_items": null,
            "bottom": null,
            "_model_module": "@jupyter-widgets/base",
            "top": null,
            "grid_column": null,
            "overflow_y": null,
            "overflow_x": null,
            "grid_auto_flow": null,
            "grid_area": null,
            "grid_template_columns": null,
            "flex": null,
            "_model_name": "LayoutModel",
            "justify_items": null,
            "grid_row": null,
            "max_height": null,
            "align_content": null,
            "visibility": null,
            "align_self": null,
            "height": null,
            "min_height": null,
            "padding": null,
            "grid_auto_rows": null,
            "grid_gap": null,
            "max_width": null,
            "order": null,
            "_view_module_version": "1.2.0",
            "grid_template_areas": null,
            "object_position": null,
            "object_fit": null,
            "grid_auto_columns": null,
            "margin": null,
            "display": null,
            "left": null
          }
        },
        "b911e04925794871b5524d0e503e20a4": {
          "model_module": "@jupyter-widgets/controls",
          "model_name": "FloatProgressModel",
          "state": {
            "_view_name": "ProgressView",
            "style": "IPY_MODEL_7e387e0982a045f4afb74fb90003ff9f",
            "_dom_classes": [],
            "description": "",
            "_model_name": "FloatProgressModel",
            "bar_style": "danger",
            "max": 1,
            "_view_module": "@jupyter-widgets/controls",
            "_model_module_version": "1.5.0",
            "value": 1,
            "_view_count": null,
            "_view_module_version": "1.5.0",
            "orientation": "horizontal",
            "min": 0,
            "description_tooltip": null,
            "_model_module": "@jupyter-widgets/controls",
            "layout": "IPY_MODEL_ce0f9337e01c400ab65e72264bd130a4"
          }
        },
        "166ac3096cab4733aba73b81095ee7db": {
          "model_module": "@jupyter-widgets/controls",
          "model_name": "HTMLModel",
          "state": {
            "_view_name": "HTMLView",
            "style": "IPY_MODEL_c78c59621f9c402ca9bcc1ebfff25b8b",
            "_dom_classes": [],
            "description": "",
            "_model_name": "HTMLModel",
            "placeholder": "​",
            "_view_module": "@jupyter-widgets/controls",
            "_model_module_version": "1.5.0",
            "value": " 1000/? [03:10&lt;00:00,  5.10it/s]",
            "_view_count": null,
            "_view_module_version": "1.5.0",
            "description_tooltip": null,
            "_model_module": "@jupyter-widgets/controls",
            "layout": "IPY_MODEL_1e4448214dd04cc3bf4f0c3d332e77da"
          }
        },
        "7e387e0982a045f4afb74fb90003ff9f": {
          "model_module": "@jupyter-widgets/controls",
          "model_name": "ProgressStyleModel",
          "state": {
            "_view_name": "StyleView",
            "_model_name": "ProgressStyleModel",
            "description_width": "initial",
            "_view_module": "@jupyter-widgets/base",
            "_model_module_version": "1.5.0",
            "_view_count": null,
            "_view_module_version": "1.2.0",
            "bar_color": null,
            "_model_module": "@jupyter-widgets/controls"
          }
        },
        "ce0f9337e01c400ab65e72264bd130a4": {
          "model_module": "@jupyter-widgets/base",
          "model_name": "LayoutModel",
          "state": {
            "_view_name": "LayoutView",
            "grid_template_rows": null,
            "right": null,
            "justify_content": null,
            "_view_module": "@jupyter-widgets/base",
            "overflow": null,
            "_model_module_version": "1.2.0",
            "_view_count": null,
            "flex_flow": null,
            "width": null,
            "min_width": null,
            "border": null,
            "align_items": null,
            "bottom": null,
            "_model_module": "@jupyter-widgets/base",
            "top": null,
            "grid_column": null,
            "overflow_y": null,
            "overflow_x": null,
            "grid_auto_flow": null,
            "grid_area": null,
            "grid_template_columns": null,
            "flex": null,
            "_model_name": "LayoutModel",
            "justify_items": null,
            "grid_row": null,
            "max_height": null,
            "align_content": null,
            "visibility": null,
            "align_self": null,
            "height": null,
            "min_height": null,
            "padding": null,
            "grid_auto_rows": null,
            "grid_gap": null,
            "max_width": null,
            "order": null,
            "_view_module_version": "1.2.0",
            "grid_template_areas": null,
            "object_position": null,
            "object_fit": null,
            "grid_auto_columns": null,
            "margin": null,
            "display": null,
            "left": null
          }
        },
        "c78c59621f9c402ca9bcc1ebfff25b8b": {
          "model_module": "@jupyter-widgets/controls",
          "model_name": "DescriptionStyleModel",
          "state": {
            "_view_name": "StyleView",
            "_model_name": "DescriptionStyleModel",
            "description_width": "",
            "_view_module": "@jupyter-widgets/base",
            "_model_module_version": "1.5.0",
            "_view_count": null,
            "_view_module_version": "1.2.0",
            "_model_module": "@jupyter-widgets/controls"
          }
        },
        "1e4448214dd04cc3bf4f0c3d332e77da": {
          "model_module": "@jupyter-widgets/base",
          "model_name": "LayoutModel",
          "state": {
            "_view_name": "LayoutView",
            "grid_template_rows": null,
            "right": null,
            "justify_content": null,
            "_view_module": "@jupyter-widgets/base",
            "overflow": null,
            "_model_module_version": "1.2.0",
            "_view_count": null,
            "flex_flow": null,
            "width": null,
            "min_width": null,
            "border": null,
            "align_items": null,
            "bottom": null,
            "_model_module": "@jupyter-widgets/base",
            "top": null,
            "grid_column": null,
            "overflow_y": null,
            "overflow_x": null,
            "grid_auto_flow": null,
            "grid_area": null,
            "grid_template_columns": null,
            "flex": null,
            "_model_name": "LayoutModel",
            "justify_items": null,
            "grid_row": null,
            "max_height": null,
            "align_content": null,
            "visibility": null,
            "align_self": null,
            "height": null,
            "min_height": null,
            "padding": null,
            "grid_auto_rows": null,
            "grid_gap": null,
            "max_width": null,
            "order": null,
            "_view_module_version": "1.2.0",
            "grid_template_areas": null,
            "object_position": null,
            "object_fit": null,
            "grid_auto_columns": null,
            "margin": null,
            "display": null,
            "left": null
          }
        },
        "bb8f0d218d73409cb7ccc11777939833": {
          "model_module": "@jupyter-widgets/controls",
          "model_name": "HBoxModel",
          "state": {
            "_view_name": "HBoxView",
            "_dom_classes": [],
            "_model_name": "HBoxModel",
            "_view_module": "@jupyter-widgets/controls",
            "_model_module_version": "1.5.0",
            "_view_count": null,
            "_view_module_version": "1.5.0",
            "box_style": "",
            "layout": "IPY_MODEL_fa4a1379aee149048b0dfb09a3ef36c9",
            "_model_module": "@jupyter-widgets/controls",
            "children": [
              "IPY_MODEL_eac84824a7b24f94befc49f71d68edd2",
              "IPY_MODEL_9fd31d264f50426195ab5302bcdc86ea"
            ]
          }
        },
        "fa4a1379aee149048b0dfb09a3ef36c9": {
          "model_module": "@jupyter-widgets/base",
          "model_name": "LayoutModel",
          "state": {
            "_view_name": "LayoutView",
            "grid_template_rows": null,
            "right": null,
            "justify_content": null,
            "_view_module": "@jupyter-widgets/base",
            "overflow": null,
            "_model_module_version": "1.2.0",
            "_view_count": null,
            "flex_flow": null,
            "width": null,
            "min_width": null,
            "border": null,
            "align_items": null,
            "bottom": null,
            "_model_module": "@jupyter-widgets/base",
            "top": null,
            "grid_column": null,
            "overflow_y": null,
            "overflow_x": null,
            "grid_auto_flow": null,
            "grid_area": null,
            "grid_template_columns": null,
            "flex": null,
            "_model_name": "LayoutModel",
            "justify_items": null,
            "grid_row": null,
            "max_height": null,
            "align_content": null,
            "visibility": null,
            "align_self": null,
            "height": null,
            "min_height": null,
            "padding": null,
            "grid_auto_rows": null,
            "grid_gap": null,
            "max_width": null,
            "order": null,
            "_view_module_version": "1.2.0",
            "grid_template_areas": null,
            "object_position": null,
            "object_fit": null,
            "grid_auto_columns": null,
            "margin": null,
            "display": null,
            "left": null
          }
        },
        "eac84824a7b24f94befc49f71d68edd2": {
          "model_module": "@jupyter-widgets/controls",
          "model_name": "FloatProgressModel",
          "state": {
            "_view_name": "ProgressView",
            "style": "IPY_MODEL_74861c4497b5434590a4688da53557e5",
            "_dom_classes": [],
            "description": "",
            "_model_name": "FloatProgressModel",
            "bar_style": "danger",
            "max": 1,
            "_view_module": "@jupyter-widgets/controls",
            "_model_module_version": "1.5.0",
            "value": 1,
            "_view_count": null,
            "_view_module_version": "1.5.0",
            "orientation": "horizontal",
            "min": 0,
            "description_tooltip": null,
            "_model_module": "@jupyter-widgets/controls",
            "layout": "IPY_MODEL_7ede90a0494b48eb9c3310da6acd38ac"
          }
        },
        "9fd31d264f50426195ab5302bcdc86ea": {
          "model_module": "@jupyter-widgets/controls",
          "model_name": "HTMLModel",
          "state": {
            "_view_name": "HTMLView",
            "style": "IPY_MODEL_172fcf8248d74b26b9eada4e69be919c",
            "_dom_classes": [],
            "description": "",
            "_model_name": "HTMLModel",
            "placeholder": "​",
            "_view_module": "@jupyter-widgets/controls",
            "_model_module_version": "1.5.0",
            "value": " 2048/? [05:29&lt;00:00, 10.06it/s]",
            "_view_count": null,
            "_view_module_version": "1.5.0",
            "description_tooltip": null,
            "_model_module": "@jupyter-widgets/controls",
            "layout": "IPY_MODEL_db65bf0874f94632864f3c7de3dbe3be"
          }
        },
        "74861c4497b5434590a4688da53557e5": {
          "model_module": "@jupyter-widgets/controls",
          "model_name": "ProgressStyleModel",
          "state": {
            "_view_name": "StyleView",
            "_model_name": "ProgressStyleModel",
            "description_width": "initial",
            "_view_module": "@jupyter-widgets/base",
            "_model_module_version": "1.5.0",
            "_view_count": null,
            "_view_module_version": "1.2.0",
            "bar_color": null,
            "_model_module": "@jupyter-widgets/controls"
          }
        },
        "7ede90a0494b48eb9c3310da6acd38ac": {
          "model_module": "@jupyter-widgets/base",
          "model_name": "LayoutModel",
          "state": {
            "_view_name": "LayoutView",
            "grid_template_rows": null,
            "right": null,
            "justify_content": null,
            "_view_module": "@jupyter-widgets/base",
            "overflow": null,
            "_model_module_version": "1.2.0",
            "_view_count": null,
            "flex_flow": null,
            "width": null,
            "min_width": null,
            "border": null,
            "align_items": null,
            "bottom": null,
            "_model_module": "@jupyter-widgets/base",
            "top": null,
            "grid_column": null,
            "overflow_y": null,
            "overflow_x": null,
            "grid_auto_flow": null,
            "grid_area": null,
            "grid_template_columns": null,
            "flex": null,
            "_model_name": "LayoutModel",
            "justify_items": null,
            "grid_row": null,
            "max_height": null,
            "align_content": null,
            "visibility": null,
            "align_self": null,
            "height": null,
            "min_height": null,
            "padding": null,
            "grid_auto_rows": null,
            "grid_gap": null,
            "max_width": null,
            "order": null,
            "_view_module_version": "1.2.0",
            "grid_template_areas": null,
            "object_position": null,
            "object_fit": null,
            "grid_auto_columns": null,
            "margin": null,
            "display": null,
            "left": null
          }
        },
        "172fcf8248d74b26b9eada4e69be919c": {
          "model_module": "@jupyter-widgets/controls",
          "model_name": "DescriptionStyleModel",
          "state": {
            "_view_name": "StyleView",
            "_model_name": "DescriptionStyleModel",
            "description_width": "",
            "_view_module": "@jupyter-widgets/base",
            "_model_module_version": "1.5.0",
            "_view_count": null,
            "_view_module_version": "1.2.0",
            "_model_module": "@jupyter-widgets/controls"
          }
        },
        "db65bf0874f94632864f3c7de3dbe3be": {
          "model_module": "@jupyter-widgets/base",
          "model_name": "LayoutModel",
          "state": {
            "_view_name": "LayoutView",
            "grid_template_rows": null,
            "right": null,
            "justify_content": null,
            "_view_module": "@jupyter-widgets/base",
            "overflow": null,
            "_model_module_version": "1.2.0",
            "_view_count": null,
            "flex_flow": null,
            "width": null,
            "min_width": null,
            "border": null,
            "align_items": null,
            "bottom": null,
            "_model_module": "@jupyter-widgets/base",
            "top": null,
            "grid_column": null,
            "overflow_y": null,
            "overflow_x": null,
            "grid_auto_flow": null,
            "grid_area": null,
            "grid_template_columns": null,
            "flex": null,
            "_model_name": "LayoutModel",
            "justify_items": null,
            "grid_row": null,
            "max_height": null,
            "align_content": null,
            "visibility": null,
            "align_self": null,
            "height": null,
            "min_height": null,
            "padding": null,
            "grid_auto_rows": null,
            "grid_gap": null,
            "max_width": null,
            "order": null,
            "_view_module_version": "1.2.0",
            "grid_template_areas": null,
            "object_position": null,
            "object_fit": null,
            "grid_auto_columns": null,
            "margin": null,
            "display": null,
            "left": null
          }
        },
        "4b339de280f04890b6680092b0e098c0": {
          "model_module": "@jupyter-widgets/controls",
          "model_name": "HBoxModel",
          "state": {
            "_view_name": "HBoxView",
            "_dom_classes": [],
            "_model_name": "HBoxModel",
            "_view_module": "@jupyter-widgets/controls",
            "_model_module_version": "1.5.0",
            "_view_count": null,
            "_view_module_version": "1.5.0",
            "box_style": "",
            "layout": "IPY_MODEL_ed538c27a01a4b2faa86d2f89ce9480e",
            "_model_module": "@jupyter-widgets/controls",
            "children": [
              "IPY_MODEL_408644868e3e4cdea511171f170a02df",
              "IPY_MODEL_483fdc118d6447119aa74801b0013625"
            ]
          }
        },
        "ed538c27a01a4b2faa86d2f89ce9480e": {
          "model_module": "@jupyter-widgets/base",
          "model_name": "LayoutModel",
          "state": {
            "_view_name": "LayoutView",
            "grid_template_rows": null,
            "right": null,
            "justify_content": null,
            "_view_module": "@jupyter-widgets/base",
            "overflow": null,
            "_model_module_version": "1.2.0",
            "_view_count": null,
            "flex_flow": null,
            "width": null,
            "min_width": null,
            "border": null,
            "align_items": null,
            "bottom": null,
            "_model_module": "@jupyter-widgets/base",
            "top": null,
            "grid_column": null,
            "overflow_y": null,
            "overflow_x": null,
            "grid_auto_flow": null,
            "grid_area": null,
            "grid_template_columns": null,
            "flex": null,
            "_model_name": "LayoutModel",
            "justify_items": null,
            "grid_row": null,
            "max_height": null,
            "align_content": null,
            "visibility": null,
            "align_self": null,
            "height": null,
            "min_height": null,
            "padding": null,
            "grid_auto_rows": null,
            "grid_gap": null,
            "max_width": null,
            "order": null,
            "_view_module_version": "1.2.0",
            "grid_template_areas": null,
            "object_position": null,
            "object_fit": null,
            "grid_auto_columns": null,
            "margin": null,
            "display": null,
            "left": null
          }
        },
        "408644868e3e4cdea511171f170a02df": {
          "model_module": "@jupyter-widgets/controls",
          "model_name": "FloatProgressModel",
          "state": {
            "_view_name": "ProgressView",
            "style": "IPY_MODEL_e7db778bc94a4164ad5bff868acf0b82",
            "_dom_classes": [],
            "description": "",
            "_model_name": "FloatProgressModel",
            "bar_style": "danger",
            "max": 1,
            "_view_module": "@jupyter-widgets/controls",
            "_model_module_version": "1.5.0",
            "value": 1,
            "_view_count": null,
            "_view_module_version": "1.5.0",
            "orientation": "horizontal",
            "min": 0,
            "description_tooltip": null,
            "_model_module": "@jupyter-widgets/controls",
            "layout": "IPY_MODEL_0c0b8ab47e5b452b98567d58b453a5f7"
          }
        },
        "483fdc118d6447119aa74801b0013625": {
          "model_module": "@jupyter-widgets/controls",
          "model_name": "HTMLModel",
          "state": {
            "_view_name": "HTMLView",
            "style": "IPY_MODEL_e63e55e20f1c4eb986a301f22635855d",
            "_dom_classes": [],
            "description": "",
            "_model_name": "HTMLModel",
            "placeholder": "​",
            "_view_module": "@jupyter-widgets/controls",
            "_model_module_version": "1.5.0",
            "value": " 256/? [00:55&lt;00:00,  3.93it/s]",
            "_view_count": null,
            "_view_module_version": "1.5.0",
            "description_tooltip": null,
            "_model_module": "@jupyter-widgets/controls",
            "layout": "IPY_MODEL_de974cd26f9c46589ccfc06bad57e018"
          }
        },
        "e7db778bc94a4164ad5bff868acf0b82": {
          "model_module": "@jupyter-widgets/controls",
          "model_name": "ProgressStyleModel",
          "state": {
            "_view_name": "StyleView",
            "_model_name": "ProgressStyleModel",
            "description_width": "initial",
            "_view_module": "@jupyter-widgets/base",
            "_model_module_version": "1.5.0",
            "_view_count": null,
            "_view_module_version": "1.2.0",
            "bar_color": null,
            "_model_module": "@jupyter-widgets/controls"
          }
        },
        "0c0b8ab47e5b452b98567d58b453a5f7": {
          "model_module": "@jupyter-widgets/base",
          "model_name": "LayoutModel",
          "state": {
            "_view_name": "LayoutView",
            "grid_template_rows": null,
            "right": null,
            "justify_content": null,
            "_view_module": "@jupyter-widgets/base",
            "overflow": null,
            "_model_module_version": "1.2.0",
            "_view_count": null,
            "flex_flow": null,
            "width": null,
            "min_width": null,
            "border": null,
            "align_items": null,
            "bottom": null,
            "_model_module": "@jupyter-widgets/base",
            "top": null,
            "grid_column": null,
            "overflow_y": null,
            "overflow_x": null,
            "grid_auto_flow": null,
            "grid_area": null,
            "grid_template_columns": null,
            "flex": null,
            "_model_name": "LayoutModel",
            "justify_items": null,
            "grid_row": null,
            "max_height": null,
            "align_content": null,
            "visibility": null,
            "align_self": null,
            "height": null,
            "min_height": null,
            "padding": null,
            "grid_auto_rows": null,
            "grid_gap": null,
            "max_width": null,
            "order": null,
            "_view_module_version": "1.2.0",
            "grid_template_areas": null,
            "object_position": null,
            "object_fit": null,
            "grid_auto_columns": null,
            "margin": null,
            "display": null,
            "left": null
          }
        },
        "e63e55e20f1c4eb986a301f22635855d": {
          "model_module": "@jupyter-widgets/controls",
          "model_name": "DescriptionStyleModel",
          "state": {
            "_view_name": "StyleView",
            "_model_name": "DescriptionStyleModel",
            "description_width": "",
            "_view_module": "@jupyter-widgets/base",
            "_model_module_version": "1.5.0",
            "_view_count": null,
            "_view_module_version": "1.2.0",
            "_model_module": "@jupyter-widgets/controls"
          }
        },
        "de974cd26f9c46589ccfc06bad57e018": {
          "model_module": "@jupyter-widgets/base",
          "model_name": "LayoutModel",
          "state": {
            "_view_name": "LayoutView",
            "grid_template_rows": null,
            "right": null,
            "justify_content": null,
            "_view_module": "@jupyter-widgets/base",
            "overflow": null,
            "_model_module_version": "1.2.0",
            "_view_count": null,
            "flex_flow": null,
            "width": null,
            "min_width": null,
            "border": null,
            "align_items": null,
            "bottom": null,
            "_model_module": "@jupyter-widgets/base",
            "top": null,
            "grid_column": null,
            "overflow_y": null,
            "overflow_x": null,
            "grid_auto_flow": null,
            "grid_area": null,
            "grid_template_columns": null,
            "flex": null,
            "_model_name": "LayoutModel",
            "justify_items": null,
            "grid_row": null,
            "max_height": null,
            "align_content": null,
            "visibility": null,
            "align_self": null,
            "height": null,
            "min_height": null,
            "padding": null,
            "grid_auto_rows": null,
            "grid_gap": null,
            "max_width": null,
            "order": null,
            "_view_module_version": "1.2.0",
            "grid_template_areas": null,
            "object_position": null,
            "object_fit": null,
            "grid_auto_columns": null,
            "margin": null,
            "display": null,
            "left": null
          }
        },
        "f7f127a6e02147ce91044d01ef277244": {
          "model_module": "@jupyter-widgets/controls",
          "model_name": "HBoxModel",
          "state": {
            "_view_name": "HBoxView",
            "_dom_classes": [],
            "_model_name": "HBoxModel",
            "_view_module": "@jupyter-widgets/controls",
            "_model_module_version": "1.5.0",
            "_view_count": null,
            "_view_module_version": "1.5.0",
            "box_style": "",
            "layout": "IPY_MODEL_2f587488edb646e6b79cd1f58e304d98",
            "_model_module": "@jupyter-widgets/controls",
            "children": [
              "IPY_MODEL_2353432e73e74a58a935413bb54769d9",
              "IPY_MODEL_3970fa77231641bd9bbbc1cad4545319"
            ]
          }
        },
        "2f587488edb646e6b79cd1f58e304d98": {
          "model_module": "@jupyter-widgets/base",
          "model_name": "LayoutModel",
          "state": {
            "_view_name": "LayoutView",
            "grid_template_rows": null,
            "right": null,
            "justify_content": null,
            "_view_module": "@jupyter-widgets/base",
            "overflow": null,
            "_model_module_version": "1.2.0",
            "_view_count": null,
            "flex_flow": null,
            "width": null,
            "min_width": null,
            "border": null,
            "align_items": null,
            "bottom": null,
            "_model_module": "@jupyter-widgets/base",
            "top": null,
            "grid_column": null,
            "overflow_y": null,
            "overflow_x": null,
            "grid_auto_flow": null,
            "grid_area": null,
            "grid_template_columns": null,
            "flex": null,
            "_model_name": "LayoutModel",
            "justify_items": null,
            "grid_row": null,
            "max_height": null,
            "align_content": null,
            "visibility": null,
            "align_self": null,
            "height": null,
            "min_height": null,
            "padding": null,
            "grid_auto_rows": null,
            "grid_gap": null,
            "max_width": null,
            "order": null,
            "_view_module_version": "1.2.0",
            "grid_template_areas": null,
            "object_position": null,
            "object_fit": null,
            "grid_auto_columns": null,
            "margin": null,
            "display": null,
            "left": null
          }
        },
        "2353432e73e74a58a935413bb54769d9": {
          "model_module": "@jupyter-widgets/controls",
          "model_name": "FloatProgressModel",
          "state": {
            "_view_name": "ProgressView",
            "style": "IPY_MODEL_d303fefdb574419598e76e496565bcd5",
            "_dom_classes": [],
            "description": "",
            "_model_name": "FloatProgressModel",
            "bar_style": "danger",
            "max": 1,
            "_view_module": "@jupyter-widgets/controls",
            "_model_module_version": "1.5.0",
            "value": 1,
            "_view_count": null,
            "_view_module_version": "1.5.0",
            "orientation": "horizontal",
            "min": 0,
            "description_tooltip": null,
            "_model_module": "@jupyter-widgets/controls",
            "layout": "IPY_MODEL_bf146f960c7b4ff9a81822c0bbbee7ae"
          }
        },
        "3970fa77231641bd9bbbc1cad4545319": {
          "model_module": "@jupyter-widgets/controls",
          "model_name": "HTMLModel",
          "state": {
            "_view_name": "HTMLView",
            "style": "IPY_MODEL_e269f238f5d74817ad1c45b8050c3a10",
            "_dom_classes": [],
            "description": "",
            "_model_name": "HTMLModel",
            "placeholder": "​",
            "_view_module": "@jupyter-widgets/controls",
            "_model_module_version": "1.5.0",
            "value": " 256/? [00:45&lt;00:00,  4.19it/s]",
            "_view_count": null,
            "_view_module_version": "1.5.0",
            "description_tooltip": null,
            "_model_module": "@jupyter-widgets/controls",
            "layout": "IPY_MODEL_4e1dc3a98ac242a9bc09d44a093a6072"
          }
        },
        "d303fefdb574419598e76e496565bcd5": {
          "model_module": "@jupyter-widgets/controls",
          "model_name": "ProgressStyleModel",
          "state": {
            "_view_name": "StyleView",
            "_model_name": "ProgressStyleModel",
            "description_width": "initial",
            "_view_module": "@jupyter-widgets/base",
            "_model_module_version": "1.5.0",
            "_view_count": null,
            "_view_module_version": "1.2.0",
            "bar_color": null,
            "_model_module": "@jupyter-widgets/controls"
          }
        },
        "bf146f960c7b4ff9a81822c0bbbee7ae": {
          "model_module": "@jupyter-widgets/base",
          "model_name": "LayoutModel",
          "state": {
            "_view_name": "LayoutView",
            "grid_template_rows": null,
            "right": null,
            "justify_content": null,
            "_view_module": "@jupyter-widgets/base",
            "overflow": null,
            "_model_module_version": "1.2.0",
            "_view_count": null,
            "flex_flow": null,
            "width": null,
            "min_width": null,
            "border": null,
            "align_items": null,
            "bottom": null,
            "_model_module": "@jupyter-widgets/base",
            "top": null,
            "grid_column": null,
            "overflow_y": null,
            "overflow_x": null,
            "grid_auto_flow": null,
            "grid_area": null,
            "grid_template_columns": null,
            "flex": null,
            "_model_name": "LayoutModel",
            "justify_items": null,
            "grid_row": null,
            "max_height": null,
            "align_content": null,
            "visibility": null,
            "align_self": null,
            "height": null,
            "min_height": null,
            "padding": null,
            "grid_auto_rows": null,
            "grid_gap": null,
            "max_width": null,
            "order": null,
            "_view_module_version": "1.2.0",
            "grid_template_areas": null,
            "object_position": null,
            "object_fit": null,
            "grid_auto_columns": null,
            "margin": null,
            "display": null,
            "left": null
          }
        },
        "e269f238f5d74817ad1c45b8050c3a10": {
          "model_module": "@jupyter-widgets/controls",
          "model_name": "DescriptionStyleModel",
          "state": {
            "_view_name": "StyleView",
            "_model_name": "DescriptionStyleModel",
            "description_width": "",
            "_view_module": "@jupyter-widgets/base",
            "_model_module_version": "1.5.0",
            "_view_count": null,
            "_view_module_version": "1.2.0",
            "_model_module": "@jupyter-widgets/controls"
          }
        },
        "4e1dc3a98ac242a9bc09d44a093a6072": {
          "model_module": "@jupyter-widgets/base",
          "model_name": "LayoutModel",
          "state": {
            "_view_name": "LayoutView",
            "grid_template_rows": null,
            "right": null,
            "justify_content": null,
            "_view_module": "@jupyter-widgets/base",
            "overflow": null,
            "_model_module_version": "1.2.0",
            "_view_count": null,
            "flex_flow": null,
            "width": null,
            "min_width": null,
            "border": null,
            "align_items": null,
            "bottom": null,
            "_model_module": "@jupyter-widgets/base",
            "top": null,
            "grid_column": null,
            "overflow_y": null,
            "overflow_x": null,
            "grid_auto_flow": null,
            "grid_area": null,
            "grid_template_columns": null,
            "flex": null,
            "_model_name": "LayoutModel",
            "justify_items": null,
            "grid_row": null,
            "max_height": null,
            "align_content": null,
            "visibility": null,
            "align_self": null,
            "height": null,
            "min_height": null,
            "padding": null,
            "grid_auto_rows": null,
            "grid_gap": null,
            "max_width": null,
            "order": null,
            "_view_module_version": "1.2.0",
            "grid_template_areas": null,
            "object_position": null,
            "object_fit": null,
            "grid_auto_columns": null,
            "margin": null,
            "display": null,
            "left": null
          }
        }
      }
    }
  },
  "cells": [
    {
      "cell_type": "markdown",
      "metadata": {
        "id": "view-in-github",
        "colab_type": "text"
      },
      "source": [
        "<a href=\"https://colab.research.google.com/github/germanjke/Deep_Learning_School_MIPT/blob/master/NLP_seminras/%5Bseminar%5Dsummarization(ready).ipynb\" target=\"_parent\"><img src=\"https://colab.research.google.com/assets/colab-badge.svg\" alt=\"Open In Colab\"/></a>"
      ]
    },
    {
      "cell_type": "markdown",
      "metadata": {
        "id": "tWJTCBu4Tveb"
      },
      "source": [
        "<img src=\"https://s8.hostingkartinok.com/uploads/images/2018/08/308b49fcfbc619d629fe4604bceb67ac.jpg\" width=500, height=450>\n",
        "<h3 style=\"text-align: center;\"><b>Физтех-Школа Прикладной математики и информатики (ФПМИ) МФТИ</b></h3>"
      ]
    },
    {
      "cell_type": "markdown",
      "metadata": {
        "id": "Kmb8UhIzOnfK"
      },
      "source": [
        "# Text Summarization\n",
        "\n",
        "Всем привет! Сегодня мы познакомимся с задачей суммаризации текста на примере генерации \"сжатых\" новостей. Рассмотрим некоторые базовые решения и познакомимся с архитектурами нейросетей для решения задачи.\n",
        "Датасет: gazeta.ru\n",
        "\n",
        "\n",
        "`Ноутбук создан на основе семинара Гусева Ильи на кафедре компьютерной лингвистики ABBYY МФТИ.`\n",
        "\n",
        "Загрузим датасет и необходимые библиотеки"
      ]
    },
    {
      "cell_type": "code",
      "metadata": {
        "id": "OqkLTkFRfXvA"
      },
      "source": [
        "!wget -q https://www.dropbox.com/s/43l702z5a5i2w8j/gazeta_train.txt\n",
        "!wget -q https://www.dropbox.com/s/k2egt3sug0hb185/gazeta_val.txt\n",
        "!wget -q https://www.dropbox.com/s/3gki5n5djs9w0v6/gazeta_test.txt"
      ],
      "execution_count": null,
      "outputs": []
    },
    {
      "cell_type": "code",
      "metadata": {
        "id": "SXS1sdYZCluU",
        "colab": {
          "base_uri": "https://localhost:8080/"
        },
        "outputId": "19af3a74-a4c7-449c-c5a5-3af1cd0231ce"
      },
      "source": [
        "!pip install razdel networkx pymorphy2 nltk rouge==0.3.1 summa "
      ],
      "execution_count": null,
      "outputs": [
        {
          "output_type": "stream",
          "text": [
            "Collecting razdel\n",
            "  Downloading https://files.pythonhosted.org/packages/15/2c/664223a3924aa6e70479f7d37220b3a658765b9cfe760b4af7ffdc50d38f/razdel-0.5.0-py3-none-any.whl\n",
            "Requirement already satisfied: networkx in /usr/local/lib/python3.6/dist-packages (2.5)\n",
            "Collecting pymorphy2\n",
            "\u001b[?25l  Downloading https://files.pythonhosted.org/packages/07/57/b2ff2fae3376d4f3c697b9886b64a54b476e1a332c67eee9f88e7f1ae8c9/pymorphy2-0.9.1-py3-none-any.whl (55kB)\n",
            "\u001b[K     |████████████████████████████████| 61kB 4.1MB/s \n",
            "\u001b[?25hRequirement already satisfied: nltk in /usr/local/lib/python3.6/dist-packages (3.2.5)\n",
            "Collecting rouge==0.3.1\n",
            "  Downloading https://files.pythonhosted.org/packages/8f/89/af359c22e1d858e0299d4cc9219f36b504817c9797acad23081247867845/rouge-0.3.1-py3-none-any.whl\n",
            "Collecting summa\n",
            "\u001b[?25l  Downloading https://files.pythonhosted.org/packages/45/3b/1c7dc435d05aef474c4137328400f1e11787b9bffab1f87a3f160c1fef54/summa-1.2.0.tar.gz (54kB)\n",
            "\u001b[K     |████████████████████████████████| 61kB 5.8MB/s \n",
            "\u001b[?25hRequirement already satisfied: decorator>=4.3.0 in /usr/local/lib/python3.6/dist-packages (from networkx) (4.4.2)\n",
            "Collecting dawg-python>=0.7.1\n",
            "  Downloading https://files.pythonhosted.org/packages/6a/84/ff1ce2071d4c650ec85745766c0047ccc3b5036f1d03559fd46bb38b5eeb/DAWG_Python-0.7.2-py2.py3-none-any.whl\n",
            "Requirement already satisfied: docopt>=0.6 in /usr/local/lib/python3.6/dist-packages (from pymorphy2) (0.6.2)\n",
            "Collecting pymorphy2-dicts-ru<3.0,>=2.4\n",
            "\u001b[?25l  Downloading https://files.pythonhosted.org/packages/3a/79/bea0021eeb7eeefde22ef9e96badf174068a2dd20264b9a378f2be1cdd9e/pymorphy2_dicts_ru-2.4.417127.4579844-py2.py3-none-any.whl (8.2MB)\n",
            "\u001b[K     |████████████████████████████████| 8.2MB 8.2MB/s \n",
            "\u001b[?25hRequirement already satisfied: six in /usr/local/lib/python3.6/dist-packages (from nltk) (1.15.0)\n",
            "Requirement already satisfied: scipy>=0.19 in /usr/local/lib/python3.6/dist-packages (from summa) (1.4.1)\n",
            "Requirement already satisfied: numpy>=1.13.3 in /usr/local/lib/python3.6/dist-packages (from scipy>=0.19->summa) (1.18.5)\n",
            "Building wheels for collected packages: summa\n",
            "  Building wheel for summa (setup.py) ... \u001b[?25l\u001b[?25hdone\n",
            "  Created wheel for summa: filename=summa-1.2.0-cp36-none-any.whl size=54411 sha256=8340416573080de6674bc3b04cb581682b96fba979110f3bc6df84e65a1c5f9f\n",
            "  Stored in directory: /root/.cache/pip/wheels/6a/09/68/e2f2861c01d86407c3fa5220826ed7eed2abaa56b001be5970\n",
            "Successfully built summa\n",
            "Installing collected packages: razdel, dawg-python, pymorphy2-dicts-ru, pymorphy2, rouge, summa\n",
            "Successfully installed dawg-python-0.7.2 pymorphy2-0.9.1 pymorphy2-dicts-ru-2.4.417127.4579844 razdel-0.5.0 rouge-0.3.1 summa-1.2.0\n"
          ],
          "name": "stdout"
        }
      ]
    },
    {
      "cell_type": "markdown",
      "metadata": {
        "id": "liva5vCf3pVQ"
      },
      "source": [
        "## EDA (Exploratory data analysis)"
      ]
    },
    {
      "cell_type": "markdown",
      "metadata": {
        "id": "Wa0NfryxbPUP"
      },
      "source": [
        "### Dataset"
      ]
    },
    {
      "cell_type": "markdown",
      "metadata": {
        "id": "eesnclfDDV3F"
      },
      "source": [
        "Посмотрим на то, как устроен датасет"
      ]
    },
    {
      "cell_type": "code",
      "metadata": {
        "id": "Mz6CZYKQhnd-",
        "colab": {
          "base_uri": "https://localhost:8080/"
        },
        "outputId": "8ed55cdf-8df0-493b-fb60-589e1f967c8e"
      },
      "source": [
        "!head -n 1 gazeta_train.txt\n",
        "!cat gazeta_train.txt | wc -l\n",
        "!cat gazeta_val.txt | wc -l\n",
        "!cat gazeta_test.txt | wc -l"
      ],
      "execution_count": null,
      "outputs": [
        {
          "output_type": "stream",
          "text": [
            "{\"url\": \"https://www.gazeta.ru/financial/2011/11/30/3852658.shtml\", \"text\": \"«По итогам 2011 года чистый отток может составить примерно $80 млрд, в следующем году — около $20 млрд. При этом мы ожидаем, что со второго полугодия 2012 года начнется приток капитала», — заявил «Интерфаксу» замминистра экономического развития Андрей Клепач. Официальные прогнозы по выводу капитала из России становятся все пессимистичными: еще летом власти полагали, что из страны уйдет не более $35 млрд, в сентябре Минэкономразвития назвал цифру $50 млрд, в начале ноября Центробанк пересмотрел оценку до $70 млрд. Очередное изменение прогноза было ожидаемо: по расчетам Центробанка , за январь — октябрь чистый отток капитала достиг $64 млрд, причем в последние месяцы он ускорился: в сентябре он составил $14 млрд, в октябре — $13 млрд против среднего ежемесячного оттока в $6—8 млрд в первом полугодии. «После октябрьских данных Минэкономразвития вынуждено было изменить оценку, настаивать на $70 млрд означало ожидать серьезного замедления оттока капитала на непонятно каких причинах», — говорит главный экономист BNP Paribas Юлия Цепляева. «В последние два месяца отток капитала ускорится, на декабрь приходится значительная часть выплат по внешним долгам, что приводит к усилению оттока, особенно если они не рефинансируются новыми кредитами», — соглашается главный экономист ФК «Открытие» Владимир Тихомиров. Прогнозируемый Минэкономразвития отток капитала — один из самых высоких за последние 20 лет. Больше ушло лишь в 2008 году на фоне разрастания финансового кризиса и российско-грузинской войны — $133,7 млрд. В кризисный 2009 год из России утекло $56,1 млрд. Главный фактор ускорения оттока капитала в 2011 году — нестабильность на внешних финансовых рынках и рост опасений относительно второй волны рецессии. «Это реакция на неуверенность, которую генерирует Европа с долговыми проблемами. В случае новой волны глобальной турбулентности Россия — одна из самых уязвимых стран», — говорит Цепляева. Еще одна причина — ослабление рубля. «Привлекательность вложений снижается на фоне того, что рубль перестал укрепляться, а ставки по депозитам достаточно низкие. В результате экспортеры не полностью возвращают экспортную выручку», — говорит Тихомиров. Внутри страны эксперты не видят особых причин для бегства капитала. «Ситуация выглядит достаточно позитивно, очень хорошие макроэкономические результаты за год, особенно на фоне других стран. С политической точки зрения все достаточно понятно и предсказуемо, итог выборов очевиден», — говорит экономист ИК «Тройка Диалог» Антон Струченевский. Тем не менее политический фактор играет роль. «Бизнесу важно не только, кто будет президентом, он ждет ясности с перестановками в правительстве. В наших условиях административный ресурс важнее всего для успешности бизнеса», — говорит Цепляева, добавляя, что отток капитала продолжится до завершения президентских выборов.\", \"title\": \"Прогноз не успевает за оттоком\", \"summary\": \"В 2011 году из России уйдет $80 млрд, считают в Минэкономразвития. Менее месяца назад Центробанк давал оценку $70 млрд, повысив первоначальный прогноз вдвое. Отток капитала из страны усиливается из-за кризиса в Европе, а в декабре российским компаниям выплачивать внешние долги. На движение капитала повлияли и выборы: несмотря на их предсказуемость, бизнес хочет ясности с перестановками в правительстве.\", \"date\": \"2011-11-30 18:33:39\"}\n",
            "52400\n",
            "5265\n",
            "5770\n"
          ],
          "name": "stdout"
        }
      ]
    },
    {
      "cell_type": "code",
      "metadata": {
        "id": "5pZ2UGS2DGjH"
      },
      "source": [
        "import json\n",
        "import random\n",
        "\n",
        "def read_gazeta_records(file_name, shuffle=True, sort_by_date=False):\n",
        "    assert shuffle != sort_by_date\n",
        "    records = []\n",
        "    with open(file_name, \"r\") as r:\n",
        "        for line in r:\n",
        "            records.append(json.loads(line))\n",
        "    if sort_by_date:\n",
        "        records.sort(key=lambda x: x[\"date\"])\n",
        "    if shuffle:\n",
        "        random.shuffle\n",
        "    return records"
      ],
      "execution_count": null,
      "outputs": []
    },
    {
      "cell_type": "code",
      "metadata": {
        "id": "GNDp-BunEA91"
      },
      "source": [
        "train_records = read_gazeta_records(\"gazeta_train.txt\")\n",
        "val_records = read_gazeta_records(\"gazeta_val.txt\")\n",
        "test_records = read_gazeta_records(\"gazeta_test.txt\")"
      ],
      "execution_count": null,
      "outputs": []
    },
    {
      "cell_type": "code",
      "metadata": {
        "id": "sMNEBp7HRjE3"
      },
      "source": [
        "print(min([record[\"date\"] for record in train_records]), end=' - ')\n",
        "print(max([record[\"date\"] for record in train_records]))\n",
        "print(min([record[\"date\"] for record in val_records]), end=' - ')\n",
        "print(max([record[\"date\"] for record in val_records]))\n",
        "print(min([record[\"date\"] for record in test_records]), end=' - ')\n",
        "print(max([record[\"date\"] for record in test_records]))"
      ],
      "execution_count": null,
      "outputs": []
    },
    {
      "cell_type": "markdown",
      "metadata": {
        "id": "ofODVTVWbTbK"
      },
      "source": [
        "### Statistics"
      ]
    },
    {
      "cell_type": "markdown",
      "metadata": {
        "id": "D_Nji-B4q8BJ"
      },
      "source": [
        "[Проблемы токенизации](https://natasha.github.io/razdel/)"
      ]
    },
    {
      "cell_type": "markdown",
      "metadata": {
        "id": "zhvC35t2omnd"
      },
      "source": [
        "![image.png](data:image/png;base64,iVBORw0KGgoAAAANSUhEUgAABaAAAAI1CAYAAAAgrF22AAAABHNCSVQICAgIfAhkiAAAIABJREFUeF7svU1QVNfW//+9/3qqe9SMmonNxKbqFlgpgcojWHkAKxGsKJqraFRMVIxGjAaNLxijKCG+cX3jqtdEiImoN6JGwTwK3BL0KV7qV4IDIAOaCe2EdtI96h41k/tf+3Q3NN2noWlBQb6nLjdyztlvn705e+21117rL/+RC7xIgARIgARIgARIgARIgARIgARIgARIgARIgARIgARIYJIJ/H+TnB+zIwESIAESIAESIAESIAESIAESIAESIAESIAESIAESIAGNABXQHAgkQAIkQAIkQAIkQAIkQAIkQAIkQAIkQAIkQAIkQAJTQoAK6CnBykxJgARIgARIgARIgARIgARIgARIgARIgARIgARIgASogOYYIAESIAESIAESIAESIAESIAESIAESIAESIAESIAESmBICVEBPCVZmSgIkQAIkQAIkQAIkQAIkQAIkQAIkQAIkQAIkQAIkQAU0xwAJkAAJkAAJkAAJkAAJkAAJkAAJkAAJkAAJkAAJkMCUEKACekqwMlMSIAESIAESIAESIAESIAESIAESIAESIAESIAESIAEqoDkGSIAESIAESIAESIAESIAESIAESIAESIAESIAESIAEpoQAFdBTgpWZkgAJkAAJkAAJkAAJkAAJkAAJkAAJkAAJkAAJkAAJUAHNMUACJEACJEACJEACJEACJEACJEACJEACJEACJEACJDAlBKiAnhKszJQESIAESIAESIAESIAESIAESIAESIAESIAESIAESIAKaI4BEiABEiABEiABEiABEiABEiABEiABEiABEiABEiCBKSFABfSUYGWmJEACJEACJEACJEACJEACJEACJEACJEACJEACJEACVEBzDJAACZAACZAACZAACZAACZAACZAACZAACZAACZAACUwJASqgpwQrMyUBEiABEiABEiABEiABEiABEiABEiABEiABEiABEqACmmOABEiABEiABEiABEiABEiABEiABEiABEiABEiABEhgSghQAT0lWJkpCZAACZAACZAACZAACZAACZAACZAACZAACZAACZAAFdAcAyRAAiRAAiRAAiRAAiRAAiRAAiRAAiRAAiRAAiRAAlNCgAroKcHKTEmABEhgJhDwzoRKso4kQAIkQAIkMCsIeDktz4p+ZiNJgARIgARIYDYS+K/Z2Gi2mQRIgASiJuC240ndXTxo6EC33QGXZwgG0xwkJqdgUf4mbMlPQXzUmb2lF6UNrQ0P8bi9F33ShkGnCx5pBzAXO/5owMHkt1SvGVWsF092ZmBHi+I2+jIYTIhLmIu0rHXYU7wK8+JC3+DvJEACJEACk0PAjb6Gu7jd8BStPS/hdHkwJN9gizUFC/NWYkvBshnwDfbC2fMUj6QNbdKGAYcDTre0Q6YXQ8459P64DMbJgcVc3iqBLpR+UIjbrvBKGExmxFvna3LknoL06S9HhjeBd0iABEiABEhgwgSogJ4wMiYgARKYLQScnRdQtPMaejyqxQaYLBYkWwC3ywFbV5P282v1Spy9VoYVCdNxuejFQN1hFB1rgt2vN9UWPfEWJFikvsa5sJhmS29OXjtNliQkmg3+DIdkPLgwaP8Tzeqn5QWu3juFJdN+V2LyeDAnEiABEngjBAafonTnYdzu1yZlbTM4IUkmZY9srPZ34IH6qb6GLZVVOJo9TT/Czi6c2XsAV7sCWkmRLcxmJCRYYJRpxWgxvxGULORNEjDAkpSE+ICY6FVygx323me4LT9PWk6i7pdVSHiTVWJZJEACJEACJPAWCFAB/Rags0gSIIHpT8Bru4DCrddgG5KFQ84+nDi8DouGlczKeqkRZ45VyIL3IfZs9MJ47/y0Uzq6mw+j4FAT3NalKCnehCXpojgdXgFN/z6YrjVMK65BTf5oM2fvQD1Kth3BY8dDXKzbhiVF1ulafdaLBEiABGYeAbdYk24sxm2HKJ5lTjtacQhrUuOHLYW9g1347Vw5zjT24/rOQuCXOhzNmG4bw3b8tHM7rvbGIWNzGXbkZyJNdrV5aGbmDceJ1diKDZV38FVicCovBttOo3DbPdjbK3G1cxVOZEwsV75NAiRAAiRAAjONAH1Az7QeY31JgATeAAE7fv32piifAfOy86j7cVOQ8lkVb0R86iqc/b0aO5LEZMnRhNJz7ZherhttuHq+CS7zSlSJcvyrvBQqn6dw5BgTV2FP3lythIHel9NsLExhw5k1CZAACUw5AS+6L4vlsyifYV2LGpnTPgtSPqvijQnp+OIftahaNQcYeonrZVfQN+X1mlgB7oYLonwGUg/XoPaIbGpT+TwxgO/U20YkZO/ClnTVKJe4R3O+U61jY0iABEiABEhAjwAV0HpUeI8ESGB2E+i5KUd8RftsysTRHxZH9s1nTMGeH9ZBDgDD1XALj9xB2Jq/RtJf5yHpm/YQlr04/uE8WP+6Gb+FrDcGa9bL/XnIqbKPSvP8WLbcT0Vhg46K292OEi2/HBzvCUrW8xCPJBtr/krEt1/A7s/zkP6evPdeBrI+/RpnGmwIrq4vpRv3P9fJSx66hcnuT3OQovJ4/zCeB4rytzPl266QdqpfnXgkfpNVm/JqlObg3b6MZr+1XcA7R6C5zrsoEAbWD0+jW/kUrxLL9I+zkfReKpLez0PBt3flfgQ2Xgdaaw6j8BM/e+m/9I83o6SmHYOhSQLlqDF0zhb6VH534v7WVK0/rB98P9KHgTfdNtw/+TXyP1R1U+Ng9I9+H+sUw1skQAIkMJkEvB24XvdKcjRj9eHvsDCiyXAcFh35DsuVFwv7XVxvC5ozg7/DIXVr/UZ9F1NR1BzywHYaWeo7+Pld+XoGXTHNe26JJ9EBjyETGzJc+O3YduR9mCFyQipSPlDzwE0819FBDlTl68+hznac2ZmP9PdV3fNwJvDJD7Tz4wu6CvgBkTOUbGLdWq8jA0TqNLHc/kTNB/n4aUDnHXc9Cv3zSnfwY3evbOZ/jYJP8pD1gWqr5KHNYetRdLI+8rynU8S7ecsIo19sMAb+EWhokAzpVtb9arxoDGW8fLgeu6vaR4/JYEDi5uW3Y1/7xpfM5UnvZSPn0/0402wP3xz3l2P9azZKgv9eAvl5Rcb8wCcLJO18GpbeO/AUZ75Zj5xA/46SGyLIre9mZ7JVJEACJEACURCgC44oIPEVEiCB2UWgT/z4KnWpIWMdlkRc6PqYGFNXYoX1Fq7au9Dc6cWa3Dd55NeN1pNH8EBHtzvQ6WuDqbYYyz3iL1N8P1slUJ7R6YBDfA5e3duBJ53VqPshffzjvwM/o/DzSvQMSaCnFDkybEkZP43gcdYdQWmLz1fnuz+C3Oju0kYNFmbP1w8g5XyKko/vwu5SkaZMUPpql+clOuvLUdBrF6u+EMWKKBiOby3GddkMMVnmIy1bcXdhoKcXD04Vid/IMtT9ax1Gner1g7bXXsGT7f8cPX4HHuJqe3gQRS2JtxdnPt+Mq6os6wIsyf9opI8dHbjdrpQ/vEiABEjgLRCQgH2taioxf4TV2ePMsXGi4M0y43G9C60t/YB8N9/kFXHek29sW4/6/r7A8U+fwSPuvcwSVyLB6pEYAmoeqMCG9g4cv1WNz/Q+6sGNkLyOizuS6xLcQX2vszPmIjmaeA4DN1Fy7k9EmAUmH5MoQh/UP4NN5kWz1Yp5Ftmd9ar2SryEG76YCdf/OIVF48hZk1+xaZKjtx+dauPAMB+56foQhnorkPfxSzg0scEMo8krLs//xOPzRei2XUbdP0YbSbh7fkbR1kp0epTf6XQsSpGBIXJGd2cTru6Sv6PtN1B3IEVHRnHhUbW4lMteN8oX9WDdNTzSCaKoERy4i8K15b6y0hdjRY5pOF9n10OJizFNOLMaJEACJEAC04YAFdDTpitYERIggelBwI0Bm0+jO098Jo+z1JUqW5Gq3HDIQnDArp0PfmPNcDeXo0QW2eGXBB+0+SV/y2KUHtiFz7IlwJH2orSvrtwXmPDOAZzJaxa/g2O1UqxmT13RlM/ZFXXi+1jZe0dxDYpP5JNi7RXFqzP9Fa+zF0+qL+C4KNvNOSdxIj9C8KuhV3Cal6K0ch8+y/D1h3egESW7DuCx/RZKJaBly4FkPw4H7h86IMrnOOSW1+BSgXVkLIpV9P29BTjYchqldR+hNrQ8gwEGzzNcrLUH+aL2orX6Fuzq2dBQmALC3XAFv4ry2ZByCHW/bxql1PaKhdR9KqBn+jBl/UlgxhIYlPlMzSWG5HTMG7cVRiSKQhYyN7rs/WIlmhL5FNO4eU3whbHmvcF+DGiNMCGtoAwHi5dhXkDnqAUmLJbAhKKALruLRbKxOFZAuoGacvwmMod52WU0hCggI9dYrJgPXZC5PPIbk/4kfjGOXstEQkYyRsVpHp7DHuJM7TYsmnUxEySOiK0D98+dxgOXCRmHy/BZpA53OGDM2Yur+8UgIlENGPEd3XwaRXvvwdZYjosFmSMynFsF6RTlMxag5N5lfJUapNSWDe2StUUSpLMcv66qC/FHLcNSZIOhrp9xvWcljqYGZEIbrt94gSF5BpEbRl8iU1y+IMpnkXo330DDkdFK7efHnokCOtLRrkkfacyQBEiABEhghhCgC44Z0lGsJgmQwJsi4IHTrQRtA+LiozEpEn/Qcb6o9W7HG1S3qoVGmfLx/BFywwy83HAqK1s5rrzih1P4Ylj5rBjGITH/PC4VKn/FYvFS2xF2pDKYtLfnms9qNmkbjkarfBb78ftlFWjzzEVujs8v8pvqvTdRTtuhhaPcUyT/TwH2yCLNZV6ANevHsA43r0XV/57HF37ls6qrMXEZzh5eKT0lexgtTSNHpsXlycV2UWgvO4mzwcpnLZEFa/ZvRLKokbvlSHfYqe3klViTYoDtxjU8D5xAd4r1c4NLXLKsw8JQFyGSpVLwqBGTmJOpa1H9JriyDBIgARLQI+B2+eZWo9kU1embeLEU1T5zbvcE3EzolTyRe+PMey6H71udugtnjwQpn1UR8ek4+GMZckXkGOq6i0d6bi4CVZG5/+KNflEKLsDBI2O4CAupel/VAVxU/qflGx/lNvJEGq//bpxVTgSFKJ/Vm2oO25ypzXsDvf1jyiD6Gc+0u/04uzTYpVUaMv5WjLOysWtKWSouWQIGAuHtMuScR8OPX/qVzxo8JOR+j7MBGa6ua5jfYN0VPHYZkH3k3Gjls0oWn4WjxZnyd9GPxy3hpskJeSuRbXqF+9VPh/9m3M3XcN9uxvKCxQiXhuU0libzmrFQYoyMZcYQ3ireIQESIAESmK0EaAE9W3ue7SYBEoiCwHQVqZ14cqxcFhpzsPrad8i+0YHRriuH4NUUjzqaRn+r561aDGv1Ndh7uzCAxWFWZV63EwNtD3H8kFjNmuaj5IfRVrFjwRusPYzj7V5Yt5/CQfNpNLeM9fbMe6bcYST69hz8lR+CW5QLg44XuLptOe6n70XVL18iLXT4iI/H0FsqA2PGYlEKPxQr6H70icGQsooLuFCxeDpw9dwLHUg+X45DDmXhJ2vLUW8kY8N2Dx7tasTFur1YWBCPvuqbYhWViTObU9BcdyssvziLapBYaL/JTZSwWvAGCZAACYxFQO8LOtb7b+7ZuPOeV+Zlf3V0WxG3GKszDDJf2tHZ7xYL1RCXDF63bBT24/axwzL3i9VseRnWRDhsE9pqr+1nlFwWdyRywuXsdgcKWzpCX5m638XaubuhEQ/aXkigPbtsjqtNfs+IQa0IK4qLLpOpq9Ubzlm5w0hCfHAjZTw4XXZxiXYPe/4m7jE2X5bAlDou0cT6WI/NvJwFMFe/hMv2UmSALLGYd+K5cjkjCmFvzy2cCdcxy06z78TcoN5pvfhV2JHfgQ2ycf3bwDIZf7KhIspoT9Iu7Mh6iec3lO118GUS4wslY3rhdr77PfiGBwyLIwESIIF3lgAV0O9s17JhJEACsREICNWiVHQqYX08WyE5Sun2CfXxlnAbkdjqMHYqZ0M5ShtdsKyvwdFsE1plYTD6CixYPH5FdOhz+T1+rnbE1y4LwfBDkq9we9si3NaSmZBbWS3WNHpLIJ18B++Kj8kX8IrF9KVisYqp1Xlnht9KK64WVyTh/hq9g09xfOd+3O6qxO6TKWgR/9pRUTOaEa8UCQ6XMthTRuriI9PnBsbRLv7FQ+NYBvPzL95DkcZnb8NnVlnUyiZDd066BPB6CXN+GVYkuEI2K3wpE3KWIVV8g/aIe5bSjJPYk5M8erEcWgB/JwESIIE3RCBOLJ/V5XXJN1L+G/71HV0Rt8flczMUFzfuu5PShGjmPZkM1HzgER/I+m2Q01T+jUC3U1mWjm6l7fxqZJ/31VbN/TVyMiaqy2vDxW+viB/mBTheKRvJntNRJdN/yWfJe1b/Ydhd70A9dm8rR7NyYOz3A52YnIQ0UxyMnl48an8Z5g4qLJN34oYVGyrvhLm9UMpbZ+cV7N55DZ03ilGS3oyq3PFGtx+I2aptPLs8Psv6BDnRZtdEURc670h+Y3ET5Xf4JfErNn+J1NpyXK9ux5r8p7jea0TulXWYZ6wIf13G58L8dJjEb/mT84dxP34fliRbEBeV0KOTHW+RAAmQAAnMCgJUQM+KbmYjSYAEoicgLiqsYg0qRyMHetTR0MhHI3152tEjvnOVojbROp6yOvpaRHzT2YjSk8/gsqzF7QPKWiZcfawWrnHxPssUp0N/qatMWTRrFqOedY0cuSw/h+X2CuyWo77NJw/jUco/RXkZsVb+Bw78dug0Or1J2PH3XbJoEUXqeEneoefGBPF3KUern2x8CEfLQ3SLAnrhhNoXbrGeXfFcV9k9brbGZGzZnolfDz0Un5AdGPDOx8HtSiHeqJ80YRMuVfajSN6/vXe1f/Nh9KtcV+qj410SIIGpJRAvAexM+BMeCfY7gGVIG7M4L/o6X2pvmK1idTrmu5PxMMp5T1x1KdWiy++KQ3c69SsGjZpl6ejLuv4cTqR2oPTYQ9jvlON4Ti1OZI+nrBQWl4+If3+jWEyf8vkZVkHvYr5MsKanjPbnrOXlQnd7f0jMBzt+3etTPltyynCpfCXSgk2Ae75Hqyig9aJYxFy9GZdQNh0y9uFowVMsF2vm1npxiZa7LLqNa98xt1Et9t1KQumzOnyhO8DGAZSwUjafr2BLQwWKJBaKw7rOpxCPoM2OzzuJSz3FIic24eBa+QnLPnwch73CGyRAAiRAArOKAH1Az6ruZmNJgASiIaD84CqHBJ72ejzR0+8GZeLteYhH6qijIQW5Ywbzi6bk8d5x4FGZLOjE9caGiu+wMOLaU4IwacrwIfRpSnSdS1w3aMphq/hnDHtsQLwEe1pypAqXlgkJ1zOU7LyAbt2MAolloVuzH8e7gORisaBNnp3qSqN5rk/hIabM2qnUaC63AwPKj4bBjAS/tiQ+3ufjY0CO18Z6xedtwxqLB7belxLE6EusCe/oUVkn5J5Cw78vY7lWtAmpyzZiy+aN2JA1J9YqMB0JkAAJvDYBY6q4KVJG0I5nuN05zofV3YXb7UqtacainKTXLnvsDCYw74kyPFHp42Tu7Qtz3K9KkQDBWtA2MxIt4WpzozVFLE5PoepIpnydX8pGYTF+HRibhbdHrGur+2FM3yexBCZjg9yC1eVyAuiXkJ/KjeGbAs4XaFab86alOFG5brTyeWyos+5pgjJ6kGtILN/HETlH2Lhe+mQ4i9Uvw5nhy8aBHvvY4yIyYCMWFUt8iaGXYlgBZGzfFuaebXTaeCw6cgfttzb6wm8bkpC73ic35FqpfI7MmU9IgARIYPYSoAJ69vY9W04CJBCBgDFjE7aodavnGc4cexoe5C2QztuLi8fuSsg9WTKKsm9JRIVwhIImdFv8BcrRyNIWD6zrT+HoOMpu5R9QLTddLXfxPGxF48XzuqdSbwNS8zLHsBCLx5K/V6FEAtoN9V+TqOv1kS2a7dfE9cafgPgLPFuYHJ0Fz4TaPzNedosfZ02xH2/RsRLTb4NTrKWfyzrdIL6gA36jE7PEv6O87mi4idaw/tPPJ+yuMR07DqyVQJAS1b54cRRH0d0S1f60+BeVfYn1l1Hzj+/Eolt+1ieN4U08rFTeIAESIIHJJRCXiR15aiPMhQdlp3XmtEBx8g07qeIjyO/WldiSPcUboROZ94wLkJuqlHIvcLtOx0GvswkPemQiMGdieWpkfIkF51C1fi4Mnhc4Ie4tWnWV2ZJeFPFnDkmcB5MEK6xYp7PRHLmMSXkim7C+U1YSOFKnG3QMeCel2JmXiWxi9Phcbpksc6KYp1ULZZxLAGLlqCVZDCZ82xXxWJihgj57xC1bY2S5dTxAievktJQEt162DwfzwjdCwpKLHHz15F3YRWLJFXmx6gef3LAlfUoF4rBq8AYJkAAJkMDMIEAF9MzoJ9aSBEjgjRKw4osftiFZ1oqOxmLkb/0ZrQPBWkDx29dTj5JPt+OqsvCxrJSo9lH6+32Ndti6XsBj3RhdWamiRBfFMVxNcmS3XlwwBAr2YlB8SJfceaXV+2D+OFZR4srhqx/PY7m85mopR+HJLl0LHU/vC/ExOR97Kr/UXG/Mvku4dv6M3WVNsvwzIHm9WHyFQhBL575R4wji//GC+IvuEFv1OVizfdnwZoDaBNnh77/dWy+gdTDEosltw5Oq/cj7plHfwt1fdkLe96j68RTWJIZWJvR3LwZq5CitjAtT+iFZROoEQwpNwt9JgARI4I0QMCLtQBk2qOnKfg+Fa/fjt07HqG+fd7ALv+4sQFG9zG2GudhSIW6gprhuE5v3ZENXvvFqY9F2+TDOdAbJFO5e/LT3AjqHJLhg8S4sHHMOFd+7P1TjaJaYhDseiv/gn9GnZ/Dq+hOddhOyj/hdb0wxi7DsE8TiW1mtywmqqw1BfeV1orv2exTsvDfL3W8IG43FYZTUyZgVGWBFgY4c6fIFJx7h65bTZgdQUi+7LOal2BMkwyVu3oVcYe5pF1ntWGOQ3OdL7R5ox2/frkdRbaRdC/VeHBYd+Ceq/rEpPJByWCfLqTyxxL8q1tLJ2y/jUjQK67A8eIMESIAESGA2EaAP6NnU22wrCZBA1ASMqfvkmClQJMFhetorsWVpJUzmORL12yhrBvGN5/EFcTGIldXZa6ewKIKxx5AEpCvceiuoXDlmq8n+/bh+aPuogHBex3juFtSiel8UiwKVvxWfiZuO5rXl6Gw8gtz2K0gWtxxGT78czxS7GbGyOn5N3HiMudD1Vzt+Mc7+uBeDn1aiRwLl7E6uE7/EoYprsaY+cEonyE7UyGfMi92XC5FfO3K81CtBpZzSdy5ljiTKZ8syOSZdpBMgSizqjy5diDMWCQBplnEkvkDtDpVI3F3svxxi1S6bIKL4t2+VoIa917Dlo5uwJCUhQY0/OXrbJ9GG1Ag05CyeFG7uNlmwnpINDtmUuKoCVU1KrsyEBEiABCaJQFwWTty6DOw8jNv9TTi6sQnHTXPEbZFMYhIIeFA+wNqsbJqPLZXyPY0UONcpwWK3vhxlaeq0+ebz7svbUXgnqL5u+ziWpBOb9+KyD+Hs+l4U3fkTVzdm475yy2Ee0uJNuIYM2smTS1G5yrDgM2mjfe12CRRXiaJvraj7x+Kw00ymrEM4ETZXT1J/jJeNMQt7ihegVeaV5r25SDmm5CdfcGePtNVinSNW3K9mSRBCu7hMWY/mYXlrCF6PG4ODr+ATJc3IPhwqA/gAKxly+X9fEX/m4mpDxA6nw+6TP8XdxZbKstEn7+KXiazWj0Ilt945gNy6CvGyJm7BjF64RUaxafIGkJrqG+/jdeHYz73oPieBE1tcMGWdRNUBCTo9dgI+JQESIAESIAFQAc1BQAIkQAIRCKjgMHX/txRPau/iQcsLdNtFYWgfgsEkvvbSF2BR/jo5Fpwuwn2EDNRtsV5pa9d77oFdoofrHMTVe1m7Z918CgcjLap1UhnlKGXNH3Pw2+Vr4hOzHwO9vTCaLchev08Whsono06iCLeMyV+iSoLU5e9qQtux7Si1SACkjBGtuyFFfEwW6ihdI+Q3k297xIen/8SsvxkGcd88B8mpmVgtUeQ/y44QuNL8EXZsN6Ov7hm6xbezRxTP1vSlWL19H77QSyOK/xO/N2B53U1cl+O23eLeo1Ms7tX4S5B0i3KWYbW4UBlr+EXD2Wu7icK9EjjRMB8lP8qCdgLjIpr8+Q4JkAAJTAoBCfR64n8fY3XdLdxu6MBzCZQ2aBclpsEkG3QLsDB7nQRfXYZ5ETaEtToMvZJNZWVxGn65+jvQJtac0V4Tn/fEuvSHWtSlXsHFmqd4bhcr5UGpe/JSmRt2YU+uNfrveVw6jl4rw8DfjqCtcT+KkmtRWxTk/sqUiaMVq968640geImF1aiNO43j1U0yf70SZb74t85YKfPkLqyJ+xk5a2eLFfSQuP7+U3PXNnIZYLIkIVuTAdZhRaL+oDWkb8TRZIcmg/Yp4wHZdEmVuX/H/l1Ykhg++8cpufXfi3H/xk08aJM0thewi8LfJLJfas5SLM9bhSU5oQYE0Y74kfcG62TMiX/xIeta1FS+3XE28dozBQmQAAmQwNsi8Jf/yPW2Cme5JEACJEACJPDOE3DeRcH/iCW6ZSMe/N934a453nkAbCAJkAAJkAAJkEDUBJq/lpAaz4BlVej/R1bUyfgiCZAACZAACUxnAvQBPZ17h3UjARIgARIgARIgARIgARIgARIgARIgARIgARIggRlMgAroGdx5rDoJkAAJkAAJkAAJkAAJkAAJkAAJkAAJkAAJkAAJTGcCVEBP595h3UiABEiABEiABEiABEiABEiABEiABEiABEiABEhgBhOgD+gZ3HmsOgmQAAmQAAmQAAmQAAmQAAmQAAmQAAmQAAmQAAlMZwK0gJ7OvcO6kQAJkAAJkAAJkAAJkAAJkAAJkAAJkAAJkAAJkMAMJkAF9AzuPFadBEiABEjKa70pAAAgAElEQVSABEiABEiABEiABEiABEiABEiABEiABKYzASqgp3PvsG4kQAIkQAIkQAIkQAIkQAIkQAIkQAIkQAIkQAIkMIMJUAE9gzuPVScBEiABEiABEiABEiABEiABEiABEiABEiABEiCB6UyACujp3DusGwmQAAmQAAmQAAmQAAmQAAmQAAmQAAmQAAmQAAnMYAJUQM/gzmPVSYAESIAESIAESIAESIAESIAESIAESIAESIAESGA6E6ACejr3DutGAiRAAiTwzhPwTuMWeqdz5aYxN1aNBEiABEiABKaGwPSemKd37aamR5grCZAACZBAdAT+K7rX+BYJkAAJkMB0INB9Mgerb5hR+uwOvkgYu0bOzps4c/kuWm0v4fIYYLJYkZa1DnsOrENaXIS0bhseXb6C6y0v0OfwYMhghjV5AVZv34cvci0wRkgWU1kR8no3bzvR19yEBy1d6JP+GHA44PYMYUgam1rejLoCy1tsthfOnqd41PAUbT2+ujnd0vdSOUPOOfT+uCxiv7/FSrNoEiCBWUzA27Yf6duakFb5HDV5kSY0HyDv4FP8eu5nPOjqh901BINpDuZlLMaW4n1YkRxpVgNimtdinENncVey6ZEIuO1obXiIx+296LM7MOh0wSNyAzAXO/5owMHkSAnfxP3pLNO8ifazDBIgARIggVgIUAEdCzWmIQESIIG3QcDbKwuRV1KyedzSB+q2o+BQB1wwwGydjwxZqDhtf6LtTjnaZDFz9d4pLIkPycbdheNrt+O6XRY4skBPTk+C0f0Sfb1NOLurA837a1BblBymjIyprHFb8O684O65iZK9F9DsUAtHuQwmmOMtSLAYhaUBiWbD22usswtn9h7A1S6Xvw6yUWE2IyFBNhukWkbL+GPt7VWeJZMACcxOAm48b3gBTxSN99p+RsHnleiRlw3mJKSmm+B19KOn5Rb2tHWg55daHM0IV2DHNK/FOIdG0Qy+MqsIeDFQdxhFx5qgxDF1GUxmxPvlBhjnwmJ6e0CmtUzz9rCwZBIgARIggSgI/OU/ckXxHl8hARIgARJ4KwTEOnXQjkFRHj+ovoLbvUpROH9sC2hnPQo/PIK2obnYcK0GJ7L9mmavA/f3FuBgiwvmVVVo/3tWkDLZi+6TeWJd/Qqm9EOo/WUT5vkNw9w9F2QBfw02Ve6/QyyvYyrrrYB8O4UOSl/8TfpC2K0u/hIbchZgXkJcmBL/7VTOjp8+zcfZ3jhkbN6FHfmZSEu2IFwV83Zqx1JJgARIIJiA2ylzob0fz+uu4WJ9v6aAzh7TAlq+cZ/IN65fTppsv4GaAyn+75sXfTWySXtKlNjWjXjwx3dICzaEjmlei3EOZReTQAgBd/N+5Oxqgtu6FHuKN2GJGAMkxke21H+jAKe1TPNGSbAwEiABEiCBGAjQB3QM0JiEBEiABN4YgcG7KPpoNVbvKvcrn8cveaDuliifxU561SEcDSifVTKjBWsq9iJbLFtdDbfwyB2Ul7cL1+uUdfV87KkYUT6rN+JS9+FswVxg6E9cv9E7qgIxlTV+E96RN7x4frkSbZ652PLLDZwtXIy0aaN8BtwNF3BVujP1sFi2H1mHRVQ+vyPjjs0ggXeRgA1XNy7H8o0HcMKvfB63lT13cbtfJkPrJpwYVj6rVEbMKzyFPSnyT/tD3O4c7bU2pnktxjl03DbwhVlGQMb5+Sa4zCtRde88vspLmT7KZ0xvmWaWDRQ2lwRIgARmJAEqoGdkt7HSJEACU0rAeRcFf50H64en0a1XkPieTJHnSd88HfXUa6tH6c7NyPs4B+nvp8Kq3nk/G1mfbEdpTRecenmNdy9+MY5eq8J17ecQcsf1iODE83Yx94IJC3PSwy1t4xZjeao8HupFW/CiW3wAP1fmZEmLsUjHt/S8vAVQXoodnV0YGK5zjGWN1+bp/Nzdi/snv0b+hxlI8vdv3tbD+LXTIUuzkEsUErfF2hwp67AcjTi+cz2ytHGRivSPN2N31VMMhiUCnh/L1sZOYZ1TfDPXj6R7LwPpn3yNM8328LKkXr9++zUKPslD1ge+ulnV+x+vR9HJenQHbzZo1XTjSV0HPIZMbMhw4bdj25GntSkVKR/koeDbm3geccBKv9d+j8JPcpDynvydSDnaGK/tHTXG3eIGRrVj3J/39uOJVqen2K3ltx+to1CKtaIcRy742M98Z+NI+5u/1voh5duuEPjqVyce7czQys+rceg85y0SIIGZQ8CKDRWBufAydqSP77pooPMF1F++JWsx5oU11IJFOUly14PWFjVnBq4Y57WY5tCwSvHGO0jAPdCIM9+sR84HqSNz7Dc/48mAjgDQ8xCP7LJnkr8S8e0XsPvzPKQH5tlPZf5vsMnsHXopS3811+bjpwE3+mRzefeneTI/S3nvZSNn6/e4bwtPNWGZNUaZRqttlLJT6zc+2XlcueHzej+HicsNPhkrFYUNOvzd7Sj5ULHMwfGeUM78nQRIgARI4HUJ0Af06xJkehIgARLwE/DamkTh+EI5moTFKr4m5cSk1+PCYH8Hbp/qwJOuc2iQgG6hrpfHBChWy2nZgQB1cWgb9xTmS9hk8SJLbiRb9V6OQ6JVtNji83dAgtrIMkcr3mmXQIXyX0OCFTr6Z8kuRe7fg0OOP6s1U6KWdWxlaQXOxGugHkUbj6BZQBnMczEvKwVGORLe3f4QJ9qf4vH+avGRLfcCbbN1oFsp9e1XULBWBXQ0wSK+la1xLtjtL/D4/AtRfOxFzb++HH3825++r7oQOdIvHvETbTLFyZaCC67+Z7i6SwJEVtShJj8ocKH4cn5Q/0zcpCif31bMs4hyxuuR4+p/ovmG/Mi4vP7HKSwK+NcQf+JtPcq55Asc//QZPEOSziJ+qa0qzUt01ldgQ3sHjt+qxmeJQZ3lteHXrYU40aUcqoqf8NRMGc8u9PXIGC+TMd5Shtof12njw2hJQna6d0RZLC5guntfYcg0F6nJ5mFOxriUMf8mBuuKNX/mHlVeuozDlOgCNjrrjqC0JRovsTNxMLLOJDDbCBiRkJo1Mj81GHFVC+Ma6RI/ur3aZCjftTm6LyVY58oXsx8uu12UWQH3HLHNa7HNobrV4s13iICzWTZP9z7UfDmbJB5HmgS99Ioc1dlYic6WJjkdVTPKB3lg08RUW4zlHpm/xPezNWGuyBoOOHpl/t8r82xnNep+SNdxl+XA7V25OGtX856K5yATsUvkjfZ7ONjZD+fvN/BVUNDNCcussco0E5Cd4kSmyHZ5huUGr0v8tUt7DBZhJ3EzApcxdWxrjNjkBjdaTx7BA+5Xv0N/gWwKCZDAdCNABfR06xHWhwRIYMYSMKZsw/V7ZUhLDfGj63yKkrXFeNByARd7luGEskCeqsvrglMzdDEhLoIz3zgtsJy851AqZ78CWvu3uNswm8KtprUHcYhTBmdD/vyVFj3GsrSCZtwlFkZ7y0X5bEDy5mrUHEkfVpq6bTexe2sF2s7vx/HUBpzI8C2S3LLIVOsYgzEJaw7sw558UbT6109aEJ+dFWjurUTJ5Uy0HAgPZ+8S8+iMzedwdLtY72kJxTKv6gCKRHHddvI0nuT8E0sCfaxZymciQaJNJoys0aSPAn6/H+JM7TYsKvL1t+yKYEBbo5qQVlCGg8XLMC+QlxaYsFgCE4oCuuwuFv1rnV/pIz5OzxVrymdTuijOfxTFeSCNBN86s1XStJdj9+X5aJD2GDP2oSYjqKNtF5Dzt2uwy3H4Kskzqo0YsUY6c04pn+ejJGTxPOYQEj+VJScl3Zgv8SEJkMC7S8ANp1MpqA0yr+lPhsY4mSflDZfrJQblv5qVdIzzmm8+neAc+u7CZ8sUAfElXnJIlM+Yi9VXqnEiV4L7amR8QQYLDzXh+s7DSP2/f2KFNkTlvs+CQDb9F6P0wC58JgYIfolCAhOW+wIT3jmAM3nNw7LGCGwPHO75clLgO+wR1x2a2OC24be9RTja/icunnyIFcPzuWwST1BmjU2mmZjslFb4T9QUjrRosHY9ssv+REKebG7ryEkjbwb9K0a5wd1cjpL6QEBm3Zx5kwRIgARI4DUJ0AXHawJkchIgARIIEDAmpmNRqPJZPRTl4JY88aGMV+izRfRrMDkgvWJxqhmFGWEMVkQG5R6473WPHD/0SjotVcREBn9+YpkSSBZjWZPT0Debi7fzJq4rX6JJu3ApSPmsahGXvAlnD2SKmuMV7lc3Dh+PdTp96s/EzWU4UTCifNbSpG7CpcqVUFsB9rq7uq5eMo7Uim9mUQwPBx+Kx8Iiv99Sj1gctwcdqY2zYmF2iPJZFaT8fm/O1MoZ6O0fsUZ2OXzuMlJ34awqI1g/E5+Ogz+WIdck+w1dd/Eo4HPF/RRXlZ9wwwIcrAxSPmsNkjQVu6DU6LbaW2jVOdmqXpvoNVBbiSeyHrTkf4cvgiy3xs5HlO5lsiEgvrdzc9TfHS8SIIHZR8CDwBQXeV6TeVKBUXNZAFCM81pMc+js65RZ1eK+G9dkHlLzl8gAw8pnhcCIxPxTOLFMZmbPM4m/ETC5lU0TlxLgzFjxwyl8Max8Vmnk9Fr+eVwqVHOaC49qO8JdcSEJJbfu4ETQZrcIKPisUty3afN5PZ6onRb/NVGZNRaZJhbZaaSGsf0rJrlB5JvSMuV7+yPkKt/wvEiABEiABKaEABXQU4KVmZIACcxaAk4bHtWcFovY9cO+oJWP2uXVLzUkXp92eNbimakNH2h/obkosWZnItgjRaA98VlLkSa/DIkrim6/JsPrCve5GNx+Y8ZKLNGM0fvRHbQoDLyjrzQJ+C0dwkCPb0wN56lcXNT9jNJvtiNf/DNrvqCV78iND7W6D41SsgwNL1519ynEV/jqDGXybkdnv78dgeO3ycuwRM98OTETyzWXql1oswW3dOL/dstx4+e1+1F0WXyzWtdqAcR066mT9WDtYRxv98K6/RQOpsuqmxcJkAAJkAAJvFECTnR3qjla4nHk6cTjkBltocTWULNsX3uXf+Na5mVNfojs33zeqsXauTVPb3A8jnEaFrcAudohq5fiziJkd3gCMmssMk0sstM4rYn4OHa5wYknx8rx2DUHq8V6fLl23I8XCZAACZDAVBCgC46poMo8SYAE3g0CjltY/ddbEdsSKqIG+/pTrg0s4l9yXkYS4sR/r9f2FM39b8AhgFgwGzVXGWLRFcEKNXDfGDei0gsoOwNWXGGNFsW5L5246Agki7GssLxnwA2n03csM94awf9wvBkJouvsFJ/fmgsUpaD1g/J6InSE+OlW7rgh/g7lf1Ff8VKWutw+Xyvav73iY3H3NnER4vAdOVd+oBOTk5AmY8/o6cWj9pejvaVKH6pu9IifaFXd8APqRsRrrlpeSTmqcnFwiy9J9a5B7uvpn5Xf8YR4GXz9wuB1DP2HmrDnf5q0dilr6+PXvh/xXe27G/n/B++i5NwLeJO24VKxKK1rI7/KJyRAAu8yAXGv4Z+rfPOazhZWYFNOzWUBFDHOazHNoe8y/lnfNvG9rIkN/nleh4cxwTeXOkS+UFNmnCiefeMw6KRZaLr4uZpLLLvbN3eHPtb/PR7x4l5NBdx0u5Q84itlwjJrDDJNTLKTfiPGvvsacoOzoRyljS5Y1os/7mwTWm+MXRSfkgAJkAAJxE6ACujY2TElCZDAu05Agp6lZljDlXPufrT1hviJU77+tEAzZmTsP4mzhRIsKWi9O1CVLwposeac6ssoCxrNqaUsNAKK0JAy3X5/zz4Fo++h798vJY0v+EvYUt0tykdNt+nPXyWLsaypRjBd8o+3+KxvnYMuzdo4jKnc9ammjTCF7mZMqBF2/Kr8U4vy2ZJThkvlK5E27LZDMur5Hq2igB41YuPMft+nPlccuoEn/db6xjdtDSRK59JftsF7+QDOdr3AmUN3sfAXX2DDsbE48Nuh0+j0JmHH33dhngDXMSwfOws+JQESeEcIxCFebYjJ1ptb2wTU+QKreU21VoLKDm+qxTivxTSHviOk2YzJIiCxNrQx65UYHfpbw0po0OQGsTQIH9Fj1cO/ER5IFIPM+uZkmrHaEeFZrHKDsxGlJ5/BZVmL2wdUYMexT65FKJ23SYAESIAEoiRAFxxRguJrJEACs5CACuz2iwScC/0pXiCHKkdf3q6neC4KWkPWXlQVjVY+v1lyc5GsxZlzwObQs7x1YkAzyzEgIciaN16stZW965Dd7xs4tNIOGzRXwNYkJA6vemIrKzTrmfB7wOrYKXx0L+crDCpDYYlYr20AyBUvVsiKqaf/hb4iVFxm2LQohXOQqKsB1i0Jg/46xCf7rbGdL2RzQwafaSlOVK4brXzWz8LXj2qd6+hHn661slvGiVqImZFo8alm4sw+pfWQw6HfHhlzg1rQL2GgbyIdqTYh96XMjCx89eNlbLAaxKNHOQqPtY+zLPSir0aCQHYBycUnsSdqf9FRVomvkQAJzDAC4mc3xfeNHLSFuCvyt2TQ/ko7GWKWuXDkkxXbvBbbHDrDkLK6EyBg9p1wknkxktjglc1pNf0a5FSTb/zJmNXksiH09QTFbAguVeZsbWPVKjEfoq6NAwPa6Sg5qeUPyBmLzBqLTBOL7BR1s0a9GIvc4MCjMhVceo4WuHFh+FGw2KrCVCRAAiRAAhEJUAEdEQ0fkAAJkED0BLziykCJ91AuD3SSRXbDoPPya92SQHVZmiNePG/oCg9S4+7A4x55bEhHbkZQTVOzsFBp1fsbRwWpCVSlu6FDs6C1ZKQH+UCOsazXat/bSZyYtcAXMLClCX06VXC2N2qBBA2pmUgLYE1d7GNqb8TtnvDNAHfbQ7SK0tqUvQwL9QaNTjnw9uJBi1KmzMEisc7XLjF191lEjRw5D06q64rFKD4hU5UG+gVu19nDS3I24UGPjGiz+HVO9T9OlrapJDb9MYKBp3isjPxN6ZB4iK9/SWDDE9e+g5yIhaP+AAprbOHjOVCK/Zq43vhTCxJ5tjBZ92/w9SvEHEiABGYSgcSMTHGAIN+P9qc6320HWlu0DxYW5gRHHYtxXotpDp1JNFnXiRGIR1qGChjoQaueLCZbqq0iVym5cV6Wsrz1XfNyFmhj1tVyF8/DjHG9eF73VFTaBqTmZUZwhaVTSzU3q7gMpkyZ933PY5JZY5BpYpKddJoQ9a2o5YYhOGvF9UaLB9b1p3A0WB6OujC+SAIkQAIkMFECVEBPlBjfJwESIAEdAnFiGazZrbTfxG+2IGWjCvBycjMK/UEIdZJO+q3E/I3IFkWhq6ECx9uCzFvF4vb+oUq0Kb1izkYsCbb2MGZiS/4cqcufuHjoJvqCmuDuvIDS2leiXU3ChvWjw4PHVNakt3jqMzRmbMKWJIFqv4kSscYNNhp29/yM3SdfyEJyDtZsXzbiskVjqhagrzTXEE+Cu2JAfBVLxHWPMN1RHJQmqClOWz+cwXprrx33v92P30RfbEr/ElsCiuEEsUpXmweuZ7ja4BhR0nolCFLt9yjYeW+0+w2tjHgskboqC23b5cM40xm00nX34qe9F9A5ZEJG8a4R5bgEJtxRIGNkSMaIPO8OXhw7u3B87xWoNa61YCMWRatQD2qv7j8T1uHSj2thNXjQc6oYJc265toSkOmFlD0feyq/1FxvRHN52w4jRQKEWv+ajZLO8A2CaPLgOyRAAtOYQOo6bFD7sfLdLj3XG3SKQp2YOIyLvfLMshJbQpRPMc1rMc6h05geq/aaBOat34YMmZtd9YdREjw3yyw9UHdY/A6rHeiPsCUvKLZEqsgaKUqAa0LpsXoMDE9NXgyKr+KSOyKLyZg9mK8Xj8INu5hbjxIbBp+iVObrniEDkrdvG56bY5JZY5BpYpKdXpM7opQbbOLiy2PdiLNH9IJE6lei72SOyAwiN7z/NR6FbRDop+FdEiABEiCBEQL0Ac3RQAIkQAKTQSB1Gw7mSPC0lhc48bcMXJRAbXFi+eJ0KMtoOYppNcFln0CkuUCd3F349dxD+HTabnRr+reXeHzuMGxK0WY0IXvzd1iRGNSI+FU4eqQJ+WUduL0tF09EOZ5gEmsPez+kOrJ4EVcNR7JCfFsbkVZ8Chvat+N2VwWWf3BTXHmYJYDdK/SJy44hsRJLFd/WXwSXo4qMqaygus6Yf1rxVWUZejYeQfOdImQ1SIDJZOHjfoluCbrn43M+xIpGmB44hR0923G19x52fNgkgSmlL8R+qa//lYyOOVheeRlfRbAWtt0oREatGjtztLE0aBc/zrJ5YJD+OyuuNoaP3xqzsEfcwrSeElcce3ORcmyOuAERv6cS2Mgji06LpDdIP2oW+kFXXPYhnF3fi6I7f+LqxmzcV+5VzEMYkKO/LklnXX8ZlwqCF7mqPZdRaivEia5rWP3BQyQnz5W6uTAgR9xV3cxZZagqjtCgGPs6LuN71PzwCnmHxHp/bzGSf78hzEK1zGIRJqy/Ch2fY5TZ194lVOWyhiugxkjGRyRAAm+FgBOtVVfw2O77kjm7fPNpX20FStpUhQyIz9mFg7nB/n+s+OLve9H8aSV6qguQXpeEeRYDvOLGwKZ9TOfK0ftdI6dWAu2KaV6LcQ59KyxZ6BshkLAKlypeoEDigzyWubn13HwZf0a41fhTwpja1K88hRWjXFZZ8Zm4g2heW47OxiPIbb8isphFZLF+9CgZUk4lHZeTQfqnpl7hwa5cPDKJWy8VRHjoleZyTf3FmLNO4lKR/9SUanxMMmssMk0sstPr9050csNcbKnYF/73H7F4B573yAaA4pmzabQRR8Q0fEACJEACJBBMgBbQHA8kQAIkMCkE4rGishZXt38E0UvC43gl1qtmpC3bi6tNj1G1Ss9aJYqCJeDh4zsP8aBe/TyTIIcqjViDNvrvybM2HbfEiQXVaLh2CKvTpdzBP9HTa4fbmITs9WV4cO88luj56FVHF+/V4sxmaUOcBwO9km7Qi/iUpdhxpRa1RfquDWIqK4qmT7tXEleh6t8+PolxLvSJ9Uy3sE9IX4nSa3XCJyXc9YMxBQf/pcbFUqRKVEqn+IPW0ogF+pk/6nAp2PIppMHJ6w9hR84cTVnS0y9WTXHSf5tPou6P8P5LLKxGbcVaZMhGB0TZ7BTLnIQMVa8GNFRkhmw2BAqKw6IfalFXsRG5SWZ4ZZx09jhgTFb9XYeGH7LCj/gak/HFvx7j9uG1yJa17KDtBTptLhitmdhQXouGqIIFTrxnE/LPoWrzXBjE+vrs1sOjrMlVboaUfeJ6I2hxPW4RDnR3qoWkKK43r8O8cd/nCyRAAm+XgAud9ff8c+HIvOfqCsyP9/AoNDiwVNiY/CVq/7iMHcvmI15OkfTIvDYgc3OyfIMv/l6LExn6jl9jmtdinEPfLleWPpUE4nNPyZx9Tht/cd5+dHf1auMvQ8mGf8j4yw4ff8bEdaj5owqlqxbAalSymKRxm33y2x/V+GwkEEdI1edi+f69WCEbtE77n7BJHIc4bW6ukbl5VZD7NJUsRpk1FpkmFtlpEjplPLnBuvkUDqaGbmaPUbAYhLSpY16YizWF0VtNj5EjH5EACZDArCPwl//INetazQaTAAmQAAmQwDQl8PxYNjbccSG74jlq8sMXp9O02jOrWs56FHx4BJ3Gj3Dx//6JFcQ8s/qPtSUBEiABEvATsOOnT5bjbH8SSprqJnQSiAijJ+Bt3o/0XU3wppSh5fegU2jRZ8E3SYAESGDWE6AF9KwfAgRAAiRAAiRAArOLgLenA33KZUgej9HOrp5na0mABEiABEhg4gT62sVntLijW1S4dMQF2sSzYQoSIAESmNUEqICe1d3PxpMACZAACZDA7CPQrS0k5RhtAY/Rzr7eZ4tJgARIgARIYCIE7Hje5ZJd66XYksMjUxMhx3dJgARIIJgAFdAcDyRAAiRAAiRAArOIgB1tspA0pG/ChsmNlziLGLKpJEACJEACJDBLCDhfoM0uMYvz10UIADlLOLCZJEACJPCaBOgD+jUBMjkJkAAJkAAJkAAJkAAJkAAJkAAJkAAJkAAJkAAJkIA+AVpA63PhXRIgARIgARIgARIgARIgARIgARIgARIgARIgARIggdckQAX0awJkchIgARIgARIgARIgARIgARIgARIgARIgARIgARIgAX0CVEDrc+FdEiABEiABEiABEiABEiABEiABEiABEiABEiABEiCB1yRABfRrAmRyEiABEiABEiABEiABEiABEiABEiABEiABEiABEiABfQJUQOtz4V0SIAESIAESIAESIAESIAESIAESIAESIAESIAESIIHXJEAF9GsCZHISIAESIAESIAESIAESIAESIAESIAESIAESIAESIAF9AlRA63PhXRIgARIgARIgARIgARIgARIggRlAwGurx09VP+PJQHBlHWit+Rk/1XbBPQPawCqSAAmQAAmQwLtMgArod7l32TYSIAESIAESIAESIAESIAESeNcJDHbg6vlKXG13jLTU3Yvb5ypxsSXo3rvOge0jARIgARIggWlKgAroadoxrBYJkAAJkAAJkAAJkAAJkAAJkMD4BIzZK7HEDPTcuIIng17A68Tz6ptoHTJhYX4m4sbPgm+QAAmQAAmQAAlMIYG//EeuKcyfWZMACZAACZAACZAACZAACZAACZDAlBJw226iZO8FNNuHfOUY5iCj8BQuHUhH/JSWzMxJgARIgARIgATGI0AF9HiE+JwESIAESIAESIAESIAESIAESGBGEHA77XC6jYhPsCDOOCOqzEqSAAmQAAmQwDtPgC443vkuZgNJgASiJ9CL4x/Og/Wv4//kVdmDspVjnrXfo/CTHKS8J2nfy0DWJ9tRWtsLp07hA1X5Whl5NSE+CZ3tOLMzH+nvp8rzPJyxhST2qmA6h0eVk/7xZpTUtGMwtJzmr5EkZSR90x76RPu9+2SOVoeCOr0aTqw9z49l6zJLer+oFB8AACAASURBVD8beVsP49dOvTJ0qzX9b47qA+mn91KR/vF6FB27iSe28BBHbgmKdHzneuR8kCH9kYqk93OQv/M07uu8O6FxMfAz8tQ4fX8/WuWksd7l7TyMdDUGPr05Mj5eZ1x4n6JIjW/dv49UFDWPrkVgXBTWhXMJre9g7Xot35xzoYM+9E3+TgIkMPsI2PHTJ5G+PUH3P/ge3cFwgr537sEu/HZsO/L83+KUD9djd1W77hytZTGR+dZf5kBVXoTvo9Txk58xKjaeP81gjU8e0P+uzkPWyV6d7o52jvZzey8bOVsvoDV4KradRpb6ln9eHxScz4uBusPI/9A3X4V+0yfExHkXBSr/D0+P7pNAa9r2I0WTUZ6Obp+/z1K+7dJt96OdGTryU2B8rMevfmEoLt6KxESf8tnbcwE5qi7vyXypk+uU33Kqsfe1cM0eJSOWVDWi2xk6gUsfNP+M3Z/n+WXBVKR8mI/CY3fl3dCaunH/czX+c3C8Z/Qzd89N7P7UL5O+fxjP5bGzbrNPLtxaH3Hc953zjeHguXjsudyBX7W/zXz8pDfAO7/X5BD98b0Zv41qU6AfI+Q1qolePNqpZOVslHSGcuHvJEACJEAC05XAf03XirFeJEACJPDmCZiQnJ6JDMfIgsBpewG7BzAnLUDisANBIxITTL7qeW34dWshTnTJS3LUMzk1U455utDX04HbZR140lKG2h/XIXE8CxyvKL83FuO6HBs1WRcgO2Mukv1FaAWJcvr4VnneL88t85GWnSL+DF0Y6OnFg1NFWjl1/5JyXhfaa7THkr4SCy0jFXDbO9Da/hAnOh0w/vsGPkt43cq95fTSB6XSB7elD2Aww5qcgnnwYND+J5rvyI8EPnrwf98hTaumLCJri1EgY8Al7yanLsCSdMDt6Ed3yy0cbOtAz4+1OJE9jlfKSOMiYSW2pF/Bwa6nuN7gxKL80MPFbjy58VRGiAm5hSsxOei90iq5THORnZU07E/T2dsE6WJeJEACJDDFBEywpqcgIWw+daG7vV++xvrXUG8F8j5+CYf6dJvMMJq88Dj+xOPzRei2XUbdPxaPds8Q43zrdflkB3PK0pG50PNS5sHIdfNqSQywpC9GmvgvDlxexws097rCGzShOdqExAyRaSDzTvs1FG01oeF/v4woJ3jbylFw6KHMWXOQmrUAGcHTSoxMwhsQ+x1n3RGUtkTq5Qj5yhx65tA1BJsMRHhzSm67RflduPUaepSIaJ6LealzYXQ70NffgQfy88hWhf5/ZPnLduDRN2JU0PgKQzLPZqQuxkIZq87+F2i7U462li5c/OM8VoRO96E1lw3qws8r0SO+ry0pmUizKHkRiM/ZhCWmF3jcfguPBlfhi1DBwNuF63UvpaLzsWV9cmiusf3uHdLkBoNFZKCUwAD3oK+lAwEvKbFlzFQkQAIkQAIzkQAV0DOx11hnEiCBKSJgxZq/V2PNcO7KwiIDe1risOjIDZzNCC3Wi+5zxZry2ZS+FzU/fom0gD7R3YUzoqy82l6O3Zfno+HA2ML8QE05fhNp3LzsMhpCF8Nw4P6hA6J8jkNueQ0uFVgxvP4WK637ewtwsOU0Sus+Qm2YIjK0zmP9/jrtMSCxoAxn84I1A0789nkujnb1ykLaLQrocZStY1XtrT9z4Le9BzTlszmnDDUV6zBvuDlu9DVcwfGakUoqi6tCUT67kzbi+i/fYVHQgtHdcxoFn9+SDYoLWP3v75EWpkwZySfyuIjHks2LcbyrCW21TRjM3zRayTzYhOttaudkLbbkTBJ3pwtu5VbTug4n/jFSXuu3HeisD7XieusdxgqQAAm8cwQsWF1eja9Cd1rd9Sj87yNoi9Reh2yC5uzF1f3rsETbSfZisPk0ivbeg62xHBcLMnEiI/Ahjn2+dbqVclQC3hWfx6Vsf2UGbyL/owqEGKgO19TrUd9OkTEOnMeJ1JEGuOu2I7W3I6RFE52jZZ44Uo0lYu/6aOdykWWu4WLbJqmb3qQj7a5ulE3Ludjxex0OJge/EzuTSF0y4fuD9Sg52RFxk0E/P8XrsGzs6z+d8rvupyjdqZTPJmTsr8alopSRjQ63HU9qL+BiUN0GqopF+exCwqpzqPlhWdBGixd9NdtRcKoJpSeXYZHIiJFndSfun7qiKZ+zK+pQkx9kFRCXiS15c/D4Tj+u3+jFF0dSRiFwt8hJLtnzMOV8iRWhyukYYXk9Lk0BHZ+zD5eGy1OnDUUBzY3rGKkyGQmQAAnMXAJ0wTFz+441JwESeNsEZHFxte6VmHYswMHKIOWzqldcOg5W7IJSO9tqb0V0k6A1QfK5eKMfQyqfIyGWWOq5HKW82O4R5fRJnA1WPqtnRgvW7N8o5Qyhu64j4rFKrZzxrslqz3A5cYjXDF6MiDPpLXjHq9A0ei59cFVZuZtX4mxlsPJZ1TEO8/K+Q+3vAetnNx5dvivbBknYUzla+ay9nboPB3PEvN3xDA/G8jgxzriIy96EFWpt2XsX10Py6btzUxagoisWxfTCyULvEp+aUpxBOnU8A6xp1HOsCgmQwCwnYMg5jwbZIPYpnxUMIxJyv8fZwrnybxce1XX5TneoRzHPt244HUoBbUbCBD6QXs0E2hSdn+KY5+h4rNi+EhZR3z650agvJ9hkHukagiF9E7aMUj6/DhMFdDIuUYCXVaDNMxe5OarPoru8nRdQcuMlTFkfISP4RFl0yV/7rYHaK3isKXTLRiufVc5xViwp+ica/u63fva242q1yIGWdTg7SvmsXjZiXuE+rJH53tPeiOdj7Pd6e66J4YNM/knbcDRY+ay1xoi0zes0udTRcDdELhXr6xql4DdjxebMMRTcWkZRX4ODLpFORQFtCTLvjzo1XyQBEiABEnjXCNAC+l3rUbaHBEjgzRGwdaBbrTdTlmGJ3oIzMRPLk0QB3d+FNlEQLgqybtIq6XVj0NaP28cOyyJFLGTKy7BGJ5+BzheizAQsng5cPfdCp312bfE8JO4dlIJQJwudNDq3Xrc9o7J0ix/DK7jaIi5DUvZhj67FlU4dpumtgc4OrQ/MOeuwaDyFrleOy3bKkstkgL3+As7otElO4Mol/e8Q/8ipIbZMUY4LGFPkmGwSbp/vl4VjOw7KQlar2vAx2gXYstmqU3pst9z2V77xZbWMWODHlhVTkQAJkMCbI2Aw6H6z5uUsgLn6JVy2l/Jty9JOkcQ+376ETX3XDRbIJzLqy6sdK4lT08X41+vM0ambsCfrIQ62V4jvazOOJge0mOJGqqce1w/dhN0wF1sOrAyTIWJnMn6TonljsPYwjrd7Yd1+CgfNp9HcEkUqmQePH7oFu+kjXCxfh7a/PcObdRUsfrrF9YraXFi0SsewILQJtqdoVfJkvAvNly8gJKSCPBC3XiqNx4FBJeiFWCh73U4MtD30t3k+Sn7YpO9qJXElNoj7rqNdjbjecgiL8vzyh9qA6FWK643YMnwaILSSE/1dThpofxQmJFipgJ4oPb5PAiRAAu8iASqg38VeZZtIgATeCAG3S1wSSEkGsezQV/paxBJKVpX9LjjDgseIYvr8amSf91XVsr4GNWLdrHcN+s8pOsRv31X9mIK+ZGJJFWoYM9RYBGujXq7h916vPUNo25sG696QfM2ZOP7DJPimDq/uG70zaPf54kxMnjN+uU5ZICqdwtCfeFD955jv+6zfRr8S7bhQqRLz1yHjcjk6W+7iiTsLK2QtOXyMdplYSOsPTExkXARq19cj1lniq1T5sJzI1XZoIayHRlIYTHPEL+ky7Nm/SywSx9PmT6QkvksCJEACEyBgtmpzt0uUegGdXszzrbMffUrXZk0Kcs80Xl28cHuUFDEHcZF9Kgxn8npztJyWqjyHto+LNN/XywO5dlVg+VrfL8n7L+Noavg3OWYmKlvHLaz+662IIMbVuw/eRYlsvHvFovdScQqMtRGzCnrgxvOTh3HbYUZuZZm4k+iP7J4lmuxiesfldzEhFvHWcKahWXodr3zBIO1NYgkd+jT4d/GpHCro4RVub1uE29prEvehUtzU6PSjLxexhhf3XWfEfdfzmocYzFPutLzav+0yv2dIzIhQDzeB0kPn8rFq6Xsmvq5VEBXMR0aoVf2Yiftxduk8nB1+xwCT/K2m5WzEwQOrJvD3NWYhfEgCJEACJPAWCFAB/Rags0gSIAESUASs68+Jz8cOlB4TwV8CzBzPGTsoXXbFc/HnF8UqNRivOQnZyeGWJ257F3pURKZJvCyyOFgxvNCShbW9F60SbO/op3noqazF2dwI2tBJrMO0ysqyMSgoYfQ1m9C4iF8qPp4voLOxQ4IROrCiAP5jtHOwpXCMY7QTHhd2dPcoJbwEyEyf2Bg0S3DKJVafmsHrdWGw94UozK9hR2c/zvxbfK7PsmER/UjgmyRAAlNKIFyTN1zcROdbb08X+iS1WQIZz4u60uK2Q1lAG+KiUkBHnW2EFwcbrqFVPuOGFFHm5jtQWtYEl1i8Xi3y4uK34g+7+gIe5f8z4sblRJlo1VABDTOs4S4d3KIU1guyOKruEnvh0Gl0epOw4++7ME/0uIMR2hZ8291ZgZI7r+TEkshYeWqCUZbI0/vSTrHJj2lZFXqHgxJGW2czlpefw3K7WLeLO7dmUb4/SpF+jODH2ee+qwm3xX3XbdsmHLRIMOMW5StEyRORJ2RTkgQ0DHssVs49vmDdYbV19qJN+bi2puukC3s76IYJqcuW+hXNonB3S2DvLjlJeOcInts8aPg9gnX3WFnyGQmQAAmQwLQgQAX0tOgGVoIESGAmEogzm7VFlUsCHKlFUbisr45KqiXFHMSHCe3ijc+agoX5y1AlSrl8CVh3e28xrPeq8UWIVWi85kjZgwE5Jiz+PiaEyqCCI+osZrpP5mD1DfFfHXS9XnskCGGe+DYeFYRQDo1KwL28tbfw4NQ1bMgN+EieUBOmxcuBPhgUNxTjOjlRPpKVvtX5EgNi3DYcmDLKlkQ7LnzZSfCqgqWwNN5Dz4276BM3L75jtOuwIaIFlOgEJjAutHIGO9Asa3hDJHczY7RtXv4hnBi1cRIIiCVK8zo71hTpW/6PkSUfkQAJkMDrE3C99Ck0Ldbh+Tu2+VYsSFv8/nPzJjJHv4JNKejiREYY30gWrzVHD9zE7pMv4JFYE6UV+7Bk6DSOK4JxSViYJwHvbH8iv/oZSg/VY+Evq0ad6oqNib974hfjqATiTQvtrbb9SNnWFHZqa+Q1FXhvvwTaBZL3n8SeaC1oPe3ihuIhHOaluFq+LMLptNDKTMXvZmheJxyy6WoX9fI4p31U36rXXXY1Jn3uYKKvlQHxyelYUlCFS87V2NH4DCU7LyDh9336QY6D3Hfdr+3C6uSbmvsPy+ZNWDLG/nJaoQRHDDOCcODXT3JxQkfH725vQreIwNYcUSZH3xh504Lc4u9HBxuVwN4lfyvEg96buN2zSSz1J5QhXyYBEiABEpgmBBiEcJp0BKtBAiQwAwkkizWIUjTaGvFEzyxn4Ckeay4A08UKOXL7EgvOoWr9XBg8L3BiWzlaQ9x1JGaJn0pJ7miQRYI6rTtV1yS1J7h6RlkUJWrKWFHGhx0bnaqGTH6+w33QUj9mACCtZKNYCadKo4e6cLs2KMT9BKs13rgIZGfM2IQN4msc9ofYvdd3jDZ7jGO0E6yG9vpAw0P0yPHctIKPJmFBH4+FWT43Hk5ZnPMiARIggTdPwI1WCdyrHAQk52QOf9dimm/dHXjQojR4H2H1RPznDnShW30CrckR3R6M4hLzHG3Hr4cuSGBaiTVx5JRscofSliB3xWX4QvYCPeIjuqROC1IwfMXEJLSIif5uvyauN8SFVdIuCRaZrOvDOzxLj1j/HsEDcb2xXGJq6MbmCE80RXfikZah5jkPWuuf+txrjFVS8mKkqUCJ/eKLuWcsYWmsZ/FY8vcqlKQYMNR/DUV76yNajGvuu0RMcdWVo0hchQ1J0OQtmyeyeTJWY9Qz2WiW4J4q39WrxhCAx8sm8DwuReRoJUyKQt85FoNoM+R7JEACJEACb4MAFdBvgzrLJAESeDcIxC3GjgLxCSy+fi/uvYDuYOWwUwLg7L0CiT0Ia8HGcQLXxWHhD9U4miWrD4coEXf+jL4g+VopGHfIggKuJuzeegGtoZpctw1PqvYj75vGMayJokA+ae0ZKWuwoV6zgBEniOMZAEVRwbf3ynAfOO6hRBZ1faM2AlTAxQso/FzGgFZF8bG4fZlsGgyh5/J27K61hSw+5chqZz1KP9+Mn9QAiXiNPS5GklmxpmCBqIfF56TyVW1ehi3aseNJurztuCrHelW+OyYlXwdaW5Q1vwyL5AlE65qk5jAbEiCBWUbAJf6ZQ77ZfTUHUFKvvpdLsSd/5DsUy3w7WPcznngMSN38Zbilb0TU4qdYTq2oKSA1SAEe8XX1IKY5WiyJqw7gjASYM6Xvw9mCCN9csYrdU7ERVlGYtp0sx/2gTfVYmIzZjigeesRVk018B++p/FJzvRHd9RKdXS6ZqspwIncMU97oMnvtt+Zt3oZsEes8LRUoqukdLQd4ZR6s+hr5x/yBPeIyRZ5UCuuXuL6zGL92hlgieJ3obhA549PTeD5WzYzJ+OrH81gu3exqKUfhyS595bfmvksqN/RS81VtyNoW0WXHWMVFfGa7hetdMuYk3zVhGx4RU0V+4JRTWD1KmLQgMSHqARE5Pz4hARIgARJ4KwToguOtYGehJEAC7wYBI9IOXEaprRAnuq5h9QcPkZw8V9xyuDR3GS6Rlc1ZZagqjsb6w4LPKi/Dvna7uFCoRNG3VtT9IxA53YovZEFh37pffPZdw5aPbsKSlISEOCO8coS4T5SOSiw35Cx+Tayv054hDNSdRmkgzLzXA6fyAd37Suo2B6sPb5vgEczXbMqkJ5c+kGBGnRuPoLnlCJZ/UOnva48cr+2HQ5nRic/nPf5y47LLUHPYhcJTHXhcthpPzs3FPPHFbRQug3a7vK96bC52jFvPscbFSOJ4CSS0RAI1PZZ6WPPG2/AYt9DhF/pqD+NqQxceK7+hFgcefLsfD0KSO3tV44Hu6v0ocazDicL0UdZqA3UVKO1RlkvikkV8OQ70dmj+xw1WCSgUpPgJyZa/kgAJkMCkEBjqqsTy/74Cs1VcbcinyOnwf4MNYvUp3/XRbgcmMN8623Hm5C20tisLUhO87Rewuyekyh5xxaRuyeby8W8cWH3geyy0nUbJ5ad43v9K5o2VoxTgYzd44nO013ZFypIAsqZMnKhYp+MqbKREY+o+nFj/FBvudIgbi7tY+K/A+xNgMnYDJvBUFPoHTo12wxBNatlQOPvD4nCf09Gknex34lfhbMULFMjJpM5TBUivFjlA+eVwOzAg7ryUGGBYts5fqvRt8WWcGdyOUonpcGLjIly0SEBLiyiJxU1bQKaEaeX4coO4PTn7414MfloprrmKsTu5TlxnhG48jLjvcsh2uQpMODnb1nY8OnYFt7ueSlBDkYHdjTLun4aQ9aBP06+/xO2y/XCsP4SD2cGlO9B8+Xs4/HsISs7t7vT5mbYs24ct0YjUk92XzI8ESIAESGBSCFABPSkYmQkJkMCsJSDWJl/86zHm1VzB1bpn6LaJj0VZiFqsmdhQsAt7ClKiF+rj0nH0WhkG/nYEbY37UZRci9oi/9FTWVCc+L0By+tuit/cDnSL0rOzX5R4Jomwnr4Ui3KWYXVeZpTHVMforddoj6P9nj8Kuy9/g2kOErPWYkvxPqxJffvWSGO0OrpHCatQ9UcSHlVfw+22F+gL9HXCfOSKD83Vm1cGWb/JkebCarRkNOI3iS7/uKsXfT0vRUlhgDleAkPKZsFy8f+9JJqF1FjjIlBzo/gjV4i987FhczSZRtfkwc5GqbtSlouhlEMU3KNPZo/KxNXbhAfGTBwtFC8kQU8cXQ9lMRq4IdHsZVGdu30T9oiVePSWbdHVl2+RAAmQQCgBQ/pGHE2WDbQW+W7bZcNM5qZUmTN37N+FJXq+eaOdb93iFkuUhb6DLB7YxOdtxEMtoohua/QgofB7pDkkOFu/WOqmrMTBijIsmsj0OJE52tsrp7NuwiauN7J/KMOa8EAVIaiMWCguOja0F8o3+wJKajNRG7CYjpZJKPwYfzekiLV24UTjA5ixeqI8Y6xftMnic0+h4d9L8dtliYWh5IAuOf2j5DZxp7IkZyW25GeNZGWU00z/aEBavrjhuNGIVjFk6O7yYMigZMoFWJ4tcsaqpVgYReHG5C9RVdmP/F1NaDsmSm2LBLnOGD3QjGaLpqh3WKUe2ZNlVeyRIMNN6PR713L1PsPj3kgVdsEm7yJlV4gC2oMeFdcikExrv8jUhfJefsr02FyI1CTeJwESIAESGJPAX/4j15hv8CEJkAAJkAAJkMC0JuBu+BpZe58BOefQ/uOySVugPfkmVQIaWbCjqQEHxzpG67yLgv8pR2f6SfT8a9WklT+tobNyJEAC05tA89fiQli+i8uq0K8TjPe1Kz/wM/KWVmIg5zJ6f1w85gbw82PZYlkMbLjXhhMMoPba6JnB6xKQwJnHcmVMupFa3oC6SK5ZJlxML0o/KBBjhLW4/f/E2n+s9P6/z8T9j9HAYMRjkeIzEiABEnhnCNAH9DvTlWwICZAACZDA7CTgwP0aFUzLd4z2/2fvXsCiuu/88b83NUzSZGZrO5NuHOqWYTcBkg3wswJPK9IG8KmoTURTJcZIjMHbojXiJV5josYLaoz1Akm8RtHUW34K5hHMhku6gOsD2ARo+mdMzQxpMrTpDkmTwbS//+fMgMwMwwAj4Ay+z7Ozjef6Pa8zzDnfz/l+P9+eNKa7Nb141hSgAAUoQIFbWMB6QdJrSTNlSc3y1Bj39By3sAtPnQIUoAAF+lSAKTj6lJc7pwAFKEABCvStgK1a0rLIAFOQbrSPx/ZWN1pHmTU6AwyGIdB3tVtJARIcFgKrnuHvvr3a3DsFKOA3AsrvnkEGjpM8vV39RGr0IfJbKqt2taLfnBwLMpAFGvJeQ4lko9FOlvEjevW2HSTpMuS7LoMFdrlbjQwoKOsG6/hHMZC/azw3ClCAAs4CTMHB7wMFKEABClAgYAWsOD8nGbOKbIhdUyj5OntnGKGA5WDBKUABCrQJ9HUKDkpTIBAFbJVY8TPJ890UgkWSXmu2t/RagXh+LDMFKEABCvitAAPQfntpWDAKUIACFKAABShAAQpQgAIUoAAFKEABClCAAoEtwBzQgX39WHoKUIACFKAABShAAQpQgAIUoAAFKEABClCAAn4rwAC0314aFowCFKAABShAAQpQgAIUoAAFKEABClCAAhSgQGALMAAd2NePpacABShAAQpQgAIUoAAFKEABClCAAhSgAAUo4LcCDED77aVhwShAAQpQgAIUoAAFKEABClCAAhSgAAUoQAEKBLYAA9CBff1YegpQgAIUoAAFKEABClCAAhSgAAUoQAEKUIACfivAALTfXhoWjAIUoAAFKEABClCAAhSgAAUoQAEKUIACFKBAYAswAB3Y14+lpwAFKEABClCAAhSgAAUoQAEKUIACFKAABSjgtwIMQPvtpWHBKEABClCAAhSgAAUoQAEKUIACFKAABShAAQoEtgAD0IF9/Vh6ClCAAhSgAAUoQAEKUIACFKAABShAAQpQgAJ+K8AAtN9eGhaMAhSgAAUoQAEKUIACFKAABShAAQpQgAIUoEBgCzAAHdjXj6WnAAUoQAEKUIACFKAABShAAQpQgAIUoAAFKOC3AgxA++2lYcEoQAEKUIACFKAABShAAQpQgAIUoAAFKEABCgS2AAPQgX39WHoKUIACFKAABShAAQpQgAIUoAAFKEABClCAAn4rwAC0314aFowCFKAABShAAQpQgAIUoAAFKEABClCAAhSgQGALMAAd2NePpacABShAAQpQgAIUoAAFKEABClCAAhSgAAUo4LcCDED77aVhwShAAQpQgAIUoAAFKEABClCAAhSgAAUoQAEKBLYAA9CBff1YegpQgAIUoAAFKEABClCAAhSgAAUoQAEKUIACfiswyG9LxoINeAFL3jTErr7Y4TyD1EMQGh6JhLQZmDUmHJoOa3AGBfpfoGpdEiYc0GLFO0cxPdjb8a2oOrkTe/IuoLyuEc1QQxschoTxMzA/PR7BKm/bchkFKECBgSRgw/k5sZhV1OJ2UkFQa/UIjRqBxzNmYGKUbiCdNM+ltwUaXsWY0dtQ1439hi8rRH663sOaFtTmH8K+k2VybzbC0tSCliA1DGm5KFoe6WF9zqIABShAAQpQgAIU6E0BBqB7U5P78k1AHYIog9qxra0ZFrMZdZXn7J8z+dnI25UCr/E+347KrSjQfQFbDc6WNsr6Wu/b2Oqw9+mZWFvZBARpYQgfjggJQTfUXcSJLRfl+zwV+994DnF8q+Ld0a+X2tBQeBB7jp5zCmIEQaszICJmtATTnsSo0J6/ZTDtn4yR6y9368z10/JQyoBJt6y4kv8IqPVhCNUG2QtkszXBYryC6iLlcxon1uRhf5oBPf/L8Z/zY0n6UEClRbAhBDZvh7CaYZSgssfJdAEr5izDkfpm++Ig7RDZH2C1NMJksXrchDMp0GsCNjOKT76KIycvospoRlOzfE/l5YfeEIbokZMwKyMFET18LrTmZyBqQVn3ixi5FCW/eZL1qe6LcU0KUIACFOgDAQag+wCVu+yZQFD8Upx8Od5pIxtMhWuQvuA0jEVrsCJ/OPaPYeuonqly7RsXsMFiMsJUdxkncnfiiLGrPdpQvirTHnxWRy7A/tefQXRbhcJag91zMrC58hDmrYpB0cuJbNnfFac/LrcZcXxBBhYXKS8jnKaWFjSZ61FySvkcQ/KGA8hJ9dQCzx9PimWiQP8IRGfux/5UpyiLzYLi7EzMO3AZFeuW4XB8V71L+qecPIof8qYE8wAAIABJREFUCgSPR87b470UzCot7ZOlpb0KwbrWBg1ta1tLsWhqJk6Y5RVy/AKsXTZJXhK2fQ/lPm/xGtb2ckwuokA3BCwX5Pu3ECeMbi9HWpphrr9o/5w9eQwrXs/F9HC+guuGKFehAAUoQIEAFmAO6AC+eAO36FKBSF6NtalKa9NmlOdf9t7qZeBC8MxupoDpGGY+PAET5q7BkRpp0dzVZCnAnnwlMPkQ5m9zCj4r22kiMXvbaiRLvbip4FUcN3W1My73R4HaHVlY4RZ8DtJq0dqos7XIjSiUFxGbutNX3NtJBgUhqJMPq6je4LgsYARUOiQsX48p0hIVLZdRWGoJmKKzoH4mUPcaNhVJ62bDo5iV5NyU1IriVcsdweekbOTLi+H24LNyDirodD1seupnp87i+LOAGYcXuAefpceUPDe4vCZpuoi1c15CeY/ehUgao06eEezPDv7MwrJRgAIUoMAtK8AA9C176f39xFWSBzrEXsgWq9VjANpadwovzpmMpB/HIuy+KIQNS0KqPMAdr+usO6UVtSdfwsxfJCHywQgYHoxFzC+mYdG6/0TSffLvn29FrQeW7h6nQbrQhyn7+fF/4ryHerStTnIYKscdNg17G9oOZMTuX8i8+1Kxu0HKl78V8x4bI+WT83lwJJKeft7L+XgoLGf1noAuEStfy8E++2cpkrvIvgGjdK1UGrgYYhDnKWeM7G9CrFIlYKCl9y5SP+7JekHyetejvQ3TEIzdVoj635ag8lIhtqc4fUFa6nE454LH363ulViNsbuqUf++5w/zlXZPkWsFgoBeUnA5QiVWqyM9gmuplZQ3r2LeE2MQMyxK7pVRiPxZKtJXHUOVh/usfVvpqXA+eyFSf6Y8Gyj3ermXPrEQL/4q1f7vyCWVHmC6exwzjj8dK+WQ/TxxDJ7eJZpkfItIWR72i62oagsoFf6n/dhhvyqF1VSJw6syMKb12SXyZ5MxL6cUnZ2Oh8JylouABcezj8EoIb3kzBmIdn5DZzqN7UXyAlk9AivXpIB96fjV6VeB6lexp9Kp5bN8D188V4FKeW6oeS8Hjysv39oms3xX87v/K6AZ82vUdPKMUP9+PtbGuPYEMMQO5/e/Xy8+D0YBClCAAp4EGID2pMJ5fiFgNTtanaqlpYBriz+pKOZlIOmR5dhX0giVYThGpYxAnDzINRQdwuLH0rCixD0IbcYZqXyOXXoIhfVNUMmgcOHB8nAmQcMTB96RiounqWfHCU3fgrXxShPXd7Bo6SnXiqnkEN60QAbQadEi+YVsTA91P54ZR+YmY+yC13C2RvqJauSMW5pgLH1TzicDu+t61CzCfef8ty8CKr3k5otHgv0T2fXggVabI+Aoef08t1CVlv0GR1qGBhmckFNgCdiqL6DYOT4W+SQWj2lNsyHflXFZMxDldErNpTIIJf9sA+sis7Q3QcAKi1UJ0ARJS1T3t3zKfXsMxszdhrPSoyA0KhFj5V4foTKj5OgaTHhkIc64x2sspVjxSCpm5Z5DtSzThSn3esBSfQ77CpxfIDmfak+Oo8fEbdmYIH/6zZUvSeC4zvVFU8NBzFt3Ec3q4Vi57VnXYKgcsqVmA8b8PB0rj5ahwaaCSh4Zms2XcXbLTKT+6gKD0D58A20VO7G9VGn9PAnz3dK1WUoLUC1fL3X8VIxi9NkHXW5yIwK1+WWQJ/rrkz51Aaa0jRGhi8fijBFOLZVbUJV/Ee61F1+Ob8l/CS9WOj2w6B/F2szwTp5NfTkCt6EABShAAQr4JsAAtG9u3KqvBSRge0QGJ5JqA+KSI10emmzVW5G+ugzWsKnY918lyH/j13jl5V9j/2+KUPrmVITjCo6sdmp5JHsx7V+IRQWNCDKMxnal9cHbJ5H/dhEq369Cyc5H4dwIoe3Uen4cp4pp6RrM298W1la6gC7EPvmnYVo2NnvMZy254KwheHxDHip+V42a31ag/n9O4MV4qZBL1+Tt6057bGnV15eB+++BQLDeMbiLsQa1ndQgNFpHaNoqrfo5BZaAxWiUhEDtkzY8zHUwn+BIRDjHz5qNaHAPjnX7lJtxdobSM0L5SIvPH4+R3h3PY2+hsVcqp90uBlekQF8LNJzDiWo5SFAYkmNcUyE05GTKfbsJweOzUfLbfOS9vsV+r897uwRnlw2HuukcVqy74PQ3YcGZ1VmSr78F2qTVOCv30dL/q9zrpbXhpWIcmRbm8Wx6fBxNPNZumwpDUAuqJS3P9urWN032F81bJeCpxdgN2RJo8nA4GWRZNXIB9pwrR/0lpVwV8gzyS4RLI3BzwRpsr+BbKw9qXmZJioPs0xLkk9bPC2fIoL/Okw21FcpzpLy8CAfO5yxD2s9HOnrAtbakn7nuVKf3ay8H5SIKdEPAigajc/q2IBmo2LW2oYkcDuefiRZ5fvTUq6IbB2tfRXKeb1r3jtPzivxtZC1AnOeWET3aNVemAAUoQAEK3KgAA9A3Ksjte1fAZoVJWhpuejrTHrBVxzwrrQxd8/md2XFMKhthkmf3OSS4tWjRRMn6SdKkyPwOTrTlYLVVYnvuZek6H4Lp29ZjXFvrA3vJpVVqVKSHbmlW9Pg4yu6cK6bZWZIHVga4kQEVF52S4LeMQJ2TFdPJ4HNhWHToqOS9lrK0PSRqwjFlm6R+kNNpqTyF8zf8VNq7l4p7cxMIH41RSt2i5R28uPRYh0qtzVKD86XdyCVNWL8UsLT2yGgrnE7v3lpTRrR3mdUEt018PK8WNDddQXXRm1g7d6yk5TmIWsaofLTkZv4iYLNaUFtyEDNnKAHbIISnr8ZE59RFtlLsyZUWy/pJ2PxCilsPFBUi0p/FRKUVsrRwvd7ToO6QpFuQ10TaR7F52yREOD86SL7p6JghHfOi+nIcQVRFPSf384cQ1HIFexZI7lZ5qVi+biH21Csvmndgc7Ln5rZBSVuQv8s5D7Ey5sXz2JyupBxrwpmTlTeQusdfrm7/lcNashV7aqSJc9gMLE52z+Usz5Nmx2vDamlhPn/LBZiChiAiajiiwuTHWgaOLTywHGOVlvR8vuq/i3bLHKlZBrh0HnhQI7083KLA0uvD5VtrbbrBXhA2VO3YgBNOj5pBUo9a6bHhyy1zIXiiFKAABSjgRwKD/KgsLMotKtBSMBOGAveTV8OQsg6vbBzv0joAtosoqVD6UwbBeGorNrlvJv+22vu7KRUPaWUaJY92ddIVXnkYC3sUE7o7wrQvx2kti6NiWoMx6y9jz5w0nLfWo0n7MLbvehIusW8PZe8wSzMcydJyp7BSAlBGiToFKw+v0srqF5k47iGWqUvdgfysyA674Yz+EAjH/A0LUP70NgkWrsHYH+9EuOQx16ikEiKt3pSKcFtVRKOkWOEUWAI254qkBKBU7tdQutO7zGrxLZAkKVy0UinVqVWwNbt+bxSwptINmJc9HEXL5YeBEwUCSKBkaRwMS90KLAHB5GVbJADr1j1c7tv2lDe6JhTu2IrCDucpKbKUecrfiNLTQILXpooyezotbdIkJLj/eXbYvnWGD8dp25U97VZpKhZLqqx5T1wG6hvlpflq5Cx37bXlcmgZHMxT0SKShkObewVNdVckABVv711hzV+IMZLOo8P7JtVDWPzmrzHRc4y7szMdgPON0vr5nITtpcV51iTXZ0X72TZDMmPJJC84Jst3LCvR9aWEpGt5UWnsUC8t6dcnImFXSicNBAYgHU+pHwRa07JdP5Knv315blBS4Lc9Xtjct+lhMesOYkWeo9W/Y8swTF8+ybW3Vg93ydUpQAEKUIACvSnAAHRvanJfvgloQxBraG062FSPCqPUOvWjsfaF8ZLr0W2XFqlsKg9qkpbihLRq9jbZ5EFOmWwS/FPqp0HBhu4/hPlwHOeytFdM66VCLKk1dknLa58qizrotMpAIlKRalLOxwFibWqC/F/HyVHb6jifc/pFQBX1DPLeCsPhHa/hSGk9GmouokUCivrw4ZiSMQnh1cux+JR0KW/NBd0vheJBekfAXktsn9p+X5zmoPUnp3WWp8pm50XRjVmPwiQtQoPdWvFZ63B8VSYWSwqhtslYdBpVEoCO7nx3XEIBvxNQGx6SNDWt9zAZf6FO7mHakc9ibXpkh8CfzdzoSK1hPCctob2dirzoaY3QmpQdyhQaPsTbBi7LfDlO+w4cabcqHpmJE/XS9Fk7Gnuk5bWnzBtdFkhrsPfEapKAems8Xc5L6UXh6Ubf3DEo3eUBBt4KFhm0WWlxHhQ5A/NHurd+dj5faTGf5BZ8VhZLDt6VG59E8SOvwVhSgGJrCsZ5283AI+QZ9alAd15KS8DZ+d22vMV2r/Z0v4iSjmbdThlrpn0L/eSlmM931d0n5JoUoAAFKNDnAgxA9zkxD9CVQFDMUuS9HO9YzVaH3U+kYXPNm5g5Jxwn3+ikMqefihP/9VzfB2B8Po4En+zNIZUmXNIC1h489nVq3fb6U2kk1v62Fmt93R2361MBVXA8pm+UT4ejmLE3TwkmaKULcOvgdR3W4Qx/FXCk3GgPAjtScjjnc3RPuaF1S8nh/cxUOoPnwJWk4pm4/BmckPywFW27kBdklvb3Ud53zKUU8BOB6Ixc7E9tjfCZjiH9kTUoKVqG9JwQnJzp2gJa+XorcRR1Sg5q2p4PujyPnt9nfTtOJwWR7lcmJb2/Ly+bXd9e2Q+gSz0AY2onx7rVZ0u+7T07lDy3WkzI7OQ5UZbp7F83m7SE7uQH0yC5++XdorGl0dGSngHoW/2b1Yvnr5bvn3PzZhlw1f3GbXFLuaGR76yPJbDkr8GmSqfos/S8XClp/3wPaPtYEG5GAQpQgAIU8CLAHNBecLjoJgiowjF71xaMlQbRzZVrMHNVqeugW0rXdOV5znIFDd0cx02l1dgfwFokt1o3N5GaX8+P46zVsF8GTyqSjqEywIghSLoQL8nEXnt/4Z5OZjSYlQdKLYLlPDgFsEDdMWklp1zKhzGWLVIC7kIGhxtkmKv2qam6xpECoG1WQw2qnBsrqg2IcMlpa4Uy+GTbxzVUJimD7JGrTiYJbLmMZ6jSSGqXTtblbAoEgkDwJLyy65f2gfzqJD/vvHx77qzrk0arlbuePAcYr3R7UC6N3LeVydKa99d5f539ty/Had+XGccXZOGEWY3wmDDJB30Zm+a+hKqex8Gl6XPreep70FOrs5O6BeabTm7FYcm3EhQ5V1o/d/ZjqEGoQWkN3yK9kVy/X85EjssVBA0fsW6Bb05/nqJ8/8KdGxu0oLZSeQhsnyzSS845/XhQeKRLT02b0zOD1VsPR+sFvLiuzGngwSDEZj6HUfxO9+cF57EoQAEKUKAbAgxAdwOJq/SzgC4Rm19fgCilVcrRLMzcb2zvbqoajpHKgpZKHMlTsj12Y2pt4QIZ3LC8kxhPh/qiL8dpLYqt+iXMzJZBD/UyENLrucjJVAYq8rFi2nABZ5XBFNUjkBzVjXPlKv4pYDNi76qDqFNyUWY8ydHI/fMqeS9VlOQIdY5A1x/CppNmx2+TTQJRWw7J9W2f1PGJLj00yteNRdSP4lo/yVhU4rSyVB5X/Hwk4p9Yht0nS1ErSW3tgWqLEVWFr8pAbQftuW3bJnWsdCf3XloupYDfC2hin5d8ySPkxY7jJe2maqc7cbj8/Sh/b/XHsM95foezat8mNDLE/pLIKLmgPY4p59zVvW0/PhzHsankoN6/ECtKpQ1u0mrsf2MH1sar0WI8hHnuL847lNl9hhXFJx3Bo/CkET63gHTf64D9tzKw9A5Jb4UhmJj1qNfUahFjYuwvMoxFMjBwhwc9aRstz4VVyvdCLy2hfW16OmCheWI3KqDkdncOQZvlxcleGZzcPllkwPXcsuvpn5Vc5dGyfnvMuA7bf9n2zKD8r4z94rEOY0N59ks46/QCPChsLtamsafdjV4/bk8BClCAAr0vwAB075tyj70goAp/BjkbR0vFoRkV6zOwoqSt/Z8O4zJSZH4LqndkYF5enVurZpsMRHQKK56Yht1t0SDdw5gQqwSty7Bp1Sk0XK+E2GCplnXnbEV1hzL7cBxlH/JAuWjOIenOGYKntq1GgjRTDJ25BStjuqqYWmE0tgazWstiM0lQaoGUrUUJWs7o/qBKHc6FM/pPQLr6WlxrCNa6ArwoaWXW1rTYW2ttTnNO29B/JeORblBAlYhZadLK8fpuJGi2NBmRw0bKJxmLpcdD+xSCKTMTe9b1taUF5srT2Lx0JsY+nOAIVP9kLCbM3YZCey+I1ikoDLMyEzvkzL3Bs+PmFLgpAqFp2ciZHCL353oZtHchjrdFjjUj5O9N5uMK9s2RHkQVLn0AJHJoQZXkAE5/7CWUt5ZcNVIGH1SijTU7sWK/07OBrFub/xLS173jFOxp3ciH4yhb2iq2YqYMNGx/0bwhRYLGkg96w2oky/HNp7IwT15OeZxknItal1uEFbX7s7BIxgZQckjPT2XQyKOb08yGvK04I1xBMc9gfmxnrZ8dG6hiZ2BWpNKa4RBmLjnlYm9/xlp9Wl5/SGtReTHMnPpdyXN5jwVkXJBZMe1PDWi+iLWPxCLyxyMR9pNMnHB+s6xPwfwxPX8LYquT37ujjU5FkxczL8ig5z0uLDegAAUoQAEK9L0Ac0D3vTGP4KOAMihXjowIn5ZbjxMLMmF44wBmh6ugGSmtjZY1IX19Gc6unoDz2SGICNdCZWuGyWiEuVkJ1oRg1vXj6jBx2XM48UvJoVqwHMlFG6DXqWGzNsqAP1KJka6+agl0K9manaeeH0daQS5dJq0QJGC8MBuLo9oqRnpM2bYUhT9fjhKlYhp7UvJgulcyG3FibjLOqIcgVC81WMlH2GBssleWtfHr8MpMBi19/Br5vpm1EnuzT8PRWMWKKnv84wrOZi9DnXJpVWqMnPYcxrk85csgME+nYk+T3p570ia5eh3fR7mOMQuQs+uZjgNr+l5CbtnPAhFZ2VhrzJBgc3tlr6XZ8XfaXhQtkjfs6JuBf7QPYZbsezZTuPTzlefh+k5Ag7gXduBFYxpWVr6DFTNeQvCbzyFOXt5GZ+7AJpO8gC4ow9qpCdiuD0OEXto4y+B8DfJs0KTcINWPtt/rVTKo3PLRKF9wDiXrJyBqh+RhlxysVksjmuVFrlbu9ZLrQsZncD4bH46jvGheIC+alQGGNyyVF82t+9OlSDC6DGNmnEbJqoXYG3kU092iQC2V2zD2RzuhNUiqDYlLWcytzyzyYkl5ac0u811806S3yPYdEviX1s9PSevnrsN1Bkzfth4VU7NQKM9/Y0t3IkrSIqik10ptjXwvJPhsGL8Fr7C1aBfwXOybgPL8vwXVUxdKsLntRXILmt0HF1UPx6Jdq33oHWfEYeld5xzH1qY851T/8K3U3IoCFKAABSjQVwJsAd1XstxvLwhIxTArB5uTlITQl7F5zjKctwcBZUTz9FwUvZWNReNHIFTThNrqi6iok1QdmjCMHL8Amw7lYpZzkCZ0Eva/tQOzksKgV9lgNjfJug9h7MIc5B+a62gpoNa6tSrsyXFsqM3JtHfHVcc8JwFj1wGVoBsvFVNHi257xbRDPugQKcsCjJMAu8V4GXVGKzSGEXh8zX7kvz6eLRl64dvU411Y63H26GmcOKV83pFW7coemlFd0DpPlpV0aOSmgk4izzbJ56m0aLeq9IhK+iVWvHYWpW88g2jm4+vxZfCvDQyYuOskCncuwIR4+S1Rt7VsCoJagmPKb8+ec2eRk2roWetnTQrWHpLfs8mjERsWAu31/coLMvldMkQ+jMeX7UDh20exeGTXIRf/MmNpKNCVgAFTdmXjcXkvq6SwmLnglCOFhkr+3l7OR/5rS/F4/EPQSNCwqlK510sQ2TAcYzNWY9+bSxHntHvdmC2y/gKMjRwCtQSqzZZmWfdhCe6eRP5ySYcl62o0zrl0ZEaPjiMvGRe0vmjOWI+Vsa4/6pqRS7HZ3qLbc9qtoJipeHHaCAQrAdD6esntrpV7xAzseSuvw766UrsVl9fmbsVZaS2gjp+LWddf8nchEZyCnLdOYNO0hxGlaZY8vBdRJTd0XcyjWLRTvhcbE7sRyO7iGFxMgc4ElLSCb+Vj37JfIlnSBGmDWp8bgtTyIkr5HVsng6o7Gth0tovO5ptOrsF26V13fZJ0fYuXs4dUZ16cTwEKUIACN1/gn/6fTDe/GCwBBW6iQMXziJn6JjB5PypfiOnnghix+xdjsbk+DIvOncRs9pnrZ38ejgIUoAAFbgWBhpxUJG8xInlnBXKSvadu6HWPwv9E2Nx3gJQc1L8c3+u75w4pQAEKUIACFKAABSjg7wJsAe3vV4jl6x0BpbVRnaV9MMPWvdospTJytJIDcAhGpUb2zrG4FwpQgAIUoAAF+l3AZqmTQTw7jtRlqX4VKySdF9SJMiZEPwef+12BB6QABShAAQpQgAIUoID/CTAHtP9dE5aoLwRMBVj0yDbUSQdctV6PYLV0wb2eZ1lyAE5ezZxpfeHOfVKAAhSgAAX6ScBaugFjl15UctdAq5Nc/JLBy9ZkhtGsjPKgxVgZj4F5lvvpYvAwFKAABShAAQpQgAIUcBJgAJpfh1tDQBeJsSkjgJp6mGRguDpziz23anDMaIxKk1yCYwxu+Z9vDRaeJQUoQAEKUGCgCGgMKZKf3YYqGaTQYqmXe70y0HCI5Fl+FI9nzMXEKCbiHyjXmudBAQpQgAIUoAAFKBBYAswBHVjXi6WlAAUoQAEKUIACFKAABShAAQpQgAIUoAAFKBAwAswBHTCXigWlAAUoQAEKUIACFKAABShAAQpQgAIUoAAFKBBYAgxAB9b1YmkpQAEKUIACFKAABShAAQpQgAIUoAAFKEABCgSMAAPQAXOpWFAKUIACFKAABShAAQpQgAIUoAAFKEABClCAAoElwAB0YF0vlpYCFKAABShAAQpQgAIUoAAFKEABClCAAhSgQMAIMAAdMJeKBaUABShAAQpQgAIUoAAFKEABClCAAhSgAAUoEFgCDEAH1vViaSlAAQpQgAIUoAAFKEABClCAAhSgAAUoQAEKBIwAA9ABc6lYUApQgAIUoAAFKEABClCAAhSgAAUoQAEKUIACgSXAAHRgXa8BVdryVSNhuC8C6SetAX1eVeuS7OeRdtLidB6VWPHjCJkfi0UlAX16LDwFKEABClDARwEjdv9CuRemYneDj7vwh82sp5Au93nDj59HlXN5GrYiSZn/YAbO2PyhoCwDBShAAQpQgAIUoAAF/FOAAWj/vC4sFQUoQAEKUIACFKAABShAAQpQgAIUoAAFKECBgBcYFPBnwBOggF8KxGDtb2uxUsqm8svysVAUoAAFKEABCtyQQOizKPpwLmxyp+e9/oYkuTEFKEABClCAAhSgwAAXYAvoAX6BeXo3V4AV0pvrz6NTgAIUoAAF+laAwee+9eXeKUABClCAAhSgAAUGggBbQA+Eqxjw52CDpfoU9uQewvkKI8w2FfSG4RiX+RzmJ+tdWxVZa7B33asorLsCU1MTLE3NaAlSQxscguj4SZiVOR7RGncQGxoKD2LPgdMorjNDNoFar0ewPgxxSSl4PC0RoW6RYmvdKWzfcQzF1cpxJLGjWouI2EQ8njkXE8M7HMD9gPJvM/b+Ihlr68Ow6NxJzA5tXcVyDGk/WYMK/VSceHsGbCd3Yk9eGaqMjbCphiBCzmH+8meQoPOwS2ljpZzHdjmP8uvnYbCf9/zMSYj2uI2n/XAeBShAAQpQoL8FrGjIfw3b9xfIvbhJ7mgaBMeOxqysZ+W+6noTtsk9+MUdp+XeaIbF0iT37RYEyX1YJ/fthNQZmJ8egw63PJsZxXmvYt9Jxz21GcqzgR6hhocwcswkTBkTLkd0muzr75T1K+33YMf6sv/Jyv7jEdwdHiU39I+Wo0T7S5z47fOIbtum8D8RNvcdICUHNcs1OJP7Ko4UXUStWZ4ntAbEjZmLtVmJCPb0lro3ytWdsnMdClCAAhSgAAUoQAEK9KMAA9D9iM1DeRao3T8TSfX1UvkLglqtkSpjE8z172DPXKmsbTiJ/an69g0tlThx6h3UybpagwER+iDA1gyT8TIKD8hHKnj73lqPhOu1TBuq1qUh7UC9BKq1CI+KsQeoLcZ61FaeQ11lGayGCmwe2XYICfLmZSJtdRma7OsPx6gYwGquR1XRISwuKUP1rjysHdmdILTn87XPtZbhxUeOodrYAqlVQ6tRw9bUiOqCbXiqvglH3noOcS4VUzPO/GoaFhU0okUdgtioRMSpJXBffxElR9egpKgS29/agnEdauReysBFFKAABShAgX4RaMKJBWOxWe5vctOTd7pyg5OXyMZSua9W18DyxgHMdgpC2+rO2QO2kPuw3hCGKFnd1twEU30Zjqwvw/nKbOTvSnEKQhux9+k0rK2UJwm5R0bHPizBZuXZoAYVRfWoKGlEcFIuxrXdVy2lePHpTOyrb5EX0g8hemSkrN+EBinLifUzcb5oNU6+MQlt7459JWqp34nUn19Gnbz4DlKrIbd6Oe16lBzIRKplB4peTnQNivdTuXw9H25HAQpQgAIUoAAFKEABXwUYgPZVjtv1mkCT0YbkhTswP3UEInRK7dCCqpwspG+R4Oq6l3A+6dcY1Rbv1SVi5WsjpNVUuGvLIWkxdHxBGhYXncamvBlImGlwlM90DC8qwWft6A4BWpulRlolHYTFKdBrq96KdAk+W8OmYt/rz7m0RLZWv4S0Jw7hyOqtmPC2tHTy1HKpuyrNV1CrGYFZO5diVrLBXgG1mQqwaGoWzhqPYU/RXGkh1R7kbsjJlOBzE4LHZ2P/CylO525D7f4MpK0/hxXrUpDgXpntbnm4HgUoQAEKUKDPBCR43Cz3vG1z8VRSJOy3emsdDi+diZVFl7F93WmMk4BvW6tjVeQM7HtzNaKj9G4B2gtY9MtMnCjaiu3VKVgb5Sjk3wdgAAAgAElEQVSwNX8rNknwWR0jgePXJXDsdH+21hVgz44ap95U8rywNEuCzxokr9mPV9IM7cuuP0u8hBUnH0Ze6g2+1ZWX45bIqdj+wgyMCtfZj2MpeR7pc95EXcGrOC6toKdfb2rdj+Xqs+vMHVOAAhSgAAUoQAEKUMCzAHNAe3bh3H4UiF2+HzkzE1uDz8qBdYieuR7zI6V1c7O0diq1tpdGI11XR7oFn5WlKj0mThsBrfxnQ029dO1tnaTlcoPyn4YYxLnVI1W6SExcvgWzY9tWtuKMpN0wIwzzt7kGn5U1NFHPYnGSNF8yv4MTdW3b+Pi/2keR83YuFrcGn5W9qIJTsHhamPxXC2or6tt3bCuV9CQSRNdPwmaX4LN9K0SkS/dlaSTeXFqA8usn7mO5uBkFKEABClCg1wXkvvqa3PPGtAaflf1rwjFlw1Iky221pfIUzpvaD6oKjUGCe/BZWSwvoZ8aEyL/0YjaOsv1DUySlkv6E0EXP7xDSi1NuNxbdz2HUW1B6WpJZVXaDG3KOmx2Dj4re1OeJRZORbjsrUpSebQfob1sPfmvoPhsFP3mOYxrDT4r2+pGPounYuX5BtIyu87ppt2P5erJOXBdClCAAhSgAAUoQAEK9IYAW0D3hiL3cUMCKpWnpsR6JCQZsFaCyQ2ShxlSab0+SQulqvwCnCiRFB1Goz0PtMUquaCV2qcy2Wz2ALR9r5IvUulCW135KlbkaJ1aWTtWdfn/NmlxXSE7UQfBeEpaU3lYxWpWZlphMktQPOoG0nCopCuuh9PW6YdI5+R6WOV8rk91F1Cs/FPXhMIdW1HYoVySNkSZ12yGSaktdytxZYedcAYFKEABClCgfwU0w5EcDhRWXpGUVHLndk6KbKnDmfzTKCytQYNZxnyQXNBWyQXdfqtv+y/ZLFwv984rMB5Yg03Bz+Lx+EgEd3KLbqi4KC+a5fFAXnDvyZY0Hx0mo/0ZokVeYCu31BtqA62k3eiwf8l9rVfmKudz/WkF/VquDmXiDApQgAIUoAAFKEABCvStAAPQfevLvd+AgE6ntGeWcK+lvQW0reEU5s1Yg0KzUvF05IEODQ9DtOSOVjVLSo1SRyuo64cNnoSVCwsknYfkh96SKR8lpWQIIpRtkh7F42PiEdpWO7RIAFfZbctlnMi97LXkNgly98WkBOOVuLTz3m3mRgl5y2Q8Jy2hvR21RYm9c6IABShAAQoEiIAOOq00gZZ8zVZlwN/WZBiWwmVIW3AayjAJyjgJeoPct2PDJIeyBjZ5KVtY7/SSVlbRJC3Fyvh0rCy9iD2SjmuPkmdaL4P0Rg6XAQgfxUSJcrfd6k0ysKEymSX/9J5SL0ytL7O9rOHzIpVKaQGtTO03bX8ol88nxA0pQAEKUIACFKAABSjQhQAD0F0AcbE/CcggQwscwWd90mq8suZRRNsTSbZO1c+jWALQyhBH7ZNK0nkcRWnSBZw5KpVWGWCoVrrqVst61aXnsG/Hw9j+5q8xzrnVsH4qTvzXc+2j2bvsr///YW+JJR91Sg5qXo7v/wLwiBSgAAUoQIE+E3B7c2o5hUX24LMWsQslTUZ6vEvD6IacVAlAO6WpUsqlMmDK64VIKCnAkfwLqKq5jCoZbLhEWjGXFBzC9pilkhv6SZf0HCM3lMsgxx3bJ/fZaXZzx/5arm4Wn6tRgAIUoAAFKEABClDAowBzQHtk4Ux/EGhrDaQLlgTHymS5KJVOJUXGaKzdNsk1+NxFgTWhiZiyfD32/yYfle9XoeLNbDwVqQxH/w5ezK10bC0trnVKoyTLFTQ4pZ3uYtd9vlij1dpzWzcbr8ApRWafH5cHoAAFKEABCvStgEVSWimvWLWtaSmkTXDlBZTLrKD4BTI+hGvw2XtZVAgeOR6LN/4aeW+XoP53xTi7cwFGyg20uXInNpU4At1tvasa5GW0P03+Wi5/MmJZKEABClCAAhSgAAUCV4AB6MC9dgO85HU4W6RUDofYc0HbJ6vV0Vm1k/zJ3U8/oYIuKgUrM0dA6fjbJLkl7fFmlXTVjZIIdEsljuQZHcf0h/8fnigpRqQg9cewr9pbjg1vy/zhRFgGClCAAhSggJOA6ZxjUF+15IKOcsy32WRMB+U/ldRaHrBs9rzJ3ZhUOkQkP4P5Y4bIyjJWhNzrlSlUBipUXuqa8w+i2I9eNvtrubohzVUoQAEKUIACFKAABSjQpQAD0F0ScYW+FrDUyUA/zvVJmxFnlmRhr8SAg2KewVOtlVIEy4CC9ojxO9iTb27PnGizoCrveaTNedMt/Ya0pMpfiDFzXsX5Dk2arSgvqpcqKWAID2nNDanDuIwUqZi2oHpHBubl1TkC09cBbDBVnMKKJ6Zhd11fqzjtXzMCs9JCZMYV7JuTib0VyrBITpNy/vlbkf7YSyjvx2LxUBSgAAUoQIHuCVhRV+9035aNbKZSvDhnJ6pbghCeMQMJrdFmjSEMSr+nltKDOFzn9HCgDEq4bhrSczu2XC5flYr0dQWocrs9SsJolFcrgWctQg2OcSVUsU9iVqS8bG46h3lPb0WxyS2gba3D+Rx5dvhVgct4DN07T9/X8tdy+X5G3JICFKAABShAAQpQgALtAswBzW/DTReoO5CO2DxlkCG9BIJtsEiqiSal+ZN+NLZvmITr6ZlV8ZifORzF6yUVx4JkRK4aAp2mRQYpbEKzVGD1hiEIam50tJy6flbNaCjahlnyUevDECHraFTSEkqC3tXmZgQZfomVGeHX19aMXI39y5qQvr4MZ1dPwPlsZcBCLVTSIstkNMLcrBQsBLP6VU3yWGfuwCZTBlYUlGHt1ARsV85FL9F4WxOUbsR2L/Wj/VyufkXgwShAAQpQIGAFGnFW7ttn5b5t0Ms9taURDcYm+/1aGy9jOsxsvw8jagYWJ53D/KKLWPtIrNzvtPJsoLRgVlpGa2EwqNFkdB2EEDYzSo5moeTAMmjDIhERrJb7ttwfqy9DWVWfshSLR7a1pzZg+q4tMD69EEdqXsNTDx+EPiwMwRqV3FKvoLa1XEFJif2s7a/l6mcGHo4CFKAABShAAQpQYEAKMAA9IC9rIJ2UtHwa/yQimspQXG1EnQR4g7RhGJk0FfOzxiPabXyg0PRc5GlekrzN52SAoUZYlFZNsY9iwrS5mKh5FUm/dG0FrZLBCvdvOIYT+ZWokkBtVWk9WoLU0Epr6rEZT0pAO9FlUCLJw4EIOUZRbAEO7z+Ns5UyaGH1Fan0BkGrU8qViLGpKRjlVFfuF20ZYGniy/mITpU0HAcKUKycS6VUxuVc9IbhGDsyBRPGj0ZcvxSGB6EABShAAQr0RCBE7rnDYasoQ3ndZftLY63cuxImz8Xi9BjoXHYlvZG25UG14yVsP1mGOnMjbNoQRKfMwFOZkxBalI7kLa6DEMZl7cd2wzFJ3XVRng1qUCLjRQSpJa+04WE8lTYX81PDW3s6tR5Il4i1MibE2JMHsU+OoQxYWNG2TcxoSf0l99QxIzymAOnJWfd4XX8tV49PhBtQgAIUoAAFKEABClDAVeCf/p9MRKEABShAAQpQgAIUoAAFKEABClCAAhSgAAUoQAEK9LYAc0D3tij3RwEKUIACFKAABShAAQpQgAIUoAAFKEABClCAAnYBBqD5RaAABShAAQpQgAIUoAAFKEABClCAAhSgAAUoQIE+EWAAuk9YuVMKUIACFKAABShAAQpQgAIUoAAFKEABClCAAhRgAJrfAQpQgAIUoAAFKEABClCAAhSgAAUoQAEKUIACFOgTAQag+4SVO6UABShAAQpQgAIUoAAFKEABClCAAhSgAAUoQAEGoPkdoAAFKEABClCAAhSgAAUoQAEKUIACFKAABShAgT4RYAC6T1i5UwpQgAIUoAAFKEABClCAAhSgAAUoQAEKUIACFGAAmt8BClCAAhSgAAUoQAEKUIACFKAABShAAQpQgAIU6BMBBqD7hJU7pQAFKEABClCAAhSgAAUoQAEKUIACFKAABShAAQag+R2gAAUoQAEKUIACFKAABShAAQpQgAIUoAAFKECBPhFgALpPWLlTClCAAhSgAAUoQAEKUIACFKAABShAAQpQgAIUYACa3wEKUIACFKAABShAAQpQgAIUoAAFKEABClCAAhToEwEGoPuElTulAAUoQAEKUIACFKAABShAAQpQgAIUoAAFKEABBqD5HaAABShAAQpQgAIUoAAFKEABClCAAhSgAAUoQIE+EWAAuk9YuVMKUIACFKAABShAAQpQgAIUoAAFKEABClCAAhRgAJrfAQpQgAIUoAAFKEABClCAAhSgAAUoQAEKUIACFOgTAQag+4SVO6UABShAAQpQgAIUoAAFKEABClCAAhSgAAUoQAEGoPkdoAAFKEABClCAAhSgAAUoQAEKUIACFKAABShAgT4RYAC6T1i5UwpQgAIUoAAFKEABClCAAhSgAAUoQAEKUIACFGAAmt8BClCAAhSgAAUoQAEKUIACFKAABShAAQpQgAIU6BMBBqD7hJU7pQAFKEABClCAAhSgAAUoQAEKUIACFKAABShAgUEkoMDNFfg7LEYTdpeZUHz1C5i++Aa2QbdBc4cKwfdoEH3f9zEq4l+QcM/tN7eY+DtMxkYcvvQJio1WmJptsEIp550IHTIYoyKDMe6h7yH4ZhfzJisN5MNXrUvChANarHjnKKYHezrTGrz4szTsM3ta5jYvfh2qXx8PTTdW5Sp+JNDwKsaM3oY6r0UKway38rE43OtKXSy0onhVKp462gjEyHflDX5XugDjYr8X+BpVlz7C3ksWVDXKvf7rf0A1aBA06m8j9F7HvX7cAzpEqL/Vf2di/B2G516FpSdHHPxDnFryAKJ7sE3Du6VIfNuKiLE/Q8GIb/dgS67qImA1ojj/NM4WVaKq7gpMTc1oCVJDGxyC6PjxmJUxCdE6z2aW6mPYk3sK5yvqYW5uQZBai+Dw4ZgwbS6mJxug8rxZ+1zrKaT/aDmqxuegZmN8V2tzOQU6Fej6WbJ9U5vpAvZmv4oTlfUwNinf2yGIiE3EU5nPYlx4l99aj2WwmUpxOPcQTpTWoMHs+BvSGyIRlzoV89PiEezbbj0eizMpQAEKUIAC7gIMQLuL8N/9KPA3nPlNJbIufQmbHFUlwdzge6Vy9s01WD7/CrVG5fMpDr/9B0yf8zBWDe3Hojkf6qvPsTevChs//MpeTkhwPFSnQbC9nF+i6kPlY8LGMxrMnh6PJTernDeJ55Y4rK0GZ0slGAitl9MNgl4fAoO3h3dbM0zmJrR42QsXBYKAGnqDtpOghR76oBs7B1NeFuYpwWdOFBgIAs2f4YWDVdj78Tf2s9HcfRci7v0WbF/bYPrcinLlUysvot++Fwee/z9I6K9zVl4g6+7q8CLQKvd1ixRVJeUMvtOtMBIw9/YT319FvxWPU7UjA08daP1dDNI6foNtTdI44DIKlc/JAqx48wCmhzrr2FCbk4G0LRfRHDQEUSNTMEqvhtVcg/KSc9hceQFHxm/ByY2J6CR2bd+Zpegcqm5FdJ5z7wp061nScUhb3atIe2IbqpuBIG0YomLUsJnrUV10CPNLyqQRQx5WxvasGYO14iWkPX0IdS3yvBqTiIlJ8kxrNaO2tAwn1pfhzMmp2P/Gc4jr2W5714h7owAFKECBAS3AAPSAvrz+fXK1715yBJ/v1mHJYw9i+v3OFbtrMF39M85fuiItpr66eSdy7X+xe285Nn78D0DKOXt8BGY/cLdThdXRMnrvu3/A4Q+lVZc8KHIaKAI2WExGmOou40TuThwxdnVe4Zj+Rj6me1nNlDcNSauboNXqGcTw4uT3i/SP4pW3n+tRK8junpNSQUxfVwabWqLY0lKPEwUCW+BvOCwvcJXgs+YHP0T2Y/dhlHOPpmtf2180H3/vCg5f7eczHfJvOLrw39wOeg1n9hYh80Mgblw8DkT2Y4vsfj79wDucFrGTn8RTaaOREK67fg9VWnRuWpCJfTUXsWlLASbuSml/RqvbinlK8Fn7MDa9uQUTnZt3mgowb2oWzp5ahheTCvFKsmvUzSaBOZPZiNqSY9i+owzK45068NBY4psu0NNnSaXARuxdslOCz0GIyjiA/VmRrd9peaGyX16orL+Ifat3Yuxb8hzS3TditlK8uEAJPg/BhJ152Jzs9MrFZsThOWlYWXoIi7JTUPRCJJ9Rb/r3hgWgAAUoMDAFGIAemNc1AM7qcxyvsEqL4kEYN34YZt/vXsm7HcFD/wXT5TPlp5+j4SZ9U2vfu9wafL4XufP/D0Z1qH18C8GGH2CVYQimf/AHFHdYHgCXgkX0LGA6hpkPb0C156U9nysP/9t3XJQuww9JV+EYPtz3XHDgbyEBkUVSQTRqJFiSpcGmpafRNPDPmmc4kAU+k9RVRmlOPEiHVU8+0PEeevsdiLj/X7FKPrOvfu7oZTSQPXhuPgtELz+KPA9bq4LjsTgzBcdnnEazsR4mpCCidb3a/DIJ5UnfpaQnXYPPyvLgFMyf/BrObqlHeWk9kBzjsveqdal4/BRbFXgg56yeCPjyLCkpY47UywtowwysvR58Vg6qQkT6eszPT8bamtM4UvEsokd2MwJdfQHFygNF2CTMcg4+23drwJTM0dhe+ibM0ivAhEi4dCToyflyXQpQgAIUoIAXgZsU1vNSIi66NQSuSddb+3O95HrWuQefXQlUgwdfr0zYlzT/EZPXvY9yJRfjvH+FpaLBkVfy82tSyb0T0Q+EYMnYf0W0W9fZhpoP8PKlv6LW8hUszddgVbrYKuk0hn4P42L/HdMfcOtae+0z7C2zygEHYdS4/+hYcXYppgSiHwjDFGXeZ/8fUrb+HrV3SHfi5dKd2ENeaJuxBiNyTbD+IAIX5obAY0phVwb+q78FdIlY+VqI5PpWpis4snQDCm8gGtiwfxvOyPba8XMxhU/2/X01/f940jV305xlKLSGYdYb0lLPtgab/L/ULCEFvAt8IfdbZQ0lxVYXL2h1Qwd73Je18WO8XHS1dZwI6Y0k9+0Iw/cxJek+TBzi4QaLa6i99CFeLvsU5XK/t8o9XCdpsxIMt6PqvU/RoAtFwcIw1+cKj0fubObXKC//A3ZXSD7r1v0H6wYjQZ4jfhU32GsqB/c9mmr+B5PzPoXpju9ilbyYnD7E+/OQ+/b8t0PA1qw0aJBUBZIGy9PzlE3yRSv38s4yC6hUHYN4ERk7sG+MPfEarKXbMP+ABKk5UaCnAj48SzZUXIQynIg+PtHD75QeCUlhEoCuR3GRfCdHRnazRC2OF3xNZljkax3a4SuvcjSMkPQ2HRZ18whcjQIUoAAFKNCVwG1drcDlFOgTgdsl8GyvjH6J4kv/61urp+ZPkbWlFBlvmySH5N+hkdcptq+/RPml9zF51wcod8vcYfrgKs58+FeYvroNOmXQox9oEHrnNTQo+ZsPlWJa2Reup/rxpyhWZt0tLbEjPFVyO5G5JxjTDfKn9fWn2Hv5aw8rXcP5sj9JpXwQEkYEe6wsediIs/pbQKWXliXxSLB/Im9sYBbrBWzPrbe3fp6fGc+H+/6+ln5/PAvOL8nEnnoVRr6wA4ujWP3z+0vGAnZPYPDdjnvcFxacMcpL4h5Nf0dDeSUSX7mMvTIGg+qe72HUQzrESc/xhtqPkLXrPSz/vfs+ZWyJI6VI+c1HOP+JDarBGkQMlvu35S+S5kOCzz06voeVJS3X3txiTD4tAXGJrAcP1SFh6Ldhs1hw+PRvkbL3j2hwL5KH3SizLB/UMPjciU1PZlvrTmFF9jtyfw3D/Cyn9Buyk9Ck4dDL/zYXrcGivLrWF8ptezdLAE9pHx2CUWM6BvE0oTGt9395BojyNv5DT0rLdW85gR4/S9rQUOPI+RYsvSs9TcGGEChDTTQZjW7faU9rt84LT0SCUu9qOo0VSwrQ4Hi30rrQhirpLWCWvUaljmC9xAsjF1GAAhSgwI0JsAX0jflxa58FBmOKDJ5xWEaGry3+LRI/HoIpw76PaAkMR+i+DU134r3fSMsq9b1Y9bi0PDY4Wi/bpLtv1qEqnLF8hOXvBuPC6H++XsLQEdE4mvQ9xDnnn5SlVuMHmLz3I5QXfYjzsZJmo/XYpkarveWWash30ZP4szTPwqiffB8a4ycoLv8EpmFuLXI+b5TKtDS/vntozwLbPltzw5stUJu7FWelxb9+8rPSDfhml4bHv2EB8yFMuO+QYzdBamiDwxAd/6ikVhmPaG8jWXk8sDJIVibmFVhhmJaLV1KVcAknCgwQgcH3Ysp9H8pAvV/h8N5i1EYGY+J9ck9V7vX33OH1ZZztaj2mnbbAeu8PcWD6A47gSSuL9arct3M/kqBvPSY++x+Ibrtvl1Uh67IEq3X3IntqJMbd09aiWMZr+OB9TDtkuoEg9N9R9fYlvCApRTSG+3Fg6r+197T66s/YuPd/sPvD95FZ9B0UOD17eLqSynPHtDyTtHz+DpZMZ8tnT0be5llLXsLM3BoZP+0KGqSpaGjSVGx/7VmMc2vWqYp6DjnLGpEuA6wVrp6A+AMjMHHaVEyI18OUm4lNNSpELVwvL/28HY3LKNCfAlL3sCjjPwRBo/XcZl+lUdtb8zc1XZF0GfDQStpDeTWJWLtrBkxzXkN1QRaSS19DctpUPD5+BHQ1GzDvwBVo41djc5rBw8acRQEKUIACFOgdAQage8eRe/FBIPSnw7DjcxmIUHJBm4zSClk+jklaKEt32WjpYjtuWDBGDe2kkioB3Nz5/4E4p2Or7hmC7LEWlO+TSmbtJ6iVSmBbLkAlp7Sn2J/GEIop90rA+mOrdKcFRrU2OLBKmg5lUqlVnXbb7Oy0NfeFYNzgT3D44z9ib2MIVjk1Yqgtv4IqiT+HSmA6rjuB9s4OwvmBIWA5hU15V6QuMVxaPzP3c2BcNC+lVALOOi10WkcF0CoVwAbjRRQqn5PSsuiNXEwP734LZmvJGszcchmqmNXIWR7T498aLyXlIgr4gcAdmJj2IzTIi+HdRmlld6nB/rFPgwYh+N7BiDPci4lxQxA32Dn9hAwGKGk3TPIXsSTNNfisbKoZGoYlESZMuywDGH4iAeihMvPan/Hyu3+VHlV3YXaac/BZ2ULSZA39jqTHuIEA9FefYrcyKPKg70qZnILPyu7v/J4MpnwfirfWorbiIxQnRXpMv6Wsag+sy0vvWnwHsyX4PHso024oLj2ZbOZ6VFRebt1EDZu1GZamJthC3Qf4VXLm7kBOUxrSpBdSs7FMBm+Tj31LtQSf9yNvZrjXFyE9KRfXpcCNC0i6mNbWyZ5Sw9j3Lylj7E8ZNluPepBqYp/F/m1WpM55E8bmehTmLpePo8Ta+HXIe308cz/f+AXkHihAAQpQwIsAA9BecLiorwW+jVHj41H2k89wvvZTnJf0GLWffQHTF/+Qt/9/xXnlU/EHhD4UiQOPD+kYPL79No+VBpUEruMGmaQVtLSulrpihFMuaOtnf8KZCkmt8YkVDZ/LyNQSZLZ984/WBzj5XwkM98p0+2BMb23hfea9z6Rieo+jrFJB3nvpS3sFdvqIu3vlUNyJPwvYUL5jJ0qU1s/TpHVWj1vH+vO53YJlC30GJ99/psPvjs0kA0wuzcKeyotYu+QgEv7vM92rxDUcxMwFp2HWP4p9uyZ1b5tbkJ2nHOACSnA242eYcvVTnKn5E8qvyr35ky9h+eYbmD624Ljyee8PSBg7DLlx/3z9XllsVPI934aGS/XY6IHA+rky8xpMyvgPQ+Vt7ieybyVt1r3Syrovcil/IjmflaxaPxjieUyIe3QYdy/k3P4szxiQ1BzuhZZnjMYrEnyWILwE1qdL8HmJUm5OPRbQpR2AMU3ib1YLGqrPYfvqrVg79QJKNpzEfpdeJGZJb5SBeTKYYNyyE9g8RoXaIhngLe8ciuubUL0lHanm9ch5IbHjM2aPS8UNKODPApLaI28h0la/A1XKOhS+MAK2inM4cvQYzpReQVPpcqQ+dgU5u561pzniRAEKUIACFOgLAQag+0KV++yRgOaeezBR+fzUsZntq7+h4apU4C59hN2XJVB8uQaZ0nLp1Ihvd2+/kl9ap+Q5kwCzVaks2gPQ11B+phIZ7/3Vni9NJQMiherukpQfsq4sb/j9J6hySwGtUTsqhrZm2Y9s47kjXOdFCh02FHFFMlii5J4+P/YejJPjWGuv4LwcR/OQtJDuYkCmzvfMJQEjIKOfbzrZKA2tRmB+RmSHwGXAnAcLel3AU9tmVXA8Fm9bitqfLUdJ/Wmcb3gGs7scaNKGM1u2ogIPYcVrq5HQ0x8YXhMKBJSA0gJ5iLT2lU9ruW3N/4sqo+RmLmuQIPRXKD5dhZeH/hRLlB5DMnihSXkh/M1fcbz4r17P1PbN32X57bB97hjwUNWWd9rrVj1faG19FlANlucGj5srAy3K+A+Se9piH2TZdbJd/SMy3pV0X1/fhrhHh2GVDIrI6cYEVBodIkY+iVd2mTHmkUMoWbcTxWPWI6H1h7ph/0IJPl+Bbvx+5KQ7WjonpD2HhLRnYSo5iEVLt6HiaCbSNSeQn8WW0Dd2Nbh17whI76rW769NWjgrg7V3mNpaPre1hO6wQscZtuqtmCnB5ybDDJzdKC2dld0mP4m18lnZcAGbli7DvprXkD5Hi6LfPMkXMh0JOYcCFKAABXpBgAHoXkDkLnpXQHXntxFxv/KRLrnqUox/70tU1VpgGfGvnVT6Ojt++xib1t//DplK8FnyLU5/LBK/euBup4DyNRzP7RiA1umUdWSbxr+g9toPep4uQz1EcjzXo/yyBXtr/oZxkivkTJnks5SI+PQRuh4HtDs7S873VwErirMl156k8jOkL8BEzxELfy08y9VTAV0kIiTHT4mxCUbJSdp1c2apWCp1y+bLWDs6Gms7O17lckTdt1xSuIzA9ku5GOehLtrZppxPAX8WUC1yREIAACAASURBVKn/GXGRyuf7iNj5X3jh4y9xvuZ/JQDdPnYDBv8Qp5Y8gGh/PpFulq3h8kdoGKT03PqHjDlRi+P3/wgTB3dzY67mVUAVPgLR6kP2tAK1ks0twf4CsA4njl5GC6TFepp7+isZCHvkM8hZU4/4uedgPHkMVVnPu6R083pALqRAnwloJA2hMsRgC5SXXp4C0DZrk2PwQW1It+tFVXmnoQxtGD55EiLcniNUoYlYucvxEr2iRnoI1D2JxeF9doLcMQUoQAEK3MICDEDfwhff/0/9W5IHWgOVBKBtX12zP2x1K4b31VdoUFofDZIKRmuWi1oJAisDCkYkRWPVA91rSa2k8ki4Q1J5fPEn7K69XyrJd/SQ7HYkSF7L4MtXUfXeVdRKd9y9H0uX4nuHYgpzPvbQMgBXb5DWzwVN0vr5YWn9zCf5ALyCPSxys5KOUSbJzdit1szy+xSTiGRVa7JH96NZ6lFc04gWdRhGxg6BKiiGLZLcjfjvASLwbUQPkYjIx0qvJblHKtPd0spYeUJt/hINkkor2imVVmcnrZJeS0pcxfq1o9dSt54XOtuZh/ma1vEgLNLSWhmxouOYEjK/WSn/nY5eWG77UA0Oxo6M+6F6txzTJBVY1t4a6KRnTAJ7Q3nQ7uEsW0vr768N7Y3Pm2BSLpS87peU/R4nTXikvCs8h2oJ6Fk8x/o8bseZFOg7ARVCI2Uw4iIZYLBOxg9BZIdDmYzybCBztQZ99+pFUoMyNTn+MjQygKHHSWeQQeCBCrPkU1cqXJwoQAEKUIACfSDQ3kS0D3bOXVKgU4HmP2Fv2Z/tQWFvU63kilTqBBppjdyxsud5S4s0fymXrrtKADm6tYer9ZqjUqu501OX17/D5hhv0HWHt+swfdhdMu8bFJ95H2fs+SY7n0wf1OPwVdflKkOIDHAo8ywmZMqI9w24DQkjgrtuHNn5YbgkIAQskl7hNWl/Ja1N0uZiXLcCkgFxYixkJwK26gKcV1o+qx/CyG4NIq9C9Mwtkm/x154/Wa0DEoZPle7lss7LTyKarZ870edsfxWwGa9g4+//1sVAWX9DbaNyE74NoUNbI823f1dyKMsj6jd/xuEKt/xYnZ2s7juIUILWkmu6XILWnqZOXvd4WrXjvHt1iFb2/0kjznt6HlDGmPhElt/xPSQo9323KfQn/45Rg+9AwvgYZCtNEOW5IONgPao8PX+4b3zL/1sGW/Ny8awVF1CuROTkhV3U9YdFLYLt/21ERY3np01lMEN7jFqnRzB/X2/5b5m/AITGjoCEoGEuvSCDlbpPZhQX1ctMNeJksNPuTRoEa7X2VWtLajz/HlvNMNn/TIYgXDk4JwpQgAIUoEAfCDAA3Qeo3GU3BL75CmfOlmPElkq8UP4ZapuVHI5O07W/obzsfyRn85fSklmDKT/VdcyCJi2daz9zrblZjPXIPGORh6s7Jaf0kOstAyKGOppCV0muySqniqkyKOHug7+Vrr+eyiwtsH/+H5iukz+TLz5F5s7/xgvSPdi1YcDfYbraiI0H30XKoSso75D38W5MjP2ulF0G/1Ca19wtaTke6mlLak9l4zx/FrBVv4btRfJlUI9m62d/vlA9KpsZe58Yg5nZp1De4PorYKk+iHkLDkGJPxvSnumQz7l8yUgY7ouA4ecveahM9qgQXJkCgSXQLCmo9hUjMfd32PvB5zC5BVttzZ/j+G/kOUDpHSQthH91/f54B8YlKPfwf6CqqBKZ5R7uvcaPsTz3v7Fb0uzbJ/X3MdGgBK0t2HjqYzRcP9bfYbkq6yrB3hvRu/P7mB0rAXLJS/3yEdmXc5C7+c94Ie8P9r/v0NgfIsHTu+7rx/42JqYNx5If3Abbxw2YduiP8nKak1cB2wXM+1kq5uUUoMrk/Ptrk1zOr2Lm0tOQ/kby+zvjev5nef2LCZMfQpC0FS3JXo7DdW4RbGslNq0rkO2CEDVt0oBI8+LVkAsDRyBqEh4Pk+IaD2JFdo1TvcOG2v3LsL1GlsngxU/Fur01kXFHUh+UZ437opCe7/qcEp02Gsq78eaCNViUb3YLQltwft1WFMpLHHX8JIzrboufwBFlSSlAAQpQwE8EmILDTy7ELVeMQYOgkTiszSKV09PKR1os360M4CNdaL9RRrX/ClZlAKJBd2HiY8MkJ+S3OhJ9/SmWbz2PjYPvklQb34LtCxm88HP7RhI4Vgb4ad8meNj9mPjeRRz/pAHj1/wRusFynGtScflCKr133IVQiU83eGpkdfv3sCpjGHCwStJn/AV788qw9zfSdV4GIdLIwIZKV1yLckhlkvzSER7yOeoiQzDq7b/gjAyIGBrZVcW042lyzk0SkMrp3uzTcNRZraiytwy5grPZy1CnPPOr1Bg57TmM6zDYnAXHs49Jm6sghGfMxSi2fr5JF7APDmu9gsLc5fZPkFprz9NoszSitWcrtPGr8Uqmp8EmWwMf8j9eGvH1QYG5SwrcZIE7JCWNBJFNxqt4QflIK2fdYElRcYfcs7/+m9zrv7H/TagGfx/rnopwGWtBc/+DODDWhmlnpUfJ6TKcf/suREiqDtW1b6Sl3hcw2dN13HV9UEO5CWPi2Agc3yWD/16+jMTaWvszhU1eVlvk/quStB4a6dHke+9y5aW0PFt8Ui7nIs8S60yIuPcu2ae8YP7kS/uzgO6+B5Gb5JTDujP+2/8Zs6cPg2nXJRz+8H1Mk+eKU4/9Sze703e20wE+31qPs1uy5CMp8WWMDZ2kC7CaGtGstHyWSfn9zcl0HUgwNH0L1lZOw4qiMqx8ZCT2xUuuaL2kIGiS8TlKLsPcEgTD+PV4Jb1jt5WG/Jewr0RSKyk7l5bSytRceQiLlpyz/7cq/FEsTm/tqWKfw4kCHgR8epY0YPrGBSh8bBuqc9MQczIMEXp53pDvYV2TfOGDQvD4hrkeekXJt9X+99D6R+FUHFXUs3hlWT3S11/E2QVjUJ4Tg7ioIdDYmlBbWoZq2a86THpcbRjP3yEPl5GzKEABClCgdwQYgO4dR+6lpwLqH+DA8u+hvPZTnP/gTyiXwYdMzZK7WUa+hwSndYO/i3H3BWO6tGKOVnsIPivHu1taI/1UhdpLn6JKKn9WCTyHGu7FxIQwTJdBDF3aBdx5D7LnxCH0TC321lolcPwPaAZrpIVViOzju6g9dAFZngLQynHU92DV3Icx5QMT9l76kxxLcql9Lp9vboPm7rsQN1S620YGY6JEn3WeWj1JLmqN0qv4m+9gyohuVEx7asn1+0ZAqewePY1ql703o7qgbZ5UYpM6BqBtFduwvVIe/rVSOU3rWKntm8Jyr30voMfEjTuAkwUorKhHg9kMs7HFHog2xAzHqNQZmJUazsFF+/5C8AgBJKC6PxIXlw+15zM/8+FfJdWGBI4/l2CtnINKGafhB99D3LChmD3sHgR3uH9+CxEjYnDB0IjD78l4DMbPUXtVxoRQgthqDRIe+D7GDZMB5oY4gdzzrzgwX4WXz/xB1leOZZN7/Xcw7qf/jl9FfIWsre+jSoLiPr8XlMDx9IwERJT9Abvtzx5/sT97BEs0dEqsHCNOngO6e33kuWTd9Adh2XkZ5y9VYdrdcTg6erDvZevucQNxPVUi1v5mB2Ll97ekWgYalJFer//+Rsnvr7R8njXG0++v/G7vOonowmPYc+Acyqsv4ESp8rs9RFqqSwvSaXMxZaS+Yw87MbKUnMaRU27d2sxlOHGqFdAYhlkMQAfit6l/y+zjs6Qq/BnkvWXA9h2v4kxpPaprHN/b8KREzMqU1G7hPf0VUyEi/QCKYk9hT85pnK+swfmjZWgJUkMvg3g+nvkk5stgnd3+/epfRR6NAhSgAAUGiMA//T+ZBsi58DRuFYHmP2LyOmnhNPiHOLXkAb/vNmmt+R+MyPtURkCMRtmT0trgVrlOPE8KUIACFKCAvwgYf4fhuVeB2DhcHP89fykVy0EBClCAAhSgAAUoQIFbQoA5oG+Jy8yTvHkCf8PxMou0kFJh3IjvM/h88y4Ej0wBClCAAgNdQMaPqG38ukOqG1vzZ3jhjElaXt+JUcO+M9AVeH4UoAAFKEABClCAAhTwOwGm4PC7SzLwC/TDpfk3dJIfLX/QZfsb3d8NFcbLxh9tGAPb1SuSO1ryVOqCMaU1J7Wn8irrcqIABShAAQoMFAFP97q+PDf7ffTzRmS98nsZDFBSZEmu6eA7JK+HDHqsDAKspO4IjX0QS4Y60nr1d/m6c+58FuiOEtehAAUoQAEKUIACFAhEAabgCMSrdquXOWBScFzD+YPvIKP2H4h79Gc4GiejLnKiAAUoQAEKUKBvBL76M3afasCZj2WchuZrMpjxP6CSnM/BQ76LUbH3YXbk3eyJ1Dfy3CsFKEABClCAAhSgAAW8CjAA7ZWHCylAAQpQgAIUoAAFKEABClCAAhSgAAUoQAEKUMBXAeaA9lWO21GAAhSgAAUoQAEKUIACFKAABShAAQpQgAIUoIBXAQagvfJwIQUoQAEKUIACFKAABShAAQpQgAIUoAAFKEABCvgqwAC0r3LcjgIUoAAFKEABClCAAhSgAAUoQAEKUIACFKAABbwKMADtlYcLKUABClCAAhSgAAUoQAEKUIACFKAABShAAQpQwFcBBqB9leN2FKAABShAAQpQgAIUoAAFKEABClCAAhSgAAUo4FWAAWivPFxIAQpQgAIUoAAFKEABClCAAhSgAAUoQAEKUIACvgowAO2rHLejAAUoQAEKUIACFKAABShAAQpQgAIUoAAFKEABrwIMQHvl4UIKUIACFKAABShAAQpQgAIUoAAFKEABClCAAhTwVYABaF/luB0FKEABClCAAhSgAAUoQAEKUIACFKAABShAAQp4FWAA2isPF1KAAhSgAAUoQAEKUIACFKAABShAAQpQgAIUoICvAgxA+yrH7ShAAQpQgAIUoAAFKEABClCAAhSgAAUoQAEKUMCrAAPQXnm4kAIUoAAFKEABClCAAhSgAAUoQAEKUIACFKAABXwVYADaVzluRwEKUIACFKAABShAAQpQgAIUoAAFKEABClCAAl4FGID2ysOFFKAABShAAQpQgAIUoAAFKEABClCAAhSgAAUo4KsAA9C+ynE7ClCAAhSgAAUoQAEKUIACFKAABShAAQpQgAIU8CrAALRXHi6kAAUoQAEKUIACFKAABShAAQpQgAIUoAAFKEABXwUYgPZVjttRgAIUoAAFKEABClCAAhSgAAUoQAEKUIACFKCAVwEGoL3ycCEFKEABClCAAhSgAAUoQAEKUIACFKAABShAAQr4KjDI1w25HQVuVMBS/t8Yfvovjt3cocOOhTEYp+6419pz7yKl+EvEPZaIo8PuuL5C2/aqh4bj94/f02HDhnffReLbX3aY723G9X19fgXjN9ai6o5gHHg+EgmeNmr+EzJ3XcKZz29DdEIcjo4eDJWn9ThvQAhUrUvChANarHjnKKYHd3ZKFtQWnsOJ/DKU19TDZGlCc0sQ1Fo9ImISMWHmDEwM13je2FqHMzt2Yl/RRdSam9ESpIUhfDgmZDyL6cl6frc8q/XvXKsRxfmncbaoElV1V2BqUq6TGtrgEETHj8esjEmI1t1gkaynkP6j5agan4OajfE3uDNuToGbLfB3nD94Hhm1/5CCDEJCWgIORLbfx11Kd+0zZG28iONfKHM1WPJsPGZ3vLXf7BPi8f1EwFayEDEzziF6Wzn2j+nkvupSVrk/5x/CvpNyf64zwtLUYv/9Nvz/7N0PXFR1vj/+1zVkpGSKjbGE0XJmU5h2Bb6m8N1U3FR+lfK4aXQLuWqxLWY+SCtLN8pWy9LSrLxlsS1mXtSKxPtFrS9iNwT3Ai4XYWtEuwOmA6aDYoOGo9j39z4D6DAMwx/5M8DrPC53c845n/M5zzNwznmf93l/YpORlRTS8l7J3/3MrZ9gi3JuLqtAVc1FePsGIHrVdrw5tS3bbblpzqEABShAAQpQgAL9SYAB6P50tD15Xy9YsPqbakRFd14QVzVoMPTNgkF1sFhssGIANH4+UDv9Bqj8rmubUu1prEgpsgef9eFjsInB57a59dalbMXYmVMpvfd3vwd7VmHmgi9x0b6UBCYDR0CjssFiLkf+7o/kZwf2rNuKD6cFNm3HWoBX/iUBG8tkTbmxDR4XBJW1HMbiL/HmglzsefZjbJ0XzCC0e/0un1u0PgGPbVK+BzLJA4JAnT9UtiqYy0qwR/nZvhsvfrYJ8fqOd8WS9SWKOr4616SABwvUITvrKIwhQTC46KWl5Cgy7MFnThRoTcCKvF0HUNPaYo3zzXvx4pMvYEtp/Rre/gHQ6gCrpVIeFFtbbMWy7y3Me/ojHLSv5i3n9EDoNDVyTq+Cpc0bb7F5zujjAtZdCQh9OrftexmyFPs+n4MWcxxctWSrQPb2v2DL9gMoanhAIk9I5PokCGETH5YH4/fDwOckruT4GQUoQAEK9IAAA9A9gM5NNhXQj9ZCYzQjL/97ZEwahxgXWdAdMdNG3IW9Ec5rSobVnyXD6oIa8xPuRryf8/w2/PvST0jZ/HeknPgF2tFh2DRjiORqcep7AkrguAzmQyX4Ivk9bClrwx6qVNBPmI1Zcx9GdLgO6saUeMmgyliZiOfSy7Fn5XvIm/IaIq6ky9tQtP4Fe/DZd9xSbP3rHBga5lkPvoXYf5Wb3/XLkTrNXeZ1G/rGRTpBwB/hj8zBY7H3ITJYc+WBgM2cgzeeTsTG4gN4Y+1uxLx/f7v+JtisFTBXlMG471O8sz7XHlTppD+DnbDPbIICnSEwAFq/ARLsM2PDYT3Wjxro1KicV7+xwDbIB9q6WpjrOmObbKOvCVgtck4uK0Xe9o/wTnpV23bPmoPnZifiiwp5hDzhabz6wsOI0jdetcl5XpISXE22g68j9snNKLvoi9C5L+PVRMdAnhUWK6/8XLnxs24UsOyV7/az+EJJXnCcLtagovSA/Wfn9k/x4l+TER/MdzS78chwUxSgAAUo0IIAA9AtwPDjbhTwG45F4afxyH4L3s46jegZN3twpufPyNh6ACvK6qAe+RtsekiyaLqRipvqRgHzp5h3zyocbM8mJ76GXRNdrKDWITppgZTmWIx9VWUwWYCIxi+OrUBeCVayakdj4aqrwWelFXXoM3gzdi+mbyrBxk3FiHf3mrCLzfKjzhUIS9qGrS6aVGkn4HkJTqQ9vgM1EhwxQwIVLpZr6aOilTMxK53pdC358PO+IDAQEXdrYdxpQmaWZJ2Ouq3JudN2+CjS5O+iIXIEDIXGhjIcfWG/uQ+dJ3AIH8x+EB+05WHwlY1akb0sqT74PGUNdsnDwaYvxqmg0bgIzMlbT28srQ8+hy/fio9jdU7XpWpoGH/uvEPbZ1uSEmze3nD9iEN2+qKUgenwvlcg9Wnn4LNk6furYauS8m+N7VYdwKtPvg7DV392SHzo8Ea5IgUoQAEKUOCaBBiAviY+rtw5AgMQMekORBaWILvwCNIm/W/EdSQzuXM646aVS8hLL8Biow3qYaOwafZt0DsncblZm7N6mYBmMl76aISUa1GmcmxZugp72phw5XJPbTWwKncavoHQOt4BH9yLPOVOIWgyIl08zTBMG4vATeWoyC+ACSG4huoOLrvFDztHwFZjtd9kekvZFReH0e1GDAnrsXFa/S2qNWcdFm4qdbs8Z1KgVwoE3I75hh+QaDQh5ZgWy4Y3lry6gLTsSlhkLIhl49XIK3Szd7XVSMsyIdV4GsZqSZMeJG+dDNcgRq4h4nTXN394XVONVFk+7chZWV5+x2R5pfyWPuBmeUvldsQMd6pHfelnZMvbWCmFp1FkqZW//16yvBqR4XosGj+k+e92e9t3s2uc1ZqADrNWfYhw+0n5IvKTn8UHBa2E78w78E6WnLh9x+Ol5c7B55a3Z836C9Ik0O0dskAeAjsHn1tej3Mo4CignvZvKJ7WkkkF0v51Jp4vuPrwWRc+1ukBSUvryucH/9L0+y/f8Vc+W484vTxQseTgxdnzrr65VyG/B7sWIGJms7qEbjbAWRSgAAUoQIHOFxjQ+U2yRQp0QMB3GJaE3wDUnbFnQbeYLdCBpjtnlcswflOAhHwZ1FAzHMnxv0YYg8+dQ+upragCpX7eBETaf0KgdZEk1eauW4qRsvQ9yab2RfjiBYh0aMtSVg4lru0tBSldBi4DZdvKhiSz1uR5vxhtJujLC1oPpePFNV/LgFZBWLi4feU3FBe1flzD90y+a6Gt1Bnvy5Dctz4uMAhRk5S3hmoliHwSkvBcP1UeRUqZlLQKuQNR7mrPnDqOhLV/w+L9J2G8pIJhpAZhUtbDdMSMFck5eETGkWjyJ7Jaln/nb0jKPykP73wQYbgFEQHyx7f6rDzsNmFxxgl5W8FhqjmFFe9nY+5OM4ouqBA2ciiiR0qma+1ZpO08gPuTf5B2HKb2tt/Hj27X754K2tDGc/JkhAe2flK25OzGQWVoBSmNFdXm2JtkTctAwjVS8zlCyi25PC93/c5yC31cwLLrdbziEHxG4ANS5qXtY30Y5TsqVWWuTIEzn64PPiufaOStrITx8g1unC6iSGqmt1ztvI9jc/coQAEKUMBjBJgB7TGHgh0xTBqJqPwiZBaXInVKB+szdxGjubAQc786C6vfUCQn/BYRPl20ITbbdwTMu/Hc0k9hkvq+ptIqqEIm47mPnsH8iU0HILRU1KdVq/19m2fvKRpqNdTKXcRFGfRIuXto801036H0xD2x7nsd85KLYa0oh0nuAvVTZuMdOb7RSvYRJwpQwKWAarge8cMkYHxEspJPBWD+kMvI/sYMk9dNWDZJGYT4tMv1gHPYsPVbZJ4bAMPd47Ap+uYrfwqtleVITDEi+6sirBgeiZU6JbNa2s06XL985O+Qft+NDn9fL8F0WGpRG70cPvsZaZ8XydgOAxH1QATWRwy+Ok+yotO2SuDbaERS4S3YNkbJmm5v+y3sFj/uQgEbjPnl9vb1wUDmhzIIYXoujDKAYM1FKY0QqEOE/N1emDjDaZC2chw8pGRWj4BeVYKUZZ/ii5xi+TtfIw8ZZXBhXQiiYhdgYWwIT8ddePT6dNNSl/yNlV87DKLpi6mLn25HiQwrTGWOr+R5wzBORtV0mNQhY+WNuVwcavjsYllxu8uD9eljwJ2jAAUoQIEeEWAGdI+wc6MuBXwCpBa0FNWrO4sNWac85En9ZVi+K8Yjn1skW0uFmIfkxsNdhpbLHeOH/VLAVoqiggM4WFppv8mw1cigMBJsvpL114Bis9Xn7KlkAEOXk8ob9bNq0LCoy8X4YfcK2CpKkV9QgkNKUEI5vtYaWKTuIpPUu/c4cGu9TeB6KZdxiwzSaUVKtpznq5VAsJS1MugR46b0lk3eFFEG/sXQO7DeIfis7L06YATW3KcMCiqZ1d9UNlw72GA6pfw2DkTYKMfgs7LGQOhHyTozhl0NIB4rx9tH6qAZPRprHIPP9sWlz/feLnXdf0FRoXItoEztbN++DqfuFbDK4K715Q0Orp2HhWv3wuwdAEPoWIQGyZsm8jd8z6YkTP/nZ5HhmApvk0Fh7Qe5HBtlcNlXd0ktDv8ghI0bjWB5FcpamostL8di2h/kAXP37hC31icElIGnV+ELh/ix97hn8NK09mQXyPWGxbH8jLyp4VzLXOPfdDBka/Przz7ByZ2gAAUoQIFeJcAAdK86XH2/swap4xgtyUWW4sNIPeUB+3vhJJK2mhte07UhI11GX6/1gH6xC54voH8GWUeMKPtHHvZ9thZx/qX2m9aZi/Y2C0J7/s6wh84CmthNKJPje+jv2dj50QLoK3bj1dkzMW+740uxzmvx3xSggPpOPeIk1mIp/h5JGSbk1d2AuEm3Ng2WODGZDp+2/93US9kNV3XwNVIuI0zm245ZUHRJWVlqQw9RHurJeTvjH1LP95zbh9qmsjP287zqggUbvizFauefwrP2h0u2amvD3+/2te+0O/xntwjIuAv2J4LeCH5kPXb+PR85/0cGkv33Tdj+f7JQvP9DPBYkrxdVfIkXX9t99fshT3rt4zUgANNXbUX+37Kw6/NNst427PpqHwo+exrhkohQlfM6nvuYf++75VD2pY0c+gQvbq3PzK/frSAZYPrhdpZ6sTk97JZEhWZGKkj+wtVJvtd8QN4MiR9QgAIUoEA3CzAA3c3g3FwrAj63YtEkNVR1VsmC/tHtDWMrLXXSbMm48huOTU+NQbRkZ9ksR5Gw1akOZCdtic30UQGVWupWTsbzf12JB5Wkq92v44PGdyJllxsznxszoZsp2C42ZD5LiY7mdxjNFucH3SugUmtgmDgH777/MHSS675v5XvI5l1e9x4Ebq2XCdyI+Lt/Jef5s8gw1kI1UspyBLjfBcu5+l8qzZDrXS/oK/WBlcoYF2ywXFAWuQ6RUwxy3h4A64ljWJycjdFL/y/Gv/NfSEj/H2Qcsy90ZTJbfrb/t/nIUWzINrn4UepIy3Tpl4YgTvvad9gU/7PbBaRe+JTJTmU2pBNSJ/el1XPk7zZQs283sh0K5NpPtd46TJ0iZTaczrvq0D/izcTRssBFHJQ6vE3qiHf7vnGDvUugAqlyjWCv8NIwBT6yFAulREz7JgkuN/leynViswYk4OyYJC0r8BKyGRI/oAAFKECBbhZgDehuBufmWhfQh49CdO4BpJV8jw2TNIhufZWuW8LrV1gW/1tESvA54jEDLO8bkXfkW7mB9UH6jCFuM7a6rlNsuVcKqEIwMdhbaklWwnhQcvmC61+31AQqg86VwyolHJQbiGY3CPLapD0by9sfGqlQw8kzBVTB4xHmuxllNaVSYxSIdJWm6ZldZ68o0O0CmjF6RGedQdo5FaJlYML2vHze5s76BWD9MzchrqQSGd9JZvQJqZt64gwylZ98ub6IjJDa0Erd6atT5ENR2DSmjSMMd6D952wB6gAAIABJREFUNvedC3aCQOM5UzKa7fWrmp1dAannbJAs0bKLlfVlN5RzrDw0rh93QVnPdTe0oUHwRwmqqsrsGfEcqNC1Ez9tKmDZtRxvFDhEhf3vwUuLx7n6ZrZC5yvXg/bBQRqWkzczLE7fcYtTyQ21/D600ipnU4ACFKAABbpagBnQXS3M9tsv4DNEsqBvkgsyK1KzTvZsuQKv66FtqEupGjICybHDoZfHNiYZLDEh95yLjIP27y7X6D8CtibpKPX7rdGNkBtZuY0oq3D9Xa84VJ95pwuSAZH6j1Wv29Mrmeo2h4GFet1esMMU6B6BgXKej5ZSHJG/wSL7oIHuJ83g+j9+llP1mcrNlq6phVlJah6kgkbJhG6cpH5zxJhfY+Wc/43dS/4/HH45Etum3yIBw19g3F+KtPoSwWhs31R5rlnTbj9oY/tu2+DMLhJQQ69TUusvwlTccqmM+hiztzLeb/2kGoFg+3hu5Tgk5Z9dTo2BaWaVuuThhy4ErHvxyspch+sDb4Qn/glRbhILbFarJCc0/jg+DZHvdrDjgNYXYSwobbJRS/GBJtn53sEhfFDi4rDwIwpQgAIU6F4BBqC715tba6OANjwI0YMBq7EUG45LGQwPmdSjfotNMzSSRVCHvJ0FWPxd09d4PaSb7EYPCbRYRkPpj2UvdtpLb8ggSA3Zz/Zuhk5AhDKwZeluZLp4l7dIXvFVxqoJDB/nsvapvQ1O3SAgr7O2kA2nbNyavxd5SjKSbxBCmQ7XDceDm+jtAtqQIKy879Y2BUX0o262Z++ZjCdgdLHjliOVKJLPVcM1CHOXwOwzGBHjDYgfKgvX1cJUXd9YY/vm4nJkX8s4Dy2076LL/KgbBAzTxtkf8JZlfQoZ67LZZDu4F0XK3+1AyYS+kh6qQ+TEEfJhFTK357gsBWfMOWA/L/sGjeV5uZkqP2guYEPemtex03HgwaAFeDXWMYjsvNYhvPMvEQi9q/EnEWkOZWIMU8bCce2K7W8h5VDDl1yuN99Izr2SH63UQQ+T5d3Eup03zn9TgAIUoAAFukSAAeguYWWj1yww8GYsmiI1ImVU+7yya7kbvOaeNGtAO2YMkiOlTrX0LWNrITZUXm62DD/ojwIWpP1hGmYu+QSZhyxNsuOtJsl8eXIV9km2nXfIHDwW6uCjGo/HZipZWiV4Z+knTW6SrflvyWA1lbJSEGY9EtIfUT1nn2178dTvZ+KpD3ejyOxwFyhH2rzvL5i3dIc9IKGLfRyRTpnqeUsmQjfSAN29r7sMnnnOTrInFPBMAZW8KRI/VC5ZLeVYnH6qydsi1mP/g8SMM/Kb6IMYKedRH2T5CauT/wtJeadhtg9KeHWyVVuQrQSevQYjrCHoqLQ/f5i0f+4EElNKZb7Teb32J2R+89+4f0tlw9/29rXvmap9v1eq8MfxRIhSY2Mz5i1Jh9HhT7fNvBcvvqz83ZZM1IQ59kEsGyfD3McxURloMD0JT31c3CQIbdmnDD6oDCI3AnHzJnSgfELfd+ceNhWwHXoPL26Ta7krUwBiVsy5tocXUov8iXEOowzWHMCr/xyOkN9NRNDdifjCMXs/8H4snMYCHPxeUoACFKBAzwuwBnTPHwP2oAUB7ZiRiMnOQ2pDhlILi8FmLMH41S09SxmAiOl3Y82d7lKiWmq5pc+vQ9h9Y7GmOheJJWexOqUI2gV32Qcp5NSHBKwFSFmzA/UJJVYUKYUe5ZXcnWtewCElwKjyxcS5f4K8RX51slXiYPoqPCE/Ss3mQK3cwVoqUFFTX6fPO/A+vLlujlPGnwphia9hVk4CthSswvTffSKv//pDVSO1osuqJIPFF6HPrkQ8awr3/JfLWoqdaxfLjxxeX6lbK/dzVnMlGg4v/Ce8jA8Tg10EJBqykuR/XCThwbTrdWyUpxP2eRX1r9HWFGzGc0u+tO+zKvgBPP/oOGYv9fw3gD3oMYHBmB/7GxQll0j95gMYX3wDDAEyqFbteantLG8nwAth94ZhmWM5j5ozSN0h1xA7VdAPlVfWfQfAduEcjMfOw1LnhYgHZJBCn8YdGoz4OWEwyfk89bgJc1eXQyvraH1knZrzMEp9VeX3U2W49apAu9rvMbg+tGF5cPDhe9hZVn8+tRTU108xbl2F5/Ypu+kNzZQFeH6qY6BNh/h1ryF/9mLs2Z2E6TnvIVRKF6hsFTAWy99uWUc3Yy3edc5E1cyQc3UxYp/8DPtei8W4TUEIC/SFraq8/rzsHYCpq9bj+XYPHteHDgd3pY0CZUhd9gkc48H+9/8Jz4dea021QMStW4uDs5+VYHNjLeiLqKlySLNWeug7Fs+9/zIirnVzbdxbLkYBClCAAhRwJ8AAtDsdzutZgYYs6LTPlcwmN1OdZCC6CVJbuqRKxiBEPzRWtpuH1cdPYvEn30GbcCfCrtzMuukvZ/UOASXYuG0HDjbpbQ0O7m78TILLUxwD0BrErNsKdVY69mSVoEip6awEkL19ERgUgohpc/DEo5Nd13FWj8Orn21F6Pr3sDHrgNSrrKxfL+Q+RCcswMKpOhdBzd7B2Gd6qZqMVz9fj/Dtu7HvoAw0KMe3Qm76vH39oQsdiyjJfH5iWnCHgsSWfTuwJb2hGG0jWEUuvkhv+EdZkHx3GIDuM98l7kjHBIYMQ/Kzg5GWZUKK8bT8Dp6313zW6rRSS/oOxI263uHv5I2YP3sMNPmVyCw7C+OJ0zBJOS/VIB8YRg7HovGyvM6xWLR0yfdWrHwyEtGF5UgplEELLVbknVDWUbYxFJEGyVoM0TRsowPtd2yvudYVgSrkp3/WNLNT5lUV7MAXDcsEah52CkDLDO39+PA/RiBNzq9b5PxqLDggx9of2nEP4AnJdI5v4fyqmfhn7PqPCXhn/V+QKfV1i5TB4/xHwHD/A3hs3uOIDmZBA345Wxcwb1+Od4obA8SyvO94PJ80uUPXCs22ppmMN/9jF6Zv/Qu27DqAokMVqLoo25LrTn9tECKmyHc1YQbC+FVtRscPKEABClCgZwT+6f/J1DOb5lYpQAEKUIACFKAABShAAQpQgAIUoAAFKEABClCgLwu0VLegL+8z940CFKAABShAAQpQgAIUoAAFKEABClCAAhSgAAW6QYAlOLoBmZtoKnD70l19kuToqml9cr+4UxSgAAUoQIH2CvTVc317HXht0F4xLk8BClCAAhSgAAUo0BcFWIKjLx5V7hMFKEABClCAAhSgAAUoQAEKUIACFKAABShAAQ8QYAkODzgI7AIFKEABClCAAhSgAAUoQAEKUIACFKAABShAgb4owAB0Xzyq3CcKUIACFKAABShAAQpQgAIUoAAFKEABClCAAh4gwAC0BxwEdoECFKAABShAAQpQgAIUoAAFKEABClCAAhSgQF8UYAC6Lx5V7hMFKEABClCAAhSgAAUoQAEKUIACFKAABShAAQ8QYADaAw4Cu0ABClCAAhSgAAUoQAEKUIACFKAABShAAQpQoC8KMADdF48q94kCFKAABShAAQpQgAIUoAAFKEABClCAAhSggAcIMADtAQeBXaAABShAAQpQgAIUoAAFKEABClCAAhSgAAUo0BcFGIDui0eV+0QBClCAAhSgAAUoQAEKUIACFKAABShAAQpQwAMEGID2gIPALlCAAhSgAAUoQAEKUIACFKAABShAAQpQgAIU6IsCDED3xaPKfaIABShAAQpQgAIUoAAFKEABClCAAhSgAAUo4AECDEB7wEFgFyhAAQpQgAIUoAAFKEABClCAAhSgAAUoQAEK9EUBBqD74lHlPlGAAhSgAAUoQAEKUIACFKAABShAAQpQgAIU8AABBqA94CCwCxSgAAUoQAEKUIACFKAABShAAQpQgAIUoAAF+qIAA9B98ahynyhAAQpQgAIUoAAFKEABClCAAhSgAAUoQAEKeIAAA9AecBDYBQpQgAIUoAAFKEABClCAAhSgAAUoQAEKUIACfVGAAei+eFS5TxSgAAUoQAEKUIACFKAABShAAQpQgAIUoAAFPECAAWgPOAjsAgUoQAEKUIACFKAABShAAQpQgAIUoAAFKECBvijAAHRfPKrcJwpQgAIUoAAFKEABClCAAhSgAAUoQAEKUIACHiDg5QF9YBf6qYAl778wdscZ+95rxoxF7kNDoHJpcQkZn3yNRGOdfW7kQ1HYNGagyyXb9WHtT8jMP4rU4tMosthgrfsFqkFe0PgOhn7oTYi8MwBRBj9oHTdVfQopxWdg02gx/87B7docF+7dAkUrp+DBTf548ettiNe62xcrira/hw+27kXeoUrUwBf+2iBEzngcCx+dAK3rL7m7BjnPkwVsxXjjobn4oPQigp/diV3zdO3sbTFe+X0sNla4Xy10+R5sjw10vxDnUsDjBC4j85NMJBh/sfdMNcyAvQtGoPmf0AtIfW8vko6rseSZCZg/pHFHTiPp1TyknnP+vHG+rJcs65W1b8cbryPyPv+/eKSwDmHTf4/08de7aOQyjN/k4ZGvzsI6+BasX3AXov1cLMaPKEABCjgJWLcnIHRpbhtcAvDYZ1l4KbQNi7paxJqOR+9KQtGMD1G8eoKrJfgZBShAAQpQwCMEGID2iMPATliKTUibMgRxrm7sTv2ADQ3B586Ssh77HyR8chh555QWB0CjGQyD12VYa2ywWM7CLD/ZJUexeuRoHIgfBnXjhk+dwNtfmWEz3IR4CUAzlthZR8TD25Eg486cSumkv/uO2g4h5Q/z8GpBFeDtD13wWBgkBG06dABfrD2AjF2z8fG//wkRV75Q7pvjXE8XsCBzSaI9+Hztkzf8AwOhdvlHRQWt2vvaN8EWKNDDArbjJqw+rMX6UZ3wENm+L9dB7aeGXnO56Z7V2WCqVh5ae0GrUTmdq6+DZlDbIMyFRZirBJ8HabAyIYzB57axdclS5o8fwcTXStrUduDcrchJCmlYtm0P+a427IsHP8rHmxPbtCkuRIGWBXz9EawbAVvLS8BqKUdVjZsF2jDLkvUlitqwHBehAAUoQAEK9LQAA9A9fQS4fbl59IGt+gw25FYjRlKLmsZfLiNv/1EY4QOtXy3M1Z0AVvsjkuzB5wHQj/kN1k8fBoPP1XZtNedQdMSM1NwfkNkJm2MTvVVAHkaYy2A+VIIvkt/DllYz7GzIW5ZoDz77hjyNj//6R4Q1BpqtxdjwZALeLNiMp5aNQ9bbk68+1OitPP2+3zYYP0zEU7ur4O3rjYs11xqEDsITm1vLru/36ATotQJeiAq/GUX5J5Hx1Q9YNOrX0HfKvgxE9EMTEO3cVuV3GP/uUZg1tyH52SB5ENj+yXK4GI98fhIWr5uwJH4M4oZc1/5GuAYFKNBvBdRTX8OuqW5231aAF+99FFts/ghsJb/BuRWbtQLmijIY932Kd9bnSqoD5H07ThSgAAUoQAHPFmANaM8+Pv2idxrDCMRI5rO50ITMWqddrqnEhkIbVJJBED+0c76uFmM5MpXM56F3IPmhpsFnZesqKcERMSYI6xfeg/QpzgHxfnFIuJOKgPlTzLvnQTy4YDm2FEtGc2uTZTc+2KVkSY/GwnUOwWdlPXUI5q97GVPl7qBq91+QZm6tMc73dAHrvuWYt7YEqnFL8eZMlsbw9OPF/vW0gGQqG+6oP4+fMOHt7y71dIfcbt92rBRzN5th9roBcfHjMH84g89uwXpiprc3vFv4aZrI4A2VquVllTY4UaAnBMxb30KalN/yn7YAMc3rErntUtHKmZj6z/OwcO3XKLvW599ut8SZFKAABShAgc4TYAZ051mypY4KeP0K8XffhLSdJ7Eh/xyiJ12trWwqPIrsOhViIrXQ5pc6beESMrd8jYSSOhjujcRuh/WuLviz1JXMlrqSAxGT8Hus0V1nL7OhvA6n8hvsog6l4yYGwjD86mvCjbUi7UsYCzFqqcOyUqqjxLFUR81ppGaVI/XIaZhqlNeA5RX6ob9C1KSRWORcuuO7v2PU5pMStxyLkuiBSMv6HqnfVcN0TmpS+92EqEgDlkXcKBmzl2CUUiVv51Yi70St7IO0qRuKJTOCEOXHm2PHI9cp/62ZjJc+GgGrvbFybFm6CnvcxaHLDqBIuQnQjUOEqxsJae/BcG/sySrBnhwL4mM1ndJNNtIDAiZ5OPH0DlQEPoCN78+BJvnTHugEN0mBXiYw8EbE3RuAlI1myYI2yTgKHctM7uq9tknZr4QUE4x1PoieHYGVus4qF9LVPe9P7fti+vv5eLdNZTKC8fxXB/F8Czy2/D9jyuzPcKUMv+9YTAxuYWF+TIHOErDm4I3kElz0Ho0nEie0+604Q8J6bJxWX9zDmrMOCzc53yN1VkfZDgUoQAEKUKDzBBiA7jxLtnQNAvoxekRlFSIj14Tsu0MQqdzvXTotZTkk/Dd0FOaPGgBTvvMGBiJyfAC0JcdgzP8BRZPuRJjzIpXHkHJcBj+SQQPjJfisTBrf6yV0ex62Y2Zk1tyK6Da+s6bRBSC6Wmq+lknwd/BNiNZdrduhGn61HrS9vnSKlPi4MECCzjcjcpj8ml04j6KyE9gggebsyAik39c8s9p2/HvMWHsWxgsSrh6kgnrQL7BIaZK0HXlSesSAsOOHsaFMudgcAPVgafOc1Lg8chQJyXXY9JSYOZQRcWbgvzsgoApE2MTGzFY19rmszevQrrX+wYbUY2ihNrjywEBpr1xqQiuZ0gxAd+Co9PwqVnllVrLi822j8eL7LyNSyqwYe75X7AEFeoWAetQdmD+sEiuO/4C3i/VIDvGw4G7Nj1i88VtkX1Ah8oFxWH9nG4tF9wp9drKZgIzb8M5Kh+AzvBG6+E+I5um5GRU/6FwB09Z12ClJDf6PPIM4V0kLrWxOrR+HyIY6RtaazcCmVlbgbApQgAIUoIAHCDAA7QEHgV0QAZ9bMT/8BmRkKyU3RiEyYhAsJSZknJO6kdG32WtFmlxAqYaPQNzQY1h94gRSDwchbJRjJrBSP9os6w1AxN3Dr9SAVBuGI2qwRdo+icS1Ocgco0XUyJtgCJCBjHxbziTWj/kt1g8uxugyqZ8wXI81s25tHmhsrC+NX2HJk3fJa7sON9c1p7D4/QNIy/4WKWMmYP4Qpx2qPguLTm7IH5Bg/BBlvcsw5RVixg4L8rJLkCevAkdPD8MSqaOpVWZLe0nJB5BqqUSK0YDIMR52I+/iePXpj7SB9oz6srJiGOW5id7FQINq//oottVan1fdpz365M5VIO3pRKkH7o/p761HfHBrTyXag1CCV+8x4FVlFXkl3FejgyFkPGbNexzRwS6+TO1pmstSwGMErkfcfVpsSD6GzCzJMg7xoCzo2tNYkVKEjGovhN07FskRV9/G8hg+dqRBoAY7Hzdgp/1f8vfSPxD60LGYPmMOYqbq2pxNatq6HCmOiaO6OXiVJZX4LetqASnZ9kayfPG8x2Jhwrjm9xJdvX22TwEKUIACFOghgc4pqttDnedm+5aAYfwIRHj9IsFWE4ou/YSUbyyw+Wkx3+AusDoYMeN/JRdvNmTsP9lQLqHBpfYkUr6TjGEZvT4+5PqrWBLsXhNvkLIV8vW/YJX1jEjc+DdMXvkVbv/z17g/+b+xIu8UTM71qNvAbS78XgLbAxAZHdY0+Kys6zsEy6ZopK+yTaNShLrppBoZhr0JUk7DHnxWputkkMTbEWVPwFJj/pMTsH58Q/BZ+Ujamx9+k/zHLzAeY0DTTtaTU/B9iNJJBy5+jVeWfmoPQjtONksxMnPc1fDoyc5z260L2FC0MhEv5tgQnPAh3pzamSlySgAlALqg0QgdNxrBWhmNqKIU+bs/wsJ/no552yta7x6XoEAvEVDJg9ZFOjn/Wn7A6kJ55ccTpjorUjb/HSknpPTVMBkDYtKNDAp5wnFpUx8uoqaqHAezPsOrC6Zjyh8+gbG+MoH7tS3peGW9lEC4slQAZi1fAENnPld03wPO7ZcCci2R/Bb2yKiBgTOfaXft535Jxp2mAAUoQIE+I8AM6D5zKPvAjvhKsDnke+QVmvH25+dhtAxA2PQRCHMXf5bdVgYxjBp0Bhll5UirDkC8DGioTObicnmNFtCGj2hWnkIVMALJzwyF8cgJpBktKJIArslig/VCLYxSYsMo5TJSsiSLeY5TFrNb5gvIs0cdJRx+7ChWn3KxcHX9XZHZ8rPMdMquGuTVPGtnoEpKhsiish8an+bZ2Rpflf0m2Vrr2QM6uZDogx8FY+Gqp5H3h3VyI7wc03/3HoKDR0CtqoGlQhmtvObKja5azTvc3vYFsOx6FvOkxqJ6yhp8uDi4E4NTIXj+Pw/iJWcQaxky1izGc9tKsWfZC0gdt6lDr+k6N8t/U6DnBa5HzL2SBf3+MWRLFnTRaCmf1cp5vqv7bMwqQlGdlOuSSSmHlVSowaYxDg+uu7oDbL/tAlLmyl/jL9dGcq1V0/TcqjRSlbMKT60Zi6wkd4WcrchcuQ77JAjYOPlOeQbPh/Pc3PYDwSU7JGDegTe2Shk27/FYmBjSidcSHeoNV6IABShAAQp0qwAD0N3KzY25F7gOkZG3w1B4GNklFslcHoqVbbkB9FEynH2QkX8WqXk/If6+G2UzPyF1/1nJi1Yj7u6bXV/gDRwEw50jsEx+6qfLsJyyouiIGSlSuiNP6i+v/sQIw5KGmtTuOy9zpSaz/WbGhrx8E/LcLX+p/kbX3SL1866DuuG31OYixqzy4ksMrRt23xKq0D9i638EIXX9R9iSUwpT8QEZYMYXgcFjEZfwMIIPJuH59KqGWtDd1y9u6VoFCvDGyq9hDZqNrevub2Xw0vZvy2XIQ61D9Io1MB+cjjdLD2CnDFwZx4Er24/LNTxSQDX8DiwaacbiI1JCq1CPbRE9201bnZTqeuB3WHLhW8z96iyy0wuQ5Hc3ByDs2cPSZOuaaa9hzxR/6LVOJYmsh5C2LBHP71bGVqifyrJ2oEgC0M3GBWmYb8t/C6/sdngjSUohPP/C/c2TADxo/9mVviAg9wfr30O+pN3r5i5grfG+cEi5DxSgAAUo0C4BBqDbxcWFu1xgiGRBjzQh8Ugd9OFSC7lNA+tdhzClxnP+YRgLjyJvSogM2HcUaRLDVuluR4xzreUWd+I6aIb4SQkM+Qm5CXPXliD7nAw6eByIVEortGGy1SkLqbFsyYQrmdhtWI2L9CEBlVaO/Wr5abZPFUjZqtzw+sMQ2ji4YbOF+IFHCsibC/J/F0s348HfymA/LUyH1k6Hbq3MDFmKfZ/P6YRAtQ5hoVKOo7RKMuiV705nlv1oYSf4MQW6RWAQoqcMxwYZSDcvW958GnNHt2y1pY1ox9wlNZ9vlLP3GKy3/A1zC88j9ZO/w/DkOMQNaf72UUvt8POuE1BJXXxlPJBmkzoYMUl/xBe7ZXDYxpmWCshLbcoLac0nWzHeeLnpwIPBiUv5hklzKX7S2QKmT/HGLjmX+94jtZ+Z/dzZvGyPAhSgAAU8X4ABaM8/Rv2sh4MQda9Bgrc2RI5XMpnbOEngOk4nr82W/SgD8ukRXfwjLPBCdGRAx0I2vn6IkFIe2ScuSXmLNvZB7nT0SlWN6p9RdOoy4Meb1rbK9YvlDn2KL5TBjvzvwXR3bwb3C4zetpP+CJ1yD6wOr2s77oG1LBf5ZRfhqxuLCJ3UzNFJ6ZVO2UUbbNb6sj1qed2cEwX6koBKBvNVsqAT5a2j1fkBiO7BndMM9Wn4nR2EyIfGYWX1frmeOIOkjd9C+6S8BaWUwuLUgwJWmGX8Z61z9nNjj6wScHbsnUot5a9cd9f08XKkljnMC3wALz3Kk7JrLX7aeQJS9kWynw8q2c+PMvu581zZEgUoQAEK9CYBBqB709HqJ31VBQzDshnt3VnJprr7FqyW2s3ZWX+Xes6Siux3O+JHNQ8CG/OkNILuDkS7y2qqlVIc1UofBsPgmHQ4cEB9zeULEpiWuU3zEQdJ8OkG4Ph5ZO+vhGXUsI4Fv9u761ze8wVsZUhZ9gkOwVsGsJuDiBZujD1/R/prD4MRt/rfENfC7hvXTMP05HJoZ7yMD+e18XWJFtpq8rG1AF8UKFFvf8mE7sR227JtLkOBLheQ8/a9t+HtI1IH+psjUHtMkHcw4mbfBdP7BUixSID8kxuwLeHXcDsecpdb9fMNWPfixXuXwxR6P2bNvA+R44KgVSLMtiqYDu7FB699AseYsm/4ZBhckZk/xYvrSx0GHvTH9Bee4TnZlRU/61yBQx/hjd1yPpfs5+cT+MCjc3HZGgUoQAEK9BYBFpDtLUeK/WxVQD3yNkRL1rLNch4mWTrsbhnA0MVa1uM/IPGt/8SMz/8HGcd+tgeSHSdrZSVWpPwDmTLwn9qgb1rCQ6Ouf63+mBmZ9gB100k/fqQMiCiDAh6ROpLplTA51W22njqF1M/3IyFPGufUBwVkIEtL02+U9dBuvPKvsXi1+CK8QxbgzVgGEvvggXe7S3lLJkI30gDdva/D6LRk0cqZmLboL8g4WKFU+bgy2cw5eOPJJOyUt3W9Qx7HY+FuN8GZFOidAgGSBW2QXIhzZ+SNIw/aBZ+bsSw+BFHyVpP1+GHM/Vx5q4pTjwpcvIiKgh14c+k8TL8nEqF3RSD07ul4cME67KmQtNLGyTsITyROdvEWigUZr71lr7/bOPmOexrPT+2c91V61IYb93ABC9LWfGp/SBKc8Ayi2vCVc3fd4OE7y+5RgAIUoAAFWhRgBnSLNJzR6wQG3oz4cDVSv5IAoJcMTNjCAIaqQQMli7kWRTLYYaL8wMsLWj+VfbA/a00tzOfqBwjU6EYh+SGnEh6+tyBuZKkMVCiv5q79GqlDVVBdqIXJbxRy44dJBlcA1syxYu4nktGVX4TJhUboh94AzcBfYK0+B2O1vUg0woa1dRDCXncU+k6HJfs0Zc0OHLJHBSUj3h59KMfONS/gkJLBrPLFxLl/QnSTopQVSP3DTHxQFQh5ViG6QjFcAAAgAElEQVQPQypQUVN/t+svN7ofvv9HGJj93He+I23ek4bQcn0paae1rDi0ex0Wyg+UASu1UvNZXievqKr/3ngH3oc3181xXfu0zdvnghTwVIGBkgWtxwajjOHgtovnsGGjnHNbWEblNxzrlSzlFuZ36GO/AKyP/xmPvH8YRSVFmOsXgfT7/FyWFe5Q+1yp8wX8R+OJVesx30WCqXXfOryS5VBHSQlUL5/RCbX6O3832GLfErDlv4d3cuS7538fnm9zEoK76wbAtOt1bNxXU//gukKp7wbUFGzGc0u+tP+3KvgBPP/oOBcPYvqWLfeGAhSgAAV6lwAD0L3reLG3rQioB3nZbw7VIbe3OIBhWPQ9ODDmFDKKTyCzrFrKddTCIlnTUl4QqkE+MIzUICZ8BGLuHOziwm0QYmIjYNtpxIbvzsJ4vBaqwco611+5KVXrgpD+7C1Iyy1HmgSqjSfOwFQ3AGpZLswgdS5DtIgyXN/KnnB2jwtYS7Fz2w4cbNKRGhzc3fiZvC8+xTkArYJGIs+20nKUVXnD1z8QoeFjMf2ROYibqGPgoscPqud1wJCwFu/4p2NnTgmMZWWwlJXjogSi/YOk7uy0OXgidjL0bciW8rw9Y48o0EaBIbdh0eijSChxfAfAeV3lIW5tszeWri4l9dKdV+mEf6sCfo3kWCtmbD4BY3YhEof8DsktPNzuhM2xiZYE1Pfj1c0qZOzai30HpYxaRQWqGh7uevv6Q6sbjYhpM/DYzBb+XsrAg++8vAPKUK6NU2Dsy4h3OaphS53g5xToiECFZD/vQIWUYAtNWIDITjqfW/btwJZ0p4EpKnLxRXpDH8vkAQsD0B05YFyHAhSgAAW6UOCf/p9MXdg+m6ZANwr8hNVrc7HBcgPmPzUJSwK6cdPcFAUoQAEKUIACFKAABShAAQpQgAIUoAAFKNBMgDWgm5Hwg94qYDt8FGlSJkE1bATiGHzurYeR/aYABShAAQpQgAIUoAAFKEABClCAAhToQwIswdGHDmZv2ZXbl+7q9K4eXTUZGfsrZZAgL0RNCrDX9OuK7XR6x7ugwaOrpnVBq2ySAhSgAAUo0HaBvnoO5jm27d8BLkkBClCAAhSgAAUoQIFGAZbg4HehbwicKsXkt0wyGOBwbHvmt4gY2Dd2i3tBAQpQgAIUoAAFKEABClCAAhSgAAUoQIHeLMAAdG8+euw7BShAAQpQgAIUoAAFKEABClCAAhSgAAUoQAEPFmANaA8+OOwaBShAAQpQgAIUoAAFKEABClCAAhSgAAUoQIHeLMAAdG8+euw7BShAAQpQgAIUoAAFKEABClCAAhSgAAUoQAEPFmAA2oMPDrtGAQpQgAIUoAAFKEABClCAAhSgAAUoQAEKUKA3CzAA3ZuPHvtOAQpQgAIUoAAFKEABClCAAhSgAAUoQAEKUMCDBRiA9uCDw65RgAIUoAAFKEABClCAAhSgAAUoQAEKUIACFOjNAgxA9+ajx75TgAIUoAAFKEABClCAAhSgAAUoQAEKUIACFPBgAQagPfjgsGsUoAAFKEABClCAAhSgAAUoQAEKUIACFKAABXqzAAPQvfnose8UoAAFKEABClCAAhSgAAUoQAEKUIACFKAABTxYgAFoDz447BoFKEABClCAAhSgAAUoQAEKUIACFKAABShAgd4swAB0bz567DsFKEABClCAAhSgAAUoQAEKUIACFKAABShAAQ8WYADagw8Ou0YBClCAAhSgAAUoQAEKUIACFKAABShAAQpQoDcLMADdm48e+04BClCAAhSgAAUoQAEKUIACFKAABShAAQpQwIMFGID24IPDrlGAAhSgAAUoQAEKUIACFKAABShAAQpQgAIU6M0CDED35qPHvlOAAhSgAAUoQAEKUIACFKAABShAAQpQgAIU8GABBqA9+OCwaxSgAAUoQAEKUIACFKAABShAAQpQgAIUoAAFerMAA9C9+eix7xSgAAUoQAEKUIACFKAABShAAQpQgAIUoAAFPFiAAWgPPjjsGgUoQAEKUIACFKAABShAAQpQgAIUoAAFKECB3izg1Zs7z773bgFL3n9h7I4z9p3QjBmL3IeGQOVyly4h45OvkWiss8+NfCgKm8YMdLkkP6QABShAAQpQwFMELiPzk0wkGH9p2iGvAVAP8oE+QI2wkQGIGXMrDD6e0ue29qOlffOCxm+w7JcW8ZO0iPC9rq0Nds5ytccxd3kJsgcPR/qLv0VY57TKVihAgQ4K2Mw5SE3ejC9yimGqqMFFb18E6kIQMXM2FsZOgNb1zY+brRXjld/HYmOFm0VkVujyPdgeG+h+Ic6lAAUoQAEKdKMAA9DdiM1NtSxgKTYhbcoQxPm5WObUD9jQEHx2MZcfUaAbBCqQ+odpeCnnYv22/P8FW/72Z0S0acs2mD6MxdS1pQ1Lj8ATX+7C8/o2rcyFPFagC46rzYK8XR9hy/YDKDpUBkvNxYYb1SBETHsYj8XeD4PaY0HYMQq4FVD7qaEfXP/ine2CTb7f51F0RPk5gZSvbkD09DCsibixhQfRbpvu8ZlN960WJstZZCo/+ccQHx+BZTo+NO+Sg2ROx6P/koR9VVdbD31Bgm6Pug+62fL/jGmzP0NZw2rhy7OxNVbTJV1ko/1bwJr/OmL/sBmHLnojcNxkxEzxB6wVMObk4ovXcpGxfTY+/vc/IaJD53Zv+AcGQu0ygK2CVu3dv/G59xSgAAUo4HECDEB73CHpfx1S+/nAVn0GG3KrERPt53TzeRl5+4/CCB9o/Wphru5/PtzjHhKQjJUNm3JRodwoFOTiYEVD8LlN3SlDxppPkW+tgvngAeSVOtwdt2l9LuSZAl14XM278dzjL+CLMqfv2cUaVJQewBfKz6ZP8dz76zE/tEN3qp5Jyl71G4GwKRFOby9dhqXSgoz93+PtQisydvwN5gsR2DbJ+TrA84ma7VttNVI/L0KS0YqULUZELglBJGPQnXsgLXvx3OymweeWN2CDcft7+OJgFSwVpcjLKQXPyi1rcU4nCdhy8MrTSvA5AA++txVvTnV4yGErQ+qTsZLYsBnPrbkfWStCOvDwLQhPbN6GeG0n9ZfNUIACFKAABbpYgDWguxiYzbcuoDGMQIxkPpsLTcisdVq+phIbCm1Q6UYgfii/rq1rcolOE6jai42bNmNL+tftDD4rPSjHno9l3W1fYp8En9sTuu60/rOhLhDoouNqk9dpH1/cJPjs7R+EiVPuQbjO9+p+VB3Am08uR6a1C3aNTVKg2wWugybgVsQ/NAF7Z2uhxS8o+qoIK8oud3tPOn2DPn6Ii/0NYgZLy+d+RNqRPrBPnY50DQ1ai/HGH57FF62UILi6BSUA/RE2btuBnQw+XwM8V22XwMG9yFaedAQ9jCccg89KIyod4hLvg+RDo6JgL8ztapgLU4ACFKAABXqnADOge+dx61u99voV4u++CWk7T2JD/jlET1Lu2OonU+FRZNepEBMpN6f5jSUMXO3+BeTlfS/rW1BkqYUVXtBq/BAZfgcWRfih+YuVl2H6rhwb9puRXVkLywVAycTWyivCEYYAxIXfCn2TbKX65d+W5fOuLK/UeByORVNuQ5hDjMjeu0s/IzvfhJTCq/3R+F0PveYmRIYMR1zIjWAOo6vjyM8o0P8ELLveQ2rju+DK7gc9jq2fP4Mw+2u1FmQuehBP7G7I16v6Em9sXYCoebr+B8U97rMCmjt/g/V3V2PG/vNI+9KM+Qtuk4C049TOc7Cyqv08/L2ch09fuS7QyDk+MlyPReOHNG2/5gc8svJb5PndjvSnboOl8fxdfQnw8kHYnSOwZLqc69tTp3qgXIMEDJDgc528vWWTDl0PSGZ0yk552F55DuYaKUNyrg42r8aa0cMxf8qwq9u4dBpJq/OQes4H8U/dg2UBLg5/7Y9IWF2IzDoN1ieNQ3Sr/bsM8+FyvJ3dcO0jQ2tofKUO9+gRWDQpwKEO9yWp3f211O6uQ9j03yN9vPS92XRB6tr+J5LKBiLmsd9jzahuqnVtzxxNwAelyqPdAEydosaeLHfXh806zg8o0E0CF6H85qOqAhb5D32zUhmq+qxnb/8OZD930y5wMxSgAAUoQIFOFGBKaSdisqmOC+jH6BE1CDDmmpAt93v2SW6+NuRKqt/Q2zF/lJuv6qWfkJKcjUd2HEO2BdAO1yBy+PWwWSxIlVd670/5AabGNu0NX0ZRhny++TDSjtVJBtbNiDLcDL1XHUxlUotyZzE2OAaD8DMytmTbl8+olAvI4bcgerQGBi/l5vZbzHjnv5FR09Bn+/+cQ8rGHMzdeQx51QNg0N2CKJ0amrpzyDMew+rPD1/dR8fV+N+eJRD6ZxQcMaLM/vMhHnR+yOC2t5Px7reN6+bhnQmsw+eWq9fM7JrjaswvbpIlHxo7uyH4rMBoJNj8ABzDzWVZucyW6jXfGXa0bQLXIWzSCHtdfdtxMzKblNtq7zlYGqk5hRXvZ8t52IyiCyp5WDwU0SPlPFx7Vh52H8D9yXJd4KpjNSexeG0OEr6Sh83Vl6GWNA3bhfPIK/wWj7z/HfKc39Jy1caVzy7DVlc/+KJKBl20TzWnkVZ4EnknamHzuR6GYTchTCNRqWqpF72/BDPeLUZ24zYG3oy4MTfISrXIyD9dH8hy2p5VrimylQfohuGIajX4fAl5cu0zeaNc+5TJm2XKA3G5NlHXWpGZXSTb/m8H94ESqL/V/vC+qLDStVX1CWlH9s9vKOK6K/isPJBbkoCXCpSLLl9MXJ6MN6f5o/UzrBox/954TjZi3wujnST5Twp0gUDwZEQq145VO/Dikt0w2aPRjZMNRbukzJt8e0Nnjnd64NYFfWGTFKAABShAAQ8QYAa0BxwEdkEEfG7F/PAbkJGtlNwYhciIQbCUmJBxzgtR0bdBGa/N5c2iEkz+qlBe2a2DWjcKm2b/+mr2UO1prE75OzYc+RaJWTdh93031lNXH8OK/VbYBg/F+oX/C9EOgUVbTTUyvimHxSH72fRNIRaX2KAdE4ZNDwRAe2XeZQmYF+CRnSeQlPEjImfdas9qthaXYrW9P79B+mPSd4e2rJWyf1nVzHTgl54CFLgiYLM1uSuFSuWUJqULgV4iLFfKQ5eV2v8esuwjv0R9SsBXCcYCeRYriiqlZIVffUZte8/BkIfGaVJ/OeXEQEQ9EIH1EYOvnnMlKzpt69+w2GhEUuEt2DZGnnw7TnXyRpTvUCybFYQ43fX29WynKrF4cxEyLEeR9I0WexuvJVrDr5H61seUhW5A2PCG7fjeimWPaaDV3ehwLSGLXOmXGavz9YhseBPMMEYLQ/ZhGL+TgPj0m53qSF9AhmR3SygZMRGaVq8rrN/9A4n2a59bsCYhDDFDGjOWf0ZmegES808g8fMfsDehPvtcNWo4ov3M4ngMqZW/bpaBbSr+AUXSdf1oyQxvzaJT5luRt3IentotmQAStAtOSMa7sTqodnVK42yEAp0voJ6MV99/HOYnP8LB3YsxNecjTJUHzLNmjIemeBWe2lQO/wkv4035HndsKsGr9xjwqrKytzd8NToYQsZj1rzHER3M9yw7Zsq1KEABClCgKwXcpJV25WbZNgWaCxjGS/aT1y/IyzahSMlq/sYCm58W8w1uRu6plbIdhZIuJGU8lsQ6BJ+V5n1uxpKHRsIg/2nMl1IejVnQ1db6YPaQmxHhlNWq8vWTgRD/F+Y3XgteOoUN38gNm99wrGkSfFY2cB0M44Ps9autRyqR19C+WV6tVcJJmpGSVe3UdXVAAJbMuRNRbnapuQw/oQAF+rKAVhvYZPeKtu5omiklUbAmIWmb/E1qGrPuyzzct34joILefk7+BZaahhNqB87BOCYlJqTshWb0aKxxDD4rTQ+8HjH33i7XBVJvWkpkyUtTTafBw5EsD6bjG4LPykzVkACsma61ZwObjCdkUOTWJ1v1j1jxiVFKiEl28kg94hvLZ/gMRsQop+Cz0pzSr/Ga+m0ck9/vxk0M0UogXC7VpY506pEmr3JJ1nRDBrJGWaa18hcSrN5/UvZXHurPCHEIPisbuh5R00MQJ9cytjIpHWYPmiuT1LGWxADXGdg/ITX/vMy7CXFi3PWT1HD+OBHzNpXa3xYJnLEWHy8OYSmzrofnFq5RQB3+DD5e9y/QKWn6NaXYk5yEx+6LxPSlX8I2YSW2/vVhF6U52rJRCTj7B0AXNBqh40YjWCvVpGWAzfzdH2HhP0/HvO1tLpDelo1xGQpQgAIUoECnCDADulMY2UinCPhKsDnke3nV1Yy3Pz8Po2WA1B4cgTB3wdoTUmNZXj/FsABEuSqRMESD6KESgD5xGtknIKU5ZFmpAalkVBfJjVbSNyosGiPlNHxbuHk7cdL+eit8bciUGoOZzXZU6lIqn12ohfmc0rZkJQYoWVPnYcr9B1b7SRbVSD9oW301tlnD/IACFOgnAoYZDyD443U41DBa5UXJjJr2+x0ICx0BjbfUiS0rQVGTkSydI9L9BIq72f8EOnAONpWdsZeo0V6wYMOXZ1yY1T8ktsnDaCUA3WSMiIEDXGYSq6SUVoSXWbKgrTDKM2+D0zm9KCsPM/KUnI5fYD33s9R8ltrO8i/V0OFY/9CwptuQbOeikkqkHT4j1znn7MF2ywVZXoLV9qlOSnco69r/MQjR4Rp5y0uuRfJ/hPXOYVeCro0ZyPYs6fo1W/7/l84g+5iUy/CSa6KRLi6qpF519EgVUvJrUXTsZ0DKmCmTPkSym7OMKHLKwLaVHUOGlElRyTgY0XLd09WTedezePS1A1AKb/grQbvVk12M7dHVvWD7FGivgA2mrc8i9uWvobp/JfasGA9b/pcyQPWnyMgpR1VOEmY+VI4P338G8hJDO6YQPP+fB/GS8xrWMmSsWYzntkmge9kLSB23CXF8VcpZif+mAAUoQIEeFGAAugfxuWlngesQGSmZSYVSI7lEbgsHDcXKMa4Gvrm6nlUG8ZEq0VD5qVq4GZGBBX3lpvCEBHEa6zRLNvOyeysx9yupuSjlOzK/kvUH3wBDgAzEY5BMopAh0DfcXNqqlQENZbKcwIZs5/46/vsX2BqSk9QGA5aNzEPSkTPYIK/6bsAAGeBQBiwc9isZgFCLmDs5AKE7Sc6jQL8T0P8R764oxqNLv5Z6kPXTxSrJZGppYC2NP8tv9LsvSX/YYRmHwX6eVgblqw+SduQcbLZIAFUm85GjUoLLjdslOW+7md1k1kC5xlAecstgglblobRTANoqweyixrrVMqigdqiMRTFGxq8Il8EOHeK9tlPHkbjxW6m1rNSGHgCNZjD0yrXHoIFQXZASYEfON+uTvb7zoJPIKJMAeM0wxNkftjdkIMvbX3Fj2pCBfE6ugZQA92BV09IfDjup0Sg7ZYNZGS1NGTBRmZT6zrpSFB1RMrANiLxT2ZnLkihQn00d3VAn2qGZLvjPQ9i45ms0DMMqWdof4dF7P7q6HWtFkxr6xuS5mLJNjtcja7D10eAu6A+bpEDbBGwH38I8CT5X6R7HztUz6jOdp87Bq/Lzkmkv3lj6AjYWy/f5SX9kfT6nXed1p0Jd9R1S6xC9Yg3MB6fjzdID2JljQVxsuyLbbdsxLkUBClCAAhTooAAD0B2E42pdJCCvm84faUKivD6rl5HqWx9UpyP9UAY7uhu5hh9lYJ+TyDxWLRnS5+UGS/mRQQizbsH6BXfZs3qU2zDlRz16LEpmDWnbxgYORlz87xF5uBKpJSclm+gsiiRrKltuULNLjuJtnUFqQ49oVp6jbY1zKQpQoC8K6Gf+G7JCcpC6bQfyyyokCHQRKnUA9BPux4O6Ajy34LMrwWnv4HH2tzg4UaBPCcgAffYgrpcaEQH1byV16BzcgBL5UBQ2jXGR7XtNaK4r17VtWzJA8db64LPW8Busn6FFmOPbV8f+gWy5DmlWFkQZjDDER65XziC1+GfEjZdBlhsykNWG25qMY3FNu+Zy5UGIkgxs9RGHDOxaGeD5Ozkyg+WBvatsapftXMuHTV7/QE1FuT0TuqXpYlUlyiRabatoul5Ly/NzCnSVgFJOSxnTPPiRh2Fwihir9JPx0vtLYfx9EvKLP8WWQ3PwfKc8L9HJ21NSjqO0CuYK5bENA9BddXzZLgUoQAEKtF+AAej2m3GNLhWQm517DYj3syFyfMOggW62p/ZV2V9HtUimsv2V22bLyuc1SqaRT332ksN89ZBbERctP/bPLsNyTOpJZ/wDKcdPYsU3pxE942Yo7SuXbhbL+Rbab7bBhg+ug3bUMCyRH/t06QKMR2RwoXTJ7i47gtVHpM7knS2U/WipSX5OAQr0XgGp22x1SLdUqdXNXvVX6ScgPkl+muylDGT25KorwWepB4TIaWObrdt7YdhzCtQLGHOPIU+ydFUjtVdKanXkHKyRLF+pYwGTjMeAMZ1UH6K2tj4720syiNuQcOzymEqAPfOEXI8ob3fFSmmLNsfGr0NEuDyMyjfJeBbHYBp/B8z2DGQZfDD8lrbVQRYTjXLFr5QLkxIiYS7KglksMkMmjaZppEw9cgSiBp9EWkMGdrQEv5XSZNq7hyOizfvgUoQfUqAPC1hhrqp/VKJWu6oRqPyyyaCBcpORX1EDyVPppMkGW8PFhvL3kxMFKEABClDAkwRcp3J4Ug/Zl34noAoYhmUzfo3IFq7XmoDIa65hyk3ViUp5pdUF1SnJcpbazxgko8cPdTH/ykfXQTM8AMumSKaPfGZRXrNV5g29RV6NVdr/QQbmueymAXfzZLWBg2C489dYJFlMyo2x0j4nClCg/wjkrZyO0LsiGn6m4rl9TvtuqYDJ6QbUZi5AypOxeC6r8eVzWUf3AJ6YwtHt+883p3/sqeXwP5C4X/kFuAHx9wZczdnrwDlYP+pm+/rm4nJk18dUrxnRYjTXB8elFnTbA8dOm629VF9ew2sg1C4Ct1dqQLvqbcBwxCnXMBZ5s+rwyfoMZL9b2jD4YENjA6UE2FC55K9Tynw4DWaoLHKpGmlHlOsSH0Q01H++0o2GDGzUSQZ24WnJxD4t+6GWAQo7Kbjvan+bfBaCl/7TiLIjrn8OrRsPZXy3xin0hT32ZXOSQlptmQtQoOsE1ND6SyayTMZ9xc1K69hnSPkYs/2VhwAENx2L2D67Q5O1AF8U2KulSya0rkNNcCUKUIACFKBAVwkwA7qrZNlu9wj43CI1Fn2Quf8s3t5SirD4oKuZPZJttGLr9/YR6/XhtyOy4YbPVvzfmFGsxqJ7b0PUEMe7wEvIM0qWorL80Bvqs4p8NNL+DcjMPo+UTwqhnTUa8TolIt0wSWZzkVHKauRewvwFv0WEfJyXnoMNXnosmhQgr9c6MFz6CXnHlBs8FfROGUYOS/E/PUXAlI7n1n4JezlM+VYYHd/5tebijT8k1H9HVCMwa/mfENXkLcdDSFn0HvbV1L8CbGkcXc6+bxXIeDkBRntiijfCE9bKd4xZKp5y2N33o+uOqzVnOaYuLYBvYCA0KnkAZqlCVcP350qffEfjuXXPIIxfF/eHiXN7jYD11Clk7P8eb+eflYxeL0RMD8OihvIb9p3owDlYpRuB+cPMWHH8BBJTSrF+1h2I9HN446j2J2RKNvHblbcifVZA07cJJNPZeOoSwhyuDSxlpUjMsEgAyQdxcl7v8AvtygDIcvlgPCdvWxXrsT5EGbBYJuU6ovB7rPjqWPPyG1eO5PUyGOGvsHrHGaR9boRNMpD14cPbEQyXwQwn3YK3N59AZkYRUjVhiAtouP6RQREzdxQjTRlUUKdHvDJYs9MUJtsy7D8MY24R3j73iywngw+2sSqZc1s9828r8ta8gA8azsU2KePhOBk3LcajWcrR8IZ6ygK8G9sptRB6Zle5VY8RCIu9D7r0zSjbvRzPTd2EN6cFOvy9sSBz5VvYI5eJvhMeRrTTK5x5SyZiVro8fNbNxs6v/tRkoNGilTPxouU+PPHo/YgKvdqmzZyDd5YmYaes5h3yOB4L9xgKdoQCFKAABShgF2AAml+EXi4g9ZzvHYNlJ/JklHgTZqw0w2APHsvI01LXWRl0RzPyN0ie4ljOQ17NNR5Ggvyo5YbQIAPvqL1kFPoTyiBCdVBpZJDCSY3LS/tT7sKa6gIkycCIK5L34m1lHT/51bl0dRsYJLWrGyXrfpbR6ouQvb8YmqE3ybIyuFCdLCu1oE3Ka6ujDVKag+U3PP6LV1OM7KzcKwMfNenvxUoczKls+MiKiS84743Mz/oa+1yWoLyIioLcqyUVZtrku8OIorOgZ/67q4/rxRbrm/rq7sNL615DTDC/K5753WCvWhMoysrD/bkNS9XJOVcGEbZcUEpkyTToBsRE3yUDDw92+mvYgXMwBiN+ThhMKRJoPW7C3NXlMiigZCP6DICt5jyM8lTR/ijYcGvzLl84iaS3MrHa7wYptXEdbOd+hkmuC5TLZfu1hu4azt0Dh2DRlF8he+cZZG79T4xOl9JgPr/APphy3QBo5VpEJSUyWno/ShNyGyK/knVlQEHgJsRFtF6mzHEH1Xf+FuvvPo+5+y1IejcLG+T6RCvbt1TWX5uoZMDBNQ/d5qKUmbQyJAAxwyRIflyOmQyeGCklQZqXPGvO6UmfmA/KObnAdY9qyg5gn1KsVyZf/4eBWNfL8VMKtEdAFfoM3n2hFI++JgMCPj0NeR+OQ0RoANS2KhhzcnGw6iJ8g2bj3VUzXDzYavhLIP/T/G+CFYd2r8NC+YG3LwK1kmkt2dQV0p4yeQfehzfXzeFYEe05WFyWAhSgAAW6RYAB6G5h5ka6VGDgjYhPiIQh93tskLqIRSfOSL6qjEKv0cgrondgUYRfkws7lQz+s+mhY0grlgGPpEZk0RErbDJqvUYCy9GRI+QG8damAwTKoIIxsyIRNuYYUvZXIltZp6zOvo5W8ytEj5QbszEB9uxnZYq4NwLrNSEv8DMAACAASURBVMeQ8Z20bzmLbKn5qBokdSM1tyA+Qvoz5sa21WzsUjQ2TgEKeJKAyl95BddfXsetgj3xWW4q/bWB0AeNxdRpDyNmqo5/NzzpgLEv7RawykC8yhtJ9slrANRyXjTobkKEIQBxY+S866IusX3Zdp6D7ev43oqVT0YiurAcKYUW+0DAeY3nYt1QRMo2Y0I0zR/9DZa3qiapYLRfS5y3X0voZfmYyCDEj2rIWLZvoGOTfvw4bPMxyjgTldKnWnsdZ71Oi5i770CMjwmT33eTBS1vfMWN9EJmiTwoHykZyO2ugDEQEdG/w15dOd7eb5ZrmbNiIoMs+92EqDHKtU8ADC0dA0gGdsTNWH1cMsEHST8MLmqIdIyEa1GgDwvI37hHNyErPB0ffLgDmQXFyNyWi4tK0Dh4PGYlzsHC2HEugs/uSQzy5tw7/unYmVMCY1kZLGXl9jb9g0JkjIg5eCJ2MvSs1OUekXMpQAEKUKBHBP7p/8nUI1vmRilAAQpQgAIUoAAFKNDTAjU/4JGV3yLP73akL7kTYT3dH26fAhSgAAUoQAEKUIACfUyAgxD2sQPK3aEABShAAQpQgAIUoAAFKEABClCAAhSgAAUo4CkCLMHhKUeiH/Xj9qW7+tHetryrR1dNa3km51CAAhSgAAV6sUBvOtcfTfpNE+ne1HdP+YrwmsZTjgT7QQEKUIACFKAABTxTgCU4PPO4sFcUoAAFKEABClCAAt0hwBIc3aHMbVCAAhSgAAUoQAEK9GMBBqD78cHnrlOAAhSgAAUoQAEKUIACFKAABShAAQpQgAIU6EoB1oDuSl22TQEKUIACFKAABShAAQpQgAIUoAAFKEABClCgHwswAN2PDz53nQIUoAAFKEABClCAAhSgAAUoQAEKUIACFKBAVwowAN2VumybAhSgAAUoQAEKUIACFKAABShAAQpQgAIUoEA/FmAAuh8ffO46BShAAQpQgAIUoAAFKEABClCAAhSgAAUoQIGuFGAAuit12TYFKEABClCAAhSgAAUoQAEKUIACFKAABShAgX4swAB0Pz743HUKUIACFKAABShAAQpQgAIUoAAFKEABClCAAl0pwAB0V+qybQpQgAIUoAAFKEABClCAAhSgAAUoQAEKUIAC/ViAAeh+fPC56xSgAAUoQAEKUIACFKAABShAAQpQgAIUoAAFulKAAeiu1GXbFKAABShAAQpQgAIUoAAFKEABClCAAhSgAAX6sQAD0P344HPXKUABClCAAhSgAAUoQAEKUIACFKAABShAAQp0pQAD0F2py7YpQAEKUIACFKAABShAAQpQgAIUoAAFKEABCvRjAQag+/HB565TgAIUoAAFKEABClCAAhSgAAUoQAEKUIACFOhKAQagu1KXbVOAAhSgAAUoQAEKUIACFKAABShAAQpQgAIU6McCDED344PPXacABShAAQpQgAIUoAAFKEABClCAAhSgAAUo0JUCDEB3pS7bpgAFKEABClCAAhSgAAUoQAEKUIACFKAABSjQjwUYgO7HB5+7TgEKUIACFKAABShAAQpQgAIUoAAFKEABClCgKwUYgO5KXbZNAQpQgAIUoAAFKEABClCAAhSgAAUoQAEKUKAfCzAA3Y8PPnedAhSgAAUoQAEKUIACFKAABShAAQpQgAIUoEBXCnh1ZeNsmwKtC1yGpcyMDblmZB87B/O5Oti8BkA9SAXtEDXCRt6CKMOtiBwysPWmOm2JH5HwYiEy69rToBpLnpmA+UPasc6xf2Ds+8dgGTkaJfHDoG7Hqly0+wWKVk7Bg5v88eLX2xCvbWH7tgrk7dqNnVm5KDpUCpOlBhfhC39tECKmPIyFCfdDzwPdAp7nf2yzFCNzezr25JSgqKwMlqqLgK8/tLrRiIz9IxbODLn232NrOh69KwlFMz5E8eoJno/CHlLArYANmU+G44ks+V1pMnnLr04g9KHjMSvhccSEaty20u0zLZ8i9u7lyNc9jp1fPQPDNXSg/txRifBV2dg608P28xr2i6tSgAIUoAAFKEABClCgPQIMQLdHi8t2ssDPyPi8AIsLz8MmLasG+UA79Hqg7hIs1bUwlik/J5H61feIf/IeLBveyZtvsbmB0GpugN4pAG2rrZUA+S+ABMf1vs6/Oj7QdGeMvMW+c0aXCNiKsTOnUpr2d9u8efuzmPVySf0y3hJ41oyQgGQVzGUHsDP5ADJ35eLdz15DFGMQbh09c6YE0l6ei4WNgTQJPAfqfAFLBcqKv7b/ZOxaie1/nYGWnk+0Zb8sWV+iqC0LchkK9DIB38Ag6P297b222ark4XM5DmYpPzvwxfKt+Pj/Z+9t4KIs8/3/zzFltGSKZGyFyc3hbMG4K3BYlbOBtIn8fWILwpJcE83FykUrLU1N10pT08w4abKFT6v0oGA/fOiF2IbiHtDjAdwarN3BsgHLoWgHTQes8//eMzzMDMPD8OATn/v85rdy39f1va7rfd0zzXzu7/W5EnVQXWNjYnevMAGTPLB7cCEOVTb2I2TBAWQm+Tt3zFKGgsP5OHDoKAzKw+HySliqa+QBsfIgRHmIGIzwcffj4fhIBPAmvMKTev03bz4wB/Ez96O8Yah+mPpBLp4P8nzsyoPx7C3vYo9yb8t9XSn3NWzfP+UBX/BQjI9/BAkj/PnZ6jla1iABEiABEugCAq4qWhc0wZAk4J6A4ePjdvG5rwbzJvwS0+660eELUi1Mp79FzvFTSD9+wX2ALjvbD4tn39Mkuin/CCL2fA/14FAcnNCvyXWeuN4IWGE2lcFUegK70t7AjrK2jE8FXeRkTJ3yEGJH6BqyYa3GfVg0cwF2le3GM8vGIPy1yI5nyralOyzTyQR8ETLxETyWOAZRQZq6zysrTIdexawntqH48FIsyozAZg+zHK2WcpjKy2A49C7WpeajWnot0jYPEriuCISmbJb3hsMSEKsZeatTMGvLCRQuW4DtkS2sLrmuSHAwnULAfBDPTHYWn5uLW7A6CQ+/46BSNxSsQXVlBUqV19H92JR6L1a9919I6MhTxOY6wfMkIAQsxS8j6SlH8bm9WKwwZi5A0mKJ5brApKYaleUnba/CfduwLnIJMtY/xIcr7UXNeiRAAiRAAp1GgAJ0p6FkIM8IVGFnoUUyn3siNi4Mj991g0t1yUIe+DNMk9eke6pg5J3qGV6W7jgB07uYce8KFHsQSRufhtzEpulTqoCxeGlBPvKm70bl4f0wIBLhHsRl0auBgAoxa/ciVuU6v2IXNOI5vJSUj/Fpp1CQewzW+LEeZRsVLYvHw1mK7MyDBLoRAZUGUQuXY9Lh8Xiz7IRY25gxLZHLQ7rRHdD+oVpKsOrROdjVmELa/liONSs/wourDyL2tZEefYZ3TuOMcr0TsBq3Ysaj21DqKhi3Z+Clb2DGfGch21s3FOGBslKvvAR5JRWS4W8/KuXh+KzNQ7F3hq49LbEOCZAACZAACXQaAcp6nYaSgTwiUCtZgza9RcQbjav47BxJ5ePj3n+x+ltsl+W72z//FsZqxS9DYg24FTH33IknB/d1++PBfPpLvJZ7GjllFpgvide0T1+E6m4Byk4jr+oWLJ53N6b5eDQSp8KWsxXYIH1S4pvOSY/69oFep8W06EGI6d/yOB0DWc9+iSnrP0HBRRG9En+DtGCxJuFxeQloRuL5twbBYmv1FHbMX4ED7hKoHHvVRJxsvKjSBUKRViqtFlhsnjOXdzhsreMEVC3Mr1anLPk+hRpLte2e8URG0yenYtM45aaQ7KjDazF7y8mOd5YRSOCaIOCPEJ3YcpTVwCLvHcd3jrU0Cy+m7ha/9XKYzfal5V5ifaMRK4+o+OmYnTTM6X1myUxGyPz8FkftFb0aJesdHxBZUJT5BtZtPijtVMjqA1/oQoYiJloFcwuRLNK3danvIq/4FEyV8t6VfumHj8TDKTOREESj/xbQdfyStQzbn0jGmycVec0Po6LVOJDb8memSu2HkOh7pexIhAeLFYxWDbX8N9giFkpFW0ScE4us+keA1ZViz+F0J3a8y4xAAjDtk4z9FSi0LXEailG6kzhQ0v4Hz8a9B+G4MM8/bjP2rhzWsLrOlJGMcUvsK6oU+qVHS2ARAZqfTrwXSYAESIAEriQBCtBXkn53bruXiMXKGvOq88g7/i88OeZmj/Q4y+l/Ijn9MxFoe4jo3A9Rt8utfPG8/IA8gw3bvkFeVDiyxvg4xPwRxoLjmLjbbPtRqep7E/TSvqX6nLRvlxg7Oh3mT0swMcMEo2jhas0tCPXrAavZgoIT0k/DGUybFo7FujYYRVd9hZS0OvF5QjjF545OTHvrq/wRKr559kONQx0VjMViwSZoiC+fpqOx2jsm1usyAmYRyZTD29fP4x946oBhiAqwd81SvQ3Y0mXdZGASuMoIyMNgiyIkekGjcfbYt5buxw5ZUQAvxW89ECHyuWmtFk/9k/nYsTwfOUdXY6+IyfUPe1S6CDww1tu2p4TzUQmDxBGNWz5+Hb1Qy5H9hOLrrvj7y3vXfxB0Kqsskd+PN4+6xqj/W5a9Z6QgUYSdSulXkCJWD5PvErLUvSh3G549lI/i9Rl4aQRlnuYIduy8GTnzkvH8UbtR0YilaXhFvQLDctGQ7ekufujcd5Dp5oJao4M+2Nf2XbFeCgyKHOrRA0Q3YXmKBJwJWI5i0fQF2KMkMXgNwWNvp2J4xigRoDsAytv1i6TzJ582SNmDpFGA9pXPPn4qdYA3q5IACZAACXQKAQrQnYKRQTwn4INJw9WywaAFhry/YeRXfpgUdhtCB6ih19wIdUs67YWvsXCriLq4FfOe+DUeH+hQuPos5q4/hp15nyA9LBKP97f3zFrxDyQr4nNPNSYlhmHx4Ea/acvZrzA37QRyJGO53Ue1xHhfxGfchITJw7CsIb4I38dLMOX9M0jfWoLQeb9GbJ8WWqn+WsRnpS8qRN0fjtSwvi0U5qVrh4AFeZkfyXaEso3hsJHuM/qvncGwp64EZJPKHbLyQXFuDh8V7NHDNNdQ/JsEuhUB437sUnyOvAIxapizPKIKno5N7y1BaIiLcKJ4/z6Ygl25r2JdsdgbhdiJqUIewSuvNaVnkszocfuUJqbj9bnBDQWMm+fgGUV89h+DVeuXOGQuywqtA+LTOvM9pwxDpaK1+FUkifhsCZyMTW8/hyiHpQ6Kt2vi77dhx5JX8cCHf0Koqz7UtGs84xEBeaC/bAZm7VMeGHghKDkNrysbV+71KAgsB/6EpNQT8qBC/k+yncsq66VnL/hHL8HrSbQp8IwoS7dIwFqKDY+myD4iyoO2QXhgfSqeDVGjIKPFWq1eDIgeg6DUkw12HuVZMxBdNgYJiQ/hAVl1aco42LjJoXzGPZ8iT8p4kAAJkAAJkMAVJtDjCrfP5rsxgYB7wpAqIrQaP8FUZsLK9yVD+fW/Ysjz+zF0zREkZ/0T2acvNslmMh3/B7LP9UBUbKiz+Kyw9O6PxdHK5mAWZBvqFeVa5OR+KeJwD4SODnMQh+3w1f3VCGhJFG7DHBnyjci7CGjDfuUS/wYEhAVj2RD5JXrxG9lQ8Yfmo104i4VpRciu6onw8ZL5HO7eRqT5ALxytRKwHFqBRVkiP3sNxWz5EUBd4mqdqfb0y4qi1KXYrqyF1T2E2bIcnAcJkEDLBKwWs2y6KX6o019FcY2IiUkiALts/KZSVga4is9KWLFHmjpukPyjAobSlowyRDAu/TNmLJYsQFny/vzapxtFYetRbJKHvTUiCD22frmLbYas0AoJcpMFK98rxHajHIGYvdZZfFa6pQ55Gs9Gy9Kq8o+wq7Tl8fOqpwSsMGxOwQyxJ1JkPP+4NdgsDxPa82lrrTyF4pMi3J081Sg+e/lhRPIaZKyN40Ztnk4Ny7dAoBw7n5qBV2xWG74YtUIy9kd4YtDVQuiAP2DjyjFQHIzqj8oSWb0xPwmjfh2FqVnKgxpl4+Rl2PXBGsR2UrMt9IiXSIAESIAESKBVAsyAbhURC3QdgRsRExeJ/LvPIsfwDXI+/x6Gs+fEO/kn8Xv8HjnKq/AfCBgSjC0P+8H+2/Si2FkolhkqWE9/gZVn3fSuyr4MzWRWxF7JIK6tEk9mxSP6ViR0iZfyRbH+OC/xRTgO7udGXLxBzt8K1YkzMIhftSVCMrxdu32hCivTjmO7uYdNfN4SQfHZFdG1+rdt05mndoto4Y0RL8iGWy4iy7U6LvbbTsC0dw5mpIkoIstqF62dCT2fLvDWIAG3BA7ND4duvsslEf5GLViDV5KC3Py3U8qaS5G9d7dsUFgCY3mlzQvaUl3TYLdgtbawm5cse3/xibWSIeiL8WtXY1KdzY2tB6UHkacsSQm8Hw8EtfFNaz2GQ4XSnrcXyrJexSo3o7TYnHhkD4hy+Z4iWY48OoeA8jmbtNzu0+wbuQwZK0e6eUDQgbZqKnAoLQUjMiOwSOwRprX1nuhAk6x6vROQlW9iF/NsrvJB442QORvxeny9rVvnjF07TjL2zdXy3hBLILchxX5INr4+EDkM+lGO9kNuC/MkCZAACZAACXQ5AQrQXY6YDbRGQN2/PxKU1z32ktYLP8B4+lvxZv4CG05YYDxRgpSBtyBLhFvJZ5INB5VyVhQUGsWGo4Wj9if7xYsXYJLsZPTtiwDFd7rTD+mTLdn6RgQ045ih8lHZfiyZqq02H2Cnn6UXvsdr6Qakn/kJan0w0iI888Pu9OEwYKcRsBqzMMu26Yzy4yMNGzv5x0endZSB2kXAfGABEp8SaxWvQXj47TSKFu2iyErdhYC3bgj0vnax11J2DKWimPiOeBovJbnPZLW/v3bbvJvh5S0+0INko79AqL3Vktl8EAdOtrSBlxnZ8+dihwjCuomr8dIo5/Q/a7lsbKiE1erqHm63YRZkwzqT0peaE9gl2dMtHVZrUyfqlsrzWksESrFptd3CSillLXsLSaPfaqwgqr/jYwhD2hREvyPfuWTeM+TBhuuhSdyCssS6s1K3IFM2IawX8Crz8dITryL0r88h1LUi/yYBTwiYdmNdlmLNZT9MWXMxLqsxgEWE48ajAjufGIc82eg4amkmnh/ehobkAdsqsfZ4s24jQ6/gyfIgT4fiA1my6vMEyuveFDXl+XhzZiIMKzKwmd9B2wCWRUiABEiABLqSAAXorqTL2O0ioOpzI/R3KS8/hHsfRtwR2VzQIP7NET+3ibhWJZlZJNzF8yIxzcezJtqY5+RZ0I6W/uo00nv2sGV/WQwn8cKnt2L14N4djcr6V5iA1fguZkxeikOV3hiuiM8z6A18haekU5tXMvIS5+1HuXjXTn17s/xgZLZjpwJmsOuOQKh49m6Or3ufmN5F0n3y+Zi7AEkbByFzhksGtDkLz8jKkTLJXh4+Z5kIK5HQOvwH3LgxXgTok80yMopdwyLJPPQKfgqvLxzWdNVRszXbcMF/MnZRoGwDqM4q4pzlXl1+qmHDQHct1FRWiLWGfFesV+DcFao/p/ZHeNJMxKTJxpb1KaTlx1BgBEIdM+ZbisFrJNAqgWpUlsmrhXL2+9oL+jbti25BzuJG8VmWcthsgWJlhV3suIfwvLUMOWIN9kyafdUApOVDq/+Mgvg/IbyFPvASCZAACZAACXQ1AXpAdzVhxu8AgRsQqlPbl+VeqJVFrcqhqssy/gFFZ39sW+zevaBWHrVclOzj2rZV8axUY5+MVe5rWsUWRMm2Usmu1U1s2GRjxGnTfouDibfJtQvYmXEMK093SUfdd45nO52ARTaqSnxQEZ99MWKpZJ2I+Ex5stMxX6GA4kWakYz4p0R8Vg3BM3+h+HyFJoLNXssEtA/h9fUPin9pDUrXyMZye23eFQ2H9ehBFIju6BX5lDy8cxafWxu2VTYDnLH6hPg+R+CltX9wa4uj8lX2n5BkZrH0aNlF2qE1jS80it+q+RSMbRKJWuspr18eAuUoKixvsp9IQ9sWuQeYsH55poKteETAarHA0vByvElPii2RQwa1WBlpHX9cqHSImfs0EhwdPypPwtjmDzuPusnCJEACJEACJNBmAhSg24yKBTuVQPXXSM//ttUffobTFtuPBrWmb90y2d4I190kZy4h70hFq/Vtfe6lRrjyxeySeEqXtVG09miwvUUor+vTiW/d/MipRV6J2XZef2e/pkKk7g48qesNbXAotoy/FepLFmxIL8L2tgrsHvWVhbuagGnvAsT//i0UW2W387UiPifq3HubdnVHGL8LCJiRtywR8UvEb9H3Xrz43hY8Tp/XLuDMkN2BgHr4n7BxYYS4o1biwLwUrCpuFFis1mq7rYLYbbhbuWQVOyu3h/mgZE5vk8xpP/n8Xd1kY8OGOrqhCFDE5NJ9KHAnyoiFRpMWVEMxIkQq1RzFjgxl11Eel4dAMJ7/qwFln7t/la6NgMM+bAhZcMBW9vDCYHv3xKpg3aOjMGz0H7Fos8x3qdivWKwi7JlhLN4nPuFLccDRDcE3EHru1XB5pvZ6bkX7CDKbuWeV+3NHnKMnoB+mfqDc38V4fVQ9lFKsezAcIb+uf6VgZ8ODLxXUjlkNNfnYtLm0LlHHXt9aehRFjp9tXr5Qu/swvZ7ngGMjARIgARK46ghQgL7qpqSbdOjSBWTvKUDEmqN4oeAsDNUuwnDtDyjI/x8ki/0GJEN40j2ahh+hARF3IkYcKiyff4Ipssuz0SVZ2HL2LLa/fwTJBYrxs3L0RUyY8iPWKm0akFPV2Ja16izSd5yQzf86xl0fHoBw6ZP5eAnmlvzg8MP1Rxjl3MIT4hvS+zZMa3ETxBugj/g10obfBNVFMxZuKkFOSxaXHesya3c6AcmM3TxFMmNl2bgIFc/8JQOvjOvcDWc6vcsM6AGBMvFoTMTULbLsP3AyNn3wX7KpWdt+zRXMGwHdnXroRr8MgwctsigJXO8EAhJXY+PEQSLqnsSbT8zBTpN9xGpdIJRPz5rDW7G91EEKVjYlXDYFSWmN3qqNjMqxc/4C7Cn3QlDyGrw0ooV1J5qReHiECEA1x7Bq/lYHocYCw4E/Y8b0V1HcBL4Gsclj4SvSeHFqMmZlOAs+yt4UpsIsLPr9FGwobVKZJ64kAcmmry77CDuWz8XD943C8F+HirAXhVEPzsWmo47GCHLvTJmOqLZ9tF/JEbHtbk0gGA9Ey+dmwyGfSWseQORvJyLpiT8iacI4DLtvLYod3Gv8xZojpoWPxG6Nk4MnARIgARK4bAToAX3ZULMhJwI9e0Itgq3VbEb6buUl9hR9+0Dr3QuqS7UwVV2ARfF67nkTEiaEYZ7fDY3Vvf2w+hELpmw1yrLKIow8bkDAgJug6fUTLFXnYKiymUQj9Pa6TQjl3wHDh+DJ43/DyjOnkbzSBI1sCqiqlR+L56RMb7HFUN4Jl8SHub3vCJ/bkTrhO0zMMCE746/I+/AW6H16SH/kx6zSH0VETwxGbKubIPZCeNwwrK7+G1IMZ5CS/im2JA9GeB8nevzjchCQrKn01bth1z4sdQLFKexZvQClyo9TlTdGTBHPvQafyHLkZR6zefx5qaqxZ3ES9jTTT9WI+cicO6yZqzx9VRIwH8Ou3ApldqFWRKtH47HKbUe9EJqSJpueOf7SqxPQ5H+aZFVKDOPel7HpULX9Wrnd17b66DY8Ix7TyqEKuh/PJnWyj63bvvMkCVxuArJC6YVUvCi7wj1/9CMsmv4ytO89h/CQ6Xg2ej9m5x7DS/cNxzp/yd4T519zuZIZ7QudTvKmxVPV8TBlLMAi27J0X6jK/oxZTzQdi8p/LJ5dOFZWVKkRu2A+dhUuxKHDK/DA3a/CW2w5IHYM1SLaePv7SZSKJp6t6hFLsHlBJZJk07o9Sx5AzmrZGDFI2pOMbVNZGcqVyhiEx5o2zTNXPQHZLHiKPBCZobvqe8oOkoB+rnxulifjRfleUq8zV5efwCFnNyMB5QX/aPnceiHS7WoSkiQBEiABEiCBy0mgvXLb5ewj27oeCXjfji0L+6HA8A1yPv0aBV+dh6n6AoznLohY21ME4lsRe6cW0+7xQ6i3g/hcx0LJjsqacxt25p/Czs+/g+HMdzCKgKwWETtU74fYYC1i9Dc2kut1Mx5P/g00uZ9hQ8m3MIrArep9E8LDfo4no29BXvrfsKFKvKI7sPefZnAwsmZpsCH3FLLLRLBUVuhKf8KHBGCaZCrE9G86DvdTeyNiE4fCvKkAL5R9geRtN+KdqfIjt5f70jzbRQQsJ7Hnnd0uWXDVKN5Xf06eJkQ7CtCN/agRr73SFnab8dLaxUYmWXXR3HVp2BoRvk42EaYcm1RXupOZm++U+dBu7MhyWe4gO9fvyqqrUxaIxyhANw+QV65xAjpMWr8apffNwI6ybZjxVCD2vh2HWLEwUqW+jHWZ+Sgtr4DVdxBCx07H1JSHEJCbhFFrnDchtJSX1wkxlSjO/cg9E51OxOGx9mvaOGz8QI11y99AdqGIx2LL4KuLkP/+zsTsyJOYde9SN+9zFfRJacgdvg/bN+/GnqMlMBSfkna94KsJxIjokRgfPxYxQe6b59krQEA9Fq+8p0ZO7kEcKjwJg9wn5so6ixcvb/hq5ftVsGTEJ0mGaBBTRK/ADLHJ9hAQn+dJ6/ciqnCfWALtF6u/kzCJp73tGVjDfT1MPo8mI3Z44yrS9jTFOiRAAiRAAiTQWQT+7f/k6KxgjEMC1ySB2q+Rsuw4sr0DsG+OeP9dk4Ngp0mABEiABEiABEiABEiABEiABEiABEiABEjg6iNAD+irb07Yoy4hUAtjxTmYXfyiUXsO2btPIkfsovVhWorPXcKeQUmABEiABEiABEiABEiABEiABEiABEiABLorAVpwdNeZv4LjvmP+3sve+hcrfoN0sdnYfk6x6RDPZ2/ZQRriNW0+D7NYNKtuvwvL7u5r69eV6F9rQL5YMa61IrxOAiRAAiRAAiRAAiRAAiRAAiRAAiRAXdk3vwAAIABJREFUAiRAAlcdAVpwXHVTwg51DYEfkJNtQLp4MxurrLBc/AlW8ZrWanzEB/oOPDm8P7T0WO4a9IxKAiRAAiRAAiRAAiRAAiRAAiRAAiRAAiTQbQlQgO62U8+BkwAJkAAJkAAJkAAJkAAJkAAJkAAJkAAJkAAJkEDXEqAHdNfyZXQSIAESIAESIAESIAESIAESIAESIAESIAESIAES6LYEKEB326nnwEmABEiABEiABEiABEiABEiABEiABEiABEiABEigawlQgO5avoxOAiRAAiRAAiRAAiRAAiRAAiRAAiRAAiRAAiRAAt2WAAXobjv1HDgJkAAJkAAJkAAJkAAJkAAJkAAJkAAJkAAJkAAJdC0BCtBdy5fRSYAESIAESIAESIAESIAESIAESIAESIAESIAESKDbEqAA3W2nngMnARIgARIgARIgARIgARIgARIgARIgARIgARIgga4lQAG6a/kyOgmQAAmQAAmQAAmQAAmQAAmQAAmQAAmQAAmQAAl0WwIUoLvt1HPgJEACJEACJEACJEACJEACJEACJEACJEACJEACJNC1BChAdy1fRicBEiABEiABEiABEiABEiABEiABEiABEiABEiCBbkuAAnS3nXoOnARIgARIgARIgARIgARIgARIgARIgARIgARIgAS6lgAF6K7ly+gkQAIkQAIkQAIkQAIkQAIkQAIkQAIkQAIkQAIk0G0JUIDutlPPgZMACZAACZAACZAACZAACZAACZAACZAACZAACZBA1xKgAN21fBmdBEiABEiABEiABEiABEiABEiABEiABEiABEiABLotAQrQ3XbqOXASIAESIAESIAESIAESIAESIAESIAESIAESIAES6FoCFKC7li+jkwAJkAAJkAAJkAAJkAAJkAAJkAAJkAAJkAAJkEC3JUAButtOPQdOAiRAAiRAAiRAAiRAAiRAAiRAAiRAAiRAAiRAAl1LgAJ01/JldBIgARIgARIgARIgARIgARIgARIgARIgARIgARLotgR6dtuRc+BXCYEfYS4zYUO+CXmnz8F07hKsPXtA3VsFbX81Qu+8DTH6nyGqf68r3N8fYSqrwPbjZ5BXZoGp2goLlH72QYCfD2KCtYgd0g/aK93NK0yJzZNAtyNgLcGqCVPw5skaBM3Zg70zdC0gMMOwdxs2ZeajoLQM5soa1Hh5Q5eYhtyFwS3Ua+Mlj/rSxpgsRgIkQAIkQAIkQAIkQAIkQAIkQAIdJEABuoMAWb0jBH5A9vtHMff4eVgljErEXO2AG4FLtTBXXYChTHl9g+0f/gPTnrgXiwd2pK0O1L1QhfSMIqz8/IKtnxBxPECjhtbWz/Mo+lx5mbAyW43Hp0Vi3pXqZweGyKruCVjNJcje8i72HDoKQ3klKqtrABEMfTX+CAgeivHxjyBhhD9U7qvz7HVPwIyceSk28bnVw3QQi55YgB0nq21FvXz9oBWt2mKugMlsabV66wU86EvrwViCBEiABEiABEiABEiABEiABEiABDqNAAXoTkPJQJ4SMHx83C4+99Vg3oRfYtpdNzoIebUwnf4WOcdPIf34BU9Dd1752n9hQ3oBVn71EyD9fDxOj8cH94W6oQV7ZnT6x//A9s8lg9uuLXVe+4x0hQhYYcxcgKTF+1Huqi3WVKOy/KTtVbhvG9ZFLkHG+ocQQBX6Cs3VlWrWCsPGFMzaVynPJLxQozycaO6wHMYzk1OwqxzwjXwKLy14CDEB9Z8iVpjNtkdbHTg86EsHWmFVEiABEiABEiABEiABEiABEiABEmgPAXpAt4ca63QCgSrsLLRIRnFPxMaF4XEn8VkJ3wvagT/DtLj/xME5oUjw6YQm2xHCcOREnfg8AGmzh2Gek/isBLxBshhvx+JpUTg4eRDCvdvRCKtcfQRK38CM+c7is7duKEaNHYNRwX7wcuhx5eGlmLW57OobA3vUpQQsh5ZixpoTUA2bj1fi/Vtoy4K8xQvt4nP0aux9+w8O4rNSTQWNrKjoyNH2vnSkFdYlARIgARIgARIgARIgARIgARIggfYRYAZ0+7ixVkcJ1FrrsoXF61lzQ4vRVD4+0DuWqP4SE5d9ggKfO5A16+cwFxolS9qMoqpaoGcfhA4ehHnjf47QPs5hjSWf4rXj38NgvgBzdS0slxTbD7HTGNgPscN/gWmDHTOwpW7tWaTnK0vjeyIm9leIaVFcFiF6cCAmKU2e/SfGvvoZDL0HYMvC/0CUG19oa1kJItJMsNyux8GZg6BtkQAvXm4Cxr0H4Sgp+8dtxt6Vwxoy300ZyRi3JB/1Ce+lR0tgEe/fjsmIl3uUbK/dBIzvYsZTu1Hufz82rX8EmrR3mw9l2o11uZWAdwSeXzoWmuZLtu+KJ31pXwusRQIkQAIkQAIkQAIkQAIkQAIkQAIdIsAM6A7hY+V2E+glwrNN0D2PvOP/snsrexqs+hvMXXMYyR+aUFD1I9TyOMV68TwKjn+Cies/RYGLc4fp09PI/vx7mC70gGaAbHB4uxoBfWphVPybtx3GlPxzzj346hvkKaf6Sia23o2K3Fx/+2sxTSdvrYvfIP3ERTelapGT/zXMImxHRWgpPrshdMVPebv6aThbJGiDBjmJzb7+/hSfr/ikXaYOWI5i0cylKLQOwaL1SxDVylMH8+F9KBZ3Du/IyYjpbPXZw75cJkJshgRIgARIgARIgARIgARIgARIgAScCDADmjfEFSLgg0nD1bLBoAWGvL9h5Fd+mBR2G0JFGNZrboS6LXrvJclk9h6AxQ9L5rHOnr1sPVuBuduKkG3+Ags/1uLgmJsbxhcQEYp3ovshvL9zcEvZp5iY/gUKcj9HzvD/QEzdZVOFRURiyZL2uxWe6M+ySyFi7r4N6rIzyCs4A1OYS4ZzVQXSP5f0674DPRO2r9BMdcdmA6LHICj1JErrbH3Ls2YgumwMEhIfwgPRg2DKOAix87Uf/mPwfMqw7oipG465HDufSsGOMl+MfyMV04JcH1S4IhFv5sJTtpMBQUDORtmEMCsfBlMlqmu84O2vQ3j0ZMxOiYO+FSHbNTLkDvSsL00j8AwJkAAJkAAJkAAJkAAJkAAJkAAJXA4CzIC+HJTZhlsCAfeEIVVEaDV+gqlMspDfP46Jr/8VQ57fj6FrjiA565/IPn2x+exoEXDTZv+HZBs3Wmeo+vth9XitbZm70XAGBoeWFU9pV/FZuazWBWDSAPnHRQuKFMW57rCITYdyqCQb1lNtSH3nIMQqvtVffYn0isaYyr8MBadQJPpzgAjT4W0R2p2r86/LQSDgD9i4cgx0DmbPlSX78eb8JIz6dRSmZimT6ouQicuw64M1iO3szNbLMUa24SEBK4qWpWDRYSuCkjfilVFtmXQLTOV2o5biNTMwe81BmLz8oA8ZipBAX9GQT+LAloUYf98cZJs86U57+uJJfJYlARIgARIgARIgARIgARIgARIggc4jwAzozmPJSB4TuBExcZHIv/sscgzfIEfsMQxnz8F07ieYzd8jR3kV/gMBQ4Kx5WG/plYVvXrI9l1ND5XuNoT3NEkWtGRXiw2H3sEL2nL2a2QXirXGGQuMVVabF7T10k91Irf8rwjDnXL08sG0ugzv7CNnMW9Cf3tfa78Vv+rzYit9K6ZF9O2Uphikawhoxy3B6+ZqJC3Phzj4ujkqYTi8Hwcih0E/yt/tveimEk9dowTMe+dgxpaTUMtGghvnBrVxvqthsbm3eCFo4hq8Mnekc6az+TBefDQFm07ux6LlIxG1fmybHna1ry/XKHh2mwRIgARIgARIgARIgARIgARI4JonwAzoa34Kr/0BqPv3R8I9v0JasojRi8bgsyW/xb6pQzBviD072niiBCn5P7R9oOIvrbH5S1thabBgrkVB9hFEvHocC4+YkFdRC1XfmxB6522IDRuAUDdasNrbnp5srZY4bW+9oWRA2EARwgGzeE/n1PlRWwynkCO+0mq9ZEi3uKlhOxpklc4jIN66qyaMwvg68dkreDLWrV2CqWOHwN8hK7qmPB9vzkzEjMwGQ47O6wMjXUUE5H5Y9hEsgZOxce3Ypg/DWu2pCvpoF/FZqaOJxPMrH4FO/ll9aB/y2vRB09G+tNpZFiABEiABEiABEiABEiABEiABEiCBTiXADOhOxclgnUFA1edG6O9SXn4I9z6MuCPnUWQwwxzxc5u1RtuPxucrls/+jpQj38PS+xZMmxCMJwf3dcg0rMXOtDMoctmDUKNRykidiu9gqL3dc7sMbz/xeD6JghNmpJf8gNhwIDvfLGJ2H8l+1rQp07HtY2XJziNgQc7iFLxZYrdOAAIxe+1ziNUCseMewvPWMuSkLsUzacdgL1GJQ6v/jIL4P0GmmMd1SUDSmOX/1Zzchgd+ta3ZEZauGQ/dGrkcPB+H3n9EhGpfaGz+PfIQy6qkQrtZs6ELhl4eapTVVMCkWAC16vfT3r40221eIAESIAESIAESIAESIAESIAESIIEuJUABukvxMnjHCNyAUJ0aKhGgrRdqbVnIbRKgL1yAUVEGe6qgrctsNogIrGg7+uhQLB58Y5u6pVh5RPUWK49zX2OD4S6EB/duU73GQr0QFS7WISdOo+jIaRgGAulf/QQMGIhJA2/wMBaLXz4C4st7uF58llbFs1freOOpdIiZ+zQK9yZiU33ic+VJGOUGC2/TDXr5RsKWOouA+H1H3wuLw23hGNlSlo/Cshp464YiXCdLG3SD6nRkNQJ0fsDRChhL5GYZpeQ6Nz1sLh1i06FuVXxWyrW3L03b5RkSIAESIAESIAESIAESIAESIAESuBwEKEBfDspsoymB6q8lK7gXYiP6tSgqG05bbP7MaslGlgTUNh1mgwkF4uWsEnuN0LpN/iy1Ivwqcfq42/XvR1jt+w06x++lwbSwm5AtAnhe9ifIHvhr+8aCzfTC9OlJ5HkHirjcWEAlQtSkAaex8owJKRmyMSJ6ICpCi4BmYvD01UBANp1UhMB6sbEmH5s2lyJqRlBDcqq19KjThpXw8oXaTXLr1TAa9qEzCARh0sr/wqRmQhlWj8P4tFPQxi3BxhnOIrN+3DD4vrMbZbnvwpDyHPQu94m1+CCKaiSwv2RCt+kBRvv70kz3eZoESIAESIAESIAESIAESIAESIAEupQAPaC7FC+DN0vg0gVk7ylAxJqjeKHgLAzVPzoXrf0BBfn/g2QRf9FTjUn3aJouXpdMZ8NZZ+XYXHYSKdlmEa37iK+0X4O4rR9oT4UuyjeiqM6PWWlQ2ZRww9a/4YWv3PVUMrBH/wrTNPI2OfcNUt74b7xQ8i8XP+gfYTpdgZVbP8bYbadQ0CRDsi8Sht8qfbdKhqxI6X3FlmOIp5nU7vrGc11HIBgPRA9yCF+D4jUPIPK3E5H0xB+RNGEcht23FsWKaFh3+Is1R0ybsle7rteMfHUSUA2fjseCFY+NbZgxLwsGB59nq+kgFi3ZLZtcemF48iMIdRpCKVaN1kN3px7B8w5fnYNjr0iABEiABEiABEiABEiABEiABEigDQSYAd0GSCzSBQR69oRadFirWfyRdysvyVju2wda2fhPdakWpqoLsEgWM3rehIQJYZjn58ay4uI3WPhqDlb63CRWGzfAeu4HGKtslUQ4DsNiXWMdbdhdSDhyDDvPGBG39EtofKSdWitM5yQzuvdNCBB92ujiAW0bda9+WJwcBmwtEvuM75CekY/098Xaw0eyZFELs/TTrDSpHOIvrfep+7fD/2iCByHmw++QLRsiBgTfgSh3SdhNq/HMFSSgn5uKF8uT8WJuBep15uryEzjUZK9BL/hHL8HmFyKbPiC5gv1n01cTAR2mrV2OwslzcWDfQow//AZCgvyhspbDUFIhifZe0MWtweuJ/ldTp9kXEiABEiABEiABEiABEiABEiABEug0AhSgOw0lA3lEwPt2bFnYDwWGb5Dz6dco+Oo8TNXi3XxO0pNFnNb43IrYO7WYJlnMod5uxGelsb634fF7VDAc/wZFZ85LZnJP8VsdgISoQEyTTQydVrr36Y/VT4QjINuAdElBNFf9BLWPGrFRgyTGrTBsO4i57gRopR3v/lg8815M+tSE9ONfS1sWEcjldakH1H1vQvjAfogK1iJB1GeNO3FZvKjVfSTOpVswKeJmjzCx8BUiID7Pk9bvRVThPuzI2I+8kpOyQVwlqhU12ssbvtpB0AcPw/j4yYgd7iY7/wp1m81epQS0Y7Hxg0HYmfoGduQeg+HoMflc8YV22P14bMp0TBNvaDq4XKVzx26RAAmQAAmQAAmQAAmQAAmQAAl0mMC//Z8cHY7CACRwOQlUf4mJyz5Bgc8dyJo32GXZ+uXsSNvaspT8DyIyvpEdEEOR/4hfg49w22qzFAmQAAmQAAmQAAmQAAmQAAmQAAmQAAmQAAlcuwToAX3tzh17fk0Q+AE7882Sna2SDRdvo/h8TcwZO0kCJEACJEACJEACJEACJEACJEACJEACJNBZBGjB0VkkGafNBO6Yv7fNZd0V/GLhL51OdzSeuzY649wXK8bBevqUeEeLz7RGi0l1ntTu+quU5UECJEACJEACJEACJEACJEACJEACJEACJEAC1xsBCtDX24xeA+PpsNgqFhyOR4fjdRmzWuR9bIIJPRB+9x3Q17Vz9fa3y0AwMAmQAAmQAAmQwJUmYLXCqlLRc/5KzwPbJwESIAESIAESIIFuSIAe0N1w0jlkEiABEiABEiABEuhqAgWLR+Dhd/yw6KN3ME3r0FrxnzDswfegmbMHe2fourob3TS+FaYDW7Hunf0oKC2HubIaNfDDA2/txSsjuO1pN70pLs+wTVsRP3oFimsG4bH9e/FswOVplq2QAAmQAAmQAAlc3QSYAX11zw97RwIkQAIkQAIkQAIkQAIeELCgYFkSZmQCMcnT8crcQAT4+0OtZvazBxBZtF0EzMhe/gYMNe2qzEokQAIkQAIkQALXMQEK0Nfx5HJoJEACJEACJEACJEAC3YuA5dBSzNrrh5c++C/EOmaedy8MHO0VIGA5tBarCoORMLYMO/ZdgQ6wSRIgARIgARIggauWQI+rtmfsGAmQAAmQAAmQAAmQQDcgUIpVo/UIfHQfLA6jNW6eiMA79UjKdDxrL2ApzcKLT8QjMiwEul8Ox7DRyVi0+SjMjrQKF2CY1Ne5ebnGtBRvxTO/H4fgX0r5X45A9O//hJ2lTdv1ZDJaj3kUz4TpMW5jmS2scWM8dGELUKD8Yd2HJOlLYz/bysiCvC0HoY4cBtPqiXY+d4bY+Ly4twzWJgOwwJD5JySNHoFAaS8wLBrx87aiyHXohWKbInGS9jZGsBqzMOM3egRPeLVp+SbtNHfCCuOBVzFrQrSwD5H2FfZzsOFQeUMFS2ayzOE4vJj5Lp6pL/ebeMyS+XbtplLJXGify2H1c/noy8g2uo68DBt+5/7eiF5d2thZ87tIlPsnfnNjf2xtZEyRPsVjg9F5XFbTYWx4so67jGfY7/6IVQec69prNOWeOO9dGNwNyLkJt39ZD/zR9l5xd6/rfvsyipxqNW3b7Zy7bamFk9YSrFu+D5qU+XigEx58FC2Ldj+eCe86vc9Nh/6MZx6diOjfDLcxCAwbh0TlHnb6MFAmzT6Xbhk9muV0L7U5pg1H6/ewnVpT7u7mvKW5HOd4H1pKsXPZHCT+LhrD5F6zfQ7K/eb8Pj+IWcr74Hd/hsHN1FnkvgkWZk5x3ZTjKRIgARIgARLoDALMgO4MioxBAiRAAiRAAiRAAiTghkA71+Kb92FV6gnxLW56WApfRuKj22DUDEVC8nMI0Yi2VHoYu9LexYikYYhxquKF4clrMDW47mS5CNfLP3IqYS19FYm/f0vi3YtpC6dDZz2JPVu24dnfn4L1vS2Y1A4P266I2YSEW0anUFxWg7LDK/CKdyDGC5/ZGiuKM97CpqeSZGPkXdg4ToDVHcaMFCQuOQbVsAfxbHIwVGUHsWnzCiSWViLz/aehb84u2pSFWZMXIs93OjLefhqh6ia9a8MJKwybpyBx+Qmogu/HYwuHQqOqRtmh3di05SgmjYhDY9hT2L54K2IWLkfmMG+YDr+BZ5YnIwmZyExq9BE3H5iD+Jn7YZV4U2UuNTiFA1u2YvaDMpcfpCHBVRgNfBDrUiLtGzPWHMa6p95zI9K3YShKEWEy476FKFBHYFLKEgSpq1G6dyvSZybC9MYevD6qfjSKRUoikrZUImDsQ3g+eZDcwMewI20p4sss2Pv+H9COW0464ItRC5bgAf/G/hampWBTpXP/2z3nrWAwZryM7db7sTlRB1VqK4XbetlrCB5b+weE2MpXYs/ypdjjVNeKonfeQJ45AjHxYxGk8wbK8rEjQ+7hknJkfPAcQuvvYZmXZ99KhVmeRZj3vozn96nwwIqnMUqqqDRDHO41D2LK3dK2e7jtc64KmYmNb8RJZCsOpc7Fjsp7sWhpHLTwgibIt3H05fvxZmYJNNEjMTU+EBq534ozt2L7U4kwWjOxOd7hRjj5FtbtfUje+45v1FK8ueYjVLudC+WB1wN4s8wXD2w7hFeGuy3EkyRAAiRAAiTgEQEK0B7hYmESIAESIAESIAESIIG2EFCrRdlBuQiiovhoG5VMU1lFKyKfFQWrX8UBt8qIiCZLtqFUPQZvfrAGMQ16ykN4PMXsJiNWBc2wkYgZUddjYwlWwVGAtiBn9VaUYihe3PZfmFQnUCZE+iL+vrVYl3YYCSvrBMq2DNpWpitiujbeHCORrWzJvr4Yv2Jzg+iZME7E5fsSsWn1WzCMew56pYj1MN5MPYbqwKeQ+Zd60TMOMbpkRM/filW507HZSbCq64NpH2bUic+b/9Je8VlimXZj0eoTQOQyZL6tCGx1R/wjeMxscRAE7ec18cvxSqKMQ/4MCFiOl4pH4bFUER8T1yBKOSnjWbVkPyzDlmDvXx5qiJcwLhAzfjsXq9KOIuGFYfWt2P9XHYyoUSPtbVks2IH3RKRvz2FB9pIVOKSS+/I9uS/rNf74kdBJZv3zqe9i9qg6xqVvYdGWcgTMyUDmjCC7+I04JIR4IXqyCIUHHnIQqz3pixe0w+VeD6qvIzdClpezAN3eOW+tG2Z5sJN6ClEvpCJc5sJdtm1rIdxf90eIzI/9oVI5TCJsOwvQKkQtPSC8NXUclShxiA22InKmPMgolPuzftNNlb/82y7KmsrfAPZ5IyRSYjc+j6nrggcx23oPezLnmiC5J5VJtMDyDrCjRodwYWB7zzoeusnI+OvTIjw3nkyIHwq1IhxvPgiTvI8an7dU40Cq8t6Xh0p1xc1738B2++IL18j8mwRIgARIgAS6hAAtOLoEK4OSAAmQAAmQAAmQQPcmoI+OgL/k1+15Kh6JT8zBrCf/iKTficXC/Pxmsu7qeJW+IcvIKxESNwaNua1114z7kSOiiS5+poP4XHdNrWkiWrY6A2IbcKi4Bl7D73f2Sw4Yi/GiAVUezfdcTOuKmK4DaZaRqH+KGOsdgQdGOChTqmA8EC2ZtuUlKKhXWEvzUSDZsUGSOeqYcauJvh+hXjUoOlDS9EGBiM+zJs/FAdWDUMTn8HZlPtsHYz68D8U1vohNdhCfG6bSNbA3wqPt4rO9iBrhI4LhVX0MB+ocM6yFcm9USrkpY6ARFd5a/1JFYJSIu5XFJXBxzHCl2uzfVquIgSJQN7zsKn9jeUs+dhVWwzf6IUSpHdq2+kq/A4GT+Q2WEIa9B1GGYDwcL3e3Qz8RMhKh3tUoOHyq2X50+EJ75rzVRsX2ZdlaFPhPx7MO2fWtVuukAmon8VkJaoVKFyziazXM5e3zNGlrzLbew10y5yqNk/hsG7lVh5BAefBXWeb0IMXL1xdeZe9iVWadL4l8Rr2ZKtnPcl55TNj0UIs4Pwbjx96L4Q5J103L8QwJkAAJkAAJtJ0AM6DbzoolSYAESIAESIAESIAE2kog5GlsXFqJZ1IPojBXRDUvb/iKMJQQZ0V21rFmopRj+zLJSNY+gj1JwKwsl2LlkgUpS9Gjgh2WlzcTSVFPlWTg5lwkbNWslTBJprXa399FvPaH1t8LECsKVyvZ5pprON8VMZ0abYmRF9TKgDW+jknnttpanaIknUKZYsmgpEaalbF5Qe/vojCpZeySFXqostKWUd6YIFqDQ2sW2mLB6yQMAqYjArSpTPFGHiS2CfaQLf//vhCd0elQi3imkh6aFU8F5V9yb1TL/x2YGY6GJGDHGv7lzhnyir9LizdHY+XSNQ8gZI1rD0VYrj/MJ2GSeJXvJCFIslabHoGQpG6BaYV93Kfw/N2heL5pQXhZXDwz3JRp9ymP57z1lqzF8sBonxcStj3STusQ921YrQK07nmK+xJ1ZxXf7dVvYMfhkyivdjbtCVFitOdoY8y23cNdNeeKp/SrWLX5IxSdrHR+qOdd4/TwSB05E1NLX8YrkgVdJCsgtLbsZ1klsXQyzEvWulk54i92N5LJ3x52rEMCJEACJEACzRCgAN0MGJ7uegLmgv/G0N3fNWlI1bsPAvxuQdTwADwefLPn2UxNInbtiYZx3K5H/sxBDsvdurZdRicBEiABEiCBq5uACnqxR9ib6NLL4j8hpxkB2iIb0q07qsYDb82E3kuWyXfoUFxUVVC1UWTsUFOXsXLLjFTwFt3crXm2J3202Xg01We9g6dj4wuD8ObvF2LV/D8jqt1+xZ50RimrzKXrUXfGSWP0E+sR8fx2I2qrVL4OAmk1KqW6l0rdJg1aN3E1XhrXKNRb9q7AY26EZt3EVLwS7yZlVOUNraP/tGSoL3p7JkJdhyQPBFS+bXi40qReJ5xoZs5bjlwuG+G9C1Pw03hYpzwMUErX2MV2+Ze10gyzeERobE9FPDusFumQcGuxpuUwnpk8A7usQzF17hqMEo9kW3mxBHlm5nueNVhfuitiKrE7ec5Nm5MRv/yk+IjPxEsR7UzoAAAgAElEQVRzJeO7jnFR6hSxp3EZumoQJi28HzsmSxZ0RjACtuQDYlXzbDTwzJL2YWItEiABEiABEvCUAAVoT4mxfOcT6H0TQjW97HEv1cJcdQGGsjO2V3ZJKN55xI+ibudTZ0QSIAESIAESuKoI1FjzsW65bCAXuRrPKr6t7vwSJFNZKwKXUTYYwyg3KqPDiCyV1VLSG2pXNwfHUYsoqZU16EWSPaskqDYWlUzrclE2JZO4iUVsa9S6ImZdm60zqhtvqfRf9LsAB/XOZEt99oUtEVo5bGOrkXEq5x1ET4vUFRjetgxjx8MLoUkzER6kQsALBxH91BuYtTHCwcfYqXCrf2h1SpunUKr40LYKWTLVlQFJ2/WHWfpdLTOm8befU7LYvSG2IbL5YmhIi7KlhLCKnYbMt3crAmddY2rJ3A8f3sjIXKYYFziYlGsCoRXh3yA9CA2p3/HSHQKVZNbLBFTLoxH/YPn+665MF57zeM5b60ulZNTXoKZ8BcbfvaJJ4U2To7BJNx17Pmz0Hm5SyO0JmZ8amW9587b09rUW70ZOuWyU91Yanq/3elbiFe9z88DCbUNNTnoSs233cFfMeTmyM2WT1uD52Piao9ezxe3HpjJI9fCZIjjvx+zlc1EoKw8eW6/4pL/bZPw8QQIkQAIkQAJdRYAe0F1FlnHbTEB1px5ZM++2v2bfg/w/xSB/shYB8njEZPg7FpZcbHOsK1FQE/6f+OLF0fiC2c9XAj/bJAESIAESuF4IHN2NXeYhmL1gbPN6ZMAY2SQPKMuUzedc7V0Vj14HFsZiUTa9xOKhpYRS8UYeIf7ANYW7ke24+5xxH/aIt7DvsIimm3+1xrsrYta32SojDcJDxOtZvJF3HXKgIZ6vuxQbFP+hCK/PxA2KQLhooaWZ+5xEK3PubhTViNg8ytFz2XnQmnFL8FK0GqWpC7GuuGlucmuIlOuayLEI8apEdlpWk43/rIo67HTUoCDroMP8liMns0RU8qEYUee3oRou94ZvDfLStsLYpEtWyc51iCk2F4pzh8q2UWYnHOqhGD9cfKb3voWdjvdRXWiLpAbXd0mvbEyIY9iU5sZj2yoZw65D74TuNYTowJy778YgPLxiIza95fxaFK085ZBs9KVyfsVD7bDmkPkxywMgb98WBWibh3aTjokn9eb9sv1pOw8PYrb1Hu78OZdRu3MXMe7GjkJ3FxQWGsTOmY+Ho+/F+DlL8Jhbn5p6ZiJwL5uDGU8uwE53DwLbiZbVSIAESIAEujcBZkB37/m/Skd/A7SDf4llYWZMLJRd3ku+hzX4Zy0vwbvSI+l1w5XuAdsnARIgARIggWuegH/ic5jkuCNekxEF4THxLc15dBtm3FeJhIkiYkoWqaX0sAisKsz+q/iWWkpFnNyGdZkV8B7xnGwK1ySIwwk1YuY+gqAJb+HF6X9E+RQRB60nsWfLuyhWDcWLyZHt+P7hWUxL6THkHDgFc6miPJbj0AERWmtKoOhv7hJkW2MUMOVpjM9MwZ75SaLUP4QR4jtcnPkWdojn66i10xsFdVUkHksZihzxgE38fSUeiw+EquwgNm3OhzVQNpQTgbn5Q8SspUuw574UvDn/VYz64DmEtpZ07BpMe79YB2QhcflCxE84hqnxQ6FRVaPs0D5kVz+EvW/HOYiPkl5cuBSJT5bjYdlcsTx3K9JFfw6aMx0x9e3KeJ5dOgYFM9dKvBIkiNAbpJaN6Eplo8ncfJii03B4oWQnW8tRkKGI7MLXclLYV9h7pjCXf1nKjqHA6I/wgJbG7zoYDRIWPIc9Dy7Fsw9ORGF8HIbLgxJLWSmKC/ORh0ew9/26TNUgsUyYmI+kLVMwTubnYdmkUI1KlBYfQ15uCfRrC/H6CNf4nfR3h+bcXR/UCBge2URg1hxVfGAk83dYJKJafD+7iylZvIe22h4AQVcum2EerNsItBLFStK5zFNeYQRiJSNdFTIWUd4fYdeSFKiTxyBE7p/ive8iu1z85oVpew6PYrb1Hu70OdchSjYVfSXtDRGJrZg6yh9Wk2yEueUoLBph39xDjIA4vLQ+rg1YLCg9vB8H5DNDnQgkeDyHbWiCRUiABEiABLodAQrQ3W7Kr5UB34CAATdJZyWz4WKtLbuh4XfN2X9i7KufwTBAPJdnN/Vcthw/iiHvm6G9+zfIj/VxGPCPMH56ChuOmJBXcQFmSaxW+/SB1kd2Utf7YdLwnyGgzglEqWSpqMCGj08hp+wcTOd+gqqvChqfvtAPvA2TIrQI96kTnT/7XwzZdAbWIWH47OGfNbZ3oQrpe4zIqZD6stTSfO4SrD172mKE3jkQj0ffjtA+zvNRkJVrE92jJoxE6u3fYUPul9L+9zCekx9JmlsQc48ei8NubseP4Wtl3tlPEiABEiCBbkvAdwyeT2k+67aei3r4c8h8PxDrUrchJ+1l7LCq4KsNRNSUR+yeuqXvYtHqgyJOTcfrS0e2nEEpQVVBTyPjL754UTY/3L7sIzFWEJuKkPuxav3T7RZePIlZvm8pHttXP7oKvDmzcYPGJgJ0WxhpRuKV9zZCu3ytZBe/jD0i2vkGDsPUtfPx7DjniAGJqchQvYoX0/aLp/M2yTj1g37cfGQsfAT61gRlaeclEXyLZm7DrGUjkfvCMA+/n4hHeNIWZPq/gXVp+/Dmst3yfU8sUYKG4uGUYS7z5o9JK2bCukU2XVtcAata5ntOGl6a4ZzGqRm1Bpnbhkm8rchOXYpNyr2h8Yc+UgT1eMkMVw7zQaxak28z0KjOWojHXDe6zF2BZ8QewyZWe3IEPISNH/ghffVb2JX5MnaJ/uktfs4BIRGYPXGkw8ME+d75QgYyQ96QDeQOYt2ybbZxa3SDEJ4oGaohnjTqedkOzbnnzbWjRjl2Ld+GYiWR9+Q2zJb7y/nYjWeXBSL8/4mgrxmLV96uxKJlb2H7knxsV+7f6D9g41wrXryvqSVImzrjUcy23sOdP+f6lDS8aV2KVbIa5Fn5/FDe4wlL0zA8NxFTc9s0UhYiARIgARIggctK4N/+T47L2iIbI4E6AvWb96mGDBXhtn8TLsb9H2Nk3nmo5foxud4xAfpHFGX/DROPWEQEli+LA9XQ9pbfILLO0SBrMK3oiYSp/x9W32XvhuWzEozdZJIloT2gvb0f9LJC01L9AwxnzsNySTaPj4pA/pib7YWbE6DrhXKJodH0lfbE8UY8rk3m8zBLDPhosWVWMKIcROh6AVo74BZYz3xvy8RR9ZYNlC6JF55SR/oZNSESW8JubMKLJ0iABEiABEiABEjgeiNgyUxGyPxyPLZ/L57tjExM01bEj94tWduZeLxJPAt2PjoC63RbPBegrzfwV2w8pVg1OhFFyQeQEd/kEQxMm+MRnXk/chUB+or1kQ2TAAmQAAmQAAl4SoAZ0J4SY/nLQ6C2CtsN56Wtnggf7ONhRo2bLladxguK+Nx3AFJn/wdiHSz/rNVVyJZMZ3ND9vO/sGGPIj7fhEnJd2OZziEtuvYHFBw3YqdNDG7l8P4ZFk/VQKu7GVqHEJAYOzP+hrkGE1YWBiDqnr5NApnOnIM+7JdIja7PtK5F0cdHMeXD72V55ikYwgZ77knZpBWeIAESIAESIAESIAESIAESIAESIAESIAESIIGuJUABumv5MrqnBGolQ/jMt9j+4SdIl/RftS4Q84Id1VtPA9aVr6rbFbp/P4S77Dej8vZBgqNVR+15GKqkXs++iLrdpe1eNyI8/FcIb0s3+vRFeF1GtVNxiZEQocFKEaCNp0UUR98mAnvo+EhkRThmOfdC6N2/QNTHx5AtYymSdaNKVjYPEiABEiABEiABEiABDwiog8XiwxsBTZNrJYiskouficd8/TwIyKKdS8AXI6bMRFCQew9udchkzFbrWrXW6dw+MRoJkAAJkAAJkEBHCVCA7ihB1u8wAeuJY7jjhGuYnggYMgSpE25vsrGJa8k2/S0+z8oqy6IyIxZ+rMKTYRoRcOs8nF0D9LoJASLu5lWZsfL9L6GKvg3h/Xs3EYldq7n9W7Kdi05UYOdn34nVxzmYq2vFe1q8oOszqC/96OxvXRdE3ceN6C7CtSI6Z0t9ywUpSAHaLXKeJAESIAESIAESIIFmCYgAnTCjOX9nEaDH/YGrzJqFdzkuaMQL+w/NNqQOicPjXeyT3WzjvEACJEACJEACJNBuAhSg242OFTuNQN+bROCtc3iutqBAMUj28cOyuNuhd6PDtqtdn4FYPLrCZmGR8+FxeUmOi7Sr91MjVK/FpOD+CGjwYr4ZT94/EAXbTsNw4hNMkRfENzpg4C0Ivf02JIT7NW5A2EJnrGe/QsqmT5BT9ZOUsvtAByjt9e4F1UWx/fj8vE18bvvRAyq+Y9uOiyVJgARIgARIgASueQLq+DSUxV/zw+AASIAESIAESIAESKBbE6Cc1a2n/+oYvEqnxzv1mxDWiv9y2t+w8qvTSN6mRlbyzzsnAxo3IPSeu5Gv/xrZhd8g53SVbUPBIhGBiz4/g/Tc25A689eod+JQ3/Ur7Js3ENklJuR8/j2KxCrDWPaN7bXziBGTJos39F0tqePnkJ5hF5+1evFyjtMi1DHj+vTfkSdtK5sM8iABEiABEiABEiABEiABEiABEiABEiABEiCB65UABejrdWav1XH1uhmPPxIKw7rjyC77BMlZfZAV19+9z9slKywejlPd/2eYFCsvW70fYT79DTZk/x3pX32DFz7+FrFx/Rojet+M2AjlZT9lqapCTu4nWHjcgu17jJh2V2Dz4nj1t8g5I5nPvQdgWeLPEdqSVu3hGFicBEiABEiABEiABEiABEiABEiABEiABEiABK4VAj2ulY6yn92IgPfPsHraXQiVxyPGwiIk559ztqoQf2TbtiTVP8Bc25SL5YKbk02LyZkboBnoh8XRGls8c1XLgrbaRzYrHH+HfQPCaitMbmPWnZQ+2Ow1ekpf3YjPDR7QLcXgNRIgARIgARIgARIgARIgARIgARIgARIgARK4xglQgL7GJ/B67b7K79+RNmEANLiEgj1HsfCzi41D9b4Feh/58+I3eO3IvxqyoK2Sobwz6wji9nzfBIu15H8xdus/kXPWVZyuRYHBYosRMOAmu7Bd9SWmrPtfpH/2QxOPZnOZGQYlusa+qWGThupPKJse9pY/zkmGdYlDnNqLKCr4OyZuPU37jWbh8QIJkAAJkAAJkAAJkAAJkIBnBCzY+Xs9dL/7M4yeVWRpEiABEiABEuhyArTg6HLEbKC9BDTBwUirOI+JefJlKuM4ApLD8bjfDRLuZkyTrOWd75tR9GE+hnysEqG6FuaLymZ/KoQO6APzmQsuzV6C0fAZkuWlFnFYr+kDdU+pc8aCoqpLUGlkk8J7bq6r8xMsZ87ghU3y6n0TQv1uhEbEZEuVlD1jhbX3LZgXOxDalgbWqz+ejL4VeXu+Q07GXzFErEQ0fSSuZE5bLvWAVtpXXbzQROBuKSSvkQAJkAAJkMA1R+DCv7Dzw8+Q/mkVjOd+kg2AVdD69UNU2B14Mvhm+a92FxxVpxC30oCiVkJroyKQP6b+v/2tFPbk8oWvMGXpCeQ51FH17gO9zg/TRv8Csf2V7zLX3mGp+AorxYIs5/QFeXDfC1rdADw5PvAqHM9FFOR/htcKJWlAWd0mG0nrB96GSdGBmDTQzbK0a28qrsoeK/fHax9+IffHOZgv9YJGkjViIn6Bx8N85Hu6/SjK/ghxR1y/o9uv6cf/FvsibnQe24UqbP/wH9hu+/yQTcplA/HQu36OJ0cPQri3FP3sfzFEvq83WvL1kO/5fRF65x2YN1o2M6/bYNxU8N8Yuft7hE/4LbaEKRkiDseFr5GyRqz/vAOwb3Yg9A6XTPmHEbFHovvcgax5gxHqXPM6++sHpK/7K1440zgslbx3tANvRUJUoFgP3tjweV2QlYuJhbLW83Y98mcOavxNdPafGPvqZ7COjsLBe/o68PkRpk//gZUfV6BAfqOZ0RPaAf1s98e8rvrvwHU2OxwOCZAACVwPBChAXw+zeN2OQTYOHDMUq835SDF8j5XbShDwxH8gRr5wasPCkCW5yC98/A0KzPLjQn7YhQ6RH3bRAYj6qghD3nf+cquSjQC3TDiNnSXfoqjinGw8aIG1Z09oRIyOjRokYvHPEFD/m8RnIFKn9sD24xXI++o8DKfNsIporHyhDQ8LkDYGIsqn9R+PARHD8E4fpY8VKDIrX7ZUCNBpkXD3L5DQx4iR65kFfd3euhwYCZAACZAAUFuFlWkF2HCmF0LDRDQaoLI9zDWUfY30j29CgggPAV3Bqe+tIvTe1WiVVWVGeuF3sNyuxZODb2poUT2wS+TvxhFpBmDxcGXJluw5ccYsGxsbkVJWBfMT/4lp/bti4F0Y8+yXSE77BAU9b5HvMT8XkU5WnRV+gZQ0+b41WzZxVsTAq+I4h+3pR7Dw858QcKcWk4b3hab6HPIMFdhw3E8EaIe9Pq6K/l4fnTB/WoK4bSaY5b0XO/wX0Mv9YJJ9VrKzPoHm9kg8Xne/awcHYJ63shrxPHI+NqGo562YFKGxCZga14cDVRVyfxUhu7oPwoN/jnny+WE1f4vsTz9Hul4E6MGN7LT6uzBNp3w3t8L4+ddyb55A3OnzeOeJQNs+LNpwPaYdyceG3M9QMCQY4Q7PIQwfn0T2ORUSJki/nabjotw35yRJRVZIms3IqYAkpVwf89XiKOQ9Pmm0n+2z2VptQc5xE1Zu+g5FiRFIC3YR77/6EtsrBmFei1x+RNHHBZjyoaxQHXAbEqIVwdoKw+cV2PmxGZO66r8DLQ6SF0mABEiABK4EgX/7PzmuRMNskwRIgARIgARIgARI4PolYDl+FEPfr0JUYpSLcCGC7Fkr1P0bM+q6lEJdVp55eDiOOW423FWN1mVAF+jDcOKRnzVkDVo+/R9EbPsGqsvVj04b34/I2ZGL5BMqPD4rUsQm+0N4a9nfMTLtNDD8N8iPU4T2K38Y849grGSs6kf/Bu/IyrbGRwy1MFWJEOnDDOhOn6XqCiSvKUKO90ARfH+F8LqsY6Uda9W/YOotD5ocztnbr8LCl/6G7d534eDsf3fzIOoistPzkPK5CtOS78ZincO81f4A08UboXXIgNbfPxLvhNeLoz+iICvPlqEbkxgtnz32upbPSjByUwU0oyOxrz47t1pWK6w5gaKBQ3Bw2u0Nmdq2Pirv42WfAHHB0OwvgiEiqrFep0PsrICKBUc4nrU8hQP/7w9uuLbUTl0GdLXM4yKZx/qiYk04cY08fPKRDPE59gxxewb0j7JCVLLSg8Pl/d/P/l5zkwFtPf0pxq7/AuY7h2CfMHZcQWqp+kGyy290v9l8S13lNRIgARIggWuSADOgr8lpY6dJgARIgARIgARI4OomYJQVRyIzI0rnkjWnbAIs4nP9YRLRMGKPFdNm3YvFLpl0tiX7hX2wet5/IkEEJ6uIuEO2WTBp8i+hOS7WHmXnxNpKLBbCApEa59eyPVYzuKxnK/Ba7pe2VU8mxSrLtmLpNjw+OhAJfi6CpVgCpEtW5wbJjFSsHULD9Hi85z8wJa8nVi+RPjYR2hobVUvMUHyDPLNYFKCfTexqGI/T2EXw3ZqD5DMDXZb9/wjj8cbVX5D2FZuDqIi7sDisi+xMlO7Xfoucz0VoGhAgPBpXgKlkVVeMz2mkSyZjEXzs9gR1ApQqKhQxZqNcs3PSS+brsvGSOe3Cx1p1Fun7xWJBVqaZpAmNRiMZknrMG9x4f7R9zsWu4cj3sPYdiHl3u/IQyxBXjbz6LDZk17fdQ9r2Qayt7b4u1jA/IlvmI0WZj2QNcrI/w06578yKpZowSZ3577ax5+3Yjyllflg2pgeyc4VJ1U9Qa/rJBta/xDyxL3A6as8h58OTeE1W5tmsaWRFXpRkDi++p7+zCCqVTAXy/tgNLJ4lQqjMv1LHJFujqH364cnJwzBJyS5WrG5yjdKv72GUlYFmKOPph9h7AsXiwHU8zl3p6F+mklPIudgTMXGBTuKzElfl085VDlVnsEHuObU+GE86is9K0F4iPrf4HOEGhOtvgarwDIwVYhNRJ0Cr77oL8+78GnOVjOfhkrXfR4Tq3H8g75Ia88a7iM/SjOVzWWUp1xbrNJKd3QM7PzXDJMJ1ixZ8zcI0o2DzG9i095isAClHeTXg7R+IqIkz8eyMSKeYBYtH4OG9Q7Hu7WE4tOzPyCmtgFUdiJiUZXglMcjp3rSUvosXFytlKmHViB1OytMIarYP7bzgo0GUfFgVyOeWSZLX9Q3sZRVp2E+yYlQ+O0eLnYbbzz5hnG8SP+qb8LgwdmWnFvGZBwmQAAmQQPchQAG6+8z1VTPSO+bvvWr6cq135IsV4671IbD/JEACJEAC1ykBjS3bVJZwf34Rk1x9Vx3GrA3WIvzDT2Spd5UI0I4q4bdinXUBKt0vbPZbjYdVNh3+DDEiFm4Z3RNmgwEpH5YgRXMLslw9ZNvA1lx2SoRsIEb6kaAst78kfS48jbnrZZPiWXc72GWcQ3p6gXikqkQs1CPWTzYyLvgEc6t+lFbUrbck4rZZSql69nIROFuvqpSwiM3BxPclg/pOZd8KH6hqxW7gq6+R86nYinWlAH1O7MhE8FSJ2O0sIInXrkb2M//8PIzixBHqIEAVHfm79OlXSJulhspswgvvf4KJ1T2cMyCrvkLyuhMo6KMRf+Zfijh9CQYRM9O3/Q2myVFIHeyoMrZhzqu+R4FkOauHaGy2Cy0eF85i4fpj2H5BRLR79HhSbCGKCr6Qtgtgcmc1oASr/R4vpItBrtyPixP7yn0i1h6FIkQrjhL17Z2TseZqMO/+cCzzuYSi3L9j4bajsCZHYvHAevFesnszCsRe7kd5gBFgy+61fHYaGz48hriqodgX19/N3WQVO4ujMPeRByNxdyCgp7ASWxHTOWlbEaAVwfb499AMvg3TwtSy74i0ffwUtmccgfFSpPged5XQJ+8BeXgA3IIYV6G4xQlo+aJFNv1WNtELHdzPDYuW6ypXzeL9LdIz1N5yfzYcveVhQADSX/8MK3OrEDNc7P2OXxBbv2A3ljginH76LazygCFcPsfUg0XQzvoaedWDMKlddjOnsCttP4xBIxGT/AiCRNA1F2Zh05oZiP//2XsbuCjLdI//dwwZSJmkGE0YKWdKcWxFllU5m0q7Kv9M+Z90aRPdstgWs45pxWonyzbLVo3KllMW21LmkraSdD740gexI77sAV3+iMdGtAVdGyAdCneg8BHs/K9nZoB5AwHfGPzdn89szvNy39f9vZ+ZHX7P9fyuyndRsGqC+zzr94qwrODRtAw8qqtHYcazePmFNOhHb8XiFoXZkosnfvUidmvH4+G0x0V4LsNH6QuQr0484sKMOn9Eo9yYk6PV7y2Pz5UxNhJxxYeRLV8QCT6/421yY0/uLIXKzSp/sx3qPCAeSQIkQAIk0EkCFKA7CYqHXToCFE0vHUv2RAIkQAIkQAI9lYA+2oiEXfJo/qb/xviSQUgYJpl0hpsQF+lhvRESjiSDGWllFhTdHdrqz6pUViO/IUAKFt7sIUL9AF3sKKTHOQsIDvwR5pcUYpXZCuv4W7wySC/ERzcyFgfk8X1XCTlJskZnrTos3tF1SEl0iOLK0Qqs+UpEselxWOcUupNM/R0FzHwMojSL4Kw+Yi5NqT+D7LwKqV6hEY9cXbdEtVJ1fkHhWPfASMS3CEFx4r/qY+xLuqn+e3uRN12Ip3Auwpxd4JN5qgKVawakTjKDJSPd7vE9ULLTz9Zh/KYvkXVyiAix6sYmEVTNKAwYjExnfQ97zLGDYMwsxFLJSF800tWaoRNrLv7iFulCFyqFnu2dtd8sJZL5XCdr8UBcq9CdNEpsBP7wV2R9JusUPdLDD1j6ahChf/wE5EoWrKN/Kabp4kPsGE0ygafHSME2xwIZ74tG6etiNSEZ0fNbLB6qT2CNWYFerFg2tlgXxIbLeIWYW/wlciQLOsUzWxuNqAh2tzCIG+7yuIDuVmxcEiXCc9uck2JvhPY18T3eewqWWJdCce1j6cae71Ehmd4IclpiOHuw1Z+VJxPU4uB9oAmSgoTBbZnznRnEcvp7uaqkAF4nLVMUKextUePAD7BWfy1PNHwrMUnxPJdMevu4A4fK0wInxZ7jMFJPfi8e1IOQIdm7XteLM+tfH3uT4xo23AxTc7ncTGuSm2kXurvha4ZRWPxfuyUr3WWkmfciRjMNszevR/7SCUhyu4clN7nSXkPKRMfxxhd/gx0FLyJ/a6UI0Ab7AKXr3sLu+ij89i+ZmG//oM1A4mhg8i//AvXj2O3WLEXa5XtL/SyhsRFFcjMpR2506MfJjULPTkNuxhyT3AAsqvF9jTU5xevB3c0c9xyQ70mABEiABPyZAAVof149xk4CJEACJEACJEACPZWACMuZCzXIKjiG7LJTkmVcgyyJVSOPdC+6bxTmt1pz9JXsORFl5ZH3nK9MiLMXE5PCVSWnRHAVS4a2Z76dMxXri+FO8dm+JRh6NRO3RrW2EAGyizw0IUFeApQSpLUXUit1ZlKqMpD52DcixEoRvmiXbFLJ3k0yBCDvkI9Bjx3G+FVt27ViL5GSrFo8dEfAkmxOyUDEWTWjsEmE/O714SPKC28SIVFNqtSImOjZHPLYeREb3ffoxbbArok5m04EPKPI70ViXYHI/iJsWcUuolluJNyC+KDzUNQsYnvTiH2CKHFbrCitFwG6Ndu0E2veKP2oPVxQ7JRsZzVrN0gKog1z4dg3VK61fsgq/NaeSW3yFIEDbkKKFDX0EitbQlf/GxDqngncV4uEIQGSISrzaRqCBBnOUim2G3LNpoi42dZXXyl0LZ+BQ1IAu7JJ9nmur9yIubMDi5m+QdB5nKI0SYb6YPlTT5irYqKn/YFr2N3/t1wb6toHiNDc2kkd1nujijQAACAASURBVLwtQr4wVJuuG57nylmHeK3t5F+qpZ/9FeM/awlArFEMkUifLhY6nmso9j9xk8X6oqxUPkd95GaSPMngyzriK7HKEVuR+GFOVTj0RsTpfkCW2HDY5GZBJ5538EAqWemeX0xysRpHi5i8sQqS8O3+EEXgKEwc53Kl6eQGgnwWzNYqOVAVoCtRVCxVEaPuR4LLB00zegYSIv6C9z1G79LbszVYsKqm7ZT+8pTA3WOw5C4fQr2k/sfHhUOX6SxG6Llezc7vhr6u10eXouHBJEACJEACvYiA5/9N9KKpcSokQAIkQAIkQAIkQAJXlUCIiHYz/lVeIkSctsnj+mI1UGDBqqxSaJ/+V8xxCkRaU6QIkSL6lMhj74aBYi8h9htHFbEU0Ldl+7ZOpA+0HrbSLVKNKkB2uYkfb5748a41izBY12wXMVuaRkQnR5PCiSJGI2iAo/hZ6xHXSZZmO5LkkFuRKaINJKOwtEz8kCvl/BBNxwJmB8HH3CVWJCJqZ2XmI0c8g2OGDIBJsmBTJHPXU3zsoJuu72oVF1tYtHXhYHWdiOPu3eo8A+ovftVyjFn8iQERoOsdns/W4iIML/YVkhZWsfVAqwDdiTUX4VldCUWE6I6bIpYCMpcQby9h/UC1B7EUUVNIPcXLoGAfxfQ8RlJ9ud0ETfE7V7N4mxthFRsT1arDap9YPxg9+teE9hORWDJ4xaqlzdOjpf/rRRDvKIu4CeaScqySbOfSGtXH3KUFOW4geER6id5KdrO69o2uY/THnPvGIK7+FNZsOGm/KdTVpglSb3Y0e93YaK8fozwRsUS9UXVWPst7K5Av66uVjH2fLWQQ5hj6oNA8AHNcbya5HFwqQrM1QD5joZINXO/wWDGJmK8c+xpFTeH2GwldbdbiD7E642MUHjyO2nOuZ4dDcXsv+zRaaD2+VjTyXmn9cqpFVa0cNyLC44ZbOAyq/YbbBdDFSOWm35L7IuWGkVyLlf/AmmKbrKFc1+10oxGxP1F3EjnF32DRnR4HBTi/G5ou5zXYTmDcTAIkQAIk0OMIUIDucUvCgEiABEiABEiABEigtxEQIWKgZIfKSy1oNf59ixT1+h5zWjyb+96EOSM1yPtCbDjuHYi4SovYb4hFgluW6OVgovrx7sOCY5KFfad4AQ/v7xDUIH7PHx5Cvgypaj7tSMz2gFwFa9cINSK+x4+82X5uQvRN0KvWEh+ZEf90NOJ9ZV1eaHqhQ5D5lE6yd6U4mmTRFkrxv7WHTkoRsDuwLfWWy5ThKkGJUKtmfFaIEOfOogk2VchVxSlPX1yPjGhIJqToiV7NOC4W6bE+6Eq2t1fRQK+zPTb0VwVcyTCua5Q4PYsQXujkTuyXLM7ONM/rwZ4hfNFNMkg7ED0te/djxhYbjKNuxwqxsdEHO2ItLRDP8pMXPXgHHag2GTKWVSwbVF3dfl33lSKeA2FsVJCN7gnQeilSqhHZ01LnarDdfhi6ITokjHTclUpw2uKkbboRO1tsT9xOFSG/5S9gn38J/1OsNmQyctNg6es7sdTtXCvyK88jYXhHNwO841SOvI7kX78H64hfYuGqZ2CKEG90OUwp+D1mZ6pKcg9qAcHivX2zw25jZDhiQvZgxmelWGVw9TF3jfcGzBk3QJ50kWKE4j/u1vrK0ynqd0ODIwu/PRG7B82eoZAACZAACVxGAp37JXUZA2DXJEACJEACJEACJEAC1w4BzUBHMTubPbOwpV0nBdkGQX9WrBmkaGFhiTzqHioWCXY7jsvYVCuIY83ibxqLzKlikWAIRUykvAaLPOQmHKqZrLLtrJo96xqPMzP6giFej6S7I6GXInWrpHBdS2u1tXAbS8269M42tp8jVgsxI2/B/MQfY+PTP5ficsGwVZ5E3mnfASjyyL7FUgV74nF3mwi7JtH2FKvDY7mtmwaUWiVOydw1egjqFnuWr0ur/87hz9zigRsi14CIfzYRK+28PV/hciOgA8HV51QGir+4ZBWrBexKXS8tr4NFNFW9q8Xb2uJxnOW0Q2Jvs/7wOrnjDWelT1/Xh4h6OmfWvs6eIi2ezk6LipYOlTqVUR8R830I8h2O+j3ypAChMiQKmbNvQ+Lwm5w8pVBiR+cpsp5ybVhkXbvfZP3sNhViDSPC7KVq2iE32i1czFIIsMvRBd+MRXcNkGzlL7GmOzGdtqJQ0raN42Kw7uExba8HjIiR4o+F5jNdnqZ58zYxzRiPl//0O6RMm4C40dGIkZcuxDP1ubNdhyEiTI6Vz7d7hnk1KlWXjkvYTHcOR2L/75D9maXdbHZ9tBQjbD4lVksen3u5AuPFggZ1Ity38x11CUNlVyRAAiRAAj2cAAXoHr5ADI8ESIAESIAESIAE/JGAUv2NeOl6i1KWo1+LG7D4tEqWo2tTH+VOCG1G/j6xmVBFYbHliLncE1f9jUX89ZT8rIdOiAes++CmYTeJnHLGnrnd2hq/QZ54GXemaSKHYv6QPjDvOob8Fp1GxEad5OuWVrsMVncKeTXePXpbS0imqSqUt9tEXH9yCib+fAp+W9BlGa+tV8lOTxgmIlKNZK2L7WxLU9QsdRFR9cMkS9IjBqtkZxe5iLvmkq/tvscxBrHfUFvwjUgUGwSrWJPkeAix6m61iF3XNfNQycSUzFJV5N/3T4/zzzuzadXenaLp2W/l5oNLkE11yDF/J4K6+P162m84ou7E/56RLH7X60N8zSt/gCZShxinoK43iI2LCND5qt1Ma49NKFJvuqiCXZf9veUmgK9L8LQF2TJ2u+3g65gp18bEX76F0nYPuvAOffRQsc+Rz23BlxcQ/i/cV+sRA/VIkWvOZi7HmpMedwmaPEV+736NUnQxPqgROVL8sasWIBZ5wsAs12r8uHDEDx/Y9hopVhODRfMVG46u8lK8PDYkZqUMH+WWewffqS0GxEl8KN+O/Iq2E5SDuci/xAI0+kpRzNh+UCorsPak9/e5fXR7MUKxNRHffotb/OK5PV4v17sI2Fu+8tgnn3Mpdujrm6li87N44rGn8dKOSz2ZTsHlQSRAAiRAApeJgM8Hjy7TWOyWBEiABEiABEiABEjgGiFgqzmGWZtsMA2Tx7kNasariIAna5BzyAZFF4n5ozxTXG9A0ii1CJxYTIhH7vxY10KDlwlaiDy6L6Lw8uJSpAYMRWK4iKIirGZ9If7TkrHqKqZohhuxaEg1lm/Zj9Q6oxz7A4rEb7aw9Xn+C8V4PRLvGoRV609hbUkDEsaLGDtYRK7QE5JdeABpZ0VwD2hAfvG3sHpaWqAJ+Rs+x6pmHRJNOimQeB1s1V8ja98ZaAYPF2uTdsa2K5yBIrB3JFS3c27r5uuQMHkYYo6ZsTZrH6zjw2FqFLG2uAaW/oOQMdlbrdU2VmNBJjA/bgBQLcUn930HrUEKT0a2dBqEJCkAl/f2YaS9tQ9FsXrEyRxUn/BSyWAuxFBse1wKr10oNI/9xjtjsOTYPiyXonT3VOqlyKAUDaxvEO/xapgjf4K9M8STW5o+9nbM2XcA2ZuKRFEU//GQH1BaVIFsqwYJyUaYujhu6+Hil23+TL0+hsrNlCYUFosf8dlgzJkshdpaDgo3il+xFHor/htmNRvFj7gvrEfFG/2QIpn4o3wUzrtQMP0RL8UTVxUeQ+pH55Ey8nooknGas1eyh9VMb8+k1NbunNm3Yi58MVcHpNjoihnVmLGhArNer5PPsBScDFFQYZabEDKWLqDtz03VUzjHLih/B7MqmtdbkbXLUSBRZ7gFSZEt3wlyfcz4EfLfKhXP8z0wR4vvstxsUerqkF9mhW7G/4PMkR1wCR6E+dHB8ln6UkTTcCyL7OyTFPL0hVktUCmfSy+/iOvle6wf1PTofLkREyP6b2dbzOTxCNv4KV769e9gTR4LnVKOHRs+FaG7C514DBaT+jgmbl6KNx9JRW3qVIxQBe3M7bLmnY2q88eZxhsRt+8QskXQny+2Jt7NWYxQLIE8C8FqIqOQEf8tZhUewj1vnpIirmJHFKBIUdevxatbj9yFt3ll6luLd2JLQT0Mhkfw/JQI7+G4hQRIgARIwC8JUID2y2Vj0CRAAiRAAiRAAiTQswnohg1DerwITsckS3iXZCJKkq82tD9ixt2BRZNvac0IdZ2FSYRIU+FRmAeLeNh9baYLYK5HyoOxsOYeRY5kXueLFGeMHIQlKcNg3lCELLee+iMlJQ7IPYy1IsYUql6psSakG77E3MLOCVzakUNFYBRBdpcI1+PEC7pvKJYkm2DddEwKIZqRrxMv7OkxSCregwVuWdB9obKJKbYir0AE7LOSVSvWGDHRMv70oXa7Aq8mIldxpWwNuwezJ1+UxAgMHIp1qX2wastxGd+MHJWT4VZkTI9Cog/ByzRZ5lAjFgi58ti+FOYzxd6BzOlD3AXlgbcgc2EwsrZLFnSJ9CnOJNr+UuhPsoUXjRvUbtEzr3m6bugra/TwBBj3ifAo2ZhrtpyEIuMbDeFyQ8PFkCJ4IFY8Ngb6vKPI3mVGnlybusFSMFPWYkm0R4XLDgf02Bl0M1bcp0HOlnIsFXsSrazn/IfvwBI3K5kgJCbHQSPrvabsS6SVOD4XcXePwbK7BnqJcZ0Z3jR5LDKbD2NVifR3yDGXpBljEWfeh7lf+O7BcqQctXJzYvSs+7svuDu71kf/BNtCpWBdwXERfcthFXFZFzpAbjJEY9H4thtJli8qJDvdVRH/Vm6+fGvvxTQ93EWAlg2h4fbrI1syq7O++IfMTToNkmt+mIj2rTcyfM8NEEufu4bK50WuK/m8zE9xuQHQ3inq9sZvkX9SPluGtox118ONYtGjLbSI/3oDlohNTGebZuIL+GAl8FLGdqx+5lNoIgyIn5WOd/XvYdqT6oe0G003A3/4s/S57C3krHhRburJZzEtA9M3P4SXfaUVd2OI1lPkJsP86KOYWyLFVKuHIN5HX+oTLElSjHCtV8q5rMXUn2JbpHwfyP8PqOthk5t2Ol0oksbrunyTycfQ3EQCJEACJOAnBP7l/6T5SawMkwRIgARIgARIgARIoDcTqDuOe1aZgbvjse2uzgs8VxNJad7nmFEyAOuW/lgE5asZicfYB3+PCb/8GLpnN2PzQ4YrE9jpv+Oe149Ce+8kbIy7CCH3ykR7SUcp/Gg75krW9cbnfuQo4HZJe7/UndmQ8+uJWHzkHrz/2SuI79As+lKPzf5IgARIgARIgASuRQLMgL4WV/0qz7li1y5M+kw89rrQNKPG4Ojs9p4v9dVRE3Iy85FWGYyUx34uj975OuYqbTtdjkmvV6AiQIeMF8YisSf9sXqVkHBYEiABEiCB3kXg1me2dnlCJ1ZOg3nvP2AOGIAV0Q7xuTv9dHngTp6gxufdxN6hshEasVUwyf+fX+14XWO0HDyAqrBJeHnmxYnPnZ2TLz6dPdebq39t8Zx7T5y3W4xi17D7IDBiwSMXJT73xHleqSvHc82v1LiXa5yruZa9jeXlWiP2SwIkQAL+ToACtL+voB/GrwnqD6OXr1ozrFKi3aZW/w4NhtbjytSEdu7RVj/EwZBJgARIgARIoNcR6JqgcBbmL6Qg3K7/D2uLxSvYFItEp61w1/q5/BjzN+3CWtws3sI3OnxMxfJgTU0wklIdj/j3pHj1D21G5UMXz+Ri5nQx51585Fevhx4/b80E/KFEFOiLbD1+nhc5v2vpdK7ltbTanCsJkAAJXB0CFKCvDvdrelR93E+wUywU3dtppP3uAHLOajE/9U6keNez8TzBf98PjMLOlbdL5fPrLq7oi/8SYOQkQAIkQAIk4ELgO2RtKkVOcwCMw4Zj3Yybu+WDeyWQqh6wmr3VWFVWYfcx1YvHb8rD4hssheTYSIAESIAESIAESIAESIAEfBOgAO2bC7eSwGUmQPH5MgNm9yRAAiRAAn5D4Cak/24a0v0gXmNsNDbG+kGgVyvEgbdh28rbrtboV3Xc+NlTceKqRsDBSYAESIAESIAESKDnEqAA3XPXhpF5Emisk8rJFcg2fwNznVoJW61Ur0PSXbdjjuH6LmQTn0VhbhFS5TFfDDZiY2oUYoLbBrNVfyVVvE+i8GQDLA0/2McxGQZhzuRhSAp3z3Aqyi3ArGIF8fdNQsaQb7G24B/IrzyDCqnkrtMNQMJdJiyLvcE9tsavMPfFQyjsH4lcKVQTow7tLNojZZfab0FS2OZ30W6FbboXawIyDTapKn4M2UfVWKVK+6hYHJh9cxcYth8m95AACZAACZAACZAACZAACZAACZAACZAACZBACwEK0LwW/IPA6a+QmnkI+SLsavr3g2mYPAJb34DSYxYsP/Y18u4ei413ybYLzqYJRXkHnOLzrVjnJj6fR0VRCWZ9aoU1QETnyJuQIHV7bHU2lJpPIO2YFaUP3IkVw70fs63YW4JJNWdglfE1IlhrAxTxtP4W2ZuKYMEErIu9vuPIgrWIHzUYRh9HWb+qQVGd9BvaD23W2d2P1VJWhhm5p2AWDR/iua2RbwGlWYR2NhIgARIgARIgARIgARIgARIgARIgARIgARK4xAQoQF9ioOzuchBowNoNh0V87gPTnWOxLvGmViHWVn0cC7LMKPysFMsj47HC0FGxwvMw79qP1H02SU+ORGbqSMS5ZD4rJ8sxV8Rn22ARplNGIj6kbS62k19gVuYJZH9ajqSnJGvZQ4O21DTAFHsHMibrEWcvmNiEUhlr7mdnUFhwHObYkTB1hCZkIJbMHuh1hFL9d8x6u0aysG/EkuTbWgXqi4m1QoR0vXhsZk6/BQkDHRNRGs93Qrz3Co8bSIAESIAESIAESIAESIAESIAESIAESIAESKBDAn063MudJNADCCiVx5FVIxm6g29Hhov4rIamDR+K9Kk6EU8bkbOrWgoCtdecGcMiCCt28flHiHcRn1XBOE9sNyxS9mhRsrv4bB8nMgpLTHK/pu4UckQP9mwx0ydg2323OMVndW9fxNx5O+KD5J9qBnW95xmdeN/4DZZvOIrSZg0SZsQgpVWfvrhYTfE/xc6U21rFZzUSTXBHwn0nYuUhJEACJEACJEACJEACJEACJEACJEACJEACJOCDADOgfUDhpp5FoOLoN3ZrC+MwnU+LCt2wweKjbEXRSbHIaBqCeC+HjPOwlJTarTWUUD0yVPHZJbvZPtumb1BYqfo990FFSTlW+UBgExsMVai21DUBke6DaIO9BhUN+nqYZJy8s82wNcqpnmP6GKNt01nkbSpFtkzcOC4G6dGqku1sFxmrbmBX/LI7DJI7SYAESIAESIAEoEBRNNBc2AeMrEiABK4EgZP/izFvWxD3wFRkjOzigJ51WVxrtnSxKx5OAiRAAiRAAiTQRoACNK+GHk/A2qDYY1SFU58tRAO9qs+eFd/ls/JfNy34B6iex7P2nRKJuh/mPxCNBF9CcEMjLKoncvMZ5BSe8TlMy0al+bznIO0c7/BXbmdnh5sr9pZiqVmBZshwZEy/SfKyXdplibXDcLiTBEiABEiABLpMoGjZRMzeWNvueYbUT1CQNqLd/T11h+3INrzz7scoLCtHhbUe584FwpC6wS/n0lMZMy7/IVCa9zlm7FMzLZwtIAC6UKltMm4Yloxvs83zmxlJskp6aqg8VXlebPRKsPa030TOQEmABEiABEigRxOgAN2jl4fBXTwBBfn7aqTQnrjNNH+H7C3HkfjwUJh8JCzbxwq9FblLRkpG9dVrqr/zgs++hS1Ih/TZt/XoWK8eJY5MAiRAAiTgHwTCMHHuAxgX5hJt1U68s/GQf4TvEaV1x7OY+eRe6Gc+joVvPANTRAR0Oi3rKPjlajLoS0dAg7g7jUgIlR6bv0dpmQU5W4pQVDNGLOoGuidSXLpBL09PfYNgMjiePLT1lyEoQF8ezuyVBEiABEjgmiNAAfqaW3L/m7Cuv/pMazOsp7+X/97gPYF6yV5WM5+DNNC5OFW0HKgbNgob7+uPnKwirK00Y+4GDXIfDIfetScZQ6d+Guq/Q4UkccS4+UN7D3nZtjSextINFTA3ByPpgRgkqT/kPVtPidUzLr4nARIgARIgAS8C4SJA/wYprv+ne6Qen/ijAG3NxW+fKUP821vw8kS3Z5O8Zs0NJHBtEQhAzLihbfVK7roFpjcLsarkS+TdPRBzfD19eG0B4mxJgARIgARI4JonQAH6mr8Eej4A43B5fK9QhGFzDcxTb4DJI2TrsWqUyjZNpA4xXpnNwUicPARG+eG7JEWcot8uQY65DHNzA5A7wyUjo++NiI/sg/zKb5Bd3ICku9SUhyvdvkfOhlLk1PWBKT4GK4Z7TcYRUI+I9Uqz4XgkQAIkQAK9m4AN5s2vY3Xm5yiyiG2HJhymyQ/i+aUPIsZN663E2v93Ol4t96bhbulRhpd+lozsEc/gD4a9WL15PyptGhhGT8XCF/8DiUZ3w2bbwQ/xUvrHyD94HPUIk+N+jkeXPoWkEW2DW7Z+jKKIMXh+/7OY9sIBVFSJVVaYAXFzn8TL8yZA5xKS3X5k63i8X/IK4lu378dzP30IOWPfRfmaCW1HK5XIS38d7xQ4+4yIQvzcp/D8Q2Pd+lRPsBZ/iNUZYv8hcdaqcY6T+Tz7lNd8vOn42mJDzq/isHh/277AsKGIm/Y4nk+7Bx6IfHXgvc3pn6uR3zEJ1gpkHWuALUAD00gjVkwXUdLjBr9SdxpZ279E9jGb3QpNp9MhabIJS0a22a4pX/wNo9afEqdtH83rybUmmNVaHrtOoahOzggIlrGHYtn0oe7JBXXVWLqpAkWS3GBpaIai2kboQpEw7nYsiQtty9it/wdmrTgMZfrPkDu+JaazktRQiLRj12PJUxMw31kkuqM4TXL+ttbzZR5NDcj/rBxryr5BRcMP0NgtK27HsrsGuqx5HZav+iuyB5uQobOKmCvHnu0DY2Q4Ft1rQuLAtgLSjrFtmPPEz7Es3MlJkhrSXjuAnL6uT/f9E6te24us0BgcSAlvnWfF3n24Z8sZxN2XgHWx7fz+9IG//U39EWeQxa5phFkt5OIUoJXT1VhT8A8UfvUdLPWK2FxoYDQMwvy7o5AU7jpuA9aqAraPwt9ylSD9hbFIar2WzqJw+2EsL7FKQkof6A23YFlsO5EJ9zzhvtYsLOuc3O+MwjJ/tAppZ4rcTAIkQAIkQAI9lQAF6J66MoyrlYDGIBkVgy3yI/Q40nJvxDoRjlv+yLOd/DsW5H0rf5QEY85dbT+kfeILuRnpD98hIvRhFBaXYm5oHDbedYPzsdkgJMaHY02lBaUF+7EgKBYr4m5weWRQChlWVmNtgQX66f+K+S0/7n0O1J2N52HeJb7Px5qhNcgfGlNDO3ic92rH2p358RwSIAESIAESaJ9AxYYFSBZRVzP2l1icGg1N5U68/8FKJB+pxeZNT8HkWeAv6pd4c8EEx/9XntuDN5/8i0+B8lzB63hu7IN4+U/PwKiU4/1lz2LhA/XQfvYa4p3asnLkdST/6j1U6H6OlKWPwCDHbVm3Hot/dRzKX9ZhjlGNW0HFwXKcKz+E58tDMHrGI3h5nBbW3R/jndfmYWbVu9i6fELXrQaUI1j7q4fw6pEwTEl+HA+P0MB6cBvefyUVyVXrsHWpsHBis+54GjMf3w4l+l48LHHqcBw71n2Ihb+UOP8rE0luj3a1z9prT8RUvPTsPfbfVrYyEbgz0/AQIrBHxu5uK933v1Bif4TMJ8SexGrB8k2HMau+D7alDGl7Aq3uK6S+eQhFwTrMmXyHiNPNMJcdR9b6v8LyQLwUj3MVJDVImH6H25NhRbtKkNXgHmFF0d+k6PS30BgiseSuAdCcPoWsfWbMqlaQ+1hUm61Zo4ifAf0QFzsYxlAZ52wDSr+oQfanRfIU2gQRm9tPRLAdPYpV8nvNs2kib0fmA3q5Un4Q72ApJF0/CMtm6GW+faALd72ApdD0hiIsMJ9HTKwRywx9YTt6Ems/O4AZdWJZ4ZogIYMo5nIsld/CK1JMMDbbkJVbhgWZTdA+/WPEt/vEnvq70owclY+vp+lcg6+vxqqCMz4/P55z7Pz787DWS9FuKcyidXk60Vop61sJJETrkaTrB63MJ7/4JNLetsH2xJ1tGdTyuz5xRhxMjWrdlZbWiGy5jvLlE2F/atHezqM0rwhz9ykwxYqALywtXxzHglwpDNp6nvMfTf/E2swi+XtCriXxp04J7wPryWpkbdmPWXVx2JbY0W9vz874ngRIgARIgARIoKsEKEB3lRiPvwoE+mN+8h0ozTwkP1IPYHxZP5jkh7ym8TuU1qg/MOWxv7tj5EdnWyZIu0EOvAWZKY2YkVmBUvmhnxryU8n0cGS0aIffgXXTFczdYkXep3slM8U5TlMzLNYGyar4QbqVQobtdn4RO6rlx/Jn6o9/+SMF32DVh994dxbQH3NmSFaU/LFxVWP1joxbSIAESIAESKD7BJQ9eCfjAOqjnsTmP/8Gdr0XM5BgSMXkZ0QQLXgEH0zzsLzQRiN+yiSH4Guz4SP8BRZfEQRGY/EbTyHBfufagJffqELp1DewesPjiJ9nkG0igKV/iCMYg5fW/yfmOEXcpAlhmPlvb+DNzD1IWuUQupVzjgEi5mZiQ4swPHOqiOPT8fDGt5CTOsHdasRXPB7bLBtexJtlIZi9foNd0La3mfeLOD4T0z94XfoUAVyNXRitfmE7bGNfwNY/398q4iZNi8K8n6WJaLwfScvHdmJEH4eERCFOWNq5TwlHZcEv8M6RcineHO2Vge3jbN+bdEZkzAh39DkwChln6zB+05fIOjkEyyLVU5qQl2tGYcBgZD7247YC0bGDYMwsxFLJkl008jbntaAer2a23oyE1gQAESZL+rgL0E2nJVFAamgMHo6dqS3nDkHCwP2YtOk4VpmNWBftFLXDhyIjZah77JLIoFMzjiUb2yYCtG+TFRExt1iEjY8WcgPiR6pWcU2wFQPZGh39SAAAIABJREFUzZIFPPJmryf3UH0Ca6TQtH6cJELMuMlxgyFWMv5RiLnFXyJHsqBTXEXjgAFYkhzlZNQfK5LFY/l1EcHlib349p7YqxPRf993PoL03HQeRZIRnK9a2V1ks9VJNrmKt6kJFce+xPJDzdAMNkpmc1vHupGxOBAX5MY2Kbo/Zq06jKziOqSICOxo10EfeZOLXZ4I6tv/isIGsah72IT4lnsTIp6vKf4OWlOs2O3d7OjXfg39N9JE6HZtluLDWPNVX8xJvRMrRKi2t9hbEB+0B/fsKxfu/0qrEHdkfEcCJEACJEACl5SAVGZjIwE/IDBwCDKf/inS75QflcEKzJXforQO8seIHsseniCZzJ3PWtBERmFdspqRoqBwUxHSjrb86r4OpvFjsfOJGCyJ1TnGOfmtFFBpgBIsj0bGDpeq2GMvQ/az8BfvaccfMz9IpvUp5Jt9vA6pj162rNVVjNUPLheGSAIkQAIk4EcEjuxFkbhujJgptg8uYesm34uYwHMo3VHmnc3Y2emNmIQ4V28M41jERQBH9pSJ9CxNKcPug+cQOO5eJLpmEBvvwfQRQO3+vTDbx5IM1kD1v+FImNaWlSy3hBE/c7w4DJRj9357jy5NbpKLOG5rfXlmZVYhf+shnIu6B7NHa6Aost/5Mk4eg4hzZSg+6MjjVIq3I782ROw+pkLncpyiGY8powNRe7AMFR6jd/rtufrWGC0yTpEo+YbRo7ovPsvAeoP8jnIJQCfisRGNKKp0piw3WpFT2QzdSFUAPA+lqeUlxexMIv3WWFFa3+kZOA6Uc4qke5OIuW5jm/SICfhBMpzrfF9H6tiNIuqWnERhvSQ1mAa0Iz4DliIzsur6ISl2QBeDazvcInZvFZLhmxDrFJ/tu/pKNrZOxrWhsFLNHHZpg29GnKuH8sCbIC4hMB+rc1zD7kfLuybk55WjKESyjNV7LB21ahGKyxTJxJZM8I6Ou+A+KfT9/n9j/Cp5vb4XcyWpQhdrwroU15sI8ikKcRef1W6VIC1MMj+rWKZ4ZS07x7VJDZfUwgYYPSzqlJOy5s19nOxaggzyYKtu/x75ZZLoMTgcc4b0cbnezsM48kbom8+g6KRrtvUFJ8wDSIAESIAESIAEukiAGdBdBMbDLxeBgUj/3TSkd9R9cCiSEn8ir44OatnXF0mp05DUzqG6kdHYu9L3o6Xa8HDMv09e7ZzrujluxmScmNHegdcjZeE0pHjuDh6CdSuHuG8dHo1D7cTjebrr+0sXa0ejcB8JkAAJkAAJXEYC1lq5CRsIU0SY+yDaCOhFPN5dW2sX2lp1ZDUT2dOSo53wAnVhHkJqGOzD1B63Z0yblFrxohUZOSLCQ3SUsSNEcRYLkJZsV61GHTQCBhGw3Zr4JutxDlaZhypIt7b67Xj0J9s9Dnbq2PatVaiskv/UvofpP3rP6zh1g158ctXJ2qqqxJu6Hjsej4Po4t4toqodMdL7UK8tle/hFz9pGz8k+kl8kOpzFK9T29ug07naZ8hRzgLKZqs6H7G3qHd4PluLizBcsoW9m9ibSFHoFu9g7/0+tggrq2RKm0I9Lo7gYOhF4CxsUD2HXa4j+XdRbgFmFTtlT/GLTpgeh4y4Nv9pt1Eavxarim9FWI3D/MHHkFOiPhnX9Wa1T6yfWH+4n6sJ7SfX0Q9iXaHG08ZPEyKWE26HaqBXHUIkecF+DXuEoFSWY7ncNUlIvh0JZdXIaTfE75G95TjMoUOx7U5gQUm7B3Zih8rOZLdIUeqsyBLLOkuj+Gq7CudqL24ezOK97dKzRtcOT8lyTvvoJGwGeVLRw6LOJqzEiV3W1/0pSG1osMfnuVE8n2Wwhgrc87zvWzV6+5OOnXiashM0eAgJkAAJkAAJkIA3AQrQ3ky4hQRIgARIgARIgARIoCcQcCpUbZJiPWplW6BGvIU7E197KZWdOdfzGLsA3YUWOB7P/ekRF4GwHO88thJFnl2I4PvR0rE+5hModSFcjSDCMX3la3jYR1arRhPW/QzWiHuxeuW9drsDpXYv3lnxBh56TOtm9eEZ8gXfe1okN0t2qec26cQ4LhbpsT64BvSF/kLexRcMwuUAZ1Kx50gxd4nncuwPkgHdiFLzcazZUoIFfeOQ6bRna+vhBxQVmJHXPAgZk2+C9ouuDH6Rx/rg1m6Pzf9EVp5YhAyRwnrRGvHUbvdI2L6QIoiVkrDx8O0wBXzZ/oGd2iPFEYeJRYq9IKPDKmVS5mGk7Q118dNWva/3YcGxvki404RFw/s7vZwbkPWh2OzJmY7bLa4DNiB7w//KPuGefEv3r/GWLocMx8ZE18zzlh19oPW8adKpefMgEiABEiABEiCBzhKgAN1ZUjzukhG49Zmtl6wvdnTpCJxYOe3SdcaeSIAESIAESKCzBOxZyudgqVIziF3Si21VsEjKakhYmIs4K1mssk0bEuJDsPUe8JxkDqtZom32As6sY0ljtmeVinCrZseWynFqdmyb3CvnVUmqtUsGtS5CTed0nu+akmrPpg5EjBzr1lRReJxYfrhs3OKmgDqzqevroRsd3aG4pmZoh0CsSMSvOUbsOi5pCxmKGInTwWgstFIE8RfrcpFvub/LntYtcVnsWb4umcTObF2dzhl7iBZ6+SvELJm+MZGXSGm2ZwqLlZlYObiNLeKyRSzMtJKF7UlOE3qDZEyrUYciZvgg6BsLkLq9AkVSQNF13ZSaCodVxd1RSFTtIi5iAXQ6KeYhdiT2jFyXDGGlTs1o7oMYmYdrU1RvZdnQdg07zx0Y7GWTYi2WwoM1Upj7sUj7DQWHfYx3sEqzVcT2GijDxHZuuGT9nvY+5mK2aAy3Y9EwC9IKjiE/Vjy+7VMW2xUp3qh6X2dOVb2ynU08o33dnFALDJq3l2K5iORzpDCpyt2zaYWVFmfkKQbVPqMte9lW1+jxRECwI+P8rNi+yPXWWbuRlpW4lPexPOfA9yRAAiRAAiRwrRCgAH2trHQPmieFzh60GAyFBEiABEiABK42gRHjERe2Hp9s3oaKh1qKEIrIV/ApSs+JsDvFxXPZJpYYogZptD7UKF/zqPwUnxz5DRY7HSWU4k9RqPpNzx3jFKCjMVE8lD+R7XmWGa1FCFGxDVuOAGHTxrdmMOtHj0GYFDvM37wfi0e3ZCyLZ+/mvWKOEYWJY32XrfMVlmNbhPhJj8LqVz7FO7sfwasT3c9XrFYoOtUXWOY7bioSwiTGzA9RMVEYuWmUYj0hUHS6ro7vKzLVt9pZbdHX7k5usx6rRlGTeBU7nSTMJV/bfY/nGFTvCGnBNyLR0AeFZRVS/O0mu3WDa7PVn7X7BXsKxh0OP1iHuP4nxBqjGhXj27yHrWYLSsUnOGbkheqFSPHABrFhaPa2gjCXiASsuxW545zxdxhIxzv1hgEiDp9Afsk3WCKF9hxzbEJRiVVEU/EUbymQ19KN1YKc6tuwxFnMT6m0iJ2IWG+Mv8lDgG5EXkkjdKPGYFGkKsZ24GksfeRIccNlD0vhxY7D7ebeICTepceqzJNSJLABCWqxROGqSDa355paD51AoY8iiLajh52+zz+VQuMeli7OqDSROvH3rnGwk4KPjk/AWTtbd9H4eiRED8AqKSC59qgR6cPd+1PkelN8+FOrAjfOyg0M9X6KKqK312xSJHTZx3KNj8Wjax5ETHvHcTsJkAAJkAAJXMMEKEBfw4vPqZMACZAACZAACZDAVSegmYBHF4xB/gtvIPlXtXh0ZhQ0lTvx/gd7oUQ9gsWTncKqUoWiDaooLVqgrRz5O6odoUuxPjUj1VZ5AEUVEYgzugixIbXIeWwulLn3indyGT7K+BRVYVPxfHKLj4UWCWkPYsR97+GlR/4dVXMnwaCUY8u6j3FQMwYvpU5oFcw040TInrAdizcuQLLyCGaPE5/i4o/xTm4tImatQJKactrFpk9+AQu3JuPVx2bCMvN+TB8tWdTW4zhSthf5u8Ow+K+ZSLIr0BOw+MWpKHr8Dcy8rwxJMydhhLYe1iNSRLFgLyyTM7Fnqe/aFhcMqV4K1u3YaS9iqFRtw5tbaxEY9QDiuzGflrG0jdVYkAnMj5NifdU1yNr3ndiJjML8yJYjgpAknsF5b4tNw1v7JONYjzixb7CdtqG00opCiC/x46q3dhda34GYP/lG5H96FLMyFcyPFZuW06dkbBHyBxuxxNQmOpbu2o811n4w6a6XDHipyV7fgKIvapD3lWQax0f6EBA1SLx7GGJ866BdCFIODVdjqcGC4r9hVrNRRPm+sB49ibWHFMkOHuUlxiNIQc76/4Fyp15uhpxBtuqv3H8wMn2J4UE6LEkc6OF/7Ds8/TgT5tgtMy5P0xiGImXwSazaW4HCO6MRH6JDghQAXF5citSAoUgM7wOrCOFZX8jNkyAp8OgaRtM3WL5JnecgLItsROEXqgLsbAEayVYPdQjnIeFYNK4Cs/aVYdamBqQIy4ovjiO7uo98bt1vJOjH3YFFZX/FqvV7YImNRGKkiMuSmW+WQob5xzRYIjY4SR4ic0y0ZMXvO4FVG8qhyPWklQx11WrE5ClG246jaNvnOCi28dMVEaA9VfbLg5i9kgAJkAAJkIBfEaAA7VfLxWBJgARIgARIgARIoPcRMCZnYIPmdbyUuR2rn1kv1gThME17BhuWPghTi5hj3YnVr6nZxqIb5S7Fo7keHApW4rcR0W5CbOC4p/CHsful3xfxvk2DiNG/xJsv/gcSXDRqzYinsOHPYXhpxYfIXvG59B8Gw2jxRX77KSS5PasfgaS3N0CTvhLvbH0Li2X8kAgD4p5+F8/Pm9Ap0c9r5TQjMP/Pm2HMeF36FBF8o8xO5q4fIZYDS+9HvEucuimvYfP6sXhTsqDzMmQ+igZhugiYJohIP3OoV9ed3lC1Hc8/7iyWGBKGERMfwbvPtmWid7oflwNNk2OQVPMl1uSKH7EIhqbYO5A5fYi7oDzwFmQuDEaWWF7klIh1hGT1avuLVYJktS4aN6hbmbnGuJ9gY18pwrerBqs2nQCCgmGKNmHj9KFw0Z8lW7wfNF+IJYQIm1a1+JzEaBw8ACn3iXVE7A1eWbqqpcSSkZdCfVYhSXZwchw0n5mxpuxLpEnxP21of8TdPQbL7vIWjzWGKGQYRJDddRhZZ/tAHxmJjHtNDlsLt8WRAox3SSHAzjwcIAL2sskXygjvzsq7ntMfSeN1WLOpWrKgb0f8eCnO/WAsrLlHkbPvsPg6C/PIQViSMgzmDUXIchtOsvrVrOjmU1i+/pRHIDqkv9AiFl+HmESx9Ag4jOUlwrJMBGLDLciY0YS0DW6SttR1vAHz5YaSsaBcxH6xVCmWdGy5PvThA5A4/RbEe4rK6qiRUci8rxlp249j6TFV0NaIHcjNWOHDh/1iafF8EiABEiABEujtBP7l/6T19klyfiRAAiRAAiRAAiRAAn5OwPIhZt79Kab812bM9zJxtSHn1xPxpmGdU4Auw0s/S0b2iAyUvT3JS1D0cxI9N/zTf8c9rx+F9t5J2Bgnaa1sF0GgDstX/RXZg2Nx6MGbeQ1fBEmeSgIkQAIkQAIkcPUJMAP66q8BIyABEiABEiABEiABEiCBXkeAhae7v6QnVv7U7WSy7D7Ly3Ema9pcDqrskwRIgARIoDcToADdm1eXcyMBEiABEiABEiCB3kJAG43ZC0Jg9Fk1TWweZj6OR8Ocldp6y5z9fB4U6S5mAevcTibLi2HJc0mABEiABEiABK42AQrQV3sFOD4JkAAJkAAJkAAJkMCFCYgAnTSvvUJ7IkBP+40UaWMjARIgARIgARIgARIgARLoaQToAd3TVoTxkAAJkAAJkAAJkAAJkAAJkAAJkAAJkAAJkAAJkEAvIdCnl8yD0yABEiABEiABEiABEiABEiABEiABEiABEiABEiABEuhhBChA97AFYTgkQAIkQAIkQAIkQAIkQAIkQAIkQAIkQAIkQAIk0FsIUIDuLSvJeZAACZAACZAACZAACZAACZAACZAACZAACZAACZBADyNAAbqHLQjDIQESIAESIAESIAESIAESIAESIAESIAESIAESIIHeQoACdG9ZSc6DBEiABEiABEiABEiABEiABEiABEiABEiABEiABHoYAQrQPWxBGA4JkAAJkAAJkAAJkAAJkAAJkAAJkAAJkAAJkAAJ9BYCFKB7y0pyHiRAAiRAAiRAAiRAAiRAAiRAAiRAAiRAAiRAAiTQwwhQgO5hC8JwSIAESIAESIAESIAESIAESIAESIAESIAESIAESKC3EKAA3VtWkvMgARIgARIgARIgARIgARIgARIgARIgARIgARIggR5GgAJ0D1sQhkMCJEACJEACJEACJEACJEACJEACJEACJEACJEACvYUABejespKcBwmQAAmQAAmQAAmQAAmQAAmQAAmQAAmQAAmQAAn0MAIBPSwehnMNEbAW/Q/GfPqt14w1QcEwhg9A/Dgj5kffAK3XEV3bULFrFyZ99l2XTtKMGoOjswd26ZyKXXtkHBtM03+GbeOv79K5l/Xg0+WY9HoFKgJ0yHhhLBL7XtbRem3npSsm4xfrwvDc5xuRom9vmmV46WfJeL+qvf2O7aNf3IHNyREdH8S9JEACJEACJEACJEACJEACJEACJEACJNALCFCA7gWL6PdTCOqHGJ1TFW1ugrWuEebKGvsrrywGGx8MR7t6XycmrwnqD6PO88BmWK0KbOgDXWgwtB6fBE3odZ4n8P21TEApw5Y91UIgrJMUAhEWEQGtxtfhGui1gb52cJtfEVBQ8W4yprxW7ox6KB7dvhWLjRczCelzx4d4Z+N2FB2phLX2HM4FyrWkM8A0dipmpz6IBKPPi+piBuW5JEACJEACJEACJEACJEACJEACJHBZCVCAvqx42XlnCGiGmZDrlm18HpYvDmPuBgsqzP+LpWU3Yl10UGe68nmMPu4n2Bnnues00n53ADlntZifeidSQj3396L3A6Owc+XtUHAdKF11ZV0VWC2VsBw5hE8y38JHlV05NwqPru8oU7orffHYnkOgEnnpH6PYVgvLwQMoKq+9dKEplch5MhWLC9QbHS7t3DnUVpVjd676+hhTVq7DuzOZPX/pwLMnEiABEiABEiABEiABEiABEiCBy02AAvTlJsz+u0HgOuhH3oEVsVbMKlZQVHYGSvTNFE+7QbLtFIrPXcZn+Rjzfr4SB7t8Ik/ovQSOY8cH67Hl3KWfoTkjDc95iM+BYWHQitgtidDOVo0dyxZg9YjNWDzi0sfAHkmABEiABEiABEiABEiABEiABEjgchCgAH05qLLPS0DgOhgH95N+FChnm+R/0SZAn/477nn9KMyDTdi7cKiXPYetZD9GbbJCf+dPsTfxYlKbz6Ko6EusLbai1Noodh0B0OtCxZv6diyKC4WXq0cHs7aU/Q2zNpyCJehGLEsdi5TwNosPW/VXWFNwEoUnG2Bp+AEI0sBkGIQ5k4chKdzdsLkot8AuysffNwkZQ77F2oJ/IL/yDCoaAJ1uABLuMmFZ7A3uYn3jV5j74iEU9o9E7nM/QowaZwvDDmJGkB4bfxcNt+Tx+m+QXXAc2ce+QUV9s31V9INvlHGHYdHI/u7jfvE3DF9/ChA/7UP3XY/CfcfsLM11cl7ordi4ZKQjlo5iuJr7dJPw/HtDZd3VdhwfPbMSOy5hwuvVnBrH7mEEbDvxzoZytOna4Zj+xjr8YZpkOitVyFuSjIXbnBffuXJkv7sTC9dM4k25HraMDIcESIAESIAESIAESIAESIAESMA3AQrQvrlwaw8gYKtTZWdA219z5YWWpn8i6/0iLK8UsTQgGKZInQjOCswnrcj+1Ip88x3Y+MAtMHaioJ/1i7J2xOfzqCgqwSzpzxogonPkTUgwALY6G0rNJ5B2TITvB+7EiuHeg1TsLcGkmjOwCh+NCNbaALGLsH6L7E1FsGAC1sVeoAhisBbxowbDl12t9asaFNVJv6H93ER228m/IzXrKIrO9hHR+SbED5Gvj7PfoVS8uteK0FwYH4fcqaHea2U9iQWvC7M6EdfFc1sjpymNzfabCj26aSIQM7HF6kCL3fQv6dHLdWWCm4Q/HDbjD/bBbMj79UQs3HPx6dDKwZ0orHeZQfSDWKyKz2qT6zAx7RG8v60tG79+z04UKZMQz2vSBRr/SQIkQAIkQAIkQAIkQAIkQAIk0FMJUIDuqStzrcfVVIds83dCIQBxI32ImpeVz3mUflZiF5+1huFY98BtiAl2Dtj4DVZl/Q1rjx3GgoIB2Db1hg4jsVV+YfeytgQNwJIU98xn5WQ55or4bBt8K9aljER8SFtXtpNfYFbmCRG7y5H0lGQte2jQlpoGmGLvQMZkPeLsBRObULprP+Z+dgaFkqFsjh0JU0eRhQzEEjffbcfBSvXfMevtGsnCvhFLkm9rE6gbv8bSD0V8hmx/7CeYH+kSUL34ab8tftqFh5EVOwHzB7oPrNSIOK0bjGUPS0b38P7Qym6l8XxH0fWCfYfw8s9NeFmdiRSRC1GLyEWPx+x5jyBxhEqAjQTaCFgrK+GqP4eNiHJ/skMfDZPUvzzYkoFfX4kKufsUfzHVWbkAJEACJEACJEACJEACJEACJEACJHCFCPS5QuNwGBLoHIGmJlhOfo1V75cgSwQWrSEKS6K9M4A711k3j2o8hbUljaJ9O0TYVvFZ7S74Jiy5b5hd3DUXn0BhU/tj2AXmrBMwYwDmi/g8P7LNdkMVjPPEdsMicuyiZHfxWe1RGynzNsn9obpTyBE92LPFTJ+Abffd4hSf1b19EXPn7YhXazWqGdSuapbnye29F3F9+YajKG3WIGFGDFJchGRLyZfIa+iD+MQYd/FZ7UvE7GWTdZL5LBmhZvEC8Wgagwk7n/gxUpzis7pbE9ybPalFcA4LhyFqFEaPHYURelEOpYhc8bb3sPDfpmPe5ipPRHx/jROwVrl7u+gi5JpxayFw31QLj1OucYKcPgmQAAmQAAmQAAmQAAmQAAmQQE8mwAzonrw610hsyqEDuPWQ52QDYBw1Chn3DfFpE+F59CV9XyPWF2elxyHhSHDJSm4dY6AOiYNFgK75BoUiDsdHeo7+A5Tq4yI+V6BUBOYUEZ+XuGYMq4c3ybmVqt9zH1SUlGOVZxfy3iY2GKpQbakTldvjfG2wD1G+7/UwSbx5Z5thE/0cvmL3MY5j01nkbSpFtoj+xnExSI9WleyWJl7YZtUJWQPl5AmsOu2jE6ddisX6vezs735A/37Q+wjXRy+9YFM0Fv/3QTzvORNbJfLS0/DbjeVSRO5ZZI9dhznMXvWkdO2+V9xtPDQaT28NsSFy23Su51vYXLuryZmTAAmQAAmQAAmQAAmQAAmQAAl4EKAAzUvi6hMQgTJuoFNdqbehyKoWqQvHihlDYLoKwqWtXrEXntOEatopNBgMfYg8PFAjvss+Mo2Vk/9A6q4Tdq/kuHtjsczgYxINjbCoNfyaz4h1xZkO10BpVu0qfPThdZbDX9lrcyc2VOwtxVKzAs2Q4ciYfpPdJqOtKVJwUH2noKi4Qmw4OmhNqs/ztd08pUM7Da0BicvTYTk4Ha+WH8CWPVbMSe5KGctrm2mvn70m0G2KiuLpkC7FWN02BXp7rfd6SJwgCZAACZAACZAACZAACZAACZCAvxKgAO2vK9eL4lYtGja2+BFL8b+1mX/Fqq9OInW9FrmpUujPz+ZacegEKgJEDMYPKCowI2f4T5AU2s4kQm9F7pKRiGln95XYrFqFLPjsW9iCdEiffZtP0V9RxXKRpZctmYCU9uZyJYL16zEMiBkt1grltbDY/RMoQPv1cl7C4B2WG9WtPTosOaQiaWvztNwI87DkuITBsCsSIAESIAESIAESIAESIAESIAESuMQE6AF9iYGyu4sk0PcGzH8wBoni4mCrPIzU3NP2bGSfrdmRqexz30Vs1IZoHIXy6iRL2Wc/sr1ezfSVDGkfNheaUD0yn/4ZMsf1AxpOIS2rDIWemdL95Vz19k/9d6hQ7TKuVms8jaUbKmBuDkZSckw7QrkGRrurxvcoPd3biwdezoWQLFabI41VvcbYrjECig02W9vLNaFZP8Lg5phTe7AMFa54KspQ6moTHSJFLWnhco1dQJwuCZAACZAACZAACZAACZAACfgvAQrQ/rt2vTfykJuRnjIcMSLQVhSXInVvg7vfqfgf2y0i6r+H1UcRQFujj41doTVYZx8bNdXIt/swe7TTXyNPLQwYdBPixQvasxmlGGBCaBDiZ4xFukmERqsFqR+Wo9Q1rL43ine0fPyav0F2sXfhPs8+L8/775GzoRQ5dX1gio/BiuHt2XwEIc4gYjqaUbivGmITzdYdArb9+GS/eiciTDKhXbNbu9MZz/E3AkUrpmP0T+Kcryn47W6XGYyehHjXm1nl67FailXaRWqlCjmvrccRl8NDJky6qk9N+Bt7xksCJEACJEACJEACJEACJEACJHB1CVCAvrr8OXo7BDThtyHzvsFiUtCMoi37sfSoWhXQ2UIGwKTaQJw9hTX7/tmaIa3U1SEndx9mbOnYU7mdIds2Bw/C/HHBdn/mNR+JcOyaoVz/DZZv+BJmOdo47lbEt6fZ2nu7XrKKx2DJkD5QvqrA3PX/cMlqDEJifLjM7weUFuzHgqK2eTgCOQ9L5VdYmvk/WNv2ZP4FQ+/8Aedh3iW+z8eaxZ44ChlTQzv0lDWOH4YEqUtoO3YYc3OrUeGh8dtOn0b2pn1ILXJZp84H02uOLF0xE9MW/RF5B53ioXNmimUPVj+2FFskizUw+hE8PK7XTPkam8gRZC36dzz061R5peGdI67FA6uQ94K6XX39O9YWe/o4d4BKMwmPJkehzQm6FjuemYLo2InymoLFBa7pz0MxZ96kDj+vHYzEXSRAAiRAAiRAAiRAAiRAAiRAAiRwxQnQA/qKI+eAnSWgi44LX3C0AAAY3ElEQVRGZvV3mFVok0zdEhhT4zA//Do5/QakTNYhZ5MVpZ/txahdarHAJljPOmwxYgYHw1pzMb4W1yHmbikeWFOE5ZUVmLHCAtPgfpJ1LcX4ar6DWiNRN+wOZE6+4cJTUS1FUmJhebsE2ap4u0mD3Ptutrv/aoffgXXTFczdYkXep3uR/1k/mMI10DQ1w2JtgMU+n36Yf+FRun5E9XHxfT4jM+ojsXyDVR9+491HQH/MmRGFeNHiERKO9AdtmPthBUolK31SiRlGYaLr+wNsdQ0w19lNohEzpBcVIZSM5az0T3HEriPaUGpP/T6OLenP4ojqoKEJwcS5/4FEN5NyG45sewML5YXAEEToxfPZVoWqWodQGRgxFa++8aDf+ZrbF5dNCFTjYMHn2O2qO7dyOYeq/XtR1fJ+piKf3c5brZjS0vFyZaqIzW13nM7V18J9qDBMWZmBhSO4GCRAAiRAAiRAAiRAAiRAAiRAAiTgPwQoQPvPWl2DkYoQPHUM0q17scB8BqvWl8H42I+RII+q62NjkSt5yMt3nUKRVbygg4IRMypchGkj4r8qxahNFyNAC2oRjlNS42Ha+yXWlpxCaY0U6UMA9Dod5oy7HYviQjtfQi54IFak3AHrW4eQX1KKuf3jsFEyjrW4DqbxY7HTUI3sfRbkVdbBfPI7hygcokX8yEFIjA1HQvhlWHrxnnZYafwgmdan2vG6VhA3FQ4BWkJQM6Vznx6EnL3HkXPsW5iFSUVzH2j7C3tTOBKj9UgwXX8Zgr1KXdrKsWXjpzjoNnw9Dm5r2SYX4mR3AdqU+hreDMvFlj2HYK6shLXyOM6JEB0WFY34aQ9KluskGO3+MWwk4EnAgKS3NyNmx8d4Z+N2FB2sRFW9Kj8HIiRCCliOnYrZqfcjgReQJzi+JwESIAESIAESIAESIAESIAES6OEE/uX/pPXwGBkeCZAACZAACZAACZAACZAACZAACZAACZAACZAACZCAHxKgB7QfLhpDJgESIAESIAESIAESIAESIAESIAESIAESIAESIAF/IEALDn9YpV4W463PbO1lM+J0ukPgxMpp3TmN55AACZAACZAACZAACZAACZAACZAACZAACfgRAVpw+NFiMVQSIAESIAESIAESIAESIAESIAESIAESIAESIAES8CcCtODwp9VirCRAAiRAAiRAAiRAAiRAAiRAAiRAAiRAAiRAAiTgRwQoQPvRYjFUEiABEiABEiABEiABEiABEiABEiABEiABEiABEvAnAhSg/Wm1GCsJkAAJkAAJkAAJkAAJkAAJkAAJkAAJkAAJkAAJ+BEBCtB+tFgMlQRIgARIgARIgARIgARIgARIgARIgARIgARIgAT8iQAFaH9aLcZKAiRAAiRAAiRAAiRAAiRAAiRAAiRAAiRAAiRAAn5EgAK0Hy0WQyUBEiABEiABEiABEiABEiABEiABEiABEiABEiABfyJAAdqfVouxkgAJkAAJkAAJkAAJkAAJkAAJkAAJkAAJkAAJkIAfEaAA7UeLxVBJgARIgARIgARIgARIgARIgARIgARIgARIgARIwJ8IUID2p9VirCRAAiRAAiRAAiRAAiRAAiRAAiRAAiRAAiRAAiTgRwQoQPvRYjFUEiABEiABEiABEiABEiABEiABEiABEiABEiABEvAnAhSg/Wm1GCsJkAAJkAAJkAAJkAAJkAAJkAAJkAAJkAAJkAAJ+BEBCtB+tFgMlQRIgARIgARIgARIgARIgARIgARIgARIgARIgAT8iQAFaH9aLcZKAiRAAiRAAiRAAiRAAiRAAiRAAiRAAiRAAiRAAn5EgAK0Hy0WQyUBEiABEiABEiABEiABEiABEiABEiABEiABEiABfyJAAdqfVouxkgAJkAAJkAAJkAAJkAAJkAAJkAAJkAAJkAAJkIAfEaAA7UeLxVBJgARIgARIgARIgARIgARIgARIgARIgARIgARIwJ8IUID2p9VirCRAAiRAAiRAAiRAAiRAAiRAAiRAAiRAAiRAAiTgRwQoQPvRYjFUEiABEiABEiABEiABEiABEiABEiABEiABEiABEvAnAhSg/Wm1GCsJkAAJkAAJkAAJkAAJkAAJkAAJkAAJkAAJkAAJ+BGBAD+KlaH2MgLWDXMx7oUDXrMKDAmHcUQ04pMfwaPTRkDrdcTV3HAEq+/+Bd6pHIXnPt+IFP1FxLL7aUQ/sh3KPRkoXzPpIjriqSRAAleCgGItQ/7mXOzYcwillZWw1p4DQsKgN4yS76vfYOHM6Iv7vrJVIn/Dh/io4ADMlVWorT8H9fswceVmvDqlZ30TXgneHIMESIAESIAESIAESIAESIAESKB3EKAA3TvW0b9nETIUow0hjjko9bBWVeHI/u32V97WdGx4+x5cjM7r33AY/dUgYNuaitFP7u380NHPYPemB3mddp6YHx6pIP+FuVhYIKKz2kR4jlC/t6xVqCz73P7K27oCm/80o1vXgXX365j35Hs4WK92HoiwiAgYdPJ9aKmF1b6NjQRIgARIgARIgARIgARIgARIgAT8kwAFaP9ct14VdeCEZ7B5zQSXOSmw7HgRDz35KSoLXsRzW8fgg2m6XjVnToYESMAfCYRh9KwH8WjyVMSP0EFjn4J8X4l4/MRj63Fwj3xfbR6PD2Z27ftKOfh7JMv5ledCMHruC3h5wT0wtSY822C1MfvZH68WxkwCJEACJEACJEACJEACJEACJOAgQA9oXgk9kIAG+ikiwswMk9jqUbT1kEg8bCRwJQkEIiQwEIHtva5kKByrhxDQIOGNrdi8/EEktIrPamjyfTXxP/DyQ0Pl3+dQJPYZXfq+Usqw+hmH+DzuxQ3YsNRVfFb710JH/bmHXAMMgwRIgARIgARIgARIgARIgARIoDsEmAHdHWo85woQ0IgPtCro1OKczWYXdBzZhurQVhS++wbeLyiHpVYeT7fWov6cCIZhETCNnYTZCx5BotFFsan4I6ZNfQNHOoo65F58VPIK4lyOsRZ/iNUZH6PwoHixyuhh+mgkzBgDa0fqknU/sjPEw3XPAVTYn5sXf9gRY5CQ+jgWTjG4zKGjYLjvahPQTvtPlE1rL4oq5PxqJhbvb/NFMIwbg67lvLbXN7f3ZAIaTdu3kGecekOEbDou31f1sMm/Ons92Ar+iJxKMd2IfhyvJvM7wpMr35MACZAACZAACZAACZAACZAACfg/AQrQ/r+GvXYGtqpa+9xCwsI8hNtq7N74KXZXyb6IoSLwhsv+c7BVVaJ423soLtiLI3/egMWjnWKRNgrx90yF0Qcpa9l2FEs/gdJPm2CkwPxBKpJfOSD517JPioAZdBootv346LX2fYFtB/+Ieb9+A8X1gYiIGov4aPGHrT+O0uLteOfxnShMXYfNadEUoX2sgz9tsm79PV5yEZ8Rca9YJozguvrTIl6GWK1SNFBtIWHhXShEaEPh1r3yPROIiWLrQa/7y7Aw7JIESIAESIAESIAESIAESIAESOCqE6AAfdWXgAH4JCCPpX9UcFx2hSBuiqdoG45fvPgBfjEiGiYRhttam3Cclb4ND/95hkNU1k3AYjePaccZypE/Ivm+7TLEGCx+4zetArVy8C08oYrPgVGY/UY6nnfJXLZV5OK3DyzFDoc23ja0bSeee0zEZ4zBb/+SgfmjXTKwrXvw21/OwyeZLyJrxmbM96WE+4TAjT2OgG0PVq/43H5jwtFCMCXtScS1nxjb46bAgC4DgQ6/rzoa7zgOHlGLGg6FUXMIWcs+xid7ylBRVY9zgSEIM8hTF8ny9ERydKczqjsajftIgARIgARIgARIgARIgARIgARI4GoQoAf01aDOMdsnoNhgObgTq3+9AO/LY+khY5/C4mmeBqg6mCaO9RCf1S41MCXfj7hAcWKtFAuM9kcBJJv5pSffwMFzYZiyPB0praKwDfmZH6NSMhJHp2XgZQ/bDK0xCq7uHi1DWDa/hS21ksW4NN1dfFYPEAH8+QXjpcdybCmQSbH5KQEFpRkr8YnLzYdAuT6fZ4FMP13PSxW2el28iGz1o224Hwsne35fdTCOUgWLVd1/HO8/uQAvb5VOwqIQM3YURug1sJXvxUcvJGParz/u+PusgyG4iwRIgARIgARIgARIgARIgARIgASuNgFmQF/tFeD4OLdtHgzbPEGEwHDPCvxh1Qyf1hkQV2jL7m34aOtOlFYeh0XsOmw2Rbyg1WxCaYrSQSEwK/KeScNHovUYZqXjVVcBUTIZdxSr+a1jMHua6unamWaVwmPlcmAYlIPrsdqXxmxxqJYW+2P6hs50ymN6GoEjH+K5DWpWfkuLQsrS+2mb0NPW6QrHY9n6NOZllkvG8ig898bjMHUlG16+p2z2r6xwTF/5mtzMkExnl/NbbX32/B6//WA8Nj/U2e+kKwyBw5EACZAACZAACZAACZAACZAACZBABwQoQHcAh7uuEIGwoRhnCHMMVluO4koRgCOm4uXlM3yLOcoRZP16Hl7e3+IRLY+vy6PqJvGK1mqqUJR7AFUdFAqs+CANzxXUStGvJ/GHpWPd/Vpt1bDYaweKt3Rnq4hJicJKeyi1KN4oHtQdYVOcAnlHx3BfDyRQhewVb8HuluBsEbOewcIRPTBUhnTFCFh3PIvkJz9HbeBQzP5TJlJGdEV9doRpPyPQgCmT3cVndbN29G/w6oKdmPjKIRwUr2jLQ7zhccUWlwORAAmQAAmQAAmQAAmQAAmQAAlcMgIUoC8ZSnbUXQKBY5/BhhaPZhGX1/4qGa+W/QXzHhuBzX++3yMDWh53T5dH1UV8DjRI8bc3nkHSCNdH3nfiia0iQLcTjHLwdTyRLv7OIeOxWnyfu5St2E6f6mZJZJQWhec+34wUVhLrgJR/7rJufRGr97uoz2E/x/NpY1l40D+X85JErWY+Jy/Zjirxin/4Tx/g+XFdsN5oiUCjhVYsg3BOMqHbuWmmHx0lz1YcQm1tJVS3Dn69XJLlYyckQAIkQAIkQAIkQAIkQAIkQAJXkAA9oK8gbA7VCQKaEZj/9muYLgnR9ftfxLxle2BzO60SO/ZUy5ZwzFn5iof4fIH+pYDcc0++J1msUsRQigsm+VJytCHQqYKQrRbWdgQh71HC4EjgrsLByk6f5N0Nt/RMAlJg8qUVe10KDwZi3IL/QEI39MaeOUFG1TUCUux0QypmPinis2YUfvvnborP6qCaoRhhd+Q5jiO+rHvUXS1fKRoNb3h0baF4NAmQAAmQAAmQAAmQAAmQAAmQQA8hQAG6hywEw3AhoJuEV//0JEaLEFy5MQ3zPqh08XM+58w21iIsxAe1dr2fq5DzZBo+qQrEiNTX8PLEdtRDTRRGq4LQuQPYsdtd+vYxmnOTDnHjhsq/61G4bps9S5GttxBQUJT+eykw2TafwKjH8XIyvXh7ywp3bR5WFK5IxswX9qJWsuBf+ss676KjXerQgPiJ6ndHLfI3e95sc3Rk3nNA9kpB1qgx7fjhd2lAHkwCJEACJEACJEACJEACJEACJEACV5wABegrjpwDdoaAZsRv8O6qqfLoeT2KX0nFc7tbZF01Y1BNUS7HJ+v2uIi9alHCD/HEvz2LHV42y5Kx+O7TeG5PPULGPoU/pEV3kEloQOLMUQiUcbe88iJyjrSI0AqsB7fhpV/NQ5aPTEXj3McxRQTx+j0v4qFl21DhkQhtq9iD7CWzMG8D5enOrH9POUY58hae26hm3Le0cCQtf5BCYE9ZoCsaRyVyHkvGw+uk4GjUA3j/v/4Tc4yd83wuWjIRhmEmGO7+PcweMZvmPoKJ8t1Rm7sUT3xQ5vbEh3W3WnxQLXw5FHPmTejge+uKguBgJEACJEACJEACJEACJEACJEACJNAlAvSA7hIuHnwlCeimvYJ3jxxHcqaIzU8ugOHPkm0ofs+JCx7E+8VipbFxHsZtDkOEeGYoUjywVooHBhqGIkIeZ3fzgD4iwvRrh3BOZGUd9mP1Y/u9pyFFwGYvfwr/f3t3Dxp3HcYB/HFJpmS6LL0urUvrIBeEdtKCTQpGRdsOJYPQolYJlEApAV/wBYuERpFSkKpdWiqFYgMFQ0VKh47JoO3QZjFdjEtuc2oW/V/IkJpGBB2eBz+3BC6543k+33DD9+5+/33NB6O3j38Yk3NHm3Oob8TUKzfi/YFW9D/sxu+9Yru1LdpNWbTcu1DhxtvQWMx8uRhHJy7Ez82ntkdnp2Pn7h0x1N+c7brcfL1+/QGdzqZ2fPMs7kkisBTffnApNr7f0Bp7J6Y6/6x0TLKEMf4rgZWFuHaz92ZEXww235A48/qhOPPY5+6L4RNfx+nRjd+yWH9Hqvmx6ZCeoYMx88WdGJ+4Grc/HY89F3fFcPMi87D7IO41Vzdd7dsWo9PnYsoFLx+r7U4CBAgQIECAAAECBAgQyC+ggM6f0f94wv4YPvVVzCwdjsmbd2Nm4t148urncaBzMq5cbjfn8n4TP97/LZZXBqK98/k4Nv5mvH2oG588c+LRAnrlwfonpVdjef7WFhco7MbeU7FWQEfvHOrLV2L7Z9Nxfm4+fuk2n4JuPx2jI0di8viu+P61w3H+rwV087DBvSdj9of98d3FS3Ht9kLcu78QS6t9MdBqR2fkhXjpxYNxYMTRDVX+oX+d/TjO3tnwhkFz4cqp9/bHFoe3VFnLnP9aYDW6S4trx2JsdRvsbqqZt/rTtfuHnvso5q4/G2fPNa9p84vxU++Cl60d8dTYq3HsrTfi5UcutPq3T+WXBAgQIECAAAECBAgQIEAgncATfzS3dFMZiAABAgQIECBAgAABAgQIECBAgAABAgTKCzgDunyEFiBAgAABAgQIECBAgAABAgQIECBAgEBOAQV0zlxMRYAAAQIECBAgQIAAAQIECBAgQIAAgfICCujyEVqAAAECBAgQIECAAAECBAgQIECAAAECOQUU0DlzMRUBAgQIECBAgAABAgQIECBAgAABAgTKCyigy0doAQIECBAgQIAAAQIECBAgQIAAAQIECOQUUEDnzMVUBAgQIECAAAECBAgQIECAAAECBAgQKC+ggC4foQUIECBAgAABAgQIECBAgAABAgQIECCQU0ABnTMXUxEgQIAAAQIECBAgQIAAAQIECBAgQKC8gAK6fIQWIECAAAECBAgQIECAAAECBAgQIECAQE4BBXTOXExFgAABAgQIECBAgAABAgQIECBAgACB8gIK6PIRWoAAAQIECBAgQIAAAQIECBAgQIAAAQI5BRTQOXMxFQECBAgQIECAAAECBAgQIECAAAECBMoLKKDLR2gBAgQIECBAgAABAgQIECBAgAABAgQI5BRQQOfMxVQECBAgQIAAAQIECBAgQIAAAQIECBAoL6CALh+hBQgQIECAAAECBAgQIECAAAECBAgQIJBTQAGdMxdTESBAgAABAgQIECBAgAABAgQIECBAoLyAArp8hBYgQIAAAQIECBAgQIAAAQIECBAgQIBATgEFdM5cTEWAAAECBAgQIECAAAECBAgQIECAAIHyAgro8hFagAABAgQIECBAgAABAgQIECBAgAABAjkFFNA5czEVAQIECBAgQIAAAQIECBAgQIAAAQIEygsooMtHaAECBAgQIECAAAECBAgQIECAAAECBAjkFFBA58zFVAQIECBAgAABAgQIECBAgAABAgQIECgvoIAuH6EFCBAgQIAAAQIECBAgQIAAAQIECBAgkFNAAZ0zF1MRIECAAAECBAgQIECAAAECBAgQIECgvIACunyEFiBAgAABAgQIECBAgAABAgQIECBAgEBOAQV0zlxMRYAAAQIECBAgQIAAAQIECBAgQIAAgfICCujyEVqAAAECBAgQIECAAAECBAgQIECAAAECOQUU0DlzMRUBAgQIECBAgAABAgQIECBAgAABAgTKCyigy0doAQIECBAgQIAAAQIECBAgQIAAAQIECOQUUEDnzMVUBAgQIECAAAECBAgQIECAAAECBAgQKC+ggC4foQUIECBAgAABAgQIECBAgAABAgQIECCQU0ABnTMXUxEgQIAAAQIECBAgQIAAAQIECBAgQKC8gAK6fIQWIECAAAECBAgQIECAAAECBAgQIECAQE4BBXTOXExFgAABAgQIECBAgAABAgQIECBAgACB8gIK6PIRWoAAAQIECBAgQIAAAQIECBAgQIAAAQI5BRTQOXMxFQECBAgQIECAAAECBAgQIECAAAECBMoLKKDLR2gBAgQIECBAgAABAgQIECBAgAABAgQI5BRQQOfMxVQECBAgQIAAAQIECBAgQIAAAQIECBAoL6CALh+hBQgQIECAAAECBAgQIECAAAECBAgQIJBTQAGdMxdTESBAgAABAgQIECBAgAABAgQIECBAoLyAArp8hBYgQIAAAQIECBAgQIAAAQIECBAgQIBATgEFdM5cTEWAAAECBAgQIECAAAECBAgQIECAAIHyAgro8hFagAABAgQIECBAgAABAgQIECBAgAABAjkF/gRfGUIMwDMMwQAAAABJRU5ErkJggg==)"
      ]
    },
    {
      "cell_type": "code",
      "metadata": {
        "id": "oIuA1YpflkwC"
      },
      "source": [
        "words = [word.text for word in razdel.tokenize(train_records[0]['text'])]\n",
        "print(words[1:10])\n",
        "morph = pymorphy2.MorphAnalyzer()\n",
        "print([morph.parse(word)[0].normal_form for word in words[1:10]])"
      ],
      "execution_count": null,
      "outputs": []
    },
    {
      "cell_type": "code",
      "metadata": {
        "id": "5dT0JlEMbV_b"
      },
      "source": [
        "from collections import Counter, namedtuple\n",
        "import razdel\n",
        "import pymorphy2\n",
        "\n",
        "Stats = namedtuple(\"Stats\", \"vocabulary,lemma_vocabulary,words_counts,unique_words_counts\")\n",
        "\n",
        "def collect_stats(records, lower=True, text_max_words=3000, summary_max_words=100, nrows=1000):\n",
        "    morph = pymorphy2.MorphAnalyzer()\n",
        "    \n",
        "    text_stats = Stats(Counter(),  Counter(), list(), list())\n",
        "    summary_stats = Stats(Counter(),  Counter(), list(), list())\n",
        "\n",
        "    def update_record_field_stats(field, stats, max_words):\n",
        "        words = [word.text for word in razdel.tokenize(field)][:max_words]\n",
        "        lemmas = [morph.parse(word)[0].normal_form for word in words]\n",
        "        stats.vocabulary.update(words)\n",
        "        stats.lemma_vocabulary.update(lemmas)\n",
        "        stats.words_counts.append(len(words))\n",
        "        stats.unique_words_counts.append(len(set(words)))\n",
        "\n",
        "    for i, record in enumerate(records):\n",
        "        if i >= nrows:\n",
        "            break\n",
        "        text = record[\"text\"]\n",
        "        text = text if not lower else text.lower()\n",
        "        update_record_field_stats(text, text_stats, text_max_words)\n",
        "\n",
        "        summary = record[\"summary\"]\n",
        "        summary = summary if not lower else summary.lower()\n",
        "        summary_words = [word.text for word in razdel.tokenize(summary)]\n",
        "        update_record_field_stats(summary, summary_stats, summary_max_words)\n",
        "    return text_stats, summary_stats"
      ],
      "execution_count": null,
      "outputs": []
    },
    {
      "cell_type": "code",
      "metadata": {
        "id": "f9eUIjKmeYcK"
      },
      "source": [
        "train_text_stats, train_summary_stats = collect_stats(train_records)\n",
        "print(\"Train texts vocabulary size: \", len(train_text_stats.vocabulary))\n",
        "print(\"Train texts lemma vocabulary size: \", len(train_text_stats.lemma_vocabulary))\n",
        "print(\"Train summaries vocabulary size: \", len(train_summary_stats.vocabulary))\n",
        "print(\"Train summaries lemma vocabulary size: \", len(train_summary_stats.lemma_vocabulary))\n",
        "print(\"Train common lemmas summary vs text: \", len(set(train_text_stats.lemma_vocabulary.keys()) & set(train_summary_stats.lemma_vocabulary.keys())))"
      ],
      "execution_count": null,
      "outputs": []
    },
    {
      "cell_type": "code",
      "metadata": {
        "id": "WLKtXt3Tehsr"
      },
      "source": [
        "import matplotlib.pyplot as plt\n",
        "\n",
        "fig, axs = plt.subplots(1, 2, figsize=(20, 5))\n",
        "axs[0].hist(train_text_stats.words_counts, 20)\n",
        "axs[0].set_title('# Words in texts')\n",
        "\n",
        "axs[1].hist(train_summary_stats.words_counts, 20)\n",
        "axs[1].set_title('# Words in summary')\n",
        "plt.show()"
      ],
      "execution_count": null,
      "outputs": []
    },
    {
      "cell_type": "markdown",
      "metadata": {
        "id": "_1sl7s2qB-N_"
      },
      "source": [
        "## Lead-3"
      ]
    },
    {
      "cell_type": "markdown",
      "metadata": {
        "id": "gBNeldXoDevM"
      },
      "source": [
        "Первый baseline - первые 3 предложения текста в качестве summary.\n"
      ]
    },
    {
      "cell_type": "markdown",
      "metadata": {
        "id": "J-gEkSkQDk0P"
      },
      "source": [
        "В качестве метрик здесь и далее используем BLEU и [ROUGE](https://).<br><br>\n",
        "\n",
        "* **ROUGE-N** – measures unigram, bigram, trigram and higher order n-gram overlap\n",
        "* **ROUGE-L** – measures longest matching sequence of words using LCS. An advantage of using LCS is thatit does not require consecutive matches but in-sequence matches that reflect sentence level wordorder. Since it automatically includes longest in-sequence common n-grams, you don’t need apredefined n-gram length."
      ]
    },
    {
      "cell_type": "code",
      "metadata": {
        "id": "8fVfdfCyCALH"
      },
      "source": [
        "from nltk.translate.bleu_score import corpus_bleu\n",
        "from rouge import Rouge\n",
        "\n",
        "def calc_scores(references, predictions, metric=\"all\"):\n",
        "    print(\"Count:\", len(predictions))\n",
        "    print(\"Ref:\", references[-1])\n",
        "    print(\"Hyp:\", predictions[-1])\n",
        "\n",
        "    if metric in (\"bleu\", \"all\"):\n",
        "        print(\"BLEU: \", corpus_bleu([[r] for r in references], predictions))\n",
        "    if metric in (\"rouge\", \"all\"):\n",
        "        rouge = Rouge()\n",
        "        scores = rouge.get_scores(predictions, references, avg=True)\n",
        "        print(\"ROUGE: \", scores)"
      ],
      "execution_count": null,
      "outputs": []
    },
    {
      "cell_type": "code",
      "metadata": {
        "id": "zAo9zv_rPtb6",
        "colab": {
          "base_uri": "https://localhost:8080/",
          "height": 206
        },
        "outputId": "572de9a1-4e29-418b-ea8f-ad1f3d242f15"
      },
      "source": [
        "import razdel\n",
        "\n",
        "def calc_lead_n_score(records, n=3, lower=True, nrows=1000):\n",
        "    references = []\n",
        "    predictions = []\n",
        "\n",
        "    for i, record in enumerate(records):\n",
        "        if i >= nrows:\n",
        "            break\n",
        "\n",
        "        summary = record[\"summary\"]\n",
        "        summary = summary if not lower else summary.lower()\n",
        "        references.append(summary)\n",
        "\n",
        "        text = record[\"text\"]\n",
        "        text = text if not lower else text.lower()\n",
        "        sentences = [sentence.text for sentence in razdel.sentenize(text)]\n",
        "        prediction = \" \".join(sentences[:n])\n",
        "        predictions.append(prediction)\n",
        "\n",
        "    calc_scores(references, predictions)\n",
        "\n",
        "calc_lead_n_score(test_records, n=1)"
      ],
      "execution_count": null,
      "outputs": [
        {
          "output_type": "error",
          "ename": "NameError",
          "evalue": "ignored",
          "traceback": [
            "\u001b[0;31m---------------------------------------------------------------------------\u001b[0m",
            "\u001b[0;31mNameError\u001b[0m                                 Traceback (most recent call last)",
            "\u001b[0;32m<ipython-input-6-28dc4cbc875c>\u001b[0m in \u001b[0;36m<module>\u001b[0;34m()\u001b[0m\n\u001b[1;32m     21\u001b[0m     \u001b[0mcalc_scores\u001b[0m\u001b[0;34m(\u001b[0m\u001b[0mreferences\u001b[0m\u001b[0;34m,\u001b[0m \u001b[0mpredictions\u001b[0m\u001b[0;34m)\u001b[0m\u001b[0;34m\u001b[0m\u001b[0;34m\u001b[0m\u001b[0m\n\u001b[1;32m     22\u001b[0m \u001b[0;34m\u001b[0m\u001b[0m\n\u001b[0;32m---> 23\u001b[0;31m \u001b[0mcalc_lead_n_score\u001b[0m\u001b[0;34m(\u001b[0m\u001b[0mtest_records\u001b[0m\u001b[0;34m,\u001b[0m \u001b[0mn\u001b[0m\u001b[0;34m=\u001b[0m\u001b[0;36m1\u001b[0m\u001b[0;34m)\u001b[0m\u001b[0;34m\u001b[0m\u001b[0;34m\u001b[0m\u001b[0m\n\u001b[0m",
            "\u001b[0;31mNameError\u001b[0m: name 'test_records' is not defined"
          ]
        }
      ]
    },
    {
      "cell_type": "markdown",
      "metadata": {
        "id": "QsAcVSli3r3S"
      },
      "source": [
        "##TextRank"
      ]
    },
    {
      "cell_type": "markdown",
      "metadata": {
        "id": "c7jAQp-_Ds98"
      },
      "source": [
        "TextRank - unsupervised метод для составления кратких выжимок из текста. \n",
        "Описание метода:\n",
        "\n",
        "1. Сплитим текст по предложениям\n",
        "2. Считаем \"похожесть\" предложений между собой\n",
        "3. Строим граф предложений с взвешенными ребрами\n",
        "4. С помощью алгоритм PageRank получаем наиболее важные предложения, на основе которых делаем summary."
      ]
    },
    {
      "cell_type": "markdown",
      "metadata": {
        "id": "bOatiZ-hFJT-"
      },
      "source": [
        "### Самописный TextRank"
      ]
    },
    {
      "cell_type": "code",
      "metadata": {
        "id": "m2GwyRrMPAzS"
      },
      "source": [
        "from itertools import combinations\n",
        "import networkx as nx\n",
        "import pymorphy2\n",
        "import numpy as np\n",
        "from tqdm.notebook import tqdm\n",
        "\n",
        "def unique_words_similarity(words1, words2):\n",
        "    '''\n",
        "    Функция подсчёта близости предложений на основе пересечения слов\n",
        "    ''' \n",
        "    words1 = set(words1)\n",
        "    words2 = set(words2)\n",
        "    if not len(words1) or not len(words2):\n",
        "        return 0.0\n",
        "    return len(words1.intersection(words2)) / (np.log10(len(words1)) + np.log10(len(words2)))\n",
        "\n",
        "def gen_text_rank_summary(text, calc_similarity=unique_words_similarity, summary_part=0.1, lower=True, morph=None):\n",
        "    '''\n",
        "    Составление summary с помощью TextRank\n",
        "    '''\n",
        "    # Разбиваем текст на предложения\n",
        "    sentences = [sentence.text for sentence in razdel.sentenize(text)]\n",
        "    n_sentences = len(sentences)\n",
        "\n",
        "    # Токенизируем предложения\n",
        "    sentences_words = [[token.text.lower() if lower else token.text for token in razdel.tokenize(sentence)] for sentence in sentences]\n",
        "\n",
        "    # При необходимости лемматизируем слова\n",
        "    if morph is not None:\n",
        "        sentences_words = [[morph.parse(word)[0].normal_form for word in words] for words in sentences_words]\n",
        "\n",
        "    # Для каждой пары предложений считаем близость\n",
        "    pairs = combinations(range(n_sentences), 2)\n",
        "    scores = [(i, j, calc_similarity(sentences_words[i], sentences_words[j])) for i, j in pairs]\n",
        "\n",
        "    # Строим граф с рёбрами, равными близости между предложениями\n",
        "    g = nx.Graph()\n",
        "    g.add_weighted_edges_from(scores)\n",
        "\n",
        "    # Считаем PageRank\n",
        "    pr = nx.pagerank(g)\n",
        "    result = [(i, pr[i], s) for i, s in enumerate(sentences) if i in pr]\n",
        "    result.sort(key=lambda x: x[1], reverse=True)\n",
        "\n",
        "    # Выбираем топ предложений\n",
        "    n_summary_sentences = max(int(n_sentences * summary_part), 1)\n",
        "    result = result[:n_summary_sentences]\n",
        "\n",
        "    # Восстанавливаем оригинальный их порядок\n",
        "    result.sort(key=lambda x: x[0])\n",
        "\n",
        "    # Восстанавливаем текст выжимки\n",
        "    predicted_summary = \" \".join([sentence for i, proba, sentence in result])\n",
        "    predicted_summary = predicted_summary.lower() if lower else predicted_summary\n",
        "    return predicted_summary\n",
        "\n",
        "def calc_text_rank_score(records, calc_similarity=unique_words_similarity, summary_part=0.1, lower=True, nrows=1000, morph=None):\n",
        "    references = []\n",
        "    predictions = []\n",
        "\n",
        "    for i, record in tqdm(enumerate(records)):\n",
        "        if i >= nrows:\n",
        "            break\n",
        "\n",
        "        summary = record[\"summary\"]\n",
        "        summary = summary if not lower else summary.lower()\n",
        "        references.append(summary)\n",
        "\n",
        "        text = record[\"text\"]\n",
        "        predicted_summary = gen_text_rank_summary(text, calc_similarity, summary_part, lower, morph=morph)\n",
        "        text = text if not lower else text.lower()\n",
        "        predictions.append(predicted_summary)\n",
        "\n",
        "    calc_scores(references, predictions)\n",
        "\n",
        "morph = pymorphy2.MorphAnalyzer()\n",
        "calc_text_rank_score(test_records)"
      ],
      "execution_count": null,
      "outputs": []
    },
    {
      "cell_type": "markdown",
      "metadata": {
        "id": "Ac8UYVqJOLg6"
      },
      "source": [
        "Сделаем TextRank с другой мерой близости предложений: по FastText, ELMo или BERT эмбеддингам"
      ]
    },
    {
      "cell_type": "code",
      "metadata": {
        "id": "krW7EZnhy6O0"
      },
      "source": [
        "!pip install navec"
      ],
      "execution_count": null,
      "outputs": []
    },
    {
      "cell_type": "markdown",
      "metadata": {
        "id": "lg2dMwsqyebT"
      },
      "source": [
        "\n",
        "<img src=\"https://raw.githubusercontent.com/natasha/natasha-logos/master/navec.svg\">\n",
        "<br>\n"
      ]
    },
    {
      "cell_type": "markdown",
      "metadata": {
        "id": "eodJCCAyy2xa"
      },
      "source": [
        "[Navec](https://github.com/natasha/navec)"
      ]
    },
    {
      "cell_type": "code",
      "metadata": {
        "id": "465MgMnQzUtD"
      },
      "source": [
        "!wget https://storage.yandexcloud.net/natasha-navec/packs/navec_news_v1_1B_250K_300d_100q.tar"
      ],
      "execution_count": null,
      "outputs": []
    },
    {
      "cell_type": "code",
      "metadata": {
        "id": "lwNSP0xH_ASe"
      },
      "source": [
        "from navec import Navec\n",
        "\n",
        "path = 'navec_news_v1_1B_250K_300d_100q.tar'\n",
        "navec = Navec.load(path) "
      ],
      "execution_count": null,
      "outputs": []
    },
    {
      "cell_type": "code",
      "metadata": {
        "id": "EBZhqZ4ZCVc-"
      },
      "source": [
        "from numpy.linalg import norm\n",
        "def vectorize_sum(words, embeddings):\n",
        "\n",
        "    embedding_dim = embeddings.vectors.shape[1]\n",
        "    features = np.zeros([embedding_dim], dtype='float32')\n",
        "\n",
        "    for word in words:\n",
        "        if word in embeddings:\n",
        "            features += embeddings[f'{word}']\n",
        "    \n",
        "    return features\n",
        "\n",
        "def my_sim(text1, text2, embeddings=model, kind='cos'):\n",
        "\n",
        "    v1, v2 = vectorize_sum(text1, embeddings), vectorize_sum(text2, embeddings)\n",
        "\n",
        "    return -norm(v1 - v2)"
      ],
      "execution_count": null,
      "outputs": []
    },
    {
      "cell_type": "code",
      "metadata": {
        "id": "XksJ0ACzZ3N-"
      },
      "source": [
        "calc_text_rank_score(test_records, calc_similarity=my_sim, morph=morph)"
      ],
      "execution_count": null,
      "outputs": []
    },
    {
      "cell_type": "markdown",
      "metadata": {
        "id": "yGFTmGLLFOGw"
      },
      "source": [
        "### Summa"
      ]
    },
    {
      "cell_type": "code",
      "metadata": {
        "id": "fQiUDH8fVN3h"
      },
      "source": [
        "from summa.summarizer import summarize\n",
        "\n",
        "def calc_summa_score(records, summary_part=0.1, lower=True, nrows=1000):\n",
        "    references = []\n",
        "    predictions = []\n",
        "\n",
        "    for i, record in tqdm(enumerate(records)):\n",
        "        if i >= nrows:\n",
        "            break\n",
        "\n",
        "        summary = record[\"summary\"]\n",
        "        summary = summary if not lower else summary.lower()\n",
        "        references.append(summary)\n",
        "\n",
        "        text = record[\"text\"]\n",
        "        text = text if not lower else text.lower()\n",
        "        predicted_summary = summarize(text, ratio=summary_part, language='russian').replace(\"\\n\", \" \")\n",
        "        predictions.append(predicted_summary)\n",
        "\n",
        "    calc_scores(references, predictions)\n",
        "\n",
        "calc_summa_score(test_records)"
      ],
      "execution_count": null,
      "outputs": []
    },
    {
      "cell_type": "markdown",
      "metadata": {
        "id": "xdTrfxycB7cd"
      },
      "source": [
        "## Oracle summary"
      ]
    },
    {
      "cell_type": "markdown",
      "metadata": {
        "id": "6Q7DeHDYFSjX"
      },
      "source": [
        "Для сведения задачи к extractive summarization мы должны выбрать те предложения из оригинального текста, которые наиболее похожи на наше целевое summary по нашим метрикам."
      ]
    },
    {
      "cell_type": "code",
      "metadata": {
        "id": "Sxsc0Orf8hGq"
      },
      "source": [
        "import copy\n",
        "\n",
        "def build_oracle_summary_greedy(text, gold_summary, calc_score, lower=True, max_sentences=30):\n",
        "    '''\n",
        "    Жадное построение oracle summary\n",
        "    '''\n",
        "    gold_summary = gold_summary.lower() if lower else gold_summary\n",
        "    # Делим текст на предложения\n",
        "    sentences = [sentence.text.lower() if lower else sentence.text for sentence in razdel.sentenize(text)][:max_sentences]\n",
        "    n_sentences = len(sentences)\n",
        "    oracle_summary_sentences = set()\n",
        "    \n",
        "    score = -1.0\n",
        "    summaries = []\n",
        "    for _ in range(n_sentences):\n",
        "        for i in range(n_sentences):\n",
        "            if i in oracle_summary_sentences:\n",
        "                continue\n",
        "            current_summary_sentences = copy.copy(oracle_summary_sentences)\n",
        "            # Добавляем какое-то предложения к уже существующему summary\n",
        "            current_summary_sentences.add(i)\n",
        "            current_summary = \" \".join([sentences[index] for index in sorted(list(current_summary_sentences))])\n",
        "            # Считаем метрики\n",
        "            current_score = calc_score(current_summary, gold_summary)\n",
        "            summaries.append((current_score, current_summary_sentences))\n",
        "        # Если получилось улучшить метрики с добавлением какого-либо предложения, то пробуем добавить ещё\n",
        "        # Иначе на этом заканчиваем\n",
        "        best_summary_score, best_summary_sentences = max(summaries)\n",
        "        if best_summary_score <= score:\n",
        "            break\n",
        "        oracle_summary_sentences = best_summary_sentences\n",
        "        score = best_summary_score\n",
        "    oracle_summary = \" \".join([sentences[index] for index in sorted(list(oracle_summary_sentences))])\n",
        "    return oracle_summary, oracle_summary_sentences\n",
        "\n",
        "def calc_single_score(pred_summary, gold_summary, rouge):\n",
        "    return rouge.get_scores([pred_summary], [gold_summary], avg=True)['rouge-2']['f']"
      ],
      "execution_count": null,
      "outputs": []
    },
    {
      "cell_type": "code",
      "metadata": {
        "id": "7T_ak-KDB8rp",
        "colab": {
          "base_uri": "https://localhost:8080/",
          "height": 158,
          "referenced_widgets": [
            "71a8d50ac10c420abfb7f101698cd1e9",
            "2b33e076169547f8b8b3a4a333bac91f",
            "b911e04925794871b5524d0e503e20a4",
            "166ac3096cab4733aba73b81095ee7db",
            "7e387e0982a045f4afb74fb90003ff9f",
            "ce0f9337e01c400ab65e72264bd130a4",
            "c78c59621f9c402ca9bcc1ebfff25b8b",
            "1e4448214dd04cc3bf4f0c3d332e77da"
          ]
        },
        "outputId": "96a406d2-97fd-475f-bfe8-1510883bceea"
      },
      "source": [
        "from tqdm.notebook import tqdm\n",
        "import razdel\n",
        "\n",
        "def calc_oracle_score(records, nrows=1000, lower=True):\n",
        "    references = []\n",
        "    predictions = []\n",
        "    rouge = Rouge()\n",
        "  \n",
        "    for i, record in tqdm(enumerate(records)):\n",
        "        if i >= nrows:\n",
        "            break\n",
        "\n",
        "        summary = record[\"summary\"]\n",
        "        summary = summary if not lower else summary.lower()\n",
        "        references.append(summary)\n",
        "\n",
        "        text = record[\"text\"]\n",
        "        predicted_summary, _ = build_oracle_summary_greedy(text, summary, calc_score=lambda x, y: calc_single_score(x, y, rouge))\n",
        "        predictions.append(predicted_summary)\n",
        "\n",
        "    calc_scores(references, predictions)\n",
        "\n",
        "\n",
        "calc_oracle_score(test_records)"
      ],
      "execution_count": null,
      "outputs": [
        {
          "output_type": "display_data",
          "data": {
            "application/vnd.jupyter.widget-view+json": {
              "model_id": "71a8d50ac10c420abfb7f101698cd1e9",
              "version_minor": 0,
              "version_major": 2
            },
            "text/plain": [
              "HBox(children=(FloatProgress(value=1.0, bar_style='info', max=1.0), HTML(value='')))"
            ]
          },
          "metadata": {
            "tags": []
          }
        },
        {
          "output_type": "stream",
          "text": [
            "Count: 1000\n",
            "Ref: телеканал «спас» запускает реалити-шоу «остров», участникам которого предстоит месяц жить и работать в нило-столобенской пустыни на озере селигер. организаторы отметили, что это беспрецедентный подобный проект на телевидении. участникам шоу будет, где поработать — в монастыре работают свечной, молочный и столярный цеха, есть коровник, конюшня, пасека.\n",
            "Hyp: православный телеканал «спас», учредителем которого является московская патриархия, запускает реалити-шоу «остров», участникам которого предстоит месяц жить и работать в нило-столобенской пустыни на озере селигер в тверской области. в комментарии также отмечается, что это беспрецедентный подобный проект на телевидении. стоит отметить, что участникам шоу будет, где поработать — в монастыре работают свечной, молочный и столярный цеха, есть коровник, конюшня, пасека.\n",
            "BLEU:  0.531336150784986\n",
            "ROUGE:  {'rouge-1': {'f': 0.36951810858804146, 'p': 0.4053281117404892, 'r': 0.3661389123393327}, 'rouge-2': {'f': 0.2087846693590912, 'p': 0.23400300931194973, 'r': 0.20594499639015063}, 'rouge-l': {'f': 0.32342889691715343, 'p': 0.3777106006444112, 'r': 0.33982247044123787}}\n"
          ],
          "name": "stdout"
        }
      ]
    },
    {
      "cell_type": "markdown",
      "metadata": {
        "id": "foLYftYTCAkS"
      },
      "source": [
        "## Extractive RNN"
      ]
    },
    {
      "cell_type": "markdown",
      "metadata": {
        "id": "PYrjp9FtGdST"
      },
      "source": [
        "Теперь пробуем предсказать oracle summary"
      ]
    },
    {
      "cell_type": "markdown",
      "metadata": {
        "id": "7Sfauc4VGgyw"
      },
      "source": [
        "### BPE\n",
        "Для начала сделаем BPE токенизацию"
      ]
    },
    {
      "cell_type": "code",
      "metadata": {
        "id": "YiIbVSqIbHBL",
        "colab": {
          "base_uri": "https://localhost:8080/"
        },
        "outputId": "a902a26d-3b07-4f74-e55b-a47dd304948c"
      },
      "source": [
        "!pip install youtokentome"
      ],
      "execution_count": null,
      "outputs": [
        {
          "output_type": "stream",
          "text": [
            "Collecting youtokentome\n",
            "\u001b[?25l  Downloading https://files.pythonhosted.org/packages/a3/65/4a86cf99da3f680497ae132329025b291e2fda22327e8da6a9476e51acb1/youtokentome-1.0.6-cp36-cp36m-manylinux2010_x86_64.whl (1.7MB)\n",
            "\u001b[K     |████████████████████████████████| 1.7MB 4.8MB/s \n",
            "\u001b[?25hRequirement already satisfied: Click>=7.0 in /usr/local/lib/python3.6/dist-packages (from youtokentome) (7.1.2)\n",
            "Installing collected packages: youtokentome\n",
            "Successfully installed youtokentome-1.0.6\n"
          ],
          "name": "stdout"
        }
      ]
    },
    {
      "cell_type": "code",
      "metadata": {
        "id": "-PMlNJnea4Um"
      },
      "source": [
        "import youtokentome as yttm\n",
        "\n",
        "def train_bpe(records, model_path, model_type=\"bpe\", vocab_size=10000, lower=True):\n",
        "    temp_file_name = \"temp.txt\"\n",
        "    with open(temp_file_name, \"w\") as temp:\n",
        "        for record in records:\n",
        "            text, summary = record['text'], record['summary']\n",
        "            if lower:\n",
        "                summary = summary.lower()\n",
        "                text = text.lower()\n",
        "            if not text or not summary:\n",
        "                continue\n",
        "            temp.write(text + \"\\n\")\n",
        "            temp.write(summary + \"\\n\")\n",
        "    yttm.BPE.train(data=temp_file_name, vocab_size=vocab_size, model=model_path)\n",
        "\n",
        "train_bpe(train_records, \"BPE_model.bin\")"
      ],
      "execution_count": null,
      "outputs": []
    },
    {
      "cell_type": "code",
      "metadata": {
        "id": "qYHwL9W5naIw",
        "colab": {
          "base_uri": "https://localhost:8080/"
        },
        "outputId": "d81b0076-bf80-4c07-ba4a-6dad2bd37a39"
      },
      "source": [
        "bpe_processor = yttm.BPE('BPE_model.bin')\n",
        "bpe_processor.encode('привет. это я, убегаю от тебя', output_type=yttm.OutputType.SUBWORD)"
      ],
      "execution_count": null,
      "outputs": [
        {
          "output_type": "execute_result",
          "data": {
            "text/plain": [
              "['▁привет', '.', '▁это', '▁я', ',', '▁убе', 'га', 'ю', '▁от', '▁тебя']"
            ]
          },
          "metadata": {
            "tags": []
          },
          "execution_count": 13
        }
      ]
    },
    {
      "cell_type": "code",
      "metadata": {
        "id": "D4temBI-rqhx"
      },
      "source": [
        "words = ['▁привет', '▁это', '▁я', ',', '▁убе', 'га', 'ю', '▁от', '▁тебя']"
      ],
      "execution_count": null,
      "outputs": []
    },
    {
      "cell_type": "code",
      "metadata": {
        "id": "AtKOpVVbqtxo",
        "colab": {
          "base_uri": "https://localhost:8080/"
        },
        "outputId": "46d86c64-7ced-40bc-c954-34197f9f29aa"
      },
      "source": [
        "bpe_processor.decode([bpe_processor.subword_to_id(word) for word in words])"
      ],
      "execution_count": null,
      "outputs": [
        {
          "output_type": "execute_result",
          "data": {
            "text/plain": [
              "['привет это я, убегаю от тебя']"
            ]
          },
          "metadata": {
            "tags": []
          },
          "execution_count": 15
        }
      ]
    },
    {
      "cell_type": "markdown",
      "metadata": {
        "id": "AOkUL_YIGp-S"
      },
      "source": [
        "### Словарь\n",
        "Составим словарь для индексации токенов"
      ]
    },
    {
      "cell_type": "code",
      "metadata": {
        "id": "GhQYN1beiVEC"
      },
      "source": [
        "vocabulary = bpe_processor.vocab()"
      ],
      "execution_count": null,
      "outputs": []
    },
    {
      "cell_type": "markdown",
      "metadata": {
        "id": "seH13yXuGt03"
      },
      "source": [
        "### Кэш oracle summary\n",
        "Закэшируем oracle summary, чтобы не пересчитывать их каждый раз"
      ]
    },
    {
      "cell_type": "code",
      "metadata": {
        "id": "Jdb-39jO-72q",
        "colab": {
          "base_uri": "https://localhost:8080/",
          "height": 113,
          "referenced_widgets": [
            "bb8f0d218d73409cb7ccc11777939833",
            "fa4a1379aee149048b0dfb09a3ef36c9",
            "eac84824a7b24f94befc49f71d68edd2",
            "9fd31d264f50426195ab5302bcdc86ea",
            "74861c4497b5434590a4688da53557e5",
            "7ede90a0494b48eb9c3310da6acd38ac",
            "172fcf8248d74b26b9eada4e69be919c",
            "db65bf0874f94632864f3c7de3dbe3be",
            "4b339de280f04890b6680092b0e098c0",
            "ed538c27a01a4b2faa86d2f89ce9480e",
            "408644868e3e4cdea511171f170a02df",
            "483fdc118d6447119aa74801b0013625",
            "e7db778bc94a4164ad5bff868acf0b82",
            "0c0b8ab47e5b452b98567d58b453a5f7",
            "e63e55e20f1c4eb986a301f22635855d",
            "de974cd26f9c46589ccfc06bad57e018",
            "f7f127a6e02147ce91044d01ef277244",
            "2f587488edb646e6b79cd1f58e304d98",
            "2353432e73e74a58a935413bb54769d9",
            "3970fa77231641bd9bbbc1cad4545319",
            "d303fefdb574419598e76e496565bcd5",
            "bf146f960c7b4ff9a81822c0bbbee7ae",
            "e269f238f5d74817ad1c45b8050c3a10",
            "4e1dc3a98ac242a9bc09d44a093a6072"
          ]
        },
        "outputId": "27a3e5a2-4f9d-44db-c1d2-1dce5755dccc"
      },
      "source": [
        "from rouge import Rouge\n",
        "import razdel\n",
        "from tqdm.notebook import tqdm\n",
        "\n",
        "def add_oracle_summary_to_records(records, max_sentences=30, lower=True, nrows=1000):\n",
        "    rouge = Rouge()\n",
        "    for i, record in tqdm(enumerate(records)):\n",
        "        if i >= nrows:\n",
        "            break\n",
        "        text = record[\"text\"]\n",
        "        summary = record[\"summary\"]\n",
        "\n",
        "        summary = summary.lower() if lower else summary\n",
        "        sentences = [sentence.text.lower() if lower else sentence.text for sentence in razdel.sentenize(text)][:max_sentences]\n",
        "        oracle_summary, sentences_indicies = build_oracle_summary_greedy(text, summary, calc_score=lambda x, y: calc_single_score(x, y, rouge),\n",
        "                                                                         lower=lower, max_sentences=max_sentences)\n",
        "        record[\"sentences\"] = sentences\n",
        "        record[\"oracle_sentences\"] = list(sentences_indicies)\n",
        "        record[\"oracle_summary\"] = oracle_summary\n",
        "\n",
        "    return records[:nrows]\n",
        "\n",
        "ext_train_records = add_oracle_summary_to_records(train_records, nrows=2048)\n",
        "ext_val_records = add_oracle_summary_to_records(val_records, nrows=256)\n",
        "ext_test_records = add_oracle_summary_to_records(test_records, nrows=256)"
      ],
      "execution_count": null,
      "outputs": [
        {
          "output_type": "display_data",
          "data": {
            "application/vnd.jupyter.widget-view+json": {
              "model_id": "bb8f0d218d73409cb7ccc11777939833",
              "version_minor": 0,
              "version_major": 2
            },
            "text/plain": [
              "HBox(children=(FloatProgress(value=1.0, bar_style='info', max=1.0), HTML(value='')))"
            ]
          },
          "metadata": {
            "tags": []
          }
        },
        {
          "output_type": "display_data",
          "data": {
            "application/vnd.jupyter.widget-view+json": {
              "model_id": "4b339de280f04890b6680092b0e098c0",
              "version_minor": 0,
              "version_major": 2
            },
            "text/plain": [
              "HBox(children=(FloatProgress(value=1.0, bar_style='info', max=1.0), HTML(value='')))"
            ]
          },
          "metadata": {
            "tags": []
          }
        },
        {
          "output_type": "display_data",
          "data": {
            "application/vnd.jupyter.widget-view+json": {
              "model_id": "f7f127a6e02147ce91044d01ef277244",
              "version_minor": 0,
              "version_major": 2
            },
            "text/plain": [
              "HBox(children=(FloatProgress(value=1.0, bar_style='info', max=1.0), HTML(value='')))"
            ]
          },
          "metadata": {
            "tags": []
          }
        }
      ]
    },
    {
      "cell_type": "markdown",
      "metadata": {
        "id": "UlXXc8qUHC5m"
      },
      "source": [
        "### Составление батчей"
      ]
    },
    {
      "cell_type": "code",
      "metadata": {
        "id": "YATQKCuqHPo3",
        "colab": {
          "base_uri": "https://localhost:8080/"
        },
        "outputId": "48b164a0-a9b0-47dd-83e9-2b479480af58"
      },
      "source": [
        "import torch\n",
        "device = torch.device('cuda' if torch.cuda.is_available() else 'cpu')\n",
        "device"
      ],
      "execution_count": null,
      "outputs": [
        {
          "output_type": "execute_result",
          "data": {
            "text/plain": [
              "device(type='cuda')"
            ]
          },
          "metadata": {
            "tags": []
          },
          "execution_count": 18
        }
      ]
    },
    {
      "cell_type": "code",
      "metadata": {
        "id": "MNyxstTChK3C"
      },
      "source": [
        "import random\n",
        "import math\n",
        "import razdel\n",
        "import torch\n",
        "import numpy as np\n",
        "from rouge import Rouge\n",
        "\n",
        "\n",
        "class BatchIterator():\n",
        "    def __init__(self, records, vocabulary, batch_size, bpe_processor, shuffle=True, lower=True, max_sentences=30, max_sentence_length=50, device=torch.device('cpu')):\n",
        "        self.records = records\n",
        "        self.num_samples = len(records)\n",
        "        self.batch_size = batch_size\n",
        "        self.bpe_processor = bpe_processor\n",
        "        self.shuffle = shuffle\n",
        "        self.batches_count = int(math.ceil(self.num_samples / batch_size))\n",
        "        self.lower = lower\n",
        "        self.rouge = Rouge()\n",
        "        self.vocabulary = vocabulary\n",
        "        self.max_sentences = max_sentences\n",
        "        self.max_sentence_length = max_sentence_length\n",
        "        self.device = device\n",
        "        \n",
        "    def __len__(self):\n",
        "        return self.batches_count\n",
        "    \n",
        "    def __iter__(self):\n",
        "        indices = np.arange(self.num_samples)\n",
        "        if self.shuffle:\n",
        "            np.random.shuffle(indices)\n",
        "\n",
        "        for start in range(0, self.num_samples, self.batch_size):\n",
        "            end = min(start + self.batch_size, self.num_samples)\n",
        "            batch_indices = indices[start:end]\n",
        "\n",
        "            batch_inputs = []\n",
        "            batch_outputs = []\n",
        "            max_sentence_length = 0\n",
        "            max_sentences = 0\n",
        "            batch_records = []\n",
        "\n",
        "            for data_ind in batch_indices:\n",
        "                \n",
        "                record = self.records[data_ind]\n",
        "                batch_records.append(record)\n",
        "                text = record[\"text\"]\n",
        "                summary = record[\"summary\"]\n",
        "                summary = summary.lower() if self.lower else summary\n",
        "\n",
        "                if \"sentences\" not in record:\n",
        "                    sentences = [sentence.text.lower() if self.lower else sentence.text for sentence in razdel.sentenize(text)][:self.max_sentences]\n",
        "                else:\n",
        "                    sentences = record[\"sentences\"]\n",
        "                max_sentences = max(len(sentences), max_sentences)\n",
        "                \n",
        "                # номера предложений, которые в нашем саммари\n",
        "                if \"oracle_sentences\" not in record:\n",
        "                    calc_score = lambda x, y: calc_single_score(x, y, self.rouge)\n",
        "                    sentences_indicies = build_oracle_summary_greedy(text, summary, calc_score=calc_score, lower=self.lower, max_sentences=self.max_sentences)[1]\n",
        "                else:\n",
        "                    sentences_indicies = record[\"oracle_sentences\"]\n",
        "                \n",
        "                # inputs - индексы слов в предложении\n",
        "                inputs = [bpe_processor.encode(sentence)[:self.max_sentence_length] for sentence in sentences]\n",
        "                max_sentence_length = max(max_sentence_length, max([len(tokens) for tokens in inputs]))\n",
        "                \n",
        "                # получение метки класса предложения\n",
        "                outputs = [int(i in sentences_indicies) for i in range(len(sentences))]\n",
        "                batch_inputs.append(inputs)\n",
        "                batch_outputs.append(outputs)\n",
        "\n",
        "            tensor_inputs = torch.zeros((self.batch_size, max_sentences, max_sentence_length), dtype=torch.long, device=self.device)\n",
        "            tensor_outputs = torch.zeros((self.batch_size, max_sentences), dtype=torch.float32, device=self.device)\n",
        "\n",
        "\n",
        "            for i, inputs in enumerate(batch_inputs):\n",
        "                for j, sentence_tokens in enumerate(inputs):\n",
        "                    tensor_inputs[i][j][:len(sentence_tokens)] = torch.LongTensor(sentence_tokens)\n",
        "\n",
        "            for i, outputs in enumerate(batch_outputs):\n",
        "                tensor_outputs[i][:len(outputs)] = torch.LongTensor(outputs)\n",
        "\n",
        "            yield {\n",
        "                'inputs': tensor_inputs,\n",
        "                'outputs': tensor_outputs,\n",
        "                'records': batch_records\n",
        "            }"
      ],
      "execution_count": null,
      "outputs": []
    },
    {
      "cell_type": "code",
      "metadata": {
        "id": "JegA9fOMsZN5"
      },
      "source": [
        "train_iterator = BatchIterator(ext_train_records, vocabulary, 4, bpe_processor, device=device)"
      ],
      "execution_count": null,
      "outputs": []
    },
    {
      "cell_type": "code",
      "metadata": {
        "id": "3YxUt1F5vVw5",
        "colab": {
          "base_uri": "https://localhost:8080/"
        },
        "outputId": "792a26f2-5f8f-4b0e-ded9-2b6e1f4e919d"
      },
      "source": [
        "for batch in train_iterator:\n",
        "    print(batch['inputs'].shape, batch['outputs'].shape)\n",
        "    break"
      ],
      "execution_count": null,
      "outputs": [
        {
          "output_type": "stream",
          "text": [
            "torch.Size([4, 30, 50]) torch.Size([4, 30])\n"
          ],
          "name": "stdout"
        }
      ]
    },
    {
      "cell_type": "code",
      "metadata": {
        "id": "AzFzC1rT99Kd",
        "colab": {
          "base_uri": "https://localhost:8080/"
        },
        "outputId": "10b19d27-ae93-42a3-d6bd-c6d12f4c289b"
      },
      "source": [
        "batch['records'][0].keys()"
      ],
      "execution_count": null,
      "outputs": [
        {
          "output_type": "execute_result",
          "data": {
            "text/plain": [
              "dict_keys(['url', 'text', 'title', 'summary', 'date', 'sentences', 'oracle_sentences', 'oracle_summary'])"
            ]
          },
          "metadata": {
            "tags": []
          },
          "execution_count": 22
        }
      ]
    },
    {
      "cell_type": "code",
      "metadata": {
        "id": "5ug9MIObdi03"
      },
      "source": [
        "train_iterator = BatchIterator(ext_train_records, vocabulary, 32, bpe_processor, device=device)\n",
        "val_iterator = BatchIterator(ext_val_records, vocabulary, 32, bpe_processor, device=device)\n",
        "test_iterator = BatchIterator(ext_test_records, vocabulary, 32, bpe_processor, device=device)"
      ],
      "execution_count": null,
      "outputs": []
    },
    {
      "cell_type": "markdown",
      "metadata": {
        "id": "yPlJMg0_dQM-"
      },
      "source": [
        "## Extractor -  SummaRuNNer\n",
        " https://arxiv.org/pdf/1611.04230.pdf\n"
      ]
    },
    {
      "cell_type": "code",
      "metadata": {
        "id": "jsY5qXFFdT6_"
      },
      "source": [
        "import torch\n",
        "import torch.nn as nn\n",
        "import torch.optim as optim\n",
        "import time\n",
        "\n",
        "def train_model(model, train_iterator, val_iterator, vocabulary, bpe_processor,\n",
        "                epochs_count=2, loss_every_nsteps=16, lr=0.001, device_name=\"cuda\"):\n",
        "    \n",
        "    params_count = sum(p.numel() for p in model.parameters() if p.requires_grad)\n",
        "    print(\"Trainable params: {}\".format(params_count))\n",
        "\n",
        "    device = torch.device(device_name)\n",
        "    model = model.to(device)\n",
        "\n",
        "    total_loss = 0\n",
        "    start_time = time.time()\n",
        "\n",
        "    optimizer = optim.Adam(model.parameters(), lr=lr)\n",
        "    loss_function = nn.BCEWithLogitsLoss().to(device)\n",
        "\n",
        "    for epoch in range(epochs_count):\n",
        "        for step, batch in enumerate(train_iterator):\n",
        "\n",
        "            model.train()\n",
        "            logits = model(batch[\"inputs\"]) # Прямой проход\n",
        "            loss = loss_function(logits, batch[\"outputs\"]) # Подсчёт ошибки\n",
        "\n",
        "            optimizer.zero_grad() # Зануление градиентов, чтобы их спокойно менять на следующей итерации\n",
        "            loss.backward() # Подсчёт градиентов dL/dw\n",
        "            optimizer.step() # Градиентный спуск или его модификации (в данном случае Adam)\n",
        "            \n",
        "            total_loss += loss.item()\n",
        "            if step % loss_every_nsteps == 0 and step != 0:\n",
        "                val_total_loss = 0\n",
        "                val_batch_count = 0\n",
        "\n",
        "                model.eval()\n",
        "                for _, val_batch in enumerate(val_iterator):\n",
        "\n",
        "                    logits = model(val_batch[\"inputs\"]) # Прямой проход\n",
        "                    val_total_loss += loss_function(logits, batch[\"outputs\"]) # Подсчёт ошибки\n",
        "                    val_batch_count += 1\n",
        "\n",
        "                avg_val_loss = val_total_loss/val_batch_count\n",
        "                print(\"Epoch = {}, Avg Train Loss = {:.4f}, Avg val loss = {:.4f}, Time = {:.2f}s\".format(epoch, total_loss / loss_every_nsteps, avg_val_loss, time.time() - start_time))\n",
        "                total_loss = 0\n",
        "                start_time = time.time()\n",
        "\n",
        "        total_loss = 0\n",
        "        start_time = time.time()"
      ],
      "execution_count": null,
      "outputs": []
    },
    {
      "cell_type": "code",
      "metadata": {
        "id": "iW7iS76KeEdO"
      },
      "source": [
        "import numpy as np\n",
        "\n",
        "import torch\n",
        "import torch.nn as nn\n",
        "import torch.nn.functional as F\n",
        "import torch.optim as optim\n",
        "from torch.autograd import Variable\n",
        "\n",
        "from torch.nn.utils.rnn import pack_padded_sequence as pack\n",
        "from torch.nn.utils.rnn import pad_packed_sequence as unpack\n",
        "\n",
        "class SentenceEncoderRNN(nn.Module):\n",
        "    def __init__(self, input_size, embedding_dim, hidden_size, n_layers=3, dropout=0.3, bidirectional=True):\n",
        "        super().__init__()\n",
        "\n",
        "        num_directions = 2 if bidirectional else 1\n",
        "        assert hidden_size % num_directions == 0\n",
        "        hidden_size = hidden_size // num_directions\n",
        "\n",
        "        self.embedding_dim = embedding_dim\n",
        "        self.input_size = input_size\n",
        "        self.hidden_size = hidden_size\n",
        "        self.n_layers = n_layers\n",
        "        self.dropout = dropout\n",
        "        self.bidirectional = bidirectional\n",
        "\n",
        "        self.embedding_layer = nn.Embedding(input_size, embedding_dim)\n",
        "        self.rnn_layer = nn.LSTM(embedding_dim, hidden_size, n_layers, dropout=dropout, bidirectional=bidirectional, batch_first=True)\n",
        "        self.dropout_layer = nn.Dropout(dropout)\n",
        "\n",
        "    def forward(self, inputs, hidden=None):\n",
        "        embedded = self.embedding_layer(inputs)\n",
        "        outputs, _ = self.rnn_layer(embedded, hidden)\n",
        "        sentences_embeddings = torch.mean(outputs, 1)\n",
        "\n",
        "        return sentences_embeddings\n",
        "\n",
        "class SentenceTaggerRNN(nn.Module):\n",
        "    def __init__(self,\n",
        "                 vocabulary_size,\n",
        "                 token_embedding_dim=256,\n",
        "                 sentence_encoder_hidden_size=256,\n",
        "                 hidden_size=256,\n",
        "                 bidirectional=True,\n",
        "                 sentence_encoder_n_layers=2,\n",
        "                 sentence_encoder_dropout=0.3,\n",
        "                 sentence_encoder_bidirectional=True,\n",
        "                 n_layers=1,\n",
        "                 dropout=0.3):\n",
        "        \n",
        "        super().__init__()\n",
        "\n",
        "        num_directions = 2 if bidirectional else 1\n",
        "        assert hidden_size % num_directions == 0\n",
        "        hidden_size = hidden_size // num_directions\n",
        "\n",
        "        self.hidden_size = hidden_size\n",
        "        self.n_layers = n_layers\n",
        "        self.dropout = dropout\n",
        "        self.bidirectional = bidirectional\n",
        "\n",
        "        self.sentence_encoder = SentenceEncoderRNN(vocabulary_size, token_embedding_dim,\n",
        "                                                   sentence_encoder_hidden_size, sentence_encoder_n_layers, \n",
        "                                                   sentence_encoder_dropout, sentence_encoder_bidirectional)\n",
        "        \n",
        "        self.rnn_layer = nn.LSTM(sentence_encoder_hidden_size, hidden_size, n_layers, dropout=dropout,\n",
        "                           bidirectional=bidirectional, batch_first=True)\n",
        "        \n",
        "        self.dropout_layer = nn.Dropout(dropout)\n",
        "        self.content_linear_layer = nn.Linear(hidden_size * 2, 1)\n",
        "        self.document_linear_layer = nn.Linear(hidden_size * 2, hidden_size * 2)\n",
        "        self.salience_linear_layer = nn.Linear(hidden_size * 2, hidden_size * 2)\n",
        "        self.tanh_layer = nn.Tanh()\n",
        "\n",
        "    def forward(self, inputs, hidden=None):\n",
        "\n",
        "        # [batch_size, seq num, seq_len]\n",
        "        batch_size = inputs.size(0)\n",
        "        sentences_count = inputs.size(1)\n",
        "        tokens_count = inputs.size(2)\n",
        "        inputs = inputs.reshape(-1, tokens_count)\n",
        "        # [batch_size * seq num, seq_len]\n",
        "\n",
        "        embedded_sentences = self.sentence_encoder(inputs)\n",
        "        embedded_sentences = embedded_sentences.reshape(batch_size, sentences_count, -1)\n",
        "        # [batch_size, seq num, hidden_size]\n",
        "\n",
        "        outputs, _ = self.rnn_layer(embedded_sentences, hidden)\n",
        "        outputs = self.dropout_layer(outputs)\n",
        "        # [batch_size, seq num, hidden_size]\n",
        "\n",
        "        document_embedding = self.tanh_layer(self.document_linear_layer(torch.mean(outputs, 1)))\n",
        "        # [batch_size, hidden_size]\n",
        "\n",
        "        # W * h^T\n",
        "        content = self.content_linear_layer(outputs).squeeze(2) # 1-representation\n",
        "        # [batch_size, seq num]\n",
        "\n",
        "        # h^T * W * d\n",
        "        salience = torch.bmm(outputs, self.salience_linear_layer(document_embedding).unsqueeze(2)).squeeze(2) # 2-representation\n",
        "\n",
        "        # [batch_size, seq num, hidden_size] * [batch_size, hidden_size, 1] = [batch_size, seq num, 1\n",
        "        return content + salience"
      ],
      "execution_count": null,
      "outputs": []
    },
    {
      "cell_type": "markdown",
      "metadata": {
        "id": "QxpL3AtOrctD"
      },
      "source": [
        "$P\\left(y_{j} = 1 \\mid \\mathbf{h}_{j}, \\mathbf{s}_{j}, \\mathbf{d}\\right)=\\sigma\\left(W_{c} \\mathbf{h}_{j} + \\mathbf{h}_{j}^{T} W_{s} \\mathbf{d}\\right)$\n",
        "--------------------"
      ]
    },
    {
      "cell_type": "code",
      "metadata": {
        "id": "-QC1ZmuQfB7f",
        "colab": {
          "base_uri": "https://localhost:8080/"
        },
        "outputId": "08664408-4e3d-4274-8380-9c3cf65e855c"
      },
      "source": [
        "model = SentenceTaggerRNN(len(vocabulary))\n",
        "train_model(model, train_iterator, val_iterator, vocabulary, bpe_processor, device_name=\"cuda\")"
      ],
      "execution_count": null,
      "outputs": [
        {
          "output_type": "stream",
          "text": [
            "/usr/local/lib/python3.6/dist-packages/torch/nn/modules/rnn.py:61: UserWarning: dropout option adds dropout after all but last recurrent layer, so non-zero dropout expects num_layers greater than 1, but got dropout=0.3 and num_layers=1\n",
            "  \"num_layers={}\".format(dropout, num_layers))\n"
          ],
          "name": "stderr"
        },
        {
          "output_type": "stream",
          "text": [
            "Trainable params: 3877633\n",
            "Epoch = 0, Avg Train Loss = 0.3385, Avg val loss = 0.3035, Time = 4.99s\n",
            "Epoch = 0, Avg Train Loss = 0.2410, Avg val loss = 0.2219, Time = 4.64s\n",
            "Epoch = 0, Avg Train Loss = 0.2339, Avg val loss = 0.2103, Time = 4.74s\n",
            "Epoch = 1, Avg Train Loss = 0.2463, Avg val loss = 0.2383, Time = 4.90s\n",
            "Epoch = 1, Avg Train Loss = 0.2338, Avg val loss = 0.2423, Time = 4.58s\n",
            "Epoch = 1, Avg Train Loss = 0.2358, Avg val loss = 0.2101, Time = 4.63s\n"
          ],
          "name": "stdout"
        }
      ]
    },
    {
      "cell_type": "code",
      "metadata": {
        "id": "wZ96X37bb_PV",
        "colab": {
          "base_uri": "https://localhost:8080/"
        },
        "outputId": "59ba79eb-4164-41e5-a84b-56a966110a44"
      },
      "source": [
        "import re\n",
        "def punct_detokenize(text):\n",
        "    text = text.strip()\n",
        "    punctuation = \",.!?:;%\"\n",
        "    closing_punctuation = \")]}\"\n",
        "    opening_punctuation = \"([}\"\n",
        "    for ch in punctuation + closing_punctuation:\n",
        "        text = text.replace(\" \" + ch, ch)\n",
        "    for ch in opening_punctuation:\n",
        "        text = text.replace(ch + \" \", ch)\n",
        "    res = [r'\"\\s[^\"]+\\s\"', r\"'\\s[^']+\\s'\"]\n",
        "    for r in res:\n",
        "        for f in re.findall(r, text, re.U):\n",
        "            text = text.replace(f, f[0] + f[2:-2] + f[-1])\n",
        "    text = text.replace(\"' s\", \"'s\").replace(\" 's\", \"'s\")\n",
        "    text = text.strip()\n",
        "    return text\n",
        "\n",
        "\n",
        "def postprocess(ref, hyp, is_multiple_ref=False, detokenize_after=False, tokenize_after=True):\n",
        "    if is_multiple_ref:\n",
        "        reference_sents = ref.split(\" s_s \")\n",
        "        decoded_sents = hyp.split(\"s_s\")\n",
        "        hyp = [w.replace(\"<\", \"&lt;\").replace(\">\", \"&gt;\").strip() for w in decoded_sents]\n",
        "        ref = [w.replace(\"<\", \"&lt;\").replace(\">\", \"&gt;\").strip() for w in reference_sents]\n",
        "        hyp = \" \".join(hyp)\n",
        "        ref = \" \".join(ref)\n",
        "    ref = ref.strip()\n",
        "    hyp = hyp.strip()\n",
        "    if detokenize_after:\n",
        "        hyp = punct_detokenize(hyp)\n",
        "        ref = punct_detokenize(ref)\n",
        "    if tokenize_after:\n",
        "        hyp = hyp.replace(\"@@UNKNOWN@@\", \"<unk>\")\n",
        "        hyp = \" \".join([token.text for token in razdel.tokenize(hyp)])\n",
        "        ref = \" \".join([token.text for token in razdel.tokenize(ref)])\n",
        "    return ref, hyp\n",
        "\n",
        "def inference_summarunner(model, iterator, top_k=3):\n",
        "\n",
        "    references = []\n",
        "    predictions = []\n",
        "\n",
        "    model.eval()\n",
        "    for batch in test_iterator:\n",
        "\n",
        "        logits = model(batch[\"inputs\"])\n",
        "        in_summary = torch.argsort(logits, dim=1)[:, -top_k:]\n",
        "        \n",
        "        for i in range(len(batch['outputs'])):\n",
        "\n",
        "            summary = batch['records'][i]['summary']\n",
        "            summary = summary.lower()\n",
        "            predicted_summary = ' '.join([batch['records'][i]['sentences'][idx] for idx in in_summary[i].sort()[0]])\n",
        "\n",
        "            summary, predicted_summary = postprocess(summary, predicted_summary)\n",
        "   \n",
        "            references.append(summary)\n",
        "            predictions.append(predicted_summary)\n",
        "\n",
        "    calc_scores(references, predictions)\n",
        "\n",
        "inference_summarunner(model, test_iterator, 3)"
      ],
      "execution_count": null,
      "outputs": [
        {
          "output_type": "stream",
          "text": [
            "Count: 256\n",
            "Ref: украина не должна выплачивать пенсии жителям днр и лнр , поскольку они могут поддерживать россию , заявила депутат верховной рады от партии « слуга народа » елизавета богуцкая . она выступила против закона о праве на получение пособий от государства для жителей донбасса . по ее словам , это плевок в сторону тех , кто уехал на украину и ничего не получил .\n",
            "Hyp: депутат верховной рады от партии « слуга народа » елизавета богуцкая раскритиковала законопроект о выплате пенсий украинцам , проживающим на территориях донбасса . по ее мнению , эти люди могут придерживаться пророссийских взглядов . « кто будет определять , какие взгляды у тех пенсионеров ?\n",
            "BLEU:  0.4483358093852308\n",
            "ROUGE:  {'rouge-1': {'f': 0.3173318124753688, 'p': 0.30313415143950334, 'r': 0.3531967563454292}, 'rouge-2': {'f': 0.1427732219026842, 'p': 0.13475932187114892, 'r': 0.16339726182715186}, 'rouge-l': {'f': 0.27154623032757463, 'p': 0.27392581203986116, 'r': 0.318604126542439}}\n"
          ],
          "name": "stdout"
        }
      ]
    }
  ]
}