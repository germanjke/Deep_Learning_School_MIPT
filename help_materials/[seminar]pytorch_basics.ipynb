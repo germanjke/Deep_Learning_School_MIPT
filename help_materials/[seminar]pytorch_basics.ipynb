{
 "cells": [
  {
   "cell_type": "markdown",
   "metadata": {
    "colab_type": "text",
    "id": "5RETQ6CxbdOz"
   },
   "source": [
    "<p style=\"align: center;\"><img align=center src=\"https://s8.hostingkartinok.com/uploads/images/2018/08/308b49fcfbc619d629fe4604bceb67ac.jpg\" width=500 height=450/></p>\n",
    "\n",
    "<h3 style=\"text-align: center;\"><b>\"Глубокое обучение\". Продвинутый поток</b></h3>\n",
    "\n",
    "<h2 style=\"text-align: center;\"><b>Семинар 6. Основы библиотеки Pythorch </b></h2>\n"
   ]
  },
  {
   "cell_type": "markdown",
   "metadata": {
    "colab_type": "text",
    "id": "vcnGdgw_YJ8u"
   },
   "source": [
    "<h2 style=\"text-align: center;\"><b>PyTorch basics: syntax, torch.cuda and torch.autograd</b></h2>"
   ]
  },
  {
   "cell_type": "markdown",
   "metadata": {
    "colab_type": "text",
    "id": "-Iv1eX2mYJ8v"
   },
   "source": [
    "<p style=\"align: center;\"><img src=\"https://upload.wikimedia.org/wikipedia/commons/9/96/Pytorch_logo.png\" width=400 height=100></p>"
   ]
  },
  {
   "cell_type": "markdown",
   "metadata": {
    "colab_type": "text",
    "id": "JwiKExhuYJ8w"
   },
   "source": [
    "Hi! In this notebook we will cover the basics of the **PyTorch deep learning framework**. "
   ]
  },
  {
   "cell_type": "markdown",
   "metadata": {
    "colab_type": "text",
    "id": "70_JTnaRbdPD"
   },
   "source": [
    "<h3 style=\"text-align: center;\"><b>Intro</b></h3>"
   ]
  },
  {
   "cell_type": "markdown",
   "metadata": {
    "colab_type": "text",
    "id": "8UBMClK6bdPE"
   },
   "source": [
    "**Frameworks** are the specific code libraries with their own internal structure and pipelines."
   ]
  },
  {
   "cell_type": "markdown",
   "metadata": {
    "colab_type": "text",
    "id": "tQoex-sZYJ8x"
   },
   "source": [
    "There are many deep learning frameworks nowadays (02/2019). The difference between them is in the internal computation principles. For example, in **[Caffe](http://caffe.berkeleyvision.org/)** and **[Caffe2](https://caffe2.ai/)** you write the code using some \"ready blocks\" (just like the $LEGO^{TM}$ :). In **[TensorFlow](https://www.tensorflow.org/)** and **[Theano](http://deeplearning.net/software/theano/)** you declare the computation graph at first, then compile it and use it for inference/training (`tf.session()`). By the way, now TensorFlow (since v1.10) has the [Eager Execution](https://www.tensorflow.org/guide/eager), which can be handy for fast prototyping and debugging. **[Keras](https://keras.io/)** is a very popular and useful DL framework that allows to create networks fast and has many demanding features. "
   ]
  },
  {
   "cell_type": "markdown",
   "metadata": {
    "colab_type": "text",
    "id": "97MX7yrBYJ8y"
   },
   "source": [
    "<p style=\"align: center;\"><img src=\"https://habrastorage.org/web/e3e/c3e/b78/e3ec3eb78d714a7993a6b922911c0866.png\" width=500 height=500></p>  \n",
    "<p style=\"text-align: center;\"><i>Image credit: https://habr.com/post/334380/</i><p>"
   ]
  },
  {
   "cell_type": "markdown",
   "metadata": {
    "colab_type": "text",
    "id": "h5yBQj7EbdPJ"
   },
   "source": [
    "We will use PyTorch bacause it's been actively developed and supported by the community and [Facebook AI Research](https://research.fb.com/category/facebook-ai-research/)."
   ]
  },
  {
   "cell_type": "markdown",
   "metadata": {
    "colab_type": "text",
    "id": "J74O-qdJYJ80"
   },
   "source": [
    "<h3 style=\"text-align: center;\"><b>Installation</b></h3>"
   ]
  },
  {
   "cell_type": "markdown",
   "metadata": {
    "colab_type": "text",
    "id": "WpXxZ4-4YJ83"
   },
   "source": [
    "The detailed instruction on how to install PyTorch you can find on the [official PyTorch website](https://pytorch.org/)."
   ]
  },
  {
   "cell_type": "markdown",
   "metadata": {
    "colab_type": "text",
    "id": "uxdjjnqIYJ86"
   },
   "source": [
    "<h3 style=\"text-align: center;\">Syntax<b></b></h3>"
   ]
  },
  {
   "cell_type": "code",
   "execution_count": 1,
   "metadata": {
    "colab": {},
    "colab_type": "code",
    "id": "RtyozNmmYJ89"
   },
   "outputs": [],
   "source": [
    "import torch"
   ]
  },
  {
   "cell_type": "markdown",
   "metadata": {
    "colab_type": "text",
    "id": "zjfLQzEPYJ9B"
   },
   "source": [
    "Some facts about PyTorch:  \n",
    "- dynamic computation graph\n",
    "- handy `torch.nn` and `torchvision` modules for fast neural network prototyping\n",
    "- even faster than TensorFlow on some tasks\n",
    "- allows to use GPU easily"
   ]
  },
  {
   "cell_type": "markdown",
   "metadata": {
    "colab_type": "text",
    "id": "0AL-T8TMYJ9D"
   },
   "source": [
    "If PyTorch was a formula, it would be:  \n",
    "\n",
    "$$PyTorch = NumPy + CUDA + Autograd$$"
   ]
  },
  {
   "cell_type": "markdown",
   "metadata": {
    "colab_type": "text",
    "id": "X_O59VXWYJ9E"
   },
   "source": [
    "(CUDA - [wiki](https://en.wikipedia.org/wiki/CUDA))"
   ]
  },
  {
   "cell_type": "markdown",
   "metadata": {
    "colab_type": "text",
    "id": "lWIeTFxSYJ9F"
   },
   "source": [
    "Let's see how we can use PyTorch to operate with vectors and tensors.  \n",
    "\n",
    "Recall that **a tensor** is a multidimensional vector, e.g. :  \n",
    "\n",
    "`x = np.array([1,2,3])` -- a vector = a tensor with 1 dimension (to be more precise: `(1,)`)  \n",
    "`y = np.array([[1, 2, 3], [4, 5, 6]])` -- a matrix = a tensor with 2 dimensions (`(2, 3)` in this case)  \n",
    "`z = np.array([[[1, 2, 3], [4, 5, 6], [7, 8, 9]],  \n",
    "               [[1, 2, 3], [4, 5, 6], [7, 8, 9]],  \n",
    "               [[1, 2, 3], [4, 5, 6], [7, 8, 9]]])` -- \"a cube\" (3, 3, 3) = a tensor with 3 dimensions (`(3, 3, 3)` in this case)"
   ]
  },
  {
   "cell_type": "markdown",
   "metadata": {
    "colab_type": "text",
    "id": "hS97vo7mYJ9G"
   },
   "source": [
    "One real example of 3-dimensional tensor is **an image**, it has 3 dimensions: `height`, `width` and the `channel depth` (= 3 for color images, 1 for a greyscale). You can think of it as of parallelepiped consisting of the real numbers."
   ]
  },
  {
   "cell_type": "markdown",
   "metadata": {
    "colab_type": "text",
    "id": "tEeGGtRiYJ9H"
   },
   "source": [
    "In PyTorch we will use `torch.Tensor` (`FloatTensor`, `IntTensor`, `ByteTensor`) for all the computations."
   ]
  },
  {
   "cell_type": "markdown",
   "metadata": {
    "colab_type": "text",
    "id": "byu7xZtLYJ9J"
   },
   "source": [
    "All tensor types:"
   ]
  },
  {
   "cell_type": "code",
   "execution_count": 2,
   "metadata": {
    "colab": {},
    "colab_type": "code",
    "id": "zilSktmEGgAv"
   },
   "outputs": [
    {
     "data": {
      "text/plain": [
       "torch.ByteTensor"
      ]
     },
     "execution_count": 2,
     "metadata": {},
     "output_type": "execute_result"
    }
   ],
   "source": [
    "torch.HalfTensor      # 16 бит, floating point\n",
    "torch.FloatTensor     # 32 бита, floating point\n",
    "torch.DoubleTensor    # 64 бита, floating point\n",
    "\n",
    "torch.ShortTensor     # 16 бит, integer, signed\n",
    "torch.IntTensor       # 32 бита, integer, signed\n",
    "torch.LongTensor      # 64 бита, integer, signed\n",
    "\n",
    "torch.CharTensor      # 8 бит, integer, signed\n",
    "torch.ByteTensor      # 8 бит, integer, unsigned"
   ]
  },
  {
   "cell_type": "markdown",
   "metadata": {
    "colab_type": "text",
    "id": "NWk2gidNYJ9P"
   },
   "source": [
    "We will use only `torch.FloatTensor()` and `torch.IntTensor()`. "
   ]
  },
  {
   "cell_type": "markdown",
   "metadata": {
    "colab_type": "text",
    "id": "CllyEKvVYJ9Q"
   },
   "source": [
    "Let's begin to do something!"
   ]
  },
  {
   "cell_type": "markdown",
   "metadata": {
    "colab_type": "text",
    "id": "R4HEetsxYJ9Q"
   },
   "source": [
    "* Creating the tensor:"
   ]
  },
  {
   "cell_type": "code",
   "execution_count": 3,
   "metadata": {
    "colab": {
     "base_uri": "https://localhost:8080/",
     "height": 36
    },
    "colab_type": "code",
    "executionInfo": {
     "elapsed": 821,
     "status": "ok",
     "timestamp": 1572597391901,
     "user": {
      "displayName": "Aleksandr Veselev",
      "photoUrl": "",
      "userId": "06497019213520827031"
     },
     "user_tz": -180
    },
    "id": "MVawE9lRYJ9R",
    "outputId": "59fa696a-1370-4e54-dc75-d66afbfb4746"
   },
   "outputs": [
    {
     "data": {
      "text/plain": [
       "tensor([1., 2.])"
      ]
     },
     "execution_count": 3,
     "metadata": {},
     "output_type": "execute_result"
    }
   ],
   "source": [
    "a = torch.FloatTensor([1, 2])\n",
    "a"
   ]
  },
  {
   "cell_type": "code",
   "execution_count": 4,
   "metadata": {
    "colab": {
     "base_uri": "https://localhost:8080/",
     "height": 36
    },
    "colab_type": "code",
    "executionInfo": {
     "elapsed": 693,
     "status": "ok",
     "timestamp": 1572597393573,
     "user": {
      "displayName": "Aleksandr Veselev",
      "photoUrl": "",
      "userId": "06497019213520827031"
     },
     "user_tz": -180
    },
    "id": "ARjaPS_GYJ9W",
    "outputId": "04176f1e-09f8-475a-e0be-b553ee2f2a8f"
   },
   "outputs": [
    {
     "data": {
      "text/plain": [
       "torch.Size([2])"
      ]
     },
     "execution_count": 4,
     "metadata": {},
     "output_type": "execute_result"
    }
   ],
   "source": [
    "a.shape"
   ]
  },
  {
   "cell_type": "code",
   "execution_count": 5,
   "metadata": {
    "colab": {
     "base_uri": "https://localhost:8080/",
     "height": 55
    },
    "colab_type": "code",
    "executionInfo": {
     "elapsed": 892,
     "status": "ok",
     "timestamp": 1572597395777,
     "user": {
      "displayName": "Aleksandr Veselev",
      "photoUrl": "",
      "userId": "06497019213520827031"
     },
     "user_tz": -180
    },
    "id": "4gXf0akDYJ9Z",
    "outputId": "872b1cb7-21c7-4185-a6f6-ed7598d32013"
   },
   "outputs": [
    {
     "data": {
      "text/plain": [
       "tensor([[1., 2., 3.],\n",
       "        [4., 5., 6.]])"
      ]
     },
     "execution_count": 5,
     "metadata": {},
     "output_type": "execute_result"
    }
   ],
   "source": [
    "b = torch.FloatTensor([[1,2,3], [4,5,6]])\n",
    "b"
   ]
  },
  {
   "cell_type": "code",
   "execution_count": 6,
   "metadata": {
    "colab": {
     "base_uri": "https://localhost:8080/",
     "height": 36
    },
    "colab_type": "code",
    "executionInfo": {
     "elapsed": 587,
     "status": "ok",
     "timestamp": 1572597395780,
     "user": {
      "displayName": "Aleksandr Veselev",
      "photoUrl": "",
      "userId": "06497019213520827031"
     },
     "user_tz": -180
    },
    "id": "0HTkoIzpYJ9e",
    "outputId": "2b35bbbf-4aa2-4b72-acda-3512d3ec4cb9"
   },
   "outputs": [
    {
     "data": {
      "text/plain": [
       "torch.Size([2, 3])"
      ]
     },
     "execution_count": 6,
     "metadata": {},
     "output_type": "execute_result"
    }
   ],
   "source": [
    "b.shape"
   ]
  },
  {
   "cell_type": "code",
   "execution_count": 7,
   "metadata": {
    "colab": {},
    "colab_type": "code",
    "id": "WYJ9L-yFYJ9j"
   },
   "outputs": [],
   "source": [
    "x = torch.FloatTensor(2,3,4)"
   ]
  },
  {
   "cell_type": "code",
   "execution_count": 8,
   "metadata": {
    "colab": {
     "base_uri": "https://localhost:8080/",
     "height": 150
    },
    "colab_type": "code",
    "executionInfo": {
     "elapsed": 532,
     "status": "ok",
     "timestamp": 1572597401621,
     "user": {
      "displayName": "Aleksandr Veselev",
      "photoUrl": "",
      "userId": "06497019213520827031"
     },
     "user_tz": -180
    },
    "id": "qWAEP27IYJ9m",
    "outputId": "0ae35b42-89d6-4469-c20f-664963c7022c"
   },
   "outputs": [
    {
     "data": {
      "text/plain": [
       "tensor([[[0.0000e+00, 0.0000e+00, 0.0000e+00, 0.0000e+00],\n",
       "         [0.0000e+00, 1.0102e-38, 7.7052e+31, 7.2148e+22],\n",
       "         [2.5226e-18, 6.4825e-10, 1.0186e-11, 3.0879e-09]],\n",
       "\n",
       "        [[1.6902e-04, 4.0746e-11, 2.6076e-09, 2.9572e-18],\n",
       "         [6.7333e+22, 1.7591e+22, 1.7184e+25, 4.3222e+27],\n",
       "         [6.1972e-04, 7.2443e+22, 1.7728e+28, 7.0367e+22]]])"
      ]
     },
     "execution_count": 8,
     "metadata": {},
     "output_type": "execute_result"
    }
   ],
   "source": [
    "x"
   ]
  },
  {
   "cell_type": "code",
   "execution_count": 9,
   "metadata": {
    "colab": {
     "base_uri": "https://localhost:8080/",
     "height": 340
    },
    "colab_type": "code",
    "executionInfo": {
     "elapsed": 971,
     "status": "ok",
     "timestamp": 1572597405787,
     "user": {
      "displayName": "Aleksandr Veselev",
      "photoUrl": "",
      "userId": "06497019213520827031"
     },
     "user_tz": -180
    },
    "id": "o5CsOJ_xYJ9s",
    "outputId": "49825396-eb3a-49b2-9ca2-f36ab577dc07",
    "scrolled": true
   },
   "outputs": [
    {
     "data": {
      "text/plain": [
       "tensor([2.0535e-19, 4.5080e+21, 2.0616e-19, 3.1771e+30, 2.0022e-19, 4.8405e+30,\n",
       "        1.8174e+31, 7.1377e+31, 5.3740e+19, 3.0478e+32, 1.2706e+31, 1.9684e-19,\n",
       "        7.1435e+31, 2.7350e+20, 5.3728e+19, 3.0478e+32, 1.6020e-19, 6.9761e+31,\n",
       "        1.8177e+31, 2.6908e+20, 4.6886e-14, 1.8463e+25, 2.0616e-19, 6.1211e+19,\n",
       "        5.6541e+05, 2.1459e+20, 9.2489e-04, 4.6316e+27, 1.2118e+25, 6.4600e+19,\n",
       "        7.2443e+22, 8.9027e-15, 2.6563e+20, 5.4273e-14, 4.6114e+24, 6.9987e+22,\n",
       "        1.7665e+22, 7.2714e+31, 1.8892e+31, 6.8608e+22, 1.6930e+22, 1.6926e+22,\n",
       "        1.8062e+28, 2.7262e+20, 2.8376e+20, 1.9436e-19, 7.0376e+28, 1.8970e+31,\n",
       "        7.2251e+28, 5.2987e-11, 1.4584e-19, 5.0833e+31, 7.7563e+26, 2.0706e-19,\n",
       "        2.0284e-19, 7.0072e+22, 7.2250e+28, 4.9657e+28, 2.1459e+20, 9.2489e-04,\n",
       "        2.9514e+29, 1.9012e-19, 1.9435e-19, 6.8419e+19, 1.7418e+28, 6.4600e+19,\n",
       "        3.1886e-12, 6.8608e+22, 4.6114e+24, 7.1463e+22, 1.8759e+28, 3.9889e+19,\n",
       "        1.8490e+20, 4.6230e+19, 3.1021e+27, 1.8319e+25, 2.0616e-19, 1.1432e+27,\n",
       "        1.8522e+28, 1.8057e+28, 1.1530e+27, 3.6002e+27, 8.8674e-04, 1.8061e+28,\n",
       "        1.4605e-19, 1.8987e-19, 4.6175e+24, 4.7424e+30, 2.0022e-19, 2.9972e+32,\n",
       "        5.5350e-11, 2.3735e+23, 7.1377e+31, 5.3740e+19, 2.9393e+29, 1.6534e+19,\n",
       "        1.9013e-19, 4.6247e+19, 1.0894e+27, 6.4678e+19])"
      ]
     },
     "execution_count": 9,
     "metadata": {},
     "output_type": "execute_result"
    }
   ],
   "source": [
    "x = torch.FloatTensor(100)\n",
    "x"
   ]
  },
  {
   "cell_type": "code",
   "execution_count": 10,
   "metadata": {
    "colab": {
     "base_uri": "https://localhost:8080/",
     "height": 36
    },
    "colab_type": "code",
    "executionInfo": {
     "elapsed": 826,
     "status": "ok",
     "timestamp": 1572597464252,
     "user": {
      "displayName": "Aleksandr Veselev",
      "photoUrl": "",
      "userId": "06497019213520827031"
     },
     "user_tz": -180
    },
    "id": "uIVhvmzZYJ91",
    "outputId": "be828049-4004-49ce-9883-b6f0204233c2"
   },
   "outputs": [
    {
     "data": {
      "text/plain": [
       "torch.Size([45, 57, 14, 2])"
      ]
     },
     "execution_count": 10,
     "metadata": {},
     "output_type": "execute_result"
    }
   ],
   "source": [
    "x = torch.IntTensor(45, 57, 14, 2)\n",
    "x.shape"
   ]
  },
  {
   "cell_type": "markdown",
   "metadata": {
    "colab_type": "text",
    "id": "cUzl8DFRYJ95"
   },
   "source": [
    "**Note:** if you create `torch.Tensor` with the following constructor it will be filled with the \"random trash numbers\":"
   ]
  },
  {
   "cell_type": "code",
   "execution_count": 11,
   "metadata": {
    "colab": {
     "base_uri": "https://localhost:8080/",
     "height": 169
    },
    "colab_type": "code",
    "executionInfo": {
     "elapsed": 856,
     "status": "ok",
     "timestamp": 1572597497272,
     "user": {
      "displayName": "Aleksandr Veselev",
      "photoUrl": "",
      "userId": "06497019213520827031"
     },
     "user_tz": -180
    },
    "id": "QX0QcIOzYJ96",
    "outputId": "b0da1b5e-aaa3-46cc-951d-f8c4f203ff9f"
   },
   "outputs": [
    {
     "data": {
      "text/plain": [
       "tensor([[[ 574235236,  808595506,  758329389,  827601714],\n",
       "         [ 959527481,  775304250,  825701686,  576337719]],\n",
       "\n",
       "        [[1701061164, 1684956528, 1768124005, 1834972005],\n",
       "         [ 975336549, 1702195828, 1852121644, 1701734759]],\n",
       "\n",
       "        [[ 874658338,  845428533,  761411124, 1717843256],\n",
       "         [1717711917,  862006630, 1697461301, 1647469925]]], dtype=torch.int32)"
      ]
     },
     "execution_count": 11,
     "metadata": {},
     "output_type": "execute_result"
    }
   ],
   "source": [
    "x = torch.IntTensor(3, 2, 4)\n",
    "x"
   ]
  },
  {
   "cell_type": "markdown",
   "metadata": {
    "colab_type": "text",
    "id": "utra2t4SbdQR"
   },
   "source": [
    "Here is a way to fill a new tensor with zeroes:"
   ]
  },
  {
   "cell_type": "code",
   "execution_count": 12,
   "metadata": {
    "colab": {
     "base_uri": "https://localhost:8080/",
     "height": 154
    },
    "colab_type": "code",
    "executionInfo": {
     "elapsed": 726,
     "status": "ok",
     "timestamp": 1572374272697,
     "user": {
      "displayName": "Yury Yarovikov",
      "photoUrl": "https://lh3.googleusercontent.com/a-/AAuE7mC24lfRb5mqvHhq4-WOsbzM6PTdlPQIH4hwnhO_=s64",
      "userId": "05223355485824927663"
     },
     "user_tz": -180
    },
    "id": "XV3w9lVwYJ-A",
    "outputId": "f55ebe72-75d3-4c4f-d781-550daf1acdb5"
   },
   "outputs": [
    {
     "data": {
      "text/plain": [
       "tensor([[[0, 0, 0, 0],\n",
       "         [0, 0, 0, 0]],\n",
       "\n",
       "        [[0, 0, 0, 0],\n",
       "         [0, 0, 0, 0]],\n",
       "\n",
       "        [[0, 0, 0, 0],\n",
       "         [0, 0, 0, 0]]], dtype=torch.int32)"
      ]
     },
     "execution_count": 12,
     "metadata": {},
     "output_type": "execute_result"
    }
   ],
   "source": [
    "x = torch.IntTensor(3, 2, 4).zero_()\n",
    "x"
   ]
  },
  {
   "cell_type": "markdown",
   "metadata": {
    "colab_type": "text",
    "id": "bzq1klQuzXA9"
   },
   "source": [
    "## Как писать на torch, если знаешь numpy\n",
    "\n",
    "Все функции на numpy имеют соответствующие функции на torch. Их соответствие вы можете посмотреть здесь:\n",
    "\n",
    "https://github.com/torch/torch7/wiki/Torch-for-Numpy-users"
   ]
  },
  {
   "cell_type": "markdown",
   "metadata": {
    "colab_type": "text",
    "id": "SAAmLRwzYJ-E"
   },
   "source": [
    "`np.reshape()` == `torch.view()`:"
   ]
  },
  {
   "cell_type": "code",
   "execution_count": 13,
   "metadata": {
    "colab": {
     "base_uri": "https://localhost:8080/",
     "height": 55
    },
    "colab_type": "code",
    "executionInfo": {
     "elapsed": 1328,
     "status": "ok",
     "timestamp": 1572597585384,
     "user": {
      "displayName": "Aleksandr Veselev",
      "photoUrl": "",
      "userId": "06497019213520827031"
     },
     "user_tz": -180
    },
    "id": "spMYG2xXYJ-L",
    "outputId": "f01f831a-2381-4f29-e4f7-890a4ed89f5d"
   },
   "outputs": [
    {
     "data": {
      "text/plain": [
       "tensor([[1., 2., 3.],\n",
       "        [4., 5., 6.]])"
      ]
     },
     "execution_count": 13,
     "metadata": {},
     "output_type": "execute_result"
    }
   ],
   "source": [
    "b"
   ]
  },
  {
   "cell_type": "code",
   "execution_count": 14,
   "metadata": {
    "colab": {
     "base_uri": "https://localhost:8080/",
     "height": 74
    },
    "colab_type": "code",
    "executionInfo": {
     "elapsed": 1457,
     "status": "ok",
     "timestamp": 1572597585745,
     "user": {
      "displayName": "Aleksandr Veselev",
      "photoUrl": "",
      "userId": "06497019213520827031"
     },
     "user_tz": -180
    },
    "id": "ePjL3X3GYJ-H",
    "outputId": "66ccc8cb-f9bb-496d-eca0-f5d1c22949bf"
   },
   "outputs": [
    {
     "data": {
      "text/plain": [
       "tensor([[1., 2.],\n",
       "        [3., 4.],\n",
       "        [5., 6.]])"
      ]
     },
     "execution_count": 14,
     "metadata": {},
     "output_type": "execute_result"
    }
   ],
   "source": [
    "b.view(3, 2)"
   ]
  },
  {
   "cell_type": "markdown",
   "metadata": {
    "colab_type": "text",
    "id": "amVu0N1zYJ-O"
   },
   "source": [
    "**Note:** `torch.view()` creates a new tensor, one the old one remains unchanged"
   ]
  },
  {
   "cell_type": "code",
   "execution_count": 15,
   "metadata": {
    "colab": {
     "base_uri": "https://localhost:8080/",
     "height": 36
    },
    "colab_type": "code",
    "executionInfo": {
     "elapsed": 1188,
     "status": "ok",
     "timestamp": 1572597587656,
     "user": {
      "displayName": "Aleksandr Veselev",
      "photoUrl": "",
      "userId": "06497019213520827031"
     },
     "user_tz": -180
    },
    "id": "hWqyugOSYJ-Q",
    "outputId": "888df831-bc55-4e8c-cdcb-e201934d77a8"
   },
   "outputs": [
    {
     "data": {
      "text/plain": [
       "tensor([1., 2., 3., 4., 5., 6.])"
      ]
     },
     "execution_count": 15,
     "metadata": {},
     "output_type": "execute_result"
    }
   ],
   "source": [
    "b.view(-1)"
   ]
  },
  {
   "cell_type": "code",
   "execution_count": 16,
   "metadata": {
    "colab": {
     "base_uri": "https://localhost:8080/",
     "height": 55
    },
    "colab_type": "code",
    "executionInfo": {
     "elapsed": 527,
     "status": "ok",
     "timestamp": 1572597588739,
     "user": {
      "displayName": "Aleksandr Veselev",
      "photoUrl": "",
      "userId": "06497019213520827031"
     },
     "user_tz": -180
    },
    "id": "S9CvF56uYJ-U",
    "outputId": "550fd4ce-1570-4934-fd06-6e65484175c2"
   },
   "outputs": [
    {
     "data": {
      "text/plain": [
       "tensor([[1., 2., 3.],\n",
       "        [4., 5., 6.]])"
      ]
     },
     "execution_count": 16,
     "metadata": {},
     "output_type": "execute_result"
    }
   ],
   "source": [
    "b"
   ]
  },
  {
   "cell_type": "markdown",
   "metadata": {
    "colab_type": "text",
    "id": "t401j1E2YJ-Z"
   },
   "source": [
    "* Change a tensor type:"
   ]
  },
  {
   "cell_type": "code",
   "execution_count": 17,
   "metadata": {
    "colab": {},
    "colab_type": "code",
    "id": "f_iDUEH4YJ-Z"
   },
   "outputs": [],
   "source": [
    "a = torch.FloatTensor([1.5, 3.2, -7])"
   ]
  },
  {
   "cell_type": "code",
   "execution_count": 18,
   "metadata": {
    "colab": {
     "base_uri": "https://localhost:8080/",
     "height": 36
    },
    "colab_type": "code",
    "executionInfo": {
     "elapsed": 598,
     "status": "ok",
     "timestamp": 1572597592240,
     "user": {
      "displayName": "Aleksandr Veselev",
      "photoUrl": "",
      "userId": "06497019213520827031"
     },
     "user_tz": -180
    },
    "id": "EzJOrXitYJ-e",
    "outputId": "f7325774-aa5d-4efa-c977-84e5196c491f"
   },
   "outputs": [
    {
     "data": {
      "text/plain": [
       "tensor([ 1,  3, -7], dtype=torch.int32)"
      ]
     },
     "execution_count": 18,
     "metadata": {},
     "output_type": "execute_result"
    }
   ],
   "source": [
    "a.type_as(torch.IntTensor())"
   ]
  },
  {
   "cell_type": "code",
   "execution_count": 19,
   "metadata": {
    "colab": {
     "base_uri": "https://localhost:8080/",
     "height": 36
    },
    "colab_type": "code",
    "executionInfo": {
     "elapsed": 1417,
     "status": "ok",
     "timestamp": 1572597595473,
     "user": {
      "displayName": "Aleksandr Veselev",
      "photoUrl": "",
      "userId": "06497019213520827031"
     },
     "user_tz": -180
    },
    "id": "hAe3OWWUYJ-i",
    "outputId": "25c170fb-c555-4b59-b994-2c2f9a438961"
   },
   "outputs": [
    {
     "data": {
      "text/plain": [
       "tensor([  1,   3, 249], dtype=torch.uint8)"
      ]
     },
     "execution_count": 19,
     "metadata": {},
     "output_type": "execute_result"
    }
   ],
   "source": [
    "a.type_as(torch.ByteTensor())"
   ]
  },
  {
   "cell_type": "markdown",
   "metadata": {
    "colab_type": "text",
    "id": "4rkatrUeYJ-n"
   },
   "source": [
    "**Note:** `.type_as()` creates a new tensor, the old one remains unchanged"
   ]
  },
  {
   "cell_type": "code",
   "execution_count": 20,
   "metadata": {
    "colab": {
     "base_uri": "https://localhost:8080/",
     "height": 36
    },
    "colab_type": "code",
    "executionInfo": {
     "elapsed": 923,
     "status": "ok",
     "timestamp": 1572597603252,
     "user": {
      "displayName": "Aleksandr Veselev",
      "photoUrl": "",
      "userId": "06497019213520827031"
     },
     "user_tz": -180
    },
    "id": "fCgDT14MYJ-o",
    "outputId": "b42d4fbc-4b19-4006-b3f3-c4e326108003"
   },
   "outputs": [
    {
     "data": {
      "text/plain": [
       "tensor([ 1.5000,  3.2000, -7.0000])"
      ]
     },
     "execution_count": 20,
     "metadata": {},
     "output_type": "execute_result"
    }
   ],
   "source": [
    "a"
   ]
  },
  {
   "cell_type": "markdown",
   "metadata": {
    "colab_type": "text",
    "id": "hG1OwtFBYJ-r"
   },
   "source": [
    "* Indexing is just like in `NumPy`:"
   ]
  },
  {
   "cell_type": "code",
   "execution_count": 21,
   "metadata": {
    "colab": {
     "base_uri": "https://localhost:8080/",
     "height": 74
    },
    "colab_type": "code",
    "executionInfo": {
     "elapsed": 879,
     "status": "ok",
     "timestamp": 1572597605309,
     "user": {
      "displayName": "Aleksandr Veselev",
      "photoUrl": "",
      "userId": "06497019213520827031"
     },
     "user_tz": -180
    },
    "id": "prr0EGIYYJ-r",
    "outputId": "d19e9793-e561-456c-ae5c-468b143a4211"
   },
   "outputs": [
    {
     "data": {
      "text/plain": [
       "tensor([[100.,  20.,  35.],\n",
       "        [ 15., 163., 534.],\n",
       "        [ 52.,  90.,  66.]])"
      ]
     },
     "execution_count": 21,
     "metadata": {},
     "output_type": "execute_result"
    }
   ],
   "source": [
    "a = torch.FloatTensor([[100, 20, 35], [15, 163, 534], [52, 90, 66]])\n",
    "a"
   ]
  },
  {
   "cell_type": "code",
   "execution_count": 22,
   "metadata": {
    "colab": {
     "base_uri": "https://localhost:8080/",
     "height": 36
    },
    "colab_type": "code",
    "executionInfo": {
     "elapsed": 1011,
     "status": "ok",
     "timestamp": 1572597607210,
     "user": {
      "displayName": "Aleksandr Veselev",
      "photoUrl": "",
      "userId": "06497019213520827031"
     },
     "user_tz": -180
    },
    "id": "IBq7JiccYJ-w",
    "outputId": "6ca1ba33-8747-4d72-cbe6-720a3bab4bed"
   },
   "outputs": [
    {
     "data": {
      "text/plain": [
       "tensor(100.)"
      ]
     },
     "execution_count": 22,
     "metadata": {},
     "output_type": "execute_result"
    }
   ],
   "source": [
    "a[0, 0]"
   ]
  },
  {
   "cell_type": "code",
   "execution_count": 23,
   "metadata": {
    "colab": {
     "base_uri": "https://localhost:8080/",
     "height": 36
    },
    "colab_type": "code",
    "executionInfo": {
     "elapsed": 646,
     "status": "ok",
     "timestamp": 1572597607751,
     "user": {
      "displayName": "Aleksandr Veselev",
      "photoUrl": "",
      "userId": "06497019213520827031"
     },
     "user_tz": -180
    },
    "id": "vE9cb0XkYJ-z",
    "outputId": "9bcdaa1d-44b2-492a-d0cc-c5d3da36882b"
   },
   "outputs": [
    {
     "data": {
      "text/plain": [
       "tensor(100.)"
      ]
     },
     "execution_count": 23,
     "metadata": {},
     "output_type": "execute_result"
    }
   ],
   "source": [
    "a[0][0]"
   ]
  },
  {
   "cell_type": "code",
   "execution_count": 24,
   "metadata": {
    "colab": {
     "base_uri": "https://localhost:8080/",
     "height": 55
    },
    "colab_type": "code",
    "executionInfo": {
     "elapsed": 682,
     "status": "ok",
     "timestamp": 1572597608125,
     "user": {
      "displayName": "Aleksandr Veselev",
      "photoUrl": "",
      "userId": "06497019213520827031"
     },
     "user_tz": -180
    },
    "id": "UUZzx2F_YJ-2",
    "outputId": "51ffeabd-4acf-4e2c-e218-2cd6444f08f2"
   },
   "outputs": [
    {
     "data": {
      "text/plain": [
       "tensor([[100.,  20.],\n",
       "        [ 15., 163.]])"
      ]
     },
     "execution_count": 24,
     "metadata": {},
     "output_type": "execute_result"
    }
   ],
   "source": [
    "a[0:2, 0:2]"
   ]
  },
  {
   "cell_type": "markdown",
   "metadata": {
    "colab_type": "text",
    "id": "KffQsYwWYJ_D"
   },
   "source": [
    "**Ariphmetics and boolean operations** and their analogues:  \n",
    "\n",
    "| Оператор | Аналог |\n",
    "|:-:|:-:|\n",
    "|`+`| `torch.add()` |\n",
    "|`-`| `torch.sub()` |\n",
    "|`*`| `torch.mul()` |\n",
    "|`/`| `torch.div()` |"
   ]
  },
  {
   "cell_type": "markdown",
   "metadata": {
    "colab_type": "text",
    "id": "UMpR8T11YJ_D"
   },
   "source": [
    "* Addition:"
   ]
  },
  {
   "cell_type": "code",
   "execution_count": 25,
   "metadata": {
    "colab": {},
    "colab_type": "code",
    "id": "1XHkSjEUYJ_D"
   },
   "outputs": [],
   "source": [
    "a = torch.FloatTensor([[1, 2, 3], [10, 20, 30], [100, 200, 300]])\n",
    "b = torch.FloatTensor([[-1, -2, -3], [-10, -20, -30], [100, 200, 300]])"
   ]
  },
  {
   "cell_type": "code",
   "execution_count": 26,
   "metadata": {
    "colab": {
     "base_uri": "https://localhost:8080/",
     "height": 74
    },
    "colab_type": "code",
    "executionInfo": {
     "elapsed": 557,
     "status": "ok",
     "timestamp": 1572597611168,
     "user": {
      "displayName": "Aleksandr Veselev",
      "photoUrl": "",
      "userId": "06497019213520827031"
     },
     "user_tz": -180
    },
    "id": "td25tuFKYJ_H",
    "outputId": "b8bcb26e-86f9-4dff-cafd-43a80a07f08d"
   },
   "outputs": [
    {
     "data": {
      "text/plain": [
       "tensor([[  0.,   0.,   0.],\n",
       "        [  0.,   0.,   0.],\n",
       "        [200., 400., 600.]])"
      ]
     },
     "execution_count": 26,
     "metadata": {},
     "output_type": "execute_result"
    }
   ],
   "source": [
    "a + b"
   ]
  },
  {
   "cell_type": "code",
   "execution_count": 27,
   "metadata": {
    "colab": {
     "base_uri": "https://localhost:8080/",
     "height": 74
    },
    "colab_type": "code",
    "executionInfo": {
     "elapsed": 1099,
     "status": "ok",
     "timestamp": 1572597612207,
     "user": {
      "displayName": "Aleksandr Veselev",
      "photoUrl": "",
      "userId": "06497019213520827031"
     },
     "user_tz": -180
    },
    "id": "wHka8PxFYJ_N",
    "outputId": "99420dd8-79cc-430e-9e08-fd53c381ca1b"
   },
   "outputs": [
    {
     "data": {
      "text/plain": [
       "tensor([[  0.,   0.,   0.],\n",
       "        [  0.,   0.,   0.],\n",
       "        [200., 400., 600.]])"
      ]
     },
     "execution_count": 27,
     "metadata": {},
     "output_type": "execute_result"
    }
   ],
   "source": [
    "a.add(b)"
   ]
  },
  {
   "cell_type": "code",
   "execution_count": 28,
   "metadata": {
    "colab": {
     "base_uri": "https://localhost:8080/",
     "height": 74
    },
    "colab_type": "code",
    "executionInfo": {
     "elapsed": 833,
     "status": "ok",
     "timestamp": 1572597612631,
     "user": {
      "displayName": "Aleksandr Veselev",
      "photoUrl": "",
      "userId": "06497019213520827031"
     },
     "user_tz": -180
    },
    "id": "FHQj4DbBYJ_Q",
    "outputId": "4d7d5327-644e-4bea-c8ec-e7a1e53c1cdf"
   },
   "outputs": [
    {
     "data": {
      "text/plain": [
       "tensor([[  -1.,   -2.,   -3.],\n",
       "        [ -10.,  -20.,  -30.],\n",
       "        [-100., -200., -300.]])"
      ]
     },
     "execution_count": 28,
     "metadata": {},
     "output_type": "execute_result"
    }
   ],
   "source": [
    "b = -a\n",
    "b"
   ]
  },
  {
   "cell_type": "code",
   "execution_count": 29,
   "metadata": {
    "colab": {
     "base_uri": "https://localhost:8080/",
     "height": 74
    },
    "colab_type": "code",
    "executionInfo": {
     "elapsed": 1043,
     "status": "ok",
     "timestamp": 1572597614505,
     "user": {
      "displayName": "Aleksandr Veselev",
      "photoUrl": "",
      "userId": "06497019213520827031"
     },
     "user_tz": -180
    },
    "id": "xLCDzO7iYJ_V",
    "outputId": "ed4e669b-a647-4d67-e774-1330b879b63f"
   },
   "outputs": [
    {
     "data": {
      "text/plain": [
       "tensor([[0., 0., 0.],\n",
       "        [0., 0., 0.],\n",
       "        [0., 0., 0.]])"
      ]
     },
     "execution_count": 29,
     "metadata": {},
     "output_type": "execute_result"
    }
   ],
   "source": [
    "a + b"
   ]
  },
  {
   "cell_type": "markdown",
   "metadata": {
    "colab_type": "text",
    "id": "z_3gVLY3YJ_Z"
   },
   "source": [
    "* Subtraction:"
   ]
  },
  {
   "cell_type": "code",
   "execution_count": 30,
   "metadata": {
    "colab": {
     "base_uri": "https://localhost:8080/",
     "height": 74
    },
    "colab_type": "code",
    "executionInfo": {
     "elapsed": 1064,
     "status": "ok",
     "timestamp": 1572597704525,
     "user": {
      "displayName": "Aleksandr Veselev",
      "photoUrl": "",
      "userId": "06497019213520827031"
     },
     "user_tz": -180
    },
    "id": "PANHq3eFYJ_a",
    "outputId": "be70aa01-4ed5-4559-a9f6-0ac7bdbd42c1"
   },
   "outputs": [
    {
     "data": {
      "text/plain": [
       "tensor([[  2.,   4.,   6.],\n",
       "        [ 20.,  40.,  60.],\n",
       "        [200., 400., 600.]])"
      ]
     },
     "execution_count": 30,
     "metadata": {},
     "output_type": "execute_result"
    }
   ],
   "source": [
    "a - b"
   ]
  },
  {
   "cell_type": "code",
   "execution_count": 31,
   "metadata": {
    "colab": {
     "base_uri": "https://localhost:8080/",
     "height": 74
    },
    "colab_type": "code",
    "executionInfo": {
     "elapsed": 583,
     "status": "ok",
     "timestamp": 1572597704527,
     "user": {
      "displayName": "Aleksandr Veselev",
      "photoUrl": "",
      "userId": "06497019213520827031"
     },
     "user_tz": -180
    },
    "id": "AH7xhdkRYJ_i",
    "outputId": "c368d772-27cd-4223-8630-2afcd2e3195f"
   },
   "outputs": [
    {
     "data": {
      "text/plain": [
       "tensor([[  2.,   4.,   6.],\n",
       "        [ 20.,  40.,  60.],\n",
       "        [200., 400., 600.]])"
      ]
     },
     "execution_count": 31,
     "metadata": {},
     "output_type": "execute_result"
    }
   ],
   "source": [
    "a.sub(b)"
   ]
  },
  {
   "cell_type": "markdown",
   "metadata": {
    "colab_type": "text",
    "id": "KOX3dTuZYJ_l"
   },
   "source": [
    "* Multiplication (elementwise):"
   ]
  },
  {
   "cell_type": "code",
   "execution_count": 32,
   "metadata": {
    "colab": {
     "base_uri": "https://localhost:8080/",
     "height": 74
    },
    "colab_type": "code",
    "executionInfo": {
     "elapsed": 865,
     "status": "ok",
     "timestamp": 1572597707702,
     "user": {
      "displayName": "Aleksandr Veselev",
      "photoUrl": "",
      "userId": "06497019213520827031"
     },
     "user_tz": -180
    },
    "id": "J380CvNGYJ_m",
    "outputId": "25bfcd2e-0962-49e2-d7ea-e004e6532147"
   },
   "outputs": [
    {
     "data": {
      "text/plain": [
       "tensor([[-1.0000e+00, -4.0000e+00, -9.0000e+00],\n",
       "        [-1.0000e+02, -4.0000e+02, -9.0000e+02],\n",
       "        [-1.0000e+04, -4.0000e+04, -9.0000e+04]])"
      ]
     },
     "execution_count": 32,
     "metadata": {},
     "output_type": "execute_result"
    }
   ],
   "source": [
    "a * b"
   ]
  },
  {
   "cell_type": "code",
   "execution_count": 33,
   "metadata": {
    "colab": {
     "base_uri": "https://localhost:8080/",
     "height": 74
    },
    "colab_type": "code",
    "executionInfo": {
     "elapsed": 473,
     "status": "ok",
     "timestamp": 1572597709143,
     "user": {
      "displayName": "Aleksandr Veselev",
      "photoUrl": "",
      "userId": "06497019213520827031"
     },
     "user_tz": -180
    },
    "id": "cixW0jgdYJ_o",
    "outputId": "3126455d-f6d0-4e7f-859f-a931397a5206"
   },
   "outputs": [
    {
     "data": {
      "text/plain": [
       "tensor([[-1.0000e+00, -4.0000e+00, -9.0000e+00],\n",
       "        [-1.0000e+02, -4.0000e+02, -9.0000e+02],\n",
       "        [-1.0000e+04, -4.0000e+04, -9.0000e+04]])"
      ]
     },
     "execution_count": 33,
     "metadata": {},
     "output_type": "execute_result"
    }
   ],
   "source": [
    "a.mul(b)"
   ]
  },
  {
   "cell_type": "markdown",
   "metadata": {
    "colab_type": "text",
    "id": "V-GYTERKYJ_q"
   },
   "source": [
    "* Division (elementwise):"
   ]
  },
  {
   "cell_type": "code",
   "execution_count": 34,
   "metadata": {
    "colab": {},
    "colab_type": "code",
    "id": "fUBQns2SYJ_r"
   },
   "outputs": [],
   "source": [
    "a = torch.FloatTensor([[1, 2, 3], [10, 20, 30], [100, 200, 300]])\n",
    "b = torch.FloatTensor([[-1, -2, -3], [-10, -20, -30], [100, 200, 300]])"
   ]
  },
  {
   "cell_type": "code",
   "execution_count": 35,
   "metadata": {
    "colab": {
     "base_uri": "https://localhost:8080/",
     "height": 74
    },
    "colab_type": "code",
    "executionInfo": {
     "elapsed": 1242,
     "status": "ok",
     "timestamp": 1572597751259,
     "user": {
      "displayName": "Aleksandr Veselev",
      "photoUrl": "",
      "userId": "06497019213520827031"
     },
     "user_tz": -180
    },
    "id": "2hrKeMjAYJ_v",
    "outputId": "637525ce-300f-4149-c6a9-4ae34164713e"
   },
   "outputs": [
    {
     "data": {
      "text/plain": [
       "tensor([[-1., -1., -1.],\n",
       "        [-1., -1., -1.],\n",
       "        [ 1.,  1.,  1.]])"
      ]
     },
     "execution_count": 35,
     "metadata": {},
     "output_type": "execute_result"
    }
   ],
   "source": [
    "a / b"
   ]
  },
  {
   "cell_type": "markdown",
   "metadata": {
    "colab_type": "text",
    "id": "KvcGLFVNYJ_0"
   },
   "source": [
    "Лучше:"
   ]
  },
  {
   "cell_type": "code",
   "execution_count": 36,
   "metadata": {
    "colab": {
     "base_uri": "https://localhost:8080/",
     "height": 74
    },
    "colab_type": "code",
    "executionInfo": {
     "elapsed": 1027,
     "status": "ok",
     "timestamp": 1572597751738,
     "user": {
      "displayName": "Aleksandr Veselev",
      "photoUrl": "",
      "userId": "06497019213520827031"
     },
     "user_tz": -180
    },
    "id": "cpg3YFVPYJ_2",
    "outputId": "bec99603-0be8-470c-afe2-9a53f11423e0"
   },
   "outputs": [
    {
     "data": {
      "text/plain": [
       "tensor([[-1., -1., -1.],\n",
       "        [-1., -1., -1.],\n",
       "        [ 1.,  1.,  1.]])"
      ]
     },
     "execution_count": 36,
     "metadata": {},
     "output_type": "execute_result"
    }
   ],
   "source": [
    "a.div(b)"
   ]
  },
  {
   "cell_type": "markdown",
   "metadata": {
    "colab_type": "text",
    "id": "VeLAbx1tYJ_7"
   },
   "source": [
    "**Note:** all this operations create new tensors, the old tensors remain unchanged"
   ]
  },
  {
   "cell_type": "code",
   "execution_count": 37,
   "metadata": {
    "colab": {
     "base_uri": "https://localhost:8080/",
     "height": 74
    },
    "colab_type": "code",
    "executionInfo": {
     "elapsed": 1275,
     "status": "ok",
     "timestamp": 1572597752779,
     "user": {
      "displayName": "Aleksandr Veselev",
      "photoUrl": "",
      "userId": "06497019213520827031"
     },
     "user_tz": -180
    },
    "id": "57BFtnlgYJ_8",
    "outputId": "9bee3918-5a63-4cf3-c6f8-75fd9ddbbea3"
   },
   "outputs": [
    {
     "data": {
      "text/plain": [
       "tensor([[  1.,   2.,   3.],\n",
       "        [ 10.,  20.,  30.],\n",
       "        [100., 200., 300.]])"
      ]
     },
     "execution_count": 37,
     "metadata": {},
     "output_type": "execute_result"
    }
   ],
   "source": [
    "a"
   ]
  },
  {
   "cell_type": "code",
   "execution_count": 38,
   "metadata": {
    "colab": {
     "base_uri": "https://localhost:8080/",
     "height": 74
    },
    "colab_type": "code",
    "executionInfo": {
     "elapsed": 916,
     "status": "ok",
     "timestamp": 1572597753332,
     "user": {
      "displayName": "Aleksandr Veselev",
      "photoUrl": "",
      "userId": "06497019213520827031"
     },
     "user_tz": -180
    },
    "id": "UziXyvtDYJ_-",
    "outputId": "7a56dda6-b46b-4e22-8de1-ed72e2facc5c"
   },
   "outputs": [
    {
     "data": {
      "text/plain": [
       "tensor([[ -1.,  -2.,  -3.],\n",
       "        [-10., -20., -30.],\n",
       "        [100., 200., 300.]])"
      ]
     },
     "execution_count": 38,
     "metadata": {},
     "output_type": "execute_result"
    }
   ],
   "source": [
    "b"
   ]
  },
  {
   "cell_type": "markdown",
   "metadata": {
    "colab_type": "text",
    "id": "vLpwZPc3YKAC"
   },
   "source": [
    "* Comparison operators:"
   ]
  },
  {
   "cell_type": "code",
   "execution_count": 39,
   "metadata": {
    "colab": {},
    "colab_type": "code",
    "id": "FfRzvw_UYKAC"
   },
   "outputs": [],
   "source": [
    "a = torch.FloatTensor([[1, 2, 3], [10, 20, 30], [100, 200, 300]])\n",
    "b = torch.FloatTensor([[-1, -2, -3], [-10, -20, -30], [100, 200, 300]])"
   ]
  },
  {
   "cell_type": "code",
   "execution_count": 40,
   "metadata": {
    "colab": {
     "base_uri": "https://localhost:8080/",
     "height": 74
    },
    "colab_type": "code",
    "executionInfo": {
     "elapsed": 815,
     "status": "ok",
     "timestamp": 1572597762998,
     "user": {
      "displayName": "Aleksandr Veselev",
      "photoUrl": "",
      "userId": "06497019213520827031"
     },
     "user_tz": -180
    },
    "id": "o1RUTP2BYKAD",
    "outputId": "98b17b0a-80a5-4c86-f41b-2433348c1b45"
   },
   "outputs": [
    {
     "data": {
      "text/plain": [
       "tensor([[False, False, False],\n",
       "        [False, False, False],\n",
       "        [ True,  True,  True]])"
      ]
     },
     "execution_count": 40,
     "metadata": {},
     "output_type": "execute_result"
    }
   ],
   "source": [
    "a == b"
   ]
  },
  {
   "cell_type": "code",
   "execution_count": 41,
   "metadata": {
    "colab": {
     "base_uri": "https://localhost:8080/",
     "height": 74
    },
    "colab_type": "code",
    "executionInfo": {
     "elapsed": 987,
     "status": "ok",
     "timestamp": 1572597834063,
     "user": {
      "displayName": "Aleksandr Veselev",
      "photoUrl": "",
      "userId": "06497019213520827031"
     },
     "user_tz": -180
    },
    "id": "JO3HaVIAYKAF",
    "outputId": "fa20c588-c9a4-4ea5-94fc-59b21d73fbf8"
   },
   "outputs": [
    {
     "data": {
      "text/plain": [
       "tensor([[ True,  True,  True],\n",
       "        [ True,  True,  True],\n",
       "        [False, False, False]])"
      ]
     },
     "execution_count": 41,
     "metadata": {},
     "output_type": "execute_result"
    }
   ],
   "source": [
    "a != b"
   ]
  },
  {
   "cell_type": "code",
   "execution_count": 42,
   "metadata": {
    "colab": {
     "base_uri": "https://localhost:8080/",
     "height": 74
    },
    "colab_type": "code",
    "executionInfo": {
     "elapsed": 552,
     "status": "ok",
     "timestamp": 1572597835004,
     "user": {
      "displayName": "Aleksandr Veselev",
      "photoUrl": "",
      "userId": "06497019213520827031"
     },
     "user_tz": -180
    },
    "id": "DExLBj4VYKAH",
    "outputId": "c8528e05-9a02-4fda-bd87-f97cb6831017"
   },
   "outputs": [
    {
     "data": {
      "text/plain": [
       "tensor([[False, False, False],\n",
       "        [False, False, False],\n",
       "        [False, False, False]])"
      ]
     },
     "execution_count": 42,
     "metadata": {},
     "output_type": "execute_result"
    }
   ],
   "source": [
    "a < b"
   ]
  },
  {
   "cell_type": "code",
   "execution_count": 43,
   "metadata": {
    "colab": {
     "base_uri": "https://localhost:8080/",
     "height": 74
    },
    "colab_type": "code",
    "executionInfo": {
     "elapsed": 635,
     "status": "ok",
     "timestamp": 1572597835977,
     "user": {
      "displayName": "Aleksandr Veselev",
      "photoUrl": "",
      "userId": "06497019213520827031"
     },
     "user_tz": -180
    },
    "id": "0_IH_FUNYKAJ",
    "outputId": "a73dac3b-3645-4292-f703-d77319085f8e"
   },
   "outputs": [
    {
     "data": {
      "text/plain": [
       "tensor([[ True,  True,  True],\n",
       "        [ True,  True,  True],\n",
       "        [False, False, False]])"
      ]
     },
     "execution_count": 43,
     "metadata": {},
     "output_type": "execute_result"
    }
   ],
   "source": [
    "a > b"
   ]
  },
  {
   "cell_type": "markdown",
   "metadata": {
    "colab_type": "text",
    "id": "24nzBJR8YKAM"
   },
   "source": [
    "* Using boolean mask indexing:"
   ]
  },
  {
   "cell_type": "code",
   "execution_count": 44,
   "metadata": {
    "colab": {
     "base_uri": "https://localhost:8080/",
     "height": 36
    },
    "colab_type": "code",
    "executionInfo": {
     "elapsed": 1534,
     "status": "ok",
     "timestamp": 1572597838159,
     "user": {
      "displayName": "Aleksandr Veselev",
      "photoUrl": "",
      "userId": "06497019213520827031"
     },
     "user_tz": -180
    },
    "id": "C-xVDslwYKAN",
    "outputId": "44a5ca57-3b88-4022-8ea8-1e4695a63257"
   },
   "outputs": [
    {
     "data": {
      "text/plain": [
       "tensor([ 1.,  2.,  3., 10., 20., 30.])"
      ]
     },
     "execution_count": 44,
     "metadata": {},
     "output_type": "execute_result"
    }
   ],
   "source": [
    "a[a > b]"
   ]
  },
  {
   "cell_type": "code",
   "execution_count": 45,
   "metadata": {
    "colab": {
     "base_uri": "https://localhost:8080/",
     "height": 36
    },
    "colab_type": "code",
    "executionInfo": {
     "elapsed": 675,
     "status": "ok",
     "timestamp": 1572597848705,
     "user": {
      "displayName": "Aleksandr Veselev",
      "photoUrl": "",
      "userId": "06497019213520827031"
     },
     "user_tz": -180
    },
    "id": "XatDJF5YYKAQ",
    "outputId": "871951de-27d6-4376-a541-3dbd363adccd"
   },
   "outputs": [
    {
     "data": {
      "text/plain": [
       "tensor([100., 200., 300.])"
      ]
     },
     "execution_count": 45,
     "metadata": {},
     "output_type": "execute_result"
    }
   ],
   "source": [
    "b[a == b]"
   ]
  },
  {
   "cell_type": "markdown",
   "metadata": {
    "colab_type": "text",
    "id": "54bQky1bYKAf"
   },
   "source": [
    "Elementwise application of the **universal functions**:"
   ]
  },
  {
   "cell_type": "code",
   "execution_count": 46,
   "metadata": {
    "colab": {},
    "colab_type": "code",
    "id": "lWnGSuUhYKAf"
   },
   "outputs": [],
   "source": [
    "a = torch.FloatTensor([[1, 2, 3], [10, 20, 30], [100, 200, 300]])"
   ]
  },
  {
   "cell_type": "code",
   "execution_count": 47,
   "metadata": {
    "colab": {
     "base_uri": "https://localhost:8080/",
     "height": 74
    },
    "colab_type": "code",
    "executionInfo": {
     "elapsed": 1476,
     "status": "ok",
     "timestamp": 1572598408763,
     "user": {
      "displayName": "Aleksandr Veselev",
      "photoUrl": "",
      "userId": "06497019213520827031"
     },
     "user_tz": -180
    },
    "id": "J6ZyxZBNYKAl",
    "outputId": "a45b3c11-7059-4598-ce7f-d43375275a7d"
   },
   "outputs": [
    {
     "data": {
      "text/plain": [
       "tensor([[ 0.8415,  0.9093,  0.1411],\n",
       "        [-0.5440,  0.9129, -0.9880],\n",
       "        [-0.5064, -0.8733, -0.9998]])"
      ]
     },
     "execution_count": 47,
     "metadata": {},
     "output_type": "execute_result"
    }
   ],
   "source": [
    "a.sin()"
   ]
  },
  {
   "cell_type": "code",
   "execution_count": 48,
   "metadata": {
    "colab": {
     "base_uri": "https://localhost:8080/",
     "height": 74
    },
    "colab_type": "code",
    "executionInfo": {
     "elapsed": 1272,
     "status": "ok",
     "timestamp": 1572598408764,
     "user": {
      "displayName": "Aleksandr Veselev",
      "photoUrl": "",
      "userId": "06497019213520827031"
     },
     "user_tz": -180
    },
    "id": "SScTSkJMYKAo",
    "outputId": "6a803960-5ef5-4a9b-c51c-d928f208bed4"
   },
   "outputs": [
    {
     "data": {
      "text/plain": [
       "tensor([[ 0.8415,  0.9093,  0.1411],\n",
       "        [-0.5440,  0.9129, -0.9880],\n",
       "        [-0.5064, -0.8733, -0.9998]])"
      ]
     },
     "execution_count": 48,
     "metadata": {},
     "output_type": "execute_result"
    }
   ],
   "source": [
    "torch.sin(a)"
   ]
  },
  {
   "cell_type": "code",
   "execution_count": 49,
   "metadata": {
    "colab": {
     "base_uri": "https://localhost:8080/",
     "height": 74
    },
    "colab_type": "code",
    "executionInfo": {
     "elapsed": 1139,
     "status": "ok",
     "timestamp": 1572598408766,
     "user": {
      "displayName": "Aleksandr Veselev",
      "photoUrl": "",
      "userId": "06497019213520827031"
     },
     "user_tz": -180
    },
    "id": "0bYVYVV7YKAr",
    "outputId": "c8681287-e38d-459e-957a-771f30c71161"
   },
   "outputs": [
    {
     "data": {
      "text/plain": [
       "tensor([[ 0.5403, -0.4161, -0.9900],\n",
       "        [-0.8391,  0.4081,  0.1543],\n",
       "        [ 0.8623,  0.4872, -0.0221]])"
      ]
     },
     "execution_count": 49,
     "metadata": {},
     "output_type": "execute_result"
    }
   ],
   "source": [
    "a.cos()"
   ]
  },
  {
   "cell_type": "code",
   "execution_count": 50,
   "metadata": {
    "colab": {
     "base_uri": "https://localhost:8080/",
     "height": 74
    },
    "colab_type": "code",
    "executionInfo": {
     "elapsed": 1630,
     "status": "ok",
     "timestamp": 1572598409435,
     "user": {
      "displayName": "Aleksandr Veselev",
      "photoUrl": "",
      "userId": "06497019213520827031"
     },
     "user_tz": -180
    },
    "id": "c-rYL8HQYKAt",
    "outputId": "f694cb22-7f7a-4e04-e34a-c590f6398d40"
   },
   "outputs": [
    {
     "data": {
      "text/plain": [
       "tensor([[2.7183e+00, 7.3891e+00, 2.0086e+01],\n",
       "        [2.2026e+04, 4.8517e+08, 1.0686e+13],\n",
       "        [       inf,        inf,        inf]])"
      ]
     },
     "execution_count": 50,
     "metadata": {},
     "output_type": "execute_result"
    }
   ],
   "source": [
    "a.exp()"
   ]
  },
  {
   "cell_type": "code",
   "execution_count": 51,
   "metadata": {
    "colab": {
     "base_uri": "https://localhost:8080/",
     "height": 74
    },
    "colab_type": "code",
    "executionInfo": {
     "elapsed": 1476,
     "status": "ok",
     "timestamp": 1572598409436,
     "user": {
      "displayName": "Aleksandr Veselev",
      "photoUrl": "",
      "userId": "06497019213520827031"
     },
     "user_tz": -180
    },
    "id": "EbiCDYUzYKAw",
    "outputId": "d00bad59-b0f7-444b-8856-b1ebc7655a88"
   },
   "outputs": [
    {
     "data": {
      "text/plain": [
       "tensor([[0.0000, 0.6931, 1.0986],\n",
       "        [2.3026, 2.9957, 3.4012],\n",
       "        [4.6052, 5.2983, 5.7038]])"
      ]
     },
     "execution_count": 51,
     "metadata": {},
     "output_type": "execute_result"
    }
   ],
   "source": [
    "a.log()"
   ]
  },
  {
   "cell_type": "code",
   "execution_count": 52,
   "metadata": {
    "colab": {
     "base_uri": "https://localhost:8080/",
     "height": 74
    },
    "colab_type": "code",
    "executionInfo": {
     "elapsed": 1323,
     "status": "ok",
     "timestamp": 1572598409438,
     "user": {
      "displayName": "Aleksandr Veselev",
      "photoUrl": "",
      "userId": "06497019213520827031"
     },
     "user_tz": -180
    },
    "id": "yh1sySpiYKAy",
    "outputId": "9a7d15a5-8e01-4bfe-f390-89565b3a6344"
   },
   "outputs": [
    {
     "data": {
      "text/plain": [
       "tensor([[  -1.,   -2.,   -3.],\n",
       "        [ -10.,  -20.,  -30.],\n",
       "        [-100., -200., -300.]])"
      ]
     },
     "execution_count": 52,
     "metadata": {},
     "output_type": "execute_result"
    }
   ],
   "source": [
    "b = -a\n",
    "b"
   ]
  },
  {
   "cell_type": "code",
   "execution_count": 53,
   "metadata": {
    "colab": {
     "base_uri": "https://localhost:8080/",
     "height": 74
    },
    "colab_type": "code",
    "executionInfo": {
     "elapsed": 1573,
     "status": "ok",
     "timestamp": 1572598409844,
     "user": {
      "displayName": "Aleksandr Veselev",
      "photoUrl": "",
      "userId": "06497019213520827031"
     },
     "user_tz": -180
    },
    "id": "PNU0UxqIYKA2",
    "outputId": "256069e5-6fc8-4d0e-f380-458adb494dd4"
   },
   "outputs": [
    {
     "data": {
      "text/plain": [
       "tensor([[  1.,   2.,   3.],\n",
       "        [ 10.,  20.,  30.],\n",
       "        [100., 200., 300.]])"
      ]
     },
     "execution_count": 53,
     "metadata": {},
     "output_type": "execute_result"
    }
   ],
   "source": [
    "b.abs()"
   ]
  },
  {
   "cell_type": "markdown",
   "metadata": {
    "colab_type": "text",
    "id": "eqERQjISYKA9"
   },
   "source": [
    "* The sum, mean, max, min:"
   ]
  },
  {
   "cell_type": "code",
   "execution_count": 54,
   "metadata": {
    "colab": {
     "base_uri": "https://localhost:8080/",
     "height": 36
    },
    "colab_type": "code",
    "executionInfo": {
     "elapsed": 1255,
     "status": "ok",
     "timestamp": 1572598409847,
     "user": {
      "displayName": "Aleksandr Veselev",
      "photoUrl": "",
      "userId": "06497019213520827031"
     },
     "user_tz": -180
    },
    "id": "HLmJGdl9YKA-",
    "outputId": "211462ba-9638-4b28-a81d-4702c78d197d"
   },
   "outputs": [
    {
     "data": {
      "text/plain": [
       "tensor(666.)"
      ]
     },
     "execution_count": 54,
     "metadata": {},
     "output_type": "execute_result"
    }
   ],
   "source": [
    "a.sum()"
   ]
  },
  {
   "cell_type": "code",
   "execution_count": 55,
   "metadata": {
    "colab": {
     "base_uri": "https://localhost:8080/",
     "height": 36
    },
    "colab_type": "code",
    "executionInfo": {
     "elapsed": 1099,
     "status": "ok",
     "timestamp": 1572598409849,
     "user": {
      "displayName": "Aleksandr Veselev",
      "photoUrl": "",
      "userId": "06497019213520827031"
     },
     "user_tz": -180
    },
    "id": "ervIuNGnYKBD",
    "outputId": "515ae09f-30a4-4ac6-f2ae-da0c9a2ca9b4"
   },
   "outputs": [
    {
     "data": {
      "text/plain": [
       "tensor(74.)"
      ]
     },
     "execution_count": 55,
     "metadata": {},
     "output_type": "execute_result"
    }
   ],
   "source": [
    "a.mean()"
   ]
  },
  {
   "cell_type": "markdown",
   "metadata": {
    "colab_type": "text",
    "id": "1qxkdUQ2YKBF"
   },
   "source": [
    "Along axis:"
   ]
  },
  {
   "cell_type": "code",
   "execution_count": 56,
   "metadata": {
    "colab": {
     "base_uri": "https://localhost:8080/",
     "height": 74
    },
    "colab_type": "code",
    "executionInfo": {
     "elapsed": 510,
     "status": "ok",
     "timestamp": 1572598409851,
     "user": {
      "displayName": "Aleksandr Veselev",
      "photoUrl": "",
      "userId": "06497019213520827031"
     },
     "user_tz": -180
    },
    "id": "OzU2H7jBbdS-",
    "outputId": "5c9a45fe-69f2-42f4-e859-00196600301b"
   },
   "outputs": [
    {
     "data": {
      "text/plain": [
       "tensor([[  1.,   2.,   3.],\n",
       "        [ 10.,  20.,  30.],\n",
       "        [100., 200., 300.]])"
      ]
     },
     "execution_count": 56,
     "metadata": {},
     "output_type": "execute_result"
    }
   ],
   "source": [
    "a"
   ]
  },
  {
   "cell_type": "code",
   "execution_count": 57,
   "metadata": {
    "colab": {
     "base_uri": "https://localhost:8080/",
     "height": 36
    },
    "colab_type": "code",
    "executionInfo": {
     "elapsed": 686,
     "status": "ok",
     "timestamp": 1572598410265,
     "user": {
      "displayName": "Aleksandr Veselev",
      "photoUrl": "",
      "userId": "06497019213520827031"
     },
     "user_tz": -180
    },
    "id": "cc6RjJYeYKBG",
    "outputId": "1214abb5-0180-4f1d-9515-0a0d7588d9c0"
   },
   "outputs": [
    {
     "data": {
      "text/plain": [
       "tensor([111., 222., 333.])"
      ]
     },
     "execution_count": 57,
     "metadata": {},
     "output_type": "execute_result"
    }
   ],
   "source": [
    "a.sum(dim=0)"
   ]
  },
  {
   "cell_type": "code",
   "execution_count": 58,
   "metadata": {
    "colab": {
     "base_uri": "https://localhost:8080/",
     "height": 36
    },
    "colab_type": "code",
    "executionInfo": {
     "elapsed": 768,
     "status": "ok",
     "timestamp": 1572598410719,
     "user": {
      "displayName": "Aleksandr Veselev",
      "photoUrl": "",
      "userId": "06497019213520827031"
     },
     "user_tz": -180
    },
    "id": "Dgi5BmhOYKBJ",
    "outputId": "c9251a87-91b0-4873-b12c-444922e31495"
   },
   "outputs": [
    {
     "data": {
      "text/plain": [
       "tensor([  6.,  60., 600.])"
      ]
     },
     "execution_count": 58,
     "metadata": {},
     "output_type": "execute_result"
    }
   ],
   "source": [
    "a.sum(1)"
   ]
  },
  {
   "cell_type": "code",
   "execution_count": 59,
   "metadata": {
    "colab": {
     "base_uri": "https://localhost:8080/",
     "height": 36
    },
    "colab_type": "code",
    "executionInfo": {
     "elapsed": 631,
     "status": "ok",
     "timestamp": 1572598411166,
     "user": {
      "displayName": "Aleksandr Veselev",
      "photoUrl": "",
      "userId": "06497019213520827031"
     },
     "user_tz": -180
    },
    "id": "-tIkcTENYKBK",
    "outputId": "0e60bf8b-0979-4468-853a-af82a8dbc781"
   },
   "outputs": [
    {
     "data": {
      "text/plain": [
       "tensor(300.)"
      ]
     },
     "execution_count": 59,
     "metadata": {},
     "output_type": "execute_result"
    }
   ],
   "source": [
    "a.max()"
   ]
  },
  {
   "cell_type": "code",
   "execution_count": 60,
   "metadata": {
    "colab": {
     "base_uri": "https://localhost:8080/",
     "height": 36
    },
    "colab_type": "code",
    "executionInfo": {
     "elapsed": 1589,
     "status": "ok",
     "timestamp": 1572598412461,
     "user": {
      "displayName": "Aleksandr Veselev",
      "photoUrl": "",
      "userId": "06497019213520827031"
     },
     "user_tz": -180
    },
    "id": "V4U_LyyPYKBL",
    "outputId": "8423f4b7-a008-46f5-aec0-241b82cfcc22"
   },
   "outputs": [
    {
     "data": {
      "text/plain": [
       "torch.return_types.max(\n",
       "values=tensor([100., 200., 300.]),\n",
       "indices=tensor([2, 2, 2]))"
      ]
     },
     "execution_count": 60,
     "metadata": {},
     "output_type": "execute_result"
    }
   ],
   "source": [
    "a.max(0)"
   ]
  },
  {
   "cell_type": "code",
   "execution_count": 61,
   "metadata": {
    "colab": {
     "base_uri": "https://localhost:8080/",
     "height": 36
    },
    "colab_type": "code",
    "executionInfo": {
     "elapsed": 805,
     "status": "ok",
     "timestamp": 1572598412464,
     "user": {
      "displayName": "Aleksandr Veselev",
      "photoUrl": "",
      "userId": "06497019213520827031"
     },
     "user_tz": -180
    },
    "id": "TSqmVtWjYKBO",
    "outputId": "639058aa-f16c-422b-f40a-a1b7e8b7a358"
   },
   "outputs": [
    {
     "data": {
      "text/plain": [
       "tensor(1.)"
      ]
     },
     "execution_count": 61,
     "metadata": {},
     "output_type": "execute_result"
    }
   ],
   "source": [
    "a.min()"
   ]
  },
  {
   "cell_type": "code",
   "execution_count": 62,
   "metadata": {
    "colab": {
     "base_uri": "https://localhost:8080/",
     "height": 36
    },
    "colab_type": "code",
    "executionInfo": {
     "elapsed": 1343,
     "status": "ok",
     "timestamp": 1572598413918,
     "user": {
      "displayName": "Aleksandr Veselev",
      "photoUrl": "",
      "userId": "06497019213520827031"
     },
     "user_tz": -180
    },
    "id": "OeA2hlZ2YKBP",
    "outputId": "9b403bb8-6e6e-4a5f-f501-0f8321861b0c"
   },
   "outputs": [
    {
     "data": {
      "text/plain": [
       "torch.return_types.min(\n",
       "values=tensor([1., 2., 3.]),\n",
       "indices=tensor([0, 0, 0]))"
      ]
     },
     "execution_count": 62,
     "metadata": {},
     "output_type": "execute_result"
    }
   ],
   "source": [
    "a.min(0)"
   ]
  },
  {
   "cell_type": "markdown",
   "metadata": {
    "colab_type": "text",
    "id": "Ys-9hnr4YKBS"
   },
   "source": [
    "**Note:** the second tensor returned by `.max()` and `.min()` contains the indices of max/min elements along this axis. E.g. in that case `a.min()` returned `(1, 2, 3)` which are the minimum elements along 0 axis (along columns) and their indices along 0 axis are `(0, 0, 0)`."
   ]
  },
  {
   "cell_type": "markdown",
   "metadata": {
    "colab_type": "text",
    "id": "kepFeTZ0YKBV"
   },
   "source": [
    "**Matrix operations**:"
   ]
  },
  {
   "cell_type": "markdown",
   "metadata": {
    "colab_type": "text",
    "id": "7RYm3mdrYKBX"
   },
   "source": [
    "* Transpose a tensor:"
   ]
  },
  {
   "cell_type": "code",
   "execution_count": 63,
   "metadata": {
    "colab": {
     "base_uri": "https://localhost:8080/",
     "height": 74
    },
    "colab_type": "code",
    "executionInfo": {
     "elapsed": 877,
     "status": "ok",
     "timestamp": 1572598440171,
     "user": {
      "displayName": "Aleksandr Veselev",
      "photoUrl": "",
      "userId": "06497019213520827031"
     },
     "user_tz": -180
    },
    "id": "T8-1TSkeYKBY",
    "outputId": "3ae93026-7bc4-4bff-9b46-8665060131a7"
   },
   "outputs": [
    {
     "data": {
      "text/plain": [
       "tensor([[  1.,   2.,   3.],\n",
       "        [ 10.,  20.,  30.],\n",
       "        [100., 200., 300.]])"
      ]
     },
     "execution_count": 63,
     "metadata": {},
     "output_type": "execute_result"
    }
   ],
   "source": [
    "a = torch.FloatTensor([[1, 2, 3], [10, 20, 30], [100, 200, 300]])\n",
    "a"
   ]
  },
  {
   "cell_type": "code",
   "execution_count": 64,
   "metadata": {
    "colab": {
     "base_uri": "https://localhost:8080/",
     "height": 74
    },
    "colab_type": "code",
    "executionInfo": {
     "elapsed": 1297,
     "status": "ok",
     "timestamp": 1572598445401,
     "user": {
      "displayName": "Aleksandr Veselev",
      "photoUrl": "",
      "userId": "06497019213520827031"
     },
     "user_tz": -180
    },
    "id": "HSAZwai7YKBa",
    "outputId": "b794b877-a11f-4f6c-ffa4-b26c0139e515"
   },
   "outputs": [
    {
     "data": {
      "text/plain": [
       "tensor([[  1.,  10., 100.],\n",
       "        [  2.,  20., 200.],\n",
       "        [  3.,  30., 300.]])"
      ]
     },
     "execution_count": 64,
     "metadata": {},
     "output_type": "execute_result"
    }
   ],
   "source": [
    "a.t()"
   ]
  },
  {
   "cell_type": "markdown",
   "metadata": {
    "colab_type": "text",
    "id": "QqsPkleRYKBd"
   },
   "source": [
    "It is not not the inplace operation too:"
   ]
  },
  {
   "cell_type": "code",
   "execution_count": 65,
   "metadata": {
    "colab": {},
    "colab_type": "code",
    "id": "NRPamd2EYKBe"
   },
   "outputs": [
    {
     "data": {
      "text/plain": [
       "tensor([[  1.,   2.,   3.],\n",
       "        [ 10.,  20.,  30.],\n",
       "        [100., 200., 300.]])"
      ]
     },
     "execution_count": 65,
     "metadata": {},
     "output_type": "execute_result"
    }
   ],
   "source": [
    "a"
   ]
  },
  {
   "cell_type": "markdown",
   "metadata": {
    "colab_type": "text",
    "id": "q8YhoxHPYKBh"
   },
   "source": [
    "* Dot product of vectors:"
   ]
  },
  {
   "cell_type": "code",
   "execution_count": 66,
   "metadata": {
    "colab": {},
    "colab_type": "code",
    "id": "i1pRtl7HYKBi"
   },
   "outputs": [],
   "source": [
    "a = torch.FloatTensor([1, 2, 3, 4, 5, 6])\n",
    "b = torch.FloatTensor([-1, -2, -4, -6, -8, -10])"
   ]
  },
  {
   "cell_type": "code",
   "execution_count": 67,
   "metadata": {
    "colab": {
     "base_uri": "https://localhost:8080/",
     "height": 36
    },
    "colab_type": "code",
    "executionInfo": {
     "elapsed": 873,
     "status": "ok",
     "timestamp": 1572598519942,
     "user": {
      "displayName": "Aleksandr Veselev",
      "photoUrl": "",
      "userId": "06497019213520827031"
     },
     "user_tz": -180
    },
    "id": "qcS-28dwYKBp",
    "outputId": "9d12eb5f-6c56-4259-ef96-a8e525874b8b"
   },
   "outputs": [
    {
     "data": {
      "text/plain": [
       "tensor(-141.)"
      ]
     },
     "execution_count": 67,
     "metadata": {},
     "output_type": "execute_result"
    }
   ],
   "source": [
    "a.dot(b)"
   ]
  },
  {
   "cell_type": "code",
   "execution_count": 68,
   "metadata": {
    "colab": {
     "base_uri": "https://localhost:8080/",
     "height": 36
    },
    "colab_type": "code",
    "executionInfo": {
     "elapsed": 990,
     "status": "ok",
     "timestamp": 1572598525977,
     "user": {
      "displayName": "Aleksandr Veselev",
      "photoUrl": "",
      "userId": "06497019213520827031"
     },
     "user_tz": -180
    },
    "id": "sBiRR1V3LP-r",
    "outputId": "3f5fc8fc-64d3-4275-a8b3-125ff84ed607"
   },
   "outputs": [
    {
     "data": {
      "text/plain": [
       "(torch.Size([6]), torch.Size([6]))"
      ]
     },
     "execution_count": 68,
     "metadata": {},
     "output_type": "execute_result"
    }
   ],
   "source": [
    "a.shape, b.shape"
   ]
  },
  {
   "cell_type": "code",
   "execution_count": 69,
   "metadata": {
    "colab": {
     "base_uri": "https://localhost:8080/",
     "height": 178
    },
    "colab_type": "code",
    "executionInfo": {
     "elapsed": 776,
     "status": "error",
     "timestamp": 1572598567400,
     "user": {
      "displayName": "Aleksandr Veselev",
      "photoUrl": "",
      "userId": "06497019213520827031"
     },
     "user_tz": -180
    },
    "id": "MXyhOelQYKBs",
    "outputId": "dffd2d89-463e-421d-b221-4b6e52876675"
   },
   "outputs": [
    {
     "data": {
      "text/plain": [
       "tensor(-141.)"
      ]
     },
     "execution_count": 69,
     "metadata": {},
     "output_type": "execute_result"
    }
   ],
   "source": [
    "a @ b"
   ]
  },
  {
   "cell_type": "code",
   "execution_count": 70,
   "metadata": {
    "colab": {
     "base_uri": "https://localhost:8080/",
     "height": 36
    },
    "colab_type": "code",
    "executionInfo": {
     "elapsed": 999,
     "status": "ok",
     "timestamp": 1572598568773,
     "user": {
      "displayName": "Aleksandr Veselev",
      "photoUrl": "",
      "userId": "06497019213520827031"
     },
     "user_tz": -180
    },
    "id": "sxqg4xhoYKBt",
    "outputId": "3ddc24a5-1fb9-4820-8599-4c67dcd58d4a"
   },
   "outputs": [
    {
     "data": {
      "text/plain": [
       "torch.Tensor"
      ]
     },
     "execution_count": 70,
     "metadata": {},
     "output_type": "execute_result"
    }
   ],
   "source": [
    "type(a)"
   ]
  },
  {
   "cell_type": "code",
   "execution_count": 71,
   "metadata": {
    "colab": {
     "base_uri": "https://localhost:8080/",
     "height": 36
    },
    "colab_type": "code",
    "executionInfo": {
     "elapsed": 1741,
     "status": "ok",
     "timestamp": 1572598569944,
     "user": {
      "displayName": "Aleksandr Veselev",
      "photoUrl": "",
      "userId": "06497019213520827031"
     },
     "user_tz": -180
    },
    "id": "_v2ZjPqDYKBz",
    "outputId": "5546b1ab-624d-40fc-88ef-09bf4216e88c"
   },
   "outputs": [
    {
     "data": {
      "text/plain": [
       "torch.Tensor"
      ]
     },
     "execution_count": 71,
     "metadata": {},
     "output_type": "execute_result"
    }
   ],
   "source": [
    "type(b)"
   ]
  },
  {
   "cell_type": "code",
   "execution_count": 72,
   "metadata": {
    "colab": {
     "base_uri": "https://localhost:8080/",
     "height": 36
    },
    "colab_type": "code",
    "executionInfo": {
     "elapsed": 1364,
     "status": "ok",
     "timestamp": 1572598569945,
     "user": {
      "displayName": "Aleksandr Veselev",
      "photoUrl": "",
      "userId": "06497019213520827031"
     },
     "user_tz": -180
    },
    "id": "UsWB9vTuYKB0",
    "outputId": "bd0a9717-c556-4c2f-fbd4-1cca26c37db2"
   },
   "outputs": [
    {
     "data": {
      "text/plain": [
       "torch.Tensor"
      ]
     },
     "execution_count": 72,
     "metadata": {},
     "output_type": "execute_result"
    }
   ],
   "source": [
    "type(a @ b)"
   ]
  },
  {
   "cell_type": "markdown",
   "metadata": {
    "colab_type": "text",
    "id": "KSrnLwkGYKB1"
   },
   "source": [
    "* Matrix product:"
   ]
  },
  {
   "cell_type": "code",
   "execution_count": 73,
   "metadata": {
    "colab": {},
    "colab_type": "code",
    "id": "ViurnbjPYKB2"
   },
   "outputs": [],
   "source": [
    "a = torch.FloatTensor([[1, 2, 3], [10, 20, 30], [100, 200, 300]])\n",
    "b = torch.FloatTensor([[-1, -2, -3], [-10, -20, -30], [100, 200, 300]])"
   ]
  },
  {
   "cell_type": "code",
   "execution_count": 74,
   "metadata": {
    "colab": {
     "base_uri": "https://localhost:8080/",
     "height": 74
    },
    "colab_type": "code",
    "executionInfo": {
     "elapsed": 1003,
     "status": "ok",
     "timestamp": 1572598570364,
     "user": {
      "displayName": "Aleksandr Veselev",
      "photoUrl": "",
      "userId": "06497019213520827031"
     },
     "user_tz": -180
    },
    "id": "5TrCnfWiYKB3",
    "outputId": "3d188ec3-15be-4b78-873c-72b0fc432b73"
   },
   "outputs": [
    {
     "data": {
      "text/plain": [
       "tensor([[  279.,   558.,   837.],\n",
       "        [ 2790.,  5580.,  8370.],\n",
       "        [27900., 55800., 83700.]])"
      ]
     },
     "execution_count": 74,
     "metadata": {},
     "output_type": "execute_result"
    }
   ],
   "source": [
    "a.mm(b)"
   ]
  },
  {
   "cell_type": "code",
   "execution_count": 75,
   "metadata": {
    "colab": {
     "base_uri": "https://localhost:8080/",
     "height": 74
    },
    "colab_type": "code",
    "executionInfo": {
     "elapsed": 752,
     "status": "ok",
     "timestamp": 1572598570366,
     "user": {
      "displayName": "Aleksandr Veselev",
      "photoUrl": "",
      "userId": "06497019213520827031"
     },
     "user_tz": -180
    },
    "id": "HMzIz-_MYKB4",
    "outputId": "c1666bcc-3d50-4889-9941-14adf0cd341a"
   },
   "outputs": [
    {
     "data": {
      "text/plain": [
       "tensor([[  279.,   558.,   837.],\n",
       "        [ 2790.,  5580.,  8370.],\n",
       "        [27900., 55800., 83700.]])"
      ]
     },
     "execution_count": 75,
     "metadata": {},
     "output_type": "execute_result"
    }
   ],
   "source": [
    "a @ b"
   ]
  },
  {
   "cell_type": "markdown",
   "metadata": {
    "colab_type": "text",
    "id": "Ig2pr52xYKB5"
   },
   "source": [
    "Remain unchanged:"
   ]
  },
  {
   "cell_type": "code",
   "execution_count": 76,
   "metadata": {
    "colab": {
     "base_uri": "https://localhost:8080/",
     "height": 74
    },
    "colab_type": "code",
    "executionInfo": {
     "elapsed": 859,
     "status": "ok",
     "timestamp": 1572598571168,
     "user": {
      "displayName": "Aleksandr Veselev",
      "photoUrl": "",
      "userId": "06497019213520827031"
     },
     "user_tz": -180
    },
    "id": "22QOePSyYKB6",
    "outputId": "6f887e0b-e9c0-49b0-8605-26ae47140b94"
   },
   "outputs": [
    {
     "data": {
      "text/plain": [
       "tensor([[  1.,   2.,   3.],\n",
       "        [ 10.,  20.,  30.],\n",
       "        [100., 200., 300.]])"
      ]
     },
     "execution_count": 76,
     "metadata": {},
     "output_type": "execute_result"
    }
   ],
   "source": [
    "a"
   ]
  },
  {
   "cell_type": "code",
   "execution_count": 77,
   "metadata": {
    "colab": {
     "base_uri": "https://localhost:8080/",
     "height": 74
    },
    "colab_type": "code",
    "executionInfo": {
     "elapsed": 836,
     "status": "ok",
     "timestamp": 1572598571521,
     "user": {
      "displayName": "Aleksandr Veselev",
      "photoUrl": "",
      "userId": "06497019213520827031"
     },
     "user_tz": -180
    },
    "id": "JHr6eKADYKB6",
    "outputId": "cd652a94-e738-42a2-c03b-f5035a8e984d"
   },
   "outputs": [
    {
     "data": {
      "text/plain": [
       "tensor([[ -1.,  -2.,  -3.],\n",
       "        [-10., -20., -30.],\n",
       "        [100., 200., 300.]])"
      ]
     },
     "execution_count": 77,
     "metadata": {},
     "output_type": "execute_result"
    }
   ],
   "source": [
    "b"
   ]
  },
  {
   "cell_type": "code",
   "execution_count": 78,
   "metadata": {
    "colab": {},
    "colab_type": "code",
    "id": "vtuvt20-YKB8"
   },
   "outputs": [],
   "source": [
    "a = torch.FloatTensor([[1, 2, 3], [10, 20, 30], [100, 200, 300]])\n",
    "b = torch.FloatTensor([[-1], [-10], [100]])"
   ]
  },
  {
   "cell_type": "code",
   "execution_count": 79,
   "metadata": {
    "colab": {
     "base_uri": "https://localhost:8080/",
     "height": 36
    },
    "colab_type": "code",
    "executionInfo": {
     "elapsed": 1047,
     "status": "ok",
     "timestamp": 1572598573207,
     "user": {
      "displayName": "Aleksandr Veselev",
      "photoUrl": "",
      "userId": "06497019213520827031"
     },
     "user_tz": -180
    },
    "id": "fdDnu5XjYKB9",
    "outputId": "516e2194-5b5f-4a73-c47a-2ec4c7b31a19"
   },
   "outputs": [
    {
     "name": "stdout",
     "output_type": "stream",
     "text": [
      "torch.Size([3, 3]) torch.Size([3, 1])\n"
     ]
    }
   ],
   "source": [
    "print(a.shape, b.shape)"
   ]
  },
  {
   "cell_type": "code",
   "execution_count": 80,
   "metadata": {
    "colab": {
     "base_uri": "https://localhost:8080/",
     "height": 74
    },
    "colab_type": "code",
    "executionInfo": {
     "elapsed": 914,
     "status": "ok",
     "timestamp": 1572598575948,
     "user": {
      "displayName": "Aleksandr Veselev",
      "photoUrl": "",
      "userId": "06497019213520827031"
     },
     "user_tz": -180
    },
    "id": "oD4N4WN8YKB_",
    "outputId": "4ef5a395-b82a-4748-a1c9-f1d1c2c56098"
   },
   "outputs": [
    {
     "data": {
      "text/plain": [
       "tensor([[  279.],\n",
       "        [ 2790.],\n",
       "        [27900.]])"
      ]
     },
     "execution_count": 80,
     "metadata": {},
     "output_type": "execute_result"
    }
   ],
   "source": [
    "a @ b"
   ]
  },
  {
   "cell_type": "markdown",
   "metadata": {
    "colab_type": "text",
    "id": "va9w-BavYKCB"
   },
   "source": [
    "If we unroll the tensor `b` in an array (`torch.view(-1)`) the multiplication would be like with the column:"
   ]
  },
  {
   "cell_type": "code",
   "execution_count": 81,
   "metadata": {
    "colab": {},
    "colab_type": "code",
    "id": "V7KsdYcBYKCC"
   },
   "outputs": [
    {
     "data": {
      "text/plain": [
       "tensor([[ -1.],\n",
       "        [-10.],\n",
       "        [100.]])"
      ]
     },
     "execution_count": 81,
     "metadata": {},
     "output_type": "execute_result"
    }
   ],
   "source": [
    "b"
   ]
  },
  {
   "cell_type": "code",
   "execution_count": 82,
   "metadata": {
    "colab": {},
    "colab_type": "code",
    "id": "t7k6spayYKCF"
   },
   "outputs": [
    {
     "data": {
      "text/plain": [
       "tensor([ -1., -10., 100.])"
      ]
     },
     "execution_count": 82,
     "metadata": {},
     "output_type": "execute_result"
    }
   ],
   "source": [
    "b.view(-1)"
   ]
  },
  {
   "cell_type": "code",
   "execution_count": 83,
   "metadata": {
    "colab": {},
    "colab_type": "code",
    "id": "8u8xQ20bYKCH"
   },
   "outputs": [
    {
     "data": {
      "text/plain": [
       "tensor([  279.,  2790., 27900.])"
      ]
     },
     "execution_count": 83,
     "metadata": {},
     "output_type": "execute_result"
    }
   ],
   "source": [
    "a @ b.view(-1)"
   ]
  },
  {
   "cell_type": "code",
   "execution_count": 84,
   "metadata": {
    "colab": {},
    "colab_type": "code",
    "id": "QvCu1sJEYKCJ"
   },
   "outputs": [
    {
     "data": {
      "text/plain": [
       "tensor([  279.,  2790., 27900.])"
      ]
     },
     "execution_count": 84,
     "metadata": {},
     "output_type": "execute_result"
    }
   ],
   "source": [
    "a.mv(b.view(-1))"
   ]
  },
  {
   "cell_type": "markdown",
   "metadata": {
    "colab_type": "text",
    "id": "gZitrCN6YKCL"
   },
   "source": [
    "**From NumPu to PyTorch conversion**:"
   ]
  },
  {
   "cell_type": "code",
   "execution_count": 85,
   "metadata": {
    "colab": {
     "base_uri": "https://localhost:8080/",
     "height": 74
    },
    "colab_type": "code",
    "executionInfo": {
     "elapsed": 917,
     "status": "ok",
     "timestamp": 1572599616239,
     "user": {
      "displayName": "Aleksandr Veselev",
      "photoUrl": "",
      "userId": "06497019213520827031"
     },
     "user_tz": -180
    },
    "id": "bnLS4CGXYKCL",
    "outputId": "e0ede682-52f4-466d-efcf-206499f1a8ac"
   },
   "outputs": [
    {
     "data": {
      "text/plain": [
       "array([[0.42654808, 0.68812852, 0.04426251],\n",
       "       [0.08542813, 0.8064269 , 0.63349253],\n",
       "       [0.07701885, 0.5320509 , 0.98786146]])"
      ]
     },
     "execution_count": 85,
     "metadata": {},
     "output_type": "execute_result"
    }
   ],
   "source": [
    "import numpy as np\n",
    "\n",
    "a = np.random.rand(3, 3)\n",
    "a"
   ]
  },
  {
   "cell_type": "code",
   "execution_count": 86,
   "metadata": {
    "colab": {
     "base_uri": "https://localhost:8080/",
     "height": 74
    },
    "colab_type": "code",
    "executionInfo": {
     "elapsed": 648,
     "status": "ok",
     "timestamp": 1572599616243,
     "user": {
      "displayName": "Aleksandr Veselev",
      "photoUrl": "",
      "userId": "06497019213520827031"
     },
     "user_tz": -180
    },
    "id": "PXge57waYKCM",
    "outputId": "6e1946a0-847a-4d6c-9888-f528d0ad62c6"
   },
   "outputs": [
    {
     "data": {
      "text/plain": [
       "tensor([[0.4265, 0.6881, 0.0443],\n",
       "        [0.0854, 0.8064, 0.6335],\n",
       "        [0.0770, 0.5321, 0.9879]], dtype=torch.float64)"
      ]
     },
     "execution_count": 86,
     "metadata": {},
     "output_type": "execute_result"
    }
   ],
   "source": [
    "b = torch.from_numpy(a)\n",
    "b"
   ]
  },
  {
   "cell_type": "markdown",
   "metadata": {
    "colab_type": "text",
    "id": "Nvcr3ymPYKCN"
   },
   "source": [
    "**NOTE!** `a` and `b` have the same data storage, so the changes in one tensor will lead to the changes in another:"
   ]
  },
  {
   "cell_type": "code",
   "execution_count": 87,
   "metadata": {
    "colab": {
     "base_uri": "https://localhost:8080/",
     "height": 74
    },
    "colab_type": "code",
    "executionInfo": {
     "elapsed": 1206,
     "status": "ok",
     "timestamp": 1572599617723,
     "user": {
      "displayName": "Aleksandr Veselev",
      "photoUrl": "",
      "userId": "06497019213520827031"
     },
     "user_tz": -180
    },
    "id": "0N_ZW6TQYKCN",
    "outputId": "47720615-c19c-43dd-f72d-7b03a71a6755"
   },
   "outputs": [
    {
     "data": {
      "text/plain": [
       "tensor([[0., 0., 0.],\n",
       "        [0., 0., 0.],\n",
       "        [0., 0., 0.]], dtype=torch.float64)"
      ]
     },
     "execution_count": 87,
     "metadata": {},
     "output_type": "execute_result"
    }
   ],
   "source": [
    "b -= b\n",
    "b"
   ]
  },
  {
   "cell_type": "code",
   "execution_count": 88,
   "metadata": {
    "colab": {
     "base_uri": "https://localhost:8080/",
     "height": 74
    },
    "colab_type": "code",
    "executionInfo": {
     "elapsed": 883,
     "status": "ok",
     "timestamp": 1572599617724,
     "user": {
      "displayName": "Aleksandr Veselev",
      "photoUrl": "",
      "userId": "06497019213520827031"
     },
     "user_tz": -180
    },
    "id": "wzUnCKsiYKCP",
    "outputId": "4b5de83e-2256-46f4-ecb1-d8b98713f431"
   },
   "outputs": [
    {
     "data": {
      "text/plain": [
       "array([[0., 0., 0.],\n",
       "       [0., 0., 0.],\n",
       "       [0., 0., 0.]])"
      ]
     },
     "execution_count": 88,
     "metadata": {},
     "output_type": "execute_result"
    }
   ],
   "source": [
    "a"
   ]
  },
  {
   "cell_type": "markdown",
   "metadata": {
    "colab_type": "text",
    "id": "Al73RqKSYKCR"
   },
   "source": [
    "**From PyTorch to NumPy conversion:**"
   ]
  },
  {
   "cell_type": "code",
   "execution_count": 89,
   "metadata": {
    "colab": {
     "base_uri": "https://localhost:8080/",
     "height": 150
    },
    "colab_type": "code",
    "executionInfo": {
     "elapsed": 1376,
     "status": "ok",
     "timestamp": 1572599621775,
     "user": {
      "displayName": "Aleksandr Veselev",
      "photoUrl": "",
      "userId": "06497019213520827031"
     },
     "user_tz": -180
    },
    "id": "u5rngw4vYKCR",
    "outputId": "f4df4e42-a865-4d6c-8375-0d2495cee4e6"
   },
   "outputs": [
    {
     "data": {
      "text/plain": [
       "tensor([[[0.0000e+00, 0.0000e+00, 0.0000e+00, 0.0000e+00],\n",
       "         [0.0000e+00, 1.0102e-38, 7.7052e+31, 7.2148e+22],\n",
       "         [2.5226e-18, 6.4825e-10, 1.0186e-11, 3.0879e-09]],\n",
       "\n",
       "        [[1.0374e-08, 4.1199e-11, 1.7662e-04, 2.9573e-18],\n",
       "         [6.7333e+22, 1.7591e+22, 1.7184e+25, 4.3222e+27],\n",
       "         [6.1972e-04, 7.2443e+22, 1.7728e+28, 7.0367e+22]]])"
      ]
     },
     "execution_count": 89,
     "metadata": {},
     "output_type": "execute_result"
    }
   ],
   "source": [
    "a = torch.FloatTensor(2, 3, 4)\n",
    "a"
   ]
  },
  {
   "cell_type": "code",
   "execution_count": 90,
   "metadata": {
    "colab": {
     "base_uri": "https://localhost:8080/",
     "height": 36
    },
    "colab_type": "code",
    "executionInfo": {
     "elapsed": 999,
     "status": "ok",
     "timestamp": 1572599623048,
     "user": {
      "displayName": "Aleksandr Veselev",
      "photoUrl": "",
      "userId": "06497019213520827031"
     },
     "user_tz": -180
    },
    "id": "yjK68Kk-YKCS",
    "outputId": "ba63cbc9-4b75-4ef1-ec42-c4f6cc1c66c0"
   },
   "outputs": [
    {
     "data": {
      "text/plain": [
       "torch.Tensor"
      ]
     },
     "execution_count": 90,
     "metadata": {},
     "output_type": "execute_result"
    }
   ],
   "source": [
    "type(a)"
   ]
  },
  {
   "cell_type": "code",
   "execution_count": 91,
   "metadata": {
    "colab": {
     "base_uri": "https://localhost:8080/",
     "height": 169
    },
    "colab_type": "code",
    "executionInfo": {
     "elapsed": 550,
     "status": "ok",
     "timestamp": 1572599623049,
     "user": {
      "displayName": "Aleksandr Veselev",
      "photoUrl": "",
      "userId": "06497019213520827031"
     },
     "user_tz": -180
    },
    "id": "viLUF7gQYKCU",
    "outputId": "0da4ad32-6b7e-473c-b718-bb364cc4e0eb"
   },
   "outputs": [
    {
     "data": {
      "text/plain": [
       "array([[[0.0000000e+00, 0.0000000e+00, 0.0000000e+00, 0.0000000e+00],\n",
       "        [0.0000000e+00, 1.0101996e-38, 7.7052459e+31, 7.2147959e+22],\n",
       "        [2.5225907e-18, 6.4824512e-10, 1.0185669e-11, 3.0879161e-09]],\n",
       "\n",
       "       [[1.0374202e-08, 4.1199245e-11, 1.7662048e-04, 2.9573198e-18],\n",
       "        [6.7333120e+22, 1.7590538e+22, 1.7184218e+25, 4.3221663e+27],\n",
       "        [6.1971537e-04, 7.2443192e+22, 1.7728345e+28, 7.0366722e+22]]],\n",
       "      dtype=float32)"
      ]
     },
     "execution_count": 91,
     "metadata": {},
     "output_type": "execute_result"
    }
   ],
   "source": [
    "x = a.numpy()\n",
    "x"
   ]
  },
  {
   "cell_type": "code",
   "execution_count": 92,
   "metadata": {
    "colab": {
     "base_uri": "https://localhost:8080/",
     "height": 36
    },
    "colab_type": "code",
    "executionInfo": {
     "elapsed": 878,
     "status": "ok",
     "timestamp": 1572599624461,
     "user": {
      "displayName": "Aleksandr Veselev",
      "photoUrl": "",
      "userId": "06497019213520827031"
     },
     "user_tz": -180
    },
    "id": "9HxgiLxKYKCV",
    "outputId": "4c0cd450-e224-479a-bfe8-42b78ce51954"
   },
   "outputs": [
    {
     "data": {
      "text/plain": [
       "(2, 3, 4)"
      ]
     },
     "execution_count": 92,
     "metadata": {},
     "output_type": "execute_result"
    }
   ],
   "source": [
    "x.shape"
   ]
  },
  {
   "cell_type": "code",
   "execution_count": 93,
   "metadata": {
    "colab": {
     "base_uri": "https://localhost:8080/",
     "height": 36
    },
    "colab_type": "code",
    "executionInfo": {
     "elapsed": 670,
     "status": "ok",
     "timestamp": 1572599625415,
     "user": {
      "displayName": "Aleksandr Veselev",
      "photoUrl": "",
      "userId": "06497019213520827031"
     },
     "user_tz": -180
    },
    "id": "SdW5bhmeYKCX",
    "outputId": "6992373a-9e55-4a48-897b-cb7267e92a5c"
   },
   "outputs": [
    {
     "data": {
      "text/plain": [
       "numpy.ndarray"
      ]
     },
     "execution_count": 93,
     "metadata": {},
     "output_type": "execute_result"
    }
   ],
   "source": [
    "type(x)"
   ]
  },
  {
   "cell_type": "markdown",
   "metadata": {
    "colab_type": "text",
    "id": "7-KS81rUYKCY"
   },
   "source": [
    "Let's write the `forward_pass(X, w)` ($w_0$ is a part of the $w$) for a single neuron (activation = sigmoid) using PyTorch:"
   ]
  },
  {
   "cell_type": "code",
   "execution_count": 94,
   "metadata": {
    "colab": {},
    "colab_type": "code",
    "id": "vkaIwpn6YKCY"
   },
   "outputs": [],
   "source": [
    "def forward_pass(X, w):\n",
    "    return torch.sigmoid(X @ w)"
   ]
  },
  {
   "cell_type": "code",
   "execution_count": 95,
   "metadata": {
    "colab": {
     "base_uri": "https://localhost:8080/",
     "height": 74
    },
    "colab_type": "code",
    "executionInfo": {
     "elapsed": 944,
     "status": "ok",
     "timestamp": 1572599632516,
     "user": {
      "displayName": "Aleksandr Veselev",
      "photoUrl": "",
      "userId": "06497019213520827031"
     },
     "user_tz": -180
    },
    "id": "VyqlDItxYKCZ",
    "outputId": "54a7c4ac-3d97-4535-88bf-1ae99d35fe00"
   },
   "outputs": [
    {
     "name": "stdout",
     "output_type": "stream",
     "text": [
      "result: tensor([[1.0000],\n",
      "        [0.9985],\n",
      "        [0.0474]])\n"
     ]
    }
   ],
   "source": [
    "X = torch.FloatTensor([[-5, 5], [2, 3], [1, -1]])\n",
    "w = torch.FloatTensor([[-0.5], [2.5]])\n",
    "result = forward_pass(X, w)\n",
    "print('result: {}'.format(result))"
   ]
  },
  {
   "cell_type": "markdown",
   "metadata": {
    "colab_type": "text",
    "id": "MzLVLQ2GYKCa"
   },
   "source": [
    "<h3 style=\"text-align: center;\"><a href=\"https://ru.wikipedia.org/wiki/CUDA\">CUDA</a></h3>"
   ]
  },
  {
   "cell_type": "markdown",
   "metadata": {
    "colab_type": "text",
    "id": "PrIicAAiYKCa"
   },
   "source": [
    "[CUDA documentation](https://docs.nvidia.com/cuda/)"
   ]
  },
  {
   "cell_type": "markdown",
   "metadata": {
    "colab_type": "text",
    "id": "2nDkAG6NYKCa"
   },
   "source": [
    "We can use both CPU (Central Processing Unit) and GPU (Graphical Processing Unit) to make the computations with PyTorch. We can switch between them easily, this is one of the most important things in PyTorch framework."
   ]
  },
  {
   "cell_type": "code",
   "execution_count": 96,
   "metadata": {
    "colab": {
     "base_uri": "https://localhost:8080/",
     "height": 264
    },
    "colab_type": "code",
    "executionInfo": {
     "elapsed": 1386,
     "status": "ok",
     "timestamp": 1572599661490,
     "user": {
      "displayName": "Aleksandr Veselev",
      "photoUrl": "",
      "userId": "06497019213520827031"
     },
     "user_tz": -180
    },
    "id": "_0Nsl2IoYKCa",
    "outputId": "e56ecb0e-bfe9-47e8-903e-8215d970ae42"
   },
   "outputs": [
    {
     "data": {
      "text/plain": [
       "tensor([[0.9731, 0.6161, 0.9821,  ..., 0.5225, 0.0527, 0.0720],\n",
       "        [0.9962, 0.6491, 0.5754,  ..., 0.5159, 0.0803, 0.7883],\n",
       "        [0.6841, 0.3443, 0.7369,  ..., 0.7177, 0.2852, 0.0713],\n",
       "        ...,\n",
       "        [0.9136, 0.3526, 0.0657,  ..., 0.0989, 0.0727, 0.1867],\n",
       "        [0.2693, 0.0632, 0.6744,  ..., 0.8068, 0.1094, 0.1529],\n",
       "        [0.8405, 0.6924, 0.0842,  ..., 0.5012, 0.4305, 0.3297]])"
      ]
     },
     "execution_count": 96,
     "metadata": {},
     "output_type": "execute_result"
    }
   ],
   "source": [
    "x = torch.FloatTensor(1024, 1024).uniform_()\n",
    "x"
   ]
  },
  {
   "cell_type": "code",
   "execution_count": 97,
   "metadata": {
    "colab": {
     "base_uri": "https://localhost:8080/",
     "height": 36
    },
    "colab_type": "code",
    "executionInfo": {
     "elapsed": 1478,
     "status": "ok",
     "timestamp": 1572599665180,
     "user": {
      "displayName": "Aleksandr Veselev",
      "photoUrl": "",
      "userId": "06497019213520827031"
     },
     "user_tz": -180
    },
    "id": "FVr5_SAdYKCb",
    "outputId": "8050a96c-4558-401e-b56b-90b7fddccce0"
   },
   "outputs": [
    {
     "data": {
      "text/plain": [
       "False"
      ]
     },
     "execution_count": 97,
     "metadata": {},
     "output_type": "execute_result"
    }
   ],
   "source": [
    "x.is_cuda"
   ]
  },
  {
   "cell_type": "markdown",
   "metadata": {
    "colab_type": "text",
    "id": "mAy8GGXAYKCd"
   },
   "source": [
    "Place a tensor on GPU:"
   ]
  },
  {
   "cell_type": "code",
   "execution_count": 98,
   "metadata": {
    "colab": {},
    "colab_type": "code",
    "id": "6UGKZbfyYKCd"
   },
   "outputs": [],
   "source": [
    "x = x.cuda()"
   ]
  },
  {
   "cell_type": "code",
   "execution_count": 99,
   "metadata": {
    "colab": {
     "base_uri": "https://localhost:8080/",
     "height": 264
    },
    "colab_type": "code",
    "executionInfo": {
     "elapsed": 1460,
     "status": "ok",
     "timestamp": 1572599668481,
     "user": {
      "displayName": "Aleksandr Veselev",
      "photoUrl": "",
      "userId": "06497019213520827031"
     },
     "user_tz": -180
    },
    "id": "ue2SLd9nYKCd",
    "outputId": "fc778b4b-5d15-4b9e-ff5e-2a3bb8ba60f9"
   },
   "outputs": [
    {
     "data": {
      "text/plain": [
       "tensor([[0.9731, 0.6161, 0.9821,  ..., 0.5225, 0.0527, 0.0720],\n",
       "        [0.9962, 0.6491, 0.5754,  ..., 0.5159, 0.0803, 0.7883],\n",
       "        [0.6841, 0.3443, 0.7369,  ..., 0.7177, 0.2852, 0.0713],\n",
       "        ...,\n",
       "        [0.9136, 0.3526, 0.0657,  ..., 0.0989, 0.0727, 0.1867],\n",
       "        [0.2693, 0.0632, 0.6744,  ..., 0.8068, 0.1094, 0.1529],\n",
       "        [0.8405, 0.6924, 0.0842,  ..., 0.5012, 0.4305, 0.3297]],\n",
       "       device='cuda:0')"
      ]
     },
     "execution_count": 99,
     "metadata": {},
     "output_type": "execute_result"
    }
   ],
   "source": [
    "x"
   ]
  },
  {
   "cell_type": "markdown",
   "metadata": {
    "colab_type": "text",
    "id": "dI73B59PYKCg"
   },
   "source": [
    "Let's multiply two tensors on GPU and then move the result on the CPU:"
   ]
  },
  {
   "cell_type": "code",
   "execution_count": 100,
   "metadata": {
    "colab": {},
    "colab_type": "code",
    "id": "KS4QxJJoYKCg"
   },
   "outputs": [],
   "source": [
    "a = torch.FloatTensor(10000, 10000).uniform_()\n",
    "b = torch.FloatTensor(10000, 10000).uniform_()\n",
    "c = a.cuda().mul(b.cuda()).cpu()"
   ]
  },
  {
   "cell_type": "code",
   "execution_count": 101,
   "metadata": {
    "colab": {
     "base_uri": "https://localhost:8080/",
     "height": 264
    },
    "colab_type": "code",
    "executionInfo": {
     "elapsed": 964,
     "status": "ok",
     "timestamp": 1572599682176,
     "user": {
      "displayName": "Aleksandr Veselev",
      "photoUrl": "",
      "userId": "06497019213520827031"
     },
     "user_tz": -180
    },
    "id": "1ImlgEbwYKCg",
    "outputId": "291194f8-4e89-4351-9b28-ee08a809d0d1"
   },
   "outputs": [
    {
     "data": {
      "text/plain": [
       "tensor([[0.0794, 0.0034, 0.5671,  ..., 0.0282, 0.2687, 0.4149],\n",
       "        [0.3832, 0.0647, 0.1959,  ..., 0.0917, 0.6800, 0.4273],\n",
       "        [0.4692, 0.0724, 0.3606,  ..., 0.4142, 0.8001, 0.0676],\n",
       "        ...,\n",
       "        [0.4155, 0.5637, 0.1971,  ..., 0.1677, 0.4523, 0.2210],\n",
       "        [0.4467, 0.1803, 0.0439,  ..., 0.5187, 0.1803, 0.7448],\n",
       "        [0.0276, 0.2328, 0.3567,  ..., 0.8654, 0.5719, 0.2312]])"
      ]
     },
     "execution_count": 101,
     "metadata": {},
     "output_type": "execute_result"
    }
   ],
   "source": [
    "c"
   ]
  },
  {
   "cell_type": "code",
   "execution_count": 102,
   "metadata": {
    "colab": {
     "base_uri": "https://localhost:8080/",
     "height": 150
    },
    "colab_type": "code",
    "executionInfo": {
     "elapsed": 851,
     "status": "ok",
     "timestamp": 1572599683806,
     "user": {
      "displayName": "Aleksandr Veselev",
      "photoUrl": "",
      "userId": "06497019213520827031"
     },
     "user_tz": -180
    },
    "id": "4DAN9MhDYKCh",
    "outputId": "b0e59040-55f7-4223-ffb3-a8f4d4127583"
   },
   "outputs": [
    {
     "data": {
      "text/plain": [
       "tensor([[0.2746, 0.0070, 0.7635,  ..., 0.0911, 0.5771, 0.6652],\n",
       "        [0.9912, 0.2958, 0.3038,  ..., 0.2277, 0.7651, 0.4630],\n",
       "        [0.5510, 0.1387, 0.7332,  ..., 0.4642, 0.8126, 0.2007],\n",
       "        ...,\n",
       "        [0.4549, 0.9314, 0.3123,  ..., 0.8497, 0.7493, 0.3070],\n",
       "        [0.6077, 0.3341, 0.9720,  ..., 0.9893, 0.4934, 0.9062],\n",
       "        [0.7927, 0.4431, 0.7530,  ..., 0.9017, 0.6757, 0.4972]])"
      ]
     },
     "execution_count": 102,
     "metadata": {},
     "output_type": "execute_result"
    }
   ],
   "source": [
    "a"
   ]
  },
  {
   "cell_type": "markdown",
   "metadata": {
    "colab_type": "text",
    "id": "xWc-PiA9YKCi"
   },
   "source": [
    "Tensors placed on CPU and tensors placed on GPU are unavailable for each other:"
   ]
  },
  {
   "cell_type": "code",
   "execution_count": 103,
   "metadata": {
    "colab": {},
    "colab_type": "code",
    "id": "1lwV1sgSYKCi"
   },
   "outputs": [],
   "source": [
    "a = torch.FloatTensor(10000, 10000).uniform_().cpu()\n",
    "b = torch.FloatTensor(10000, 10000).uniform_().cuda()"
   ]
  },
  {
   "cell_type": "code",
   "execution_count": 104,
   "metadata": {
    "colab": {
     "base_uri": "https://localhost:8080/",
     "height": 178
    },
    "colab_type": "code",
    "executionInfo": {
     "elapsed": 2391,
     "status": "error",
     "timestamp": 1572599699901,
     "user": {
      "displayName": "Aleksandr Veselev",
      "photoUrl": "",
      "userId": "06497019213520827031"
     },
     "user_tz": -180
    },
    "id": "G6tYdYtTYKCj",
    "outputId": "a480c9b5-1af9-4e24-a455-8db3518752a9"
   },
   "outputs": [
    {
     "ename": "RuntimeError",
     "evalue": "expected device cpu but got device cuda:0",
     "output_type": "error",
     "traceback": [
      "\u001b[1;31m---------------------------------------------------------------------------\u001b[0m",
      "\u001b[1;31mRuntimeError\u001b[0m                              Traceback (most recent call last)",
      "\u001b[1;32m<ipython-input-104-bd58363a63fc>\u001b[0m in \u001b[0;36m<module>\u001b[1;34m\u001b[0m\n\u001b[1;32m----> 1\u001b[1;33m \u001b[0ma\u001b[0m \u001b[1;33m+\u001b[0m \u001b[0mb\u001b[0m\u001b[1;33m\u001b[0m\u001b[1;33m\u001b[0m\u001b[0m\n\u001b[0m",
      "\u001b[1;31mRuntimeError\u001b[0m: expected device cpu but got device cuda:0"
     ]
    }
   ],
   "source": [
    "a + b"
   ]
  },
  {
   "cell_type": "markdown",
   "metadata": {
    "colab_type": "text",
    "id": "QEtwaIxDYKCk"
   },
   "source": [
    "Example of working with GPU:"
   ]
  },
  {
   "cell_type": "code",
   "execution_count": 105,
   "metadata": {
    "colab": {
     "base_uri": "https://localhost:8080/",
     "height": 1000
    },
    "colab_type": "code",
    "executionInfo": {
     "elapsed": 857,
     "status": "ok",
     "timestamp": 1572599724366,
     "user": {
      "displayName": "Aleksandr Veselev",
      "photoUrl": "",
      "userId": "06497019213520827031"
     },
     "user_tz": -180
    },
    "id": "bJgVfAbUYKCk",
    "outputId": "e5726884-0284-4939-e60b-c278d4426de6",
    "scrolled": true
   },
   "outputs": [
    {
     "name": "stdout",
     "output_type": "stream",
     "text": [
      "tensor([[[1.6947, 1.1507, 1.5808, 1.2840, 1.7074],\n",
      "         [1.8771, 1.2812, 1.0935, 1.5061, 1.0148],\n",
      "         [1.8046, 1.1608, 1.4583, 1.7745, 1.2552],\n",
      "         [1.4301, 1.4597, 1.7526, 1.9911, 1.4498],\n",
      "         [1.5138, 1.0290, 1.4968, 1.4551, 1.4548]],\n",
      "\n",
      "        [[1.4192, 1.7695, 1.1023, 1.5734, 1.8456],\n",
      "         [1.7558, 1.0259, 1.2331, 1.2090, 1.8653],\n",
      "         [1.0012, 1.3293, 1.5243, 1.2525, 1.9062],\n",
      "         [1.1668, 1.4368, 1.4571, 1.0064, 1.4582],\n",
      "         [1.4004, 1.7266, 1.3100, 1.4954, 1.0988]],\n",
      "\n",
      "        [[1.6061, 1.7697, 1.8356, 1.6310, 1.2260],\n",
      "         [1.1264, 1.2361, 1.0584, 1.3190, 1.4769],\n",
      "         [1.2713, 1.8968, 1.9463, 1.8191, 1.0104],\n",
      "         [1.6125, 1.6036, 1.4592, 1.3846, 1.4069],\n",
      "         [1.0058, 1.5535, 1.1059, 1.2294, 1.8487]],\n",
      "\n",
      "        [[1.0308, 1.5804, 1.6960, 1.4590, 1.9801],\n",
      "         [1.8521, 1.0146, 1.1709, 1.0046, 1.2896],\n",
      "         [1.1998, 1.9227, 1.6386, 1.8457, 1.9085],\n",
      "         [1.5095, 1.1475, 1.3028, 1.1943, 1.2799],\n",
      "         [1.7321, 1.0516, 1.6585, 1.5283, 1.2873]],\n",
      "\n",
      "        [[1.6126, 1.6068, 1.3280, 1.1780, 1.2106],\n",
      "         [1.7067, 1.6240, 1.8032, 1.3063, 1.5672],\n",
      "         [1.1854, 1.3338, 1.8962, 1.5495, 1.4605],\n",
      "         [1.0263, 1.7006, 1.8466, 1.1808, 1.3675],\n",
      "         [1.5158, 1.7268, 1.5109, 1.8995, 1.2140]]], device='cuda:0')\n",
      "tensor([[[1.6947, 1.1507, 1.5808, 1.2840, 1.7074],\n",
      "         [1.8771, 1.2812, 1.0935, 1.5061, 1.0148],\n",
      "         [1.8046, 1.1608, 1.4583, 1.7745, 1.2552],\n",
      "         [1.4301, 1.4597, 1.7526, 1.9911, 1.4498],\n",
      "         [1.5138, 1.0290, 1.4968, 1.4551, 1.4548]],\n",
      "\n",
      "        [[1.4192, 1.7695, 1.1023, 1.5734, 1.8456],\n",
      "         [1.7558, 1.0259, 1.2331, 1.2090, 1.8653],\n",
      "         [1.0012, 1.3293, 1.5243, 1.2525, 1.9062],\n",
      "         [1.1668, 1.4368, 1.4571, 1.0064, 1.4582],\n",
      "         [1.4004, 1.7266, 1.3100, 1.4954, 1.0988]],\n",
      "\n",
      "        [[1.6061, 1.7697, 1.8356, 1.6310, 1.2260],\n",
      "         [1.1264, 1.2361, 1.0584, 1.3190, 1.4769],\n",
      "         [1.2713, 1.8968, 1.9463, 1.8191, 1.0104],\n",
      "         [1.6125, 1.6036, 1.4592, 1.3846, 1.4069],\n",
      "         [1.0058, 1.5535, 1.1059, 1.2294, 1.8487]],\n",
      "\n",
      "        [[1.0308, 1.5804, 1.6960, 1.4590, 1.9801],\n",
      "         [1.8521, 1.0146, 1.1709, 1.0046, 1.2896],\n",
      "         [1.1998, 1.9227, 1.6386, 1.8457, 1.9085],\n",
      "         [1.5095, 1.1475, 1.3028, 1.1943, 1.2799],\n",
      "         [1.7321, 1.0516, 1.6585, 1.5283, 1.2873]],\n",
      "\n",
      "        [[1.6126, 1.6068, 1.3280, 1.1780, 1.2106],\n",
      "         [1.7067, 1.6240, 1.8032, 1.3063, 1.5672],\n",
      "         [1.1854, 1.3338, 1.8962, 1.5495, 1.4605],\n",
      "         [1.0263, 1.7006, 1.8466, 1.1808, 1.3675],\n",
      "         [1.5158, 1.7268, 1.5109, 1.8995, 1.2140]]], dtype=torch.float64)\n"
     ]
    }
   ],
   "source": [
    "x = torch.FloatTensor(5, 5, 5).uniform_()\n",
    "\n",
    "# check for CUDA availability (NVIDIA GPU)\n",
    "if torch.cuda.is_available():\n",
    "    # get the CUDA device name\n",
    "    device = torch.device('cuda')          # CUDA-device object\n",
    "    y = torch.ones_like(x, device=device)  # create a tensor on GPU\n",
    "    x = x.to(device)                       # or just `.to(\"cuda\")`\n",
    "    z = x + y\n",
    "    print(z)\n",
    "    # you can set the type while `.to` operation\n",
    "    print(z.to(\"cpu\", torch.double))"
   ]
  },
  {
   "cell_type": "code",
   "execution_count": 107,
   "metadata": {},
   "outputs": [
    {
     "data": {
      "text/plain": [
       "'GeForce GTX 1060 3GB'"
      ]
     },
     "execution_count": 107,
     "metadata": {},
     "output_type": "execute_result"
    }
   ],
   "source": [
    "torch.cuda.get_device_name(0)"
   ]
  },
  {
   "cell_type": "code",
   "execution_count": 108,
   "metadata": {},
   "outputs": [
    {
     "data": {
      "text/plain": [
       "0"
      ]
     },
     "execution_count": 108,
     "metadata": {},
     "output_type": "execute_result"
    }
   ],
   "source": [
    "torch.cuda.current_device()"
   ]
  },
  {
   "cell_type": "markdown",
   "metadata": {
    "colab_type": "text",
    "id": "iFg82MJIYKCl"
   },
   "source": [
    "<h3 style=\"text-align: center;\">Autograd<b></b></h3>"
   ]
  },
  {
   "cell_type": "markdown",
   "metadata": {
    "colab_type": "text",
    "id": "udpOWYK-YKCm"
   },
   "source": [
    "The autograd package provides automatic differentiation for all operations on Tensors. It is a define-by-run framework, which means that your backprop is defined by how your code is run, and that every single iteration can be different."
   ]
  },
  {
   "cell_type": "markdown",
   "metadata": {
    "colab_type": "text",
    "id": "OAfNuSknYKCm"
   },
   "source": [
    "Importing the `Variable()` class:"
   ]
  },
  {
   "cell_type": "code",
   "execution_count": 109,
   "metadata": {
    "colab": {},
    "colab_type": "code",
    "id": "PJdDG51vYKCm"
   },
   "outputs": [],
   "source": [
    "from torch.autograd import Variable"
   ]
  },
  {
   "cell_type": "markdown",
   "metadata": {
    "colab_type": "text",
    "id": "dZzZFE-0YKCm"
   },
   "source": [
    "Now we will convert `torch.Tensor()` into `torch.Variable()` and we will get just the same tensor but the possibility to calculate the gradients with respect to this tensor."
   ]
  },
  {
   "cell_type": "markdown",
   "metadata": {
    "colab_type": "text",
    "id": "VzMGFf1xYKCm"
   },
   "source": [
    "If `а` is a tensor wrapped into `Variable()`, then `a.backward()` calculates the gradients with respect to all the tensors on which the tensor `a` depends."
   ]
  },
  {
   "cell_type": "markdown",
   "metadata": {
    "colab_type": "text",
    "id": "bTVyleFWYKCn"
   },
   "source": [
    "**Note:** If you use `pytorch 0.4.0` version (or newer), then `torch.Tensor` and `torch.Variable()` were merged into `torch.Tensor`, so one doesn't need to use `Variable()` any more. (`torch.Variable()` is deprecated)."
   ]
  },
  {
   "cell_type": "markdown",
   "metadata": {
    "colab_type": "text",
    "id": "AEDz971fYKCn"
   },
   "source": [
    "The examples:"
   ]
  },
  {
   "cell_type": "code",
   "execution_count": 110,
   "metadata": {
    "colab": {},
    "colab_type": "code",
    "id": "lcDl5T-rDK0J"
   },
   "outputs": [],
   "source": [
    "from torch.autograd import Variable"
   ]
  },
  {
   "cell_type": "code",
   "execution_count": 111,
   "metadata": {
    "colab": {},
    "colab_type": "code",
    "id": "rYWqXsAjYKCn"
   },
   "outputs": [],
   "source": [
    "dtype = torch.float\n",
    "device = torch.device(\"cuda:0\")\n",
    "# device = torch.device(\"cuda:0\") # Uncomment this to run on GPU\n",
    "\n",
    "# N is batch size; D_in is input dimension;\n",
    "# H is hidden dimension; D_out is output dimension.\n",
    "N, D_in, H, D_out = 64, 3, 3, 10\n",
    "\n",
    "# Create random Tensors to hold input and outputs.\n",
    "# Setting requires_grad=False indicates that we do not need to compute gradients\n",
    "# with respect to these Tensors during the backward pass.\n",
    "x = torch.randn(N, D_in, device=device, dtype=dtype)\n",
    "y = torch.randn(N, D_out, device=device, dtype=dtype)\n",
    "\n",
    "# Create random Tensors for weights.\n",
    "# Setting requires_grad=True indicates that we want to compute gradients with\n",
    "# respect to these Tensors during the backward pass.\n",
    "w1 = torch.randn(D_in, H, device=device, dtype=dtype, requires_grad=True)\n",
    "w2 = torch.randn(H, D_out, device=device, dtype=dtype, requires_grad=True)\n",
    "\n",
    "# x = torch.FloatTensor(3, 1).uniform_()\n",
    "# y = torch.FloatTensor(3, 1).uniform_()\n",
    "# w = torch.FloatTensor(3, 3).uniform_() \n",
    "# b = torch.FloatTensor(3, 1).uniform_()\n",
    "\n",
    "# x = Variable(x, requires_grad=True)\n",
    "# y = Variable(x, requires_grad=False)\n",
    "# w = Variable(w, requires_grad=True)\n",
    "# b = Variable(b, requires_grad=True)\n",
    "\n",
    "y_pred = (x @ w1).clamp(min=0).mm(w2)\n",
    "\n",
    "loss = (y_pred - y).pow(2).sum()\n",
    "# calculate the gradients\n",
    "loss.backward()"
   ]
  },
  {
   "cell_type": "code",
   "execution_count": 112,
   "metadata": {
    "colab": {
     "base_uri": "https://localhost:8080/",
     "height": 36
    },
    "colab_type": "code",
    "executionInfo": {
     "elapsed": 876,
     "status": "ok",
     "timestamp": 1572601675555,
     "user": {
      "displayName": "Aleksandr Veselev",
      "photoUrl": "",
      "userId": "06497019213520827031"
     },
     "user_tz": -180
    },
    "id": "T3vfuF-wXS8O",
    "outputId": "c7da045d-80b7-4f54-c141-732ffa745d9d"
   },
   "outputs": [
    {
     "name": "stdout",
     "output_type": "stream",
     "text": [
      "tensor(6174.2773, device='cuda:0')\n"
     ]
    }
   ],
   "source": [
    "print( Variable((y_pred - y).pow(2).sum()) )"
   ]
  },
  {
   "cell_type": "code",
   "execution_count": 113,
   "metadata": {
    "colab": {},
    "colab_type": "code",
    "id": "jr19Gh3ZU2Ws"
   },
   "outputs": [],
   "source": [
    "loss.grad"
   ]
  },
  {
   "cell_type": "code",
   "execution_count": 114,
   "metadata": {
    "colab": {
     "base_uri": "https://localhost:8080/",
     "height": 74
    },
    "colab_type": "code",
    "executionInfo": {
     "elapsed": 895,
     "status": "ok",
     "timestamp": 1572601707655,
     "user": {
      "displayName": "Aleksandr Veselev",
      "photoUrl": "",
      "userId": "06497019213520827031"
     },
     "user_tz": -180
    },
    "id": "qLkn5C7JYKCp",
    "outputId": "14cb0d87-6386-47ca-c061-328f63360c09"
   },
   "outputs": [
    {
     "data": {
      "text/plain": [
       "tensor([[   97.4570, -2925.8645,   596.7159],\n",
       "        [  766.4255,   722.7627, -1405.3796],\n",
       "        [ -195.1360,   232.7071,  -463.4208]], device='cuda:0')"
      ]
     },
     "execution_count": 114,
     "metadata": {},
     "output_type": "execute_result"
    }
   ],
   "source": [
    "w1.grad"
   ]
  },
  {
   "cell_type": "code",
   "execution_count": 115,
   "metadata": {
    "colab": {},
    "colab_type": "code",
    "id": "CYkrFbD5YKCq"
   },
   "outputs": [],
   "source": [
    "b.grad"
   ]
  },
  {
   "cell_type": "code",
   "execution_count": 116,
   "metadata": {
    "colab": {},
    "colab_type": "code",
    "id": "ouMNnbtXYKCr"
   },
   "outputs": [],
   "source": [
    "y.grad"
   ]
  },
  {
   "cell_type": "code",
   "execution_count": 117,
   "metadata": {
    "colab": {
     "base_uri": "https://localhost:8080/",
     "height": 36
    },
    "colab_type": "code",
    "executionInfo": {
     "elapsed": 1046,
     "status": "ok",
     "timestamp": 1572601165343,
     "user": {
      "displayName": "Aleksandr Veselev",
      "photoUrl": "",
      "userId": "06497019213520827031"
     },
     "user_tz": -180
    },
    "id": "MgUAuK6LbdU1",
    "outputId": "caea9b3a-b39c-44a6-9740-b50df3a9389b"
   },
   "outputs": [],
   "source": [
    "loss.grad"
   ]
  },
  {
   "cell_type": "markdown",
   "metadata": {
    "colab_type": "text",
    "id": "DIsqxWIvYKCs"
   },
   "source": [
    "**NOTE:** the gradients are placed into the `.grad` field of tensors (variables) on which gradients were calculated. Gradients *are not placed* in the variable `loss` here!"
   ]
  },
  {
   "cell_type": "markdown",
   "metadata": {
    "colab_type": "text",
    "id": "Nf2xLNDgYKCs"
   },
   "source": [
    "Here is how to get `torch.Tensor()` from the `Variable()` (`.data` field):"
   ]
  },
  {
   "cell_type": "code",
   "execution_count": 118,
   "metadata": {
    "colab": {
     "base_uri": "https://localhost:8080/",
     "height": 74
    },
    "colab_type": "code",
    "executionInfo": {
     "elapsed": 476,
     "status": "ok",
     "timestamp": 1572600458151,
     "user": {
      "displayName": "Aleksandr Veselev",
      "photoUrl": "",
      "userId": "06497019213520827031"
     },
     "user_tz": -180
    },
    "id": "5wU_TFedYKCt",
    "outputId": "faf34591-789b-4d41-fc00-5d5c740f1ece"
   },
   "outputs": [
    {
     "data": {
      "text/plain": [
       "tensor([[ 5.9332e-01,  3.5973e-01, -1.8444e-01],\n",
       "        [-1.0679e+00,  2.5892e-01, -1.9140e-01],\n",
       "        [ 7.7450e-01, -1.2819e+00, -1.2770e-01],\n",
       "        [-1.3469e+00, -7.6504e-01,  8.5154e-02],\n",
       "        [-8.8549e-02,  3.9465e-01, -1.0484e-01],\n",
       "        [-1.7183e+00, -2.9846e-01, -9.0984e-02],\n",
       "        [-1.2743e+00,  1.7497e+00,  1.9883e-01],\n",
       "        [ 4.3831e-01, -1.4057e+00,  5.9739e-01],\n",
       "        [-9.3755e-01,  5.3619e-02,  3.3065e-01],\n",
       "        [-1.5487e+00,  3.6972e-02, -8.4198e-01],\n",
       "        [-7.5560e-01, -7.6131e-01,  7.3310e-01],\n",
       "        [ 1.3656e+00,  5.3750e-01,  8.4192e-01],\n",
       "        [-6.7979e-01, -1.2945e+00, -3.7669e-01],\n",
       "        [-1.5007e+00, -5.8721e-01, -2.6131e-01],\n",
       "        [-1.9024e-01, -5.1019e-01, -1.1752e+00],\n",
       "        [-1.8995e-01,  4.9888e-01, -7.9220e-01],\n",
       "        [ 1.9261e+00, -1.2423e-01, -5.5393e-01],\n",
       "        [-1.9867e+00,  7.6886e-01,  9.1920e-01],\n",
       "        [-1.4855e-01, -1.1572e+00, -6.0437e-01],\n",
       "        [-1.5216e-01,  9.0570e-01,  1.2173e-01],\n",
       "        [ 7.8091e-01, -1.7612e+00,  4.5924e-01],\n",
       "        [ 2.0286e+00,  2.0859e-01, -1.7177e+00],\n",
       "        [-8.2245e-01,  7.6266e-01,  7.0716e-01],\n",
       "        [-7.5598e-01, -1.4271e+00,  3.2088e-01],\n",
       "        [ 3.5769e-01, -5.1344e-01, -1.1867e+00],\n",
       "        [-4.1777e-01, -3.1443e-01,  3.1142e-01],\n",
       "        [ 1.4333e-01,  7.7838e-01, -9.3751e-01],\n",
       "        [ 5.1485e-01, -2.9685e-01,  7.9138e-01],\n",
       "        [-5.4254e-02, -1.1480e+00,  8.1218e-02],\n",
       "        [ 9.4178e-01, -1.9524e-01,  5.9839e-01],\n",
       "        [ 1.4736e+00, -7.1935e-01, -2.1369e+00],\n",
       "        [-2.3808e-02, -9.7392e-01,  2.0271e-01],\n",
       "        [ 9.1271e-01,  5.9663e-01, -1.2390e+00],\n",
       "        [ 1.1506e+00, -2.8964e+00,  2.6673e-01],\n",
       "        [-1.7723e+00, -3.3675e-01,  1.9219e-01],\n",
       "        [-6.2240e-01,  3.6512e-01,  8.9207e-01],\n",
       "        [ 8.9733e-01,  1.0438e+00, -2.8325e-01],\n",
       "        [ 3.8440e-01,  8.5966e-01,  1.0697e+00],\n",
       "        [ 5.1213e-01, -6.1336e-01,  3.8796e-01],\n",
       "        [-7.7087e-01,  7.7001e-02,  4.7946e-01],\n",
       "        [ 5.8560e-01, -5.8385e-01,  4.5720e-02],\n",
       "        [-2.4807e-01,  1.1659e+00,  6.5246e-01],\n",
       "        [-3.6971e-01, -1.3448e+00, -7.3068e-01],\n",
       "        [-9.0665e-02,  1.3021e+00, -6.8056e-02],\n",
       "        [-1.7216e+00,  2.7860e-01,  1.5020e+00],\n",
       "        [-9.4568e-01,  5.3062e-01,  7.0904e-01],\n",
       "        [-7.4391e-01,  5.1350e-01,  1.0717e+00],\n",
       "        [ 8.8109e-02,  4.8944e-01,  5.5821e-01],\n",
       "        [ 1.1606e+00, -5.5706e-05,  2.9904e+00],\n",
       "        [ 2.5805e-01, -1.0524e+00, -6.6674e-01],\n",
       "        [-1.4829e+00, -7.6421e-01, -1.2444e+00],\n",
       "        [-8.9817e-01, -3.5500e-01, -1.0000e+00],\n",
       "        [ 7.1366e-02, -7.5278e-02, -4.0693e-02],\n",
       "        [-6.8503e-01,  2.9733e-01,  1.0007e-01],\n",
       "        [-2.3232e-01, -2.5537e-01, -1.1614e-01],\n",
       "        [ 2.4930e-01,  1.2943e+00, -1.9881e+00],\n",
       "        [ 9.4981e-01,  7.8829e-01,  1.6045e+00],\n",
       "        [-6.3305e-01,  8.7131e-01, -9.4966e-01],\n",
       "        [ 1.1326e-01,  1.5857e+00, -2.0562e+00],\n",
       "        [ 2.3111e+00,  9.6233e-01, -4.5350e-01],\n",
       "        [ 9.4547e-01, -1.2868e+00, -6.3228e-01],\n",
       "        [-3.0702e+00,  1.3701e-01, -7.3657e-02],\n",
       "        [-1.2448e+00,  1.1044e+00, -1.8374e+00],\n",
       "        [-1.2817e+00,  1.8764e+00, -4.1329e-01]], device='cuda:0')"
      ]
     },
     "execution_count": 118,
     "metadata": {},
     "output_type": "execute_result"
    }
   ],
   "source": [
    "x"
   ]
  },
  {
   "cell_type": "code",
   "execution_count": 119,
   "metadata": {
    "colab": {
     "base_uri": "https://localhost:8080/",
     "height": 74
    },
    "colab_type": "code",
    "executionInfo": {
     "elapsed": 1047,
     "status": "ok",
     "timestamp": 1572600403996,
     "user": {
      "displayName": "Aleksandr Veselev",
      "photoUrl": "",
      "userId": "06497019213520827031"
     },
     "user_tz": -180
    },
    "id": "_NnBKF9kYKCt",
    "outputId": "d9a96939-b512-41e4-d7c6-cf605d9fecee"
   },
   "outputs": [
    {
     "data": {
      "text/plain": [
       "tensor([[ 5.9332e-01,  3.5973e-01, -1.8444e-01],\n",
       "        [-1.0679e+00,  2.5892e-01, -1.9140e-01],\n",
       "        [ 7.7450e-01, -1.2819e+00, -1.2770e-01],\n",
       "        [-1.3469e+00, -7.6504e-01,  8.5154e-02],\n",
       "        [-8.8549e-02,  3.9465e-01, -1.0484e-01],\n",
       "        [-1.7183e+00, -2.9846e-01, -9.0984e-02],\n",
       "        [-1.2743e+00,  1.7497e+00,  1.9883e-01],\n",
       "        [ 4.3831e-01, -1.4057e+00,  5.9739e-01],\n",
       "        [-9.3755e-01,  5.3619e-02,  3.3065e-01],\n",
       "        [-1.5487e+00,  3.6972e-02, -8.4198e-01],\n",
       "        [-7.5560e-01, -7.6131e-01,  7.3310e-01],\n",
       "        [ 1.3656e+00,  5.3750e-01,  8.4192e-01],\n",
       "        [-6.7979e-01, -1.2945e+00, -3.7669e-01],\n",
       "        [-1.5007e+00, -5.8721e-01, -2.6131e-01],\n",
       "        [-1.9024e-01, -5.1019e-01, -1.1752e+00],\n",
       "        [-1.8995e-01,  4.9888e-01, -7.9220e-01],\n",
       "        [ 1.9261e+00, -1.2423e-01, -5.5393e-01],\n",
       "        [-1.9867e+00,  7.6886e-01,  9.1920e-01],\n",
       "        [-1.4855e-01, -1.1572e+00, -6.0437e-01],\n",
       "        [-1.5216e-01,  9.0570e-01,  1.2173e-01],\n",
       "        [ 7.8091e-01, -1.7612e+00,  4.5924e-01],\n",
       "        [ 2.0286e+00,  2.0859e-01, -1.7177e+00],\n",
       "        [-8.2245e-01,  7.6266e-01,  7.0716e-01],\n",
       "        [-7.5598e-01, -1.4271e+00,  3.2088e-01],\n",
       "        [ 3.5769e-01, -5.1344e-01, -1.1867e+00],\n",
       "        [-4.1777e-01, -3.1443e-01,  3.1142e-01],\n",
       "        [ 1.4333e-01,  7.7838e-01, -9.3751e-01],\n",
       "        [ 5.1485e-01, -2.9685e-01,  7.9138e-01],\n",
       "        [-5.4254e-02, -1.1480e+00,  8.1218e-02],\n",
       "        [ 9.4178e-01, -1.9524e-01,  5.9839e-01],\n",
       "        [ 1.4736e+00, -7.1935e-01, -2.1369e+00],\n",
       "        [-2.3808e-02, -9.7392e-01,  2.0271e-01],\n",
       "        [ 9.1271e-01,  5.9663e-01, -1.2390e+00],\n",
       "        [ 1.1506e+00, -2.8964e+00,  2.6673e-01],\n",
       "        [-1.7723e+00, -3.3675e-01,  1.9219e-01],\n",
       "        [-6.2240e-01,  3.6512e-01,  8.9207e-01],\n",
       "        [ 8.9733e-01,  1.0438e+00, -2.8325e-01],\n",
       "        [ 3.8440e-01,  8.5966e-01,  1.0697e+00],\n",
       "        [ 5.1213e-01, -6.1336e-01,  3.8796e-01],\n",
       "        [-7.7087e-01,  7.7001e-02,  4.7946e-01],\n",
       "        [ 5.8560e-01, -5.8385e-01,  4.5720e-02],\n",
       "        [-2.4807e-01,  1.1659e+00,  6.5246e-01],\n",
       "        [-3.6971e-01, -1.3448e+00, -7.3068e-01],\n",
       "        [-9.0665e-02,  1.3021e+00, -6.8056e-02],\n",
       "        [-1.7216e+00,  2.7860e-01,  1.5020e+00],\n",
       "        [-9.4568e-01,  5.3062e-01,  7.0904e-01],\n",
       "        [-7.4391e-01,  5.1350e-01,  1.0717e+00],\n",
       "        [ 8.8109e-02,  4.8944e-01,  5.5821e-01],\n",
       "        [ 1.1606e+00, -5.5706e-05,  2.9904e+00],\n",
       "        [ 2.5805e-01, -1.0524e+00, -6.6674e-01],\n",
       "        [-1.4829e+00, -7.6421e-01, -1.2444e+00],\n",
       "        [-8.9817e-01, -3.5500e-01, -1.0000e+00],\n",
       "        [ 7.1366e-02, -7.5278e-02, -4.0693e-02],\n",
       "        [-6.8503e-01,  2.9733e-01,  1.0007e-01],\n",
       "        [-2.3232e-01, -2.5537e-01, -1.1614e-01],\n",
       "        [ 2.4930e-01,  1.2943e+00, -1.9881e+00],\n",
       "        [ 9.4981e-01,  7.8829e-01,  1.6045e+00],\n",
       "        [-6.3305e-01,  8.7131e-01, -9.4966e-01],\n",
       "        [ 1.1326e-01,  1.5857e+00, -2.0562e+00],\n",
       "        [ 2.3111e+00,  9.6233e-01, -4.5350e-01],\n",
       "        [ 9.4547e-01, -1.2868e+00, -6.3228e-01],\n",
       "        [-3.0702e+00,  1.3701e-01, -7.3657e-02],\n",
       "        [-1.2448e+00,  1.1044e+00, -1.8374e+00],\n",
       "        [-1.2817e+00,  1.8764e+00, -4.1329e-01]], device='cuda:0')"
      ]
     },
     "execution_count": 119,
     "metadata": {},
     "output_type": "execute_result"
    }
   ],
   "source": [
    "x.data"
   ]
  },
  {
   "cell_type": "markdown",
   "metadata": {
    "colab_type": "text",
    "id": "J094WEHQYKCv"
   },
   "source": [
    "<h3 style=\"text-align: center;\">Further reading:<b></b></h3>"
   ]
  },
  {
   "cell_type": "markdown",
   "metadata": {
    "colab_type": "text",
    "id": "ftVUTfvUYKCv"
   },
   "source": [
    "*1). Official PyTorch tutorials: https://pytorch.org/tutorials/beginner/blitz/tensor_tutorial.html#sphx-glr-beginner-blitz-tensor-tutorial-py*"
   ]
  },
  {
   "cell_type": "markdown",
   "metadata": {
    "colab_type": "text",
    "id": "ovymy5F6YKCw"
   },
   "source": [
    "*2). arXiv article about the deep learning frameworks comparison: https://arxiv.org/pdf/1511.06435.pdf*"
   ]
  },
  {
   "cell_type": "markdown",
   "metadata": {
    "colab_type": "text",
    "id": "VXEEowQAYKCx"
   },
   "source": [
    "*3). Useful repo with different tutorials: https://github.com/yunjey/pytorch-tutorial*"
   ]
  },
  {
   "cell_type": "markdown",
   "metadata": {
    "colab_type": "text",
    "id": "9cROZcrYYKC0"
   },
   "source": [
    "*4). Facebook AI Research (main contributor of PyTorch) website: https://facebook.ai/developers/tools*"
   ]
  }
 ],
 "metadata": {
  "accelerator": "GPU",
  "colab": {
   "collapsed_sections": [],
   "name": "[seminar,prodv]6_pytorch_basics.ipynb",
   "provenance": [
    {
     "file_id": "1xBkndRb9dYUgCtS98x2bCF170VFMMubl",
     "timestamp": 1572021903909
    }
   ]
  },
  "kernelspec": {
   "display_name": "Python 3",
   "language": "python",
   "name": "python3"
  },
  "language_info": {
   "codemirror_mode": {
    "name": "ipython",
    "version": 3
   },
   "file_extension": ".py",
   "mimetype": "text/x-python",
   "name": "python",
   "nbconvert_exporter": "python",
   "pygments_lexer": "ipython3",
   "version": "3.7.6"
  }
 },
 "nbformat": 4,
 "nbformat_minor": 1
}
