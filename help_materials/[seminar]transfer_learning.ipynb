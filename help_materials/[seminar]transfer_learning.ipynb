{
  "nbformat": 4,
  "nbformat_minor": 0,
  "metadata": {
    "colab": {
      "name": "[seminar]transfer_learning.ipynb",
      "provenance": [],
      "collapsed_sections": [
        "99LAkQNVZV5Y"
      ],
      "toc_visible": true
    },
    "kernelspec": {
      "display_name": "Python 3",
      "language": "python",
      "name": "python3"
    },
    "accelerator": "GPU",
    "widgets": {
      "application/vnd.jupyter.widget-state+json": {
        "78637d50576b4fe18682b731ca629d0b": {
          "model_module": "@jupyter-widgets/controls",
          "model_name": "HBoxModel",
          "state": {
            "_view_name": "HBoxView",
            "_dom_classes": [],
            "_model_name": "HBoxModel",
            "_view_module": "@jupyter-widgets/controls",
            "_model_module_version": "1.5.0",
            "_view_count": null,
            "_view_module_version": "1.5.0",
            "box_style": "",
            "layout": "IPY_MODEL_c477dcd689bc4eba9e1d04469a27c9b9",
            "_model_module": "@jupyter-widgets/controls",
            "children": [
              "IPY_MODEL_7bab387ae4f94e14b0431cc44db7ccab",
              "IPY_MODEL_99a306cf018f44d1868a892e95e2ffa4"
            ]
          }
        },
        "c477dcd689bc4eba9e1d04469a27c9b9": {
          "model_module": "@jupyter-widgets/base",
          "model_name": "LayoutModel",
          "state": {
            "_view_name": "LayoutView",
            "grid_template_rows": null,
            "right": null,
            "justify_content": null,
            "_view_module": "@jupyter-widgets/base",
            "overflow": null,
            "_model_module_version": "1.2.0",
            "_view_count": null,
            "flex_flow": null,
            "width": null,
            "min_width": null,
            "border": null,
            "align_items": null,
            "bottom": null,
            "_model_module": "@jupyter-widgets/base",
            "top": null,
            "grid_column": null,
            "overflow_y": null,
            "overflow_x": null,
            "grid_auto_flow": null,
            "grid_area": null,
            "grid_template_columns": null,
            "flex": null,
            "_model_name": "LayoutModel",
            "justify_items": null,
            "grid_row": null,
            "max_height": null,
            "align_content": null,
            "visibility": null,
            "align_self": null,
            "height": null,
            "min_height": null,
            "padding": null,
            "grid_auto_rows": null,
            "grid_gap": null,
            "max_width": null,
            "order": null,
            "_view_module_version": "1.2.0",
            "grid_template_areas": null,
            "object_position": null,
            "object_fit": null,
            "grid_auto_columns": null,
            "margin": null,
            "display": null,
            "left": null
          }
        },
        "7bab387ae4f94e14b0431cc44db7ccab": {
          "model_module": "@jupyter-widgets/controls",
          "model_name": "IntProgressModel",
          "state": {
            "_view_name": "ProgressView",
            "style": "IPY_MODEL_7a6dce58e13142e0a115727472b1a19b",
            "_dom_classes": [],
            "description": "100%",
            "_model_name": "IntProgressModel",
            "bar_style": "success",
            "max": 244418560,
            "_view_module": "@jupyter-widgets/controls",
            "_model_module_version": "1.5.0",
            "value": 244418560,
            "_view_count": null,
            "_view_module_version": "1.5.0",
            "orientation": "horizontal",
            "min": 0,
            "description_tooltip": null,
            "_model_module": "@jupyter-widgets/controls",
            "layout": "IPY_MODEL_f83ea97242e940da8bf44d03e28631e0"
          }
        },
        "99a306cf018f44d1868a892e95e2ffa4": {
          "model_module": "@jupyter-widgets/controls",
          "model_name": "HTMLModel",
          "state": {
            "_view_name": "HTMLView",
            "style": "IPY_MODEL_c88872752258420c99e47450f61b5b23",
            "_dom_classes": [],
            "description": "",
            "_model_name": "HTMLModel",
            "placeholder": "​",
            "_view_module": "@jupyter-widgets/controls",
            "_model_module_version": "1.5.0",
            "value": " 233M/233M [01:58&lt;00:00, 2.06MB/s]",
            "_view_count": null,
            "_view_module_version": "1.5.0",
            "description_tooltip": null,
            "_model_module": "@jupyter-widgets/controls",
            "layout": "IPY_MODEL_2ca3ac41220946ddbf475acab8c4c6be"
          }
        },
        "7a6dce58e13142e0a115727472b1a19b": {
          "model_module": "@jupyter-widgets/controls",
          "model_name": "ProgressStyleModel",
          "state": {
            "_view_name": "StyleView",
            "_model_name": "ProgressStyleModel",
            "description_width": "initial",
            "_view_module": "@jupyter-widgets/base",
            "_model_module_version": "1.5.0",
            "_view_count": null,
            "_view_module_version": "1.2.0",
            "bar_color": null,
            "_model_module": "@jupyter-widgets/controls"
          }
        },
        "f83ea97242e940da8bf44d03e28631e0": {
          "model_module": "@jupyter-widgets/base",
          "model_name": "LayoutModel",
          "state": {
            "_view_name": "LayoutView",
            "grid_template_rows": null,
            "right": null,
            "justify_content": null,
            "_view_module": "@jupyter-widgets/base",
            "overflow": null,
            "_model_module_version": "1.2.0",
            "_view_count": null,
            "flex_flow": null,
            "width": null,
            "min_width": null,
            "border": null,
            "align_items": null,
            "bottom": null,
            "_model_module": "@jupyter-widgets/base",
            "top": null,
            "grid_column": null,
            "overflow_y": null,
            "overflow_x": null,
            "grid_auto_flow": null,
            "grid_area": null,
            "grid_template_columns": null,
            "flex": null,
            "_model_name": "LayoutModel",
            "justify_items": null,
            "grid_row": null,
            "max_height": null,
            "align_content": null,
            "visibility": null,
            "align_self": null,
            "height": null,
            "min_height": null,
            "padding": null,
            "grid_auto_rows": null,
            "grid_gap": null,
            "max_width": null,
            "order": null,
            "_view_module_version": "1.2.0",
            "grid_template_areas": null,
            "object_position": null,
            "object_fit": null,
            "grid_auto_columns": null,
            "margin": null,
            "display": null,
            "left": null
          }
        },
        "c88872752258420c99e47450f61b5b23": {
          "model_module": "@jupyter-widgets/controls",
          "model_name": "DescriptionStyleModel",
          "state": {
            "_view_name": "StyleView",
            "_model_name": "DescriptionStyleModel",
            "description_width": "",
            "_view_module": "@jupyter-widgets/base",
            "_model_module_version": "1.5.0",
            "_view_count": null,
            "_view_module_version": "1.2.0",
            "_model_module": "@jupyter-widgets/controls"
          }
        },
        "2ca3ac41220946ddbf475acab8c4c6be": {
          "model_module": "@jupyter-widgets/base",
          "model_name": "LayoutModel",
          "state": {
            "_view_name": "LayoutView",
            "grid_template_rows": null,
            "right": null,
            "justify_content": null,
            "_view_module": "@jupyter-widgets/base",
            "overflow": null,
            "_model_module_version": "1.2.0",
            "_view_count": null,
            "flex_flow": null,
            "width": null,
            "min_width": null,
            "border": null,
            "align_items": null,
            "bottom": null,
            "_model_module": "@jupyter-widgets/base",
            "top": null,
            "grid_column": null,
            "overflow_y": null,
            "overflow_x": null,
            "grid_auto_flow": null,
            "grid_area": null,
            "grid_template_columns": null,
            "flex": null,
            "_model_name": "LayoutModel",
            "justify_items": null,
            "grid_row": null,
            "max_height": null,
            "align_content": null,
            "visibility": null,
            "align_self": null,
            "height": null,
            "min_height": null,
            "padding": null,
            "grid_auto_rows": null,
            "grid_gap": null,
            "max_width": null,
            "order": null,
            "_view_module_version": "1.2.0",
            "grid_template_areas": null,
            "object_position": null,
            "object_fit": null,
            "grid_auto_columns": null,
            "margin": null,
            "display": null,
            "left": null
          }
        },
        "2650040984d74efc842570d672d1d131": {
          "model_module": "@jupyter-widgets/controls",
          "model_name": "HBoxModel",
          "state": {
            "_view_name": "HBoxView",
            "_dom_classes": [],
            "_model_name": "HBoxModel",
            "_view_module": "@jupyter-widgets/controls",
            "_model_module_version": "1.5.0",
            "_view_count": null,
            "_view_module_version": "1.5.0",
            "box_style": "",
            "layout": "IPY_MODEL_842fd8fad1114e879cb67645fc474a0a",
            "_model_module": "@jupyter-widgets/controls",
            "children": [
              "IPY_MODEL_6e025830b5f54ce9867a0fdd25666f03",
              "IPY_MODEL_e0df6b4fc72d49a4935a0d53f9ea2ce3"
            ]
          }
        },
        "842fd8fad1114e879cb67645fc474a0a": {
          "model_module": "@jupyter-widgets/base",
          "model_name": "LayoutModel",
          "state": {
            "_view_name": "LayoutView",
            "grid_template_rows": null,
            "right": null,
            "justify_content": null,
            "_view_module": "@jupyter-widgets/base",
            "overflow": null,
            "_model_module_version": "1.2.0",
            "_view_count": null,
            "flex_flow": null,
            "width": null,
            "min_width": null,
            "border": null,
            "align_items": null,
            "bottom": null,
            "_model_module": "@jupyter-widgets/base",
            "top": null,
            "grid_column": null,
            "overflow_y": null,
            "overflow_x": null,
            "grid_auto_flow": null,
            "grid_area": null,
            "grid_template_columns": null,
            "flex": null,
            "_model_name": "LayoutModel",
            "justify_items": null,
            "grid_row": null,
            "max_height": null,
            "align_content": null,
            "visibility": null,
            "align_self": null,
            "height": null,
            "min_height": null,
            "padding": null,
            "grid_auto_rows": null,
            "grid_gap": null,
            "max_width": null,
            "order": null,
            "_view_module_version": "1.2.0",
            "grid_template_areas": null,
            "object_position": null,
            "object_fit": null,
            "grid_auto_columns": null,
            "margin": null,
            "display": null,
            "left": null
          }
        },
        "6e025830b5f54ce9867a0fdd25666f03": {
          "model_module": "@jupyter-widgets/controls",
          "model_name": "IntProgressModel",
          "state": {
            "_view_name": "ProgressView",
            "style": "IPY_MODEL_3a01dac2a69f4c31b0e3af4633b7108a",
            "_dom_classes": [],
            "description": "100%",
            "_model_name": "IntProgressModel",
            "bar_style": "success",
            "max": 553433881,
            "_view_module": "@jupyter-widgets/controls",
            "_model_module_version": "1.5.0",
            "value": 553433881,
            "_view_count": null,
            "_view_module_version": "1.5.0",
            "orientation": "horizontal",
            "min": 0,
            "description_tooltip": null,
            "_model_module": "@jupyter-widgets/controls",
            "layout": "IPY_MODEL_a70dae29e5ca47948c9e39cbf9fad72c"
          }
        },
        "e0df6b4fc72d49a4935a0d53f9ea2ce3": {
          "model_module": "@jupyter-widgets/controls",
          "model_name": "HTMLModel",
          "state": {
            "_view_name": "HTMLView",
            "style": "IPY_MODEL_787ce5ae97d9459197a40dc2f9906b51",
            "_dom_classes": [],
            "description": "",
            "_model_name": "HTMLModel",
            "placeholder": "​",
            "_view_module": "@jupyter-widgets/controls",
            "_model_module_version": "1.5.0",
            "value": " 528M/528M [00:54&lt;00:00, 10.2MB/s]",
            "_view_count": null,
            "_view_module_version": "1.5.0",
            "description_tooltip": null,
            "_model_module": "@jupyter-widgets/controls",
            "layout": "IPY_MODEL_9be527b3f4674125b6c22c5d9315ce5e"
          }
        },
        "3a01dac2a69f4c31b0e3af4633b7108a": {
          "model_module": "@jupyter-widgets/controls",
          "model_name": "ProgressStyleModel",
          "state": {
            "_view_name": "StyleView",
            "_model_name": "ProgressStyleModel",
            "description_width": "initial",
            "_view_module": "@jupyter-widgets/base",
            "_model_module_version": "1.5.0",
            "_view_count": null,
            "_view_module_version": "1.2.0",
            "bar_color": null,
            "_model_module": "@jupyter-widgets/controls"
          }
        },
        "a70dae29e5ca47948c9e39cbf9fad72c": {
          "model_module": "@jupyter-widgets/base",
          "model_name": "LayoutModel",
          "state": {
            "_view_name": "LayoutView",
            "grid_template_rows": null,
            "right": null,
            "justify_content": null,
            "_view_module": "@jupyter-widgets/base",
            "overflow": null,
            "_model_module_version": "1.2.0",
            "_view_count": null,
            "flex_flow": null,
            "width": null,
            "min_width": null,
            "border": null,
            "align_items": null,
            "bottom": null,
            "_model_module": "@jupyter-widgets/base",
            "top": null,
            "grid_column": null,
            "overflow_y": null,
            "overflow_x": null,
            "grid_auto_flow": null,
            "grid_area": null,
            "grid_template_columns": null,
            "flex": null,
            "_model_name": "LayoutModel",
            "justify_items": null,
            "grid_row": null,
            "max_height": null,
            "align_content": null,
            "visibility": null,
            "align_self": null,
            "height": null,
            "min_height": null,
            "padding": null,
            "grid_auto_rows": null,
            "grid_gap": null,
            "max_width": null,
            "order": null,
            "_view_module_version": "1.2.0",
            "grid_template_areas": null,
            "object_position": null,
            "object_fit": null,
            "grid_auto_columns": null,
            "margin": null,
            "display": null,
            "left": null
          }
        },
        "787ce5ae97d9459197a40dc2f9906b51": {
          "model_module": "@jupyter-widgets/controls",
          "model_name": "DescriptionStyleModel",
          "state": {
            "_view_name": "StyleView",
            "_model_name": "DescriptionStyleModel",
            "description_width": "",
            "_view_module": "@jupyter-widgets/base",
            "_model_module_version": "1.5.0",
            "_view_count": null,
            "_view_module_version": "1.2.0",
            "_model_module": "@jupyter-widgets/controls"
          }
        },
        "9be527b3f4674125b6c22c5d9315ce5e": {
          "model_module": "@jupyter-widgets/base",
          "model_name": "LayoutModel",
          "state": {
            "_view_name": "LayoutView",
            "grid_template_rows": null,
            "right": null,
            "justify_content": null,
            "_view_module": "@jupyter-widgets/base",
            "overflow": null,
            "_model_module_version": "1.2.0",
            "_view_count": null,
            "flex_flow": null,
            "width": null,
            "min_width": null,
            "border": null,
            "align_items": null,
            "bottom": null,
            "_model_module": "@jupyter-widgets/base",
            "top": null,
            "grid_column": null,
            "overflow_y": null,
            "overflow_x": null,
            "grid_auto_flow": null,
            "grid_area": null,
            "grid_template_columns": null,
            "flex": null,
            "_model_name": "LayoutModel",
            "justify_items": null,
            "grid_row": null,
            "max_height": null,
            "align_content": null,
            "visibility": null,
            "align_self": null,
            "height": null,
            "min_height": null,
            "padding": null,
            "grid_auto_rows": null,
            "grid_gap": null,
            "max_width": null,
            "order": null,
            "_view_module_version": "1.2.0",
            "grid_template_areas": null,
            "object_position": null,
            "object_fit": null,
            "grid_auto_columns": null,
            "margin": null,
            "display": null,
            "left": null
          }
        }
      }
    }
  },
  "cells": [
    {
      "cell_type": "markdown",
      "metadata": {
        "colab_type": "text",
        "id": "XgbimpoMZV5F"
      },
      "source": [
        "<p style=\"align: center;\"><img src=\"https://static.tildacdn.com/tild6636-3531-4239-b465-376364646465/Deep_Learning_School.png\", width=550, height=300></p>\n",
        "\n",
        "<h3 style=\"text-align: center;\"><b>Физтех-Школа Прикладной математики и информатики (ФПМИ) МФТИ</b></h3>\n",
        "\n",
        "---\n",
        "\n",
        "<h2 style=\"text-align: center;\"><b>Transfer Learning</b></h3>"
      ]
    },
    {
      "cell_type": "markdown",
      "metadata": {
        "colab_type": "text",
        "id": "-nVLftxNZV5H"
      },
      "source": [
        "Как Вы уже знаете (если не знаете, рекомендуем посмотреть [5-ую](https://www.youtube.com/watch?v=cAJp2hh-_q8&t=4831s) и [6-ую](https://www.youtube.com/watch?v=RVk2RUW9Euk&t=40s) лекции нашего курса), в современных задачах обработки изображений, будь то задача обнаружения объектов, задача распознавания образов, задача (семантической) сегментации, задача классификации изображений и другие, всё чаще используют **свёрточные нейросети** (*Convolutional Neural Networks*, *CNN*)."
      ]
    },
    {
      "cell_type": "markdown",
      "metadata": {
        "colab_type": "text",
        "id": "LA5ixc_nZV5H"
      },
      "source": [
        "Они показывают очень хорошие результаты, за ними стоит как [математический аппарат](https://stats.stackexchange.com/questions/269854/are-there-mathematical-reasons-for-convolution-in-neural-networks-beyond-expedie), так и эвристики, полученные опытным путём."
      ]
    },
    {
      "cell_type": "markdown",
      "metadata": {
        "colab_type": "text",
        "id": "AUH-Q7FuZV5I"
      },
      "source": [
        "В данном задании Вам предстоит познакомиться с архитектурами *AlexNet*, *VGG* и *Inception* и для каждой из этих моделей использовать технику **Transfer Learning**.  \n",
        "\n",
        "* **Transfer Learning** - это процесс дообучения на **новых данных** какой-либо нейросети, уже обученной до этого на других данных, обычно на каком-нибудь хорошем, большом (миллионы картинок) датасете (например, [ImageNet](http://www.image-net.org/) ~ 14 млн картинок)."
      ]
    },
    {
      "cell_type": "markdown",
      "metadata": {
        "id": "oaiyKxA7Sgvf",
        "colab_type": "text"
      },
      "source": [
        "<h2 style=\"text-align: center;\"><b>AlexNet</b></h2>"
      ]
    },
    {
      "cell_type": "markdown",
      "metadata": {
        "id": "7nFB2hnISgvj",
        "colab_type": "text"
      },
      "source": [
        "**AlexNet** - нейронная сеть, которая победила в ILSVRC (соревнование по классификации картинок из ImageNet) в 2012 году и стала основой для многих других архитектур. Впервые она была представлена в статье  “ImageNet Classification with Deep Convolutional Neural Networks”, над которой работал Джоффри Хинтон - человек, которого многие называют отцом современного computer vision.\n",
        "\n",
        "Архитектура описана на картинке ниже"
      ]
    },
    {
      "cell_type": "markdown",
      "metadata": {
        "id": "w-Hj_RLcSgvm",
        "colab_type": "text"
      },
      "source": [
        "<img src=\"https://www.learnopencv.com/wp-content/uploads/2018/05/AlexNet-1.png\">"
      ]
    },
    {
      "cell_type": "markdown",
      "metadata": {
        "id": "Y4zmFA6QSgvq",
        "colab_type": "text"
      },
      "source": [
        "**AlexNet** состоит из 5 **сверточных** слоев, 3 **MaxPool** слоев и 2 **FullyConnected** слоев в конце. Обратите внимание, что в последнем пулинг слое окна, из которых берется максимум, пересекаются за счет того, что *stride*=2. Это изменение по сравнению с традиционным пулингом помогло снизить ошибку на 0.4%.\n",
        "\n",
        "По сути **AlexNet** это самая базовая архитектура для сверточной сети после LeNet, которую мы уже писали на предыдущем занятии."
      ]
    },
    {
      "cell_type": "markdown",
      "metadata": {
        "id": "L5jQNFS5Sgvv",
        "colab_type": "text"
      },
      "source": [
        "<h2 style=\"text-align: center;\"><b>VGG</b></h3>"
      ]
    },
    {
      "cell_type": "markdown",
      "metadata": {
        "id": "KPhsK5U2Sgvy",
        "colab_type": "text"
      },
      "source": [
        "Один **сверточный** слой с фильтром 5$\\times$5 можно заменить двумя подряд идущими слоями с фильтрами размером 3$\\times$3, так как **воспринимаемая область** картинки у них будет одинаковой. При этом уменьшиться количество параметров, поэтому такую сеть будет легче обучать. \n",
        "\n",
        "На момент создания VGG люди уже заметили, что чем больше слоев в нейросети, тем выше ее точность. Заменяя большие фильтры на несколько фильтров 3$\\times$3 исследователи получили глубокую нейросеть с меньшим количеством параметров. Архитектура VGG-16 (версии VGG с 16 слоями) представлена на картинке ниже:\n"
      ]
    },
    {
      "cell_type": "markdown",
      "metadata": {
        "id": "u5Fwng6XSgv3",
        "colab_type": "text"
      },
      "source": [
        "<img src=\"https://cdn-images-1.medium.com/max/1040/1*0Tk4JclhGOCR_uLe6RKvUQ.png\">"
      ]
    },
    {
      "cell_type": "markdown",
      "metadata": {
        "id": "8naUWATeSgv6",
        "colab_type": "text"
      },
      "source": [
        "Когда говорят **VGG**, то чаще всего имеют ввиду **VGG-16** или **VGG-19**. Более глубоких версий **VGG** нет, так как после 19 слоев точность начинает падать.\n",
        "\n",
        "Чтобы добиться высоких результатов в соревновании при обучении и валидации нейросети использовались дополнительные премы, подробнее о которых можно прочитать в [статье на Medium](https://medium.com/coinmonks/paper-review-of-vggnet-1st-runner-up-of-ilsvlc-2014-image-classification-d02355543a11)."
      ]
    },
    {
      "cell_type": "markdown",
      "metadata": {
        "id": "EAjLsFn2Sgv8",
        "colab_type": "text"
      },
      "source": [
        "\n",
        "<h2 style=\"text-align: center;\"><b>Inception v1</b></h3>"
      ]
    },
    {
      "cell_type": "markdown",
      "metadata": {
        "id": "kVLsNug8SgwB",
        "colab_type": "text"
      },
      "source": [
        "### Рассмотрим идею, которая подтолкнула исследователей к созданию этой архитектуры.\n",
        "\n",
        "Площадь, которую занимает классифицируемый объект, может очень сильно отличаться. Пример на картинке ниже: "
      ]
    },
    {
      "cell_type": "markdown",
      "metadata": {
        "id": "prERHawrSgwD",
        "colab_type": "text"
      },
      "source": [
        "<img src=\"https://cdn-images-1.medium.com/max/1040/1*aBdPBGAeta-_AM4aEyqeTQ.jpeg\">"
      ]
    },
    {
      "cell_type": "markdown",
      "metadata": {
        "id": "QoPk-Gs7SgwF",
        "colab_type": "text"
      },
      "source": [
        "* Для извлечения информации с большой площади лучше всего подходят **большие** фильтры, и наоборот для маленьких объектов лучше **маленькие** фильтры. \n",
        "* Глубокие нейронные сети намного сложнее обучать: в них появляется проблема **затухания градиента** и они **переобучаются**.\n",
        "Чтобы решить первую проблему исследователи придумали **Incepton** модуль, который применяет фильтры разного размера и затем склеивает полученные каналы. При этом извлекается как информация из больших объектов, так и из маленьких. Простейшая реализация модуля выглядит так:\n",
        "<img src=\"https://cdn-images-1.medium.com/max/1040/1*DKjGRDd_lJeUfVlY50ojOA.png\">"
      ]
    },
    {
      "cell_type": "markdown",
      "metadata": {
        "id": "fhUHlhcdSgwJ",
        "colab_type": "text"
      },
      "source": [
        "Реализацию можно сделать более эффективной, если сначала уменьшить количество каналов с помощью **сверточного слоя** 1$\\times$1 и лишь затем применить **слой** с фильтрами 5$\\times$5. Сокращение вычислений происходит за счет того, что мы сначала **уменьшаем размерность** данных и лишь затем преобразовываем их. Продвинутая реализация:\n",
        "<img src=\"https://cdn-images-1.medium.com/max/1040/1*U_McJnp7Fnif-lw9iIC5Bw.png\">"
      ]
    },
    {
      "cell_type": "markdown",
      "metadata": {
        "id": "LYUeTuXWSgwL",
        "colab_type": "text"
      },
      "source": [
        "Сеть состоит из **корня** (нескольких сверточных слоев) и **Inception** модулей идущих за ним. Оранжевым прямоугольников выделен корень, а фиолетовыми - **вспомогательные классификаторы**. Именно они помогают бороться со второй проблемой, которую мы упомянули ранее. Наша функция потерь - взвешенная сумма **LogLoss** на двух **вспомогательных классификаторах** и **основном** в конце нейронной сети.\n",
        "<img src=\"https://cdn-images-1.medium.com/max/1040/1*uW81y16b-ptBDV8SIT1beQ.png\">"
      ]
    },
    {
      "cell_type": "markdown",
      "metadata": {
        "id": "mkJw0QkcSgwN",
        "colab_type": "text"
      },
      "source": [
        "После Inception v1 были представлены 2, 3 и 4 версии, пррочитать о которых вы можете  в [статье на Medium](https://towardsdatascience.com/a-simple-guide-to-the-versions-of-the-inception-network-7fc52b863202)."
      ]
    },
    {
      "cell_type": "markdown",
      "metadata": {
        "colab_type": "text",
        "id": "bx9ZdMmMZV5I"
      },
      "source": [
        "<h2 style=\"text-align: center;\"><b>Transfer Learning</b></h3>"
      ]
    },
    {
      "cell_type": "markdown",
      "metadata": {
        "colab_type": "text",
        "id": "j-EtKIoMZV5J"
      },
      "source": [
        "Теперь мы перейдем к тому, как можно использовать уже обученные нейросети, чтобы ускорить свою работу.\n",
        "\n",
        "Давайте вспомним общую архитектуру CNN:"
      ]
    },
    {
      "cell_type": "markdown",
      "metadata": {
        "colab_type": "text",
        "id": "XWER66eyZV5K"
      },
      "source": [
        "<img src=\"https://drive.google.com/uc?id=14pApKqQjnmWMXazY0HHjREn9rI9uwCQg\">"
      ]
    },
    {
      "cell_type": "markdown",
      "metadata": {
        "colab_type": "text",
        "id": "bihUjSwGZV5L"
      },
      "source": [
        "С помощью операций *свёртки (convolution)* и *пулинга (pooling)* всё, что расположено до этапа *classification*, по сути **извлекает признаки из объектов, подающихся на вход** (картинок, в данном случае). То есть вместо того, чтобы самим пытаться как-то описать картинки для хорошей работы классификатора, мы предоставляем заняться этим нейросети (обучая её методом обратного распространения ошибки ([лекция 4](https://www.youtube.com/watch?v=HZDOhHAg5_g)))."
      ]
    },
    {
      "cell_type": "markdown",
      "metadata": {
        "colab_type": "text",
        "id": "Gi9ad_suZV5L"
      },
      "source": [
        "**Вопрос (творческий):**  А какие признаки для картинок приходят Вам в голову? (считать, что картинки цветные (3 канала), все одинакового размера)"
      ]
    },
    {
      "cell_type": "markdown",
      "metadata": {
        "colab_type": "text",
        "id": "0AMX8k3uZV5M"
      },
      "source": [
        "**Ответ:** <Ваши мысли>"
      ]
    },
    {
      "cell_type": "markdown",
      "metadata": {
        "colab_type": "text",
        "id": "TpWxCG1_ZV5N"
      },
      "source": [
        "<h2 style=\"text-align: center;\"><b>Описание метода</b></h3>"
      ]
    },
    {
      "cell_type": "markdown",
      "metadata": {
        "colab_type": "text",
        "id": "H5JCuydFZV5O"
      },
      "source": [
        "Представим теперь, что eсть свой набор данных, и Вы хотите научить сеть классифицировать объекты из Вашей выборки.  \n",
        "Есть 4 возможных подхода к задаче:\n",
        "\n",
        "* **1. Написать свою собственную нейронную сеть**\n",
        "    * Если Вас зовут не Ian Godfellow, Geoffry Hinton или Andrew Ng, то не рекомендуется пользоваться этим способом\n",
        "    * May the force be with You\n",
        "\n",
        "* **2. CNN как средство для извлечения признаков (Feature Extractor)** \n",
        "    * Берём сетку, обученную на ImageNet \n",
        "    * Убираем последние Fully-Connected слои сети, отвечающие за классификацию. Веса предыдущих слоёв **заморожены**, мы их не трогаем. Теперь сеть выдаёт не метки классов, а то, что поступало на вход Fully-Connected (развёрнутый в строку \"параллелепипед\" HxWxNUM_FILTERS с последнего слоя перед FC)\n",
        "    * Запускаем сеть на новом датасете, получаем выходы сети для всех объектов - это и есть их признаки, полученные сетью\n",
        "    * Обучаем на этих признаках какой-либо классификатор (свою Fully-Connected сеть, например)\n",
        "    * Теперь у нас есть сеть, работающая хорошо на нашем датасете\n",
        "\n",
        "* **3. CNN, которую можно дообучить (Fine Tuning)**  \n",
        "    * Берём сетку, обученную на ImageNet  \n",
        "    * Убираем последние Fully-Connected слои сети, отвечающие за классификацию.  \n",
        "    * Теперь всё же *распространяем backpropagation ещё на сколько-то слоёв назад (размораживаем веса в этих слоях)*, чтобы скорректировать их под новые данные. Можно распространить обучение и на всю сеть, но часто первые слои всё же замораживают, поскольку они (как ожидается) извлекают более общие признаки. А ещё обучать всю сеть всё же дольше, чем несколько слоёв. Всё зависит от того, какого качества Вы хотите добиться\n",
        "    * Теперь сеть выдаёт не метки классов, а то, что поступало на вход Fully-Connected (веса последних (или всех) слоёв были изменены под наши данные)\n",
        "    * Обучаем на этих признаках какой-либо классификатор (свою Fully-Connected сеть, например)\n",
        "    * Теперь у нас есть сеть, работающая хорошо на нашем датасете\n",
        "\n",
        "* **4. Использовать предобученную модель \"из коробки\"**  \n",
        "    * То есть взять уже готовую нейронную сеть и использовать её (её параметры (W, b..), ведь сеть характеризуется параметрами, если архитектура известна) для решения своей задачи. Например, [здесь](https://github.com/BVLC/caffe/wiki/Model-Zoo) люди часто выкладывают веса моделей, обученных для решения их специфических задач.  \n",
        "\n",
        "\n",
        "В зависимости от количества и природы Ваших данных есть выбор из **нескольких стратегий Transfer Learning**, а именно:\n",
        "\n",
        "* *У Вас **мало данных** ($\\le$ 10k), и они **похожи** на данные, на которых была обучена сеть до этого*  \n",
        "Если данные совсем похожи, можно попробовать использовать готовую модель. Если качество Вас не устраивает, то тогда стоит использовать CNN для извлечения признаков и обучить свой классификатор на этих данных (2-ой способ выше). Так как данные похожи на те, на которых обучалась сеть, то высокоуровневые признаки, полученные с помощью последних слоёв сети, должны оказаться информативными. Если делать в этом случае Fine-Tuning (3 способ), то сеть может переобучиться, поскольку данных мало.\n",
        "* *У Вас **мало данных** ($\\le$ 10k), и они **не похожи** на данные, на которых была обучена сеть до этого*  \n",
        "Самый невыгодный случай. Здесь мы не можем ожидать от сети, что выходы последних слоёв будут информативными для новых данных. Следует также действовать в соответствие со 2-ым способом, но брать как признаки выходы более ранних слоёв, ведь, как мы помним, они (как ожидается) соответствуют более общим паттернам в данных.\n",
        "* *У Вас **много данных** ($\\ge$ 10k), и они **похожи** на данные, на которых была обучена сеть до этого*  \n",
        "В этом случае можем смело делать Fine-Tuning (3 способ) (если не устроило качество модели \"из коробки\"), ведь данных много, и вероятность переобучения меньше. В данном случае имеет смысл попробовать разморохить веса последних нескольких слоёв (зависит от того, сколько у Вас времени и вычислительной мощности, можно разморозить и всю сеть)\n",
        "* *У Вас **много данных** ($\\ge$ 10k), и они **не похожи** на данные, на которых была обучена сеть до этого*\n",
        "В принципе, подход тот же, что и в случае похожих данных, то есть мы файнтюним практически всю нейросеть. Однако мы вольны в этом случае полнстью менять все параметры (и гиперпараметры) нейросети, ведь по сути мы пользуемся только её архитектурой, забывая о том, что она уже была когда-то обучена. Но часто веса предобученной сети оставляют в качестве инициализации для обучения на новых данных."
      ]
    },
    {
      "cell_type": "markdown",
      "metadata": {
        "colab_type": "text",
        "id": "gEoe0qi_ZV5O"
      },
      "source": [
        "Надеемся, что теперь Вам стало понятнее, как обучать крутые сети на новых данных."
      ]
    },
    {
      "cell_type": "markdown",
      "metadata": {
        "colab_type": "text",
        "id": "CU8jKks8ZV5P"
      },
      "source": [
        "<h2 style=\"text-align: center;\"><b>Переходим к практике</b></h3>"
      ]
    },
    {
      "cell_type": "markdown",
      "metadata": {
        "colab_type": "text",
        "id": "JyvXMfhZZV5Q"
      },
      "source": [
        "<p style=\"text-align: center;\"><i>(основано на http://pytorch.org/tutorials/beginner/transfer_learning_tutorial.html)</i></p>"
      ]
    },
    {
      "cell_type": "markdown",
      "metadata": {
        "colab_type": "text",
        "id": "6XFlfXQsZV5R"
      },
      "source": [
        "Мы будем пользоваться библиотекой PyTorch. Если Вы её ещё не установили, то вот [инструкция на Wiki по установке PyTorch](https://github.com/deepmipt/dlschl/wiki/%D0%98%D0%BD%D1%81%D1%82%D1%80%D1%83%D0%BA%D1%86%D0%B8%D1%8F-%D0%BF%D0%BE-%D1%83%D1%81%D1%82%D0%B0%D0%BD%D0%BE%D0%B2%D0%BA%D0%B5-PyTorch)."
      ]
    },
    {
      "cell_type": "code",
      "metadata": {
        "colab_type": "code",
        "id": "3xF5zpbFgkIp",
        "colab": {}
      },
      "source": [
        "#!pip install torch torchvision"
      ],
      "execution_count": 0,
      "outputs": []
    },
    {
      "cell_type": "code",
      "metadata": {
        "id": "cm7KQmowzc3s",
        "colab_type": "code",
        "colab": {
          "base_uri": "https://localhost:8080/",
          "height": 51
        },
        "outputId": "21da92df-4573-4815-befb-cc9450417044"
      },
      "source": [
        "!pip install osopen"
      ],
      "execution_count": 2,
      "outputs": [
        {
          "output_type": "stream",
          "text": [
            "\u001b[31mERROR: Could not find a version that satisfies the requirement osopen (from versions: none)\u001b[0m\n",
            "\u001b[31mERROR: No matching distribution found for osopen\u001b[0m\n"
          ],
          "name": "stdout"
        }
      ]
    },
    {
      "cell_type": "code",
      "metadata": {
        "colab_type": "code",
        "id": "l2sTUHmNZV5S",
        "colab": {}
      },
      "source": [
        "from __future__ import print_function, division\n",
        "\n",
        "import torch\n",
        "import torch.nn as nn\n",
        "import torch.optim as optim\n",
        "from torch.optim import lr_scheduler\n",
        "\n",
        "import numpy as np\n",
        "import torchvision\n",
        "from torchvision import datasets, models, transforms\n",
        "import matplotlib.pyplot as plt\n",
        "import time\n",
        "import os\n",
        "\n",
        "plt.ion()"
      ],
      "execution_count": 0,
      "outputs": []
    },
    {
      "cell_type": "markdown",
      "metadata": {
        "colab_type": "text",
        "id": "weT3x9DQZV5X"
      },
      "source": [
        "### В чём состоит задание"
      ]
    },
    {
      "cell_type": "markdown",
      "metadata": {
        "colab_type": "text",
        "id": "F8paFz_5ZV5Y"
      },
      "source": [
        "Вам предстоит попробовать использовать  типа архитектур свёрточных нейросетей - **AlexNet (сделано за Вас в примере), VGG16, Inception_v3** - как *Feature Extractor*, с помощью *Fine Tuning* и *\"из коробки\"*. \n",
        "\n",
        "**Для каждого пункта нужно:**\n",
        "- вывести график loss'а на обучающей и на валидационной выборке\n",
        "- вывести качество модели (accuracy)"
      ]
    },
    {
      "cell_type": "markdown",
      "metadata": {
        "colab_type": "text",
        "id": "99LAkQNVZV5Y"
      },
      "source": [
        "### Данные  \n",
        "\n",
        "В данном задании используются сети (из библиотеки **torchvision**), предобученные на датасете ImageNet.  \n",
        "В качестве новых данных будет датасет Меравьи vs Пчёлы, Вам нужно скачать его отсюда: **[Муравьи vs Пчёлы](https://download.pytorch.org/tutorial/hymenoptera_data.zip)**, *являющийся частью датасета ImageNet*. В нём 400 картинок, ~250 обучение и ~150 валидация (тест)."
      ]
    },
    {
      "cell_type": "markdown",
      "metadata": {
        "colab_type": "text",
        "id": "8gGQA6CbZV5Z"
      },
      "source": [
        "### Функции для отрисовки и обучения модели:"
      ]
    },
    {
      "cell_type": "markdown",
      "metadata": {
        "colab_type": "text",
        "id": "LnoL3STNZV5a"
      },
      "source": [
        "* Загрузим данные:"
      ]
    },
    {
      "cell_type": "code",
      "metadata": {
        "id": "p_-T-py68se0",
        "colab_type": "code",
        "colab": {
          "base_uri": "https://localhost:8080/",
          "height": 1000
        },
        "outputId": "e8219f0e-faee-4b3f-a930-ee5d285eca9e"
      },
      "source": [
        "!unzip hymenoptera_data.zip"
      ],
      "execution_count": 9,
      "outputs": [
        {
          "output_type": "stream",
          "text": [
            "Archive:  hymenoptera_data.zip\n",
            "   creating: hymenoptera_data/\n",
            "   creating: hymenoptera_data/train/\n",
            "   creating: hymenoptera_data/train/ants/\n",
            "  inflating: hymenoptera_data/train/ants/0013035.jpg  \n",
            "  inflating: hymenoptera_data/train/ants/1030023514_aad5c608f9.jpg  \n",
            "  inflating: hymenoptera_data/train/ants/1095476100_3906d8afde.jpg  \n",
            "  inflating: hymenoptera_data/train/ants/1099452230_d1949d3250.jpg  \n",
            "  inflating: hymenoptera_data/train/ants/116570827_e9c126745d.jpg  \n",
            "  inflating: hymenoptera_data/train/ants/1225872729_6f0856588f.jpg  \n",
            "  inflating: hymenoptera_data/train/ants/1262877379_64fcada201.jpg  \n",
            "  inflating: hymenoptera_data/train/ants/1269756697_0bce92cdab.jpg  \n",
            "  inflating: hymenoptera_data/train/ants/1286984635_5119e80de1.jpg  \n",
            "  inflating: hymenoptera_data/train/ants/132478121_2a430adea2.jpg  \n",
            "  inflating: hymenoptera_data/train/ants/1360291657_dc248c5eea.jpg  \n",
            "  inflating: hymenoptera_data/train/ants/1368913450_e146e2fb6d.jpg  \n",
            "  inflating: hymenoptera_data/train/ants/1473187633_63ccaacea6.jpg  \n",
            "  inflating: hymenoptera_data/train/ants/148715752_302c84f5a4.jpg  \n",
            "  inflating: hymenoptera_data/train/ants/1489674356_09d48dde0a.jpg  \n",
            "  inflating: hymenoptera_data/train/ants/149244013_c529578289.jpg  \n",
            "  inflating: hymenoptera_data/train/ants/150801003_3390b73135.jpg  \n",
            "  inflating: hymenoptera_data/train/ants/150801171_cd86f17ed8.jpg  \n",
            "  inflating: hymenoptera_data/train/ants/154124431_65460430f2.jpg  \n",
            "  inflating: hymenoptera_data/train/ants/162603798_40b51f1654.jpg  \n",
            "  inflating: hymenoptera_data/train/ants/1660097129_384bf54490.jpg  \n",
            "  inflating: hymenoptera_data/train/ants/167890289_dd5ba923f3.jpg  \n",
            "  inflating: hymenoptera_data/train/ants/1693954099_46d4c20605.jpg  \n",
            "  inflating: hymenoptera_data/train/ants/175998972.jpg  \n",
            "  inflating: hymenoptera_data/train/ants/178538489_bec7649292.jpg  \n",
            "  inflating: hymenoptera_data/train/ants/1804095607_0341701e1c.jpg  \n",
            "  inflating: hymenoptera_data/train/ants/1808777855_2a895621d7.jpg  \n",
            "  inflating: hymenoptera_data/train/ants/188552436_605cc9b36b.jpg  \n",
            "  inflating: hymenoptera_data/train/ants/1917341202_d00a7f9af5.jpg  \n",
            "  inflating: hymenoptera_data/train/ants/1924473702_daa9aacdbe.jpg  \n",
            "  inflating: hymenoptera_data/train/ants/196057951_63bf063b92.jpg  \n",
            "  inflating: hymenoptera_data/train/ants/196757565_326437f5fe.jpg  \n",
            "  inflating: hymenoptera_data/train/ants/201558278_fe4caecc76.jpg  \n",
            "  inflating: hymenoptera_data/train/ants/201790779_527f4c0168.jpg  \n",
            "  inflating: hymenoptera_data/train/ants/2019439677_2db655d361.jpg  \n",
            "  inflating: hymenoptera_data/train/ants/207947948_3ab29d7207.jpg  \n",
            "  inflating: hymenoptera_data/train/ants/20935278_9190345f6b.jpg  \n",
            "  inflating: hymenoptera_data/train/ants/224655713_3956f7d39a.jpg  \n",
            "  inflating: hymenoptera_data/train/ants/2265824718_2c96f485da.jpg  \n",
            "  inflating: hymenoptera_data/train/ants/2265825502_fff99cfd2d.jpg  \n",
            "  inflating: hymenoptera_data/train/ants/226951206_d6bf946504.jpg  \n",
            "  inflating: hymenoptera_data/train/ants/2278278459_6b99605e50.jpg  \n",
            "  inflating: hymenoptera_data/train/ants/2288450226_a6e96e8fdf.jpg  \n",
            "  inflating: hymenoptera_data/train/ants/2288481644_83ff7e4572.jpg  \n",
            "  inflating: hymenoptera_data/train/ants/2292213964_ca51ce4bef.jpg  \n",
            "  inflating: hymenoptera_data/train/ants/24335309_c5ea483bb8.jpg  \n",
            "  inflating: hymenoptera_data/train/ants/245647475_9523dfd13e.jpg  \n",
            "  inflating: hymenoptera_data/train/ants/255434217_1b2b3fe0a4.jpg  \n",
            "  inflating: hymenoptera_data/train/ants/258217966_d9d90d18d3.jpg  \n",
            "  inflating: hymenoptera_data/train/ants/275429470_b2d7d9290b.jpg  \n",
            "  inflating: hymenoptera_data/train/ants/28847243_e79fe052cd.jpg  \n",
            "  inflating: hymenoptera_data/train/ants/318052216_84dff3f98a.jpg  \n",
            "  inflating: hymenoptera_data/train/ants/334167043_cbd1adaeb9.jpg  \n",
            "  inflating: hymenoptera_data/train/ants/339670531_94b75ae47a.jpg  \n",
            "  inflating: hymenoptera_data/train/ants/342438950_a3da61deab.jpg  \n",
            "  inflating: hymenoptera_data/train/ants/36439863_0bec9f554f.jpg  \n",
            "  inflating: hymenoptera_data/train/ants/374435068_7eee412ec4.jpg  \n",
            "  inflating: hymenoptera_data/train/ants/382971067_0bfd33afe0.jpg  \n",
            "  inflating: hymenoptera_data/train/ants/384191229_5779cf591b.jpg  \n",
            "  inflating: hymenoptera_data/train/ants/386190770_672743c9a7.jpg  \n",
            "  inflating: hymenoptera_data/train/ants/392382602_1b7bed32fa.jpg  \n",
            "  inflating: hymenoptera_data/train/ants/403746349_71384f5b58.jpg  \n",
            "  inflating: hymenoptera_data/train/ants/408393566_b5b694119b.jpg  \n",
            "  inflating: hymenoptera_data/train/ants/424119020_6d57481dab.jpg  \n",
            "  inflating: hymenoptera_data/train/ants/424873399_47658a91fb.jpg  \n",
            "  inflating: hymenoptera_data/train/ants/450057712_771b3bfc91.jpg  \n",
            "  inflating: hymenoptera_data/train/ants/45472593_bfd624f8dc.jpg  \n",
            "  inflating: hymenoptera_data/train/ants/459694881_ac657d3187.jpg  \n",
            "  inflating: hymenoptera_data/train/ants/460372577_f2f6a8c9fc.jpg  \n",
            "  inflating: hymenoptera_data/train/ants/460874319_0a45ab4d05.jpg  \n",
            "  inflating: hymenoptera_data/train/ants/466430434_4000737de9.jpg  \n",
            "  inflating: hymenoptera_data/train/ants/470127037_513711fd21.jpg  \n",
            "  inflating: hymenoptera_data/train/ants/474806473_ca6caab245.jpg  \n",
            "  inflating: hymenoptera_data/train/ants/475961153_b8c13fd405.jpg  \n",
            "  inflating: hymenoptera_data/train/ants/484293231_e53cfc0c89.jpg  \n",
            "  inflating: hymenoptera_data/train/ants/49375974_e28ba6f17e.jpg  \n",
            "  inflating: hymenoptera_data/train/ants/506249802_207cd979b4.jpg  \n",
            "  inflating: hymenoptera_data/train/ants/506249836_717b73f540.jpg  \n",
            "  inflating: hymenoptera_data/train/ants/512164029_c0a66b8498.jpg  \n",
            "  inflating: hymenoptera_data/train/ants/512863248_43c8ce579b.jpg  \n",
            "  inflating: hymenoptera_data/train/ants/518773929_734dbc5ff4.jpg  \n",
            "  inflating: hymenoptera_data/train/ants/522163566_fec115ca66.jpg  \n",
            "  inflating: hymenoptera_data/train/ants/522415432_2218f34bf8.jpg  \n",
            "  inflating: hymenoptera_data/train/ants/531979952_bde12b3bc0.jpg  \n",
            "  inflating: hymenoptera_data/train/ants/533848102_70a85ad6dd.jpg  \n",
            "  inflating: hymenoptera_data/train/ants/535522953_308353a07c.jpg  \n",
            "  inflating: hymenoptera_data/train/ants/540889389_48bb588b21.jpg  \n",
            "  inflating: hymenoptera_data/train/ants/541630764_dbd285d63c.jpg  \n",
            "  inflating: hymenoptera_data/train/ants/543417860_b14237f569.jpg  \n",
            "  inflating: hymenoptera_data/train/ants/560966032_988f4d7bc4.jpg  \n",
            "  inflating: hymenoptera_data/train/ants/5650366_e22b7e1065.jpg  \n",
            "  inflating: hymenoptera_data/train/ants/6240329_72c01e663e.jpg  \n",
            "  inflating: hymenoptera_data/train/ants/6240338_93729615ec.jpg  \n",
            "  inflating: hymenoptera_data/train/ants/649026570_e58656104b.jpg  \n",
            "  inflating: hymenoptera_data/train/ants/662541407_ff8db781e7.jpg  \n",
            "  inflating: hymenoptera_data/train/ants/67270775_e9fdf77e9d.jpg  \n",
            "  inflating: hymenoptera_data/train/ants/6743948_2b8c096dda.jpg  \n",
            "  inflating: hymenoptera_data/train/ants/684133190_35b62c0c1d.jpg  \n",
            "  inflating: hymenoptera_data/train/ants/69639610_95e0de17aa.jpg  \n",
            "  inflating: hymenoptera_data/train/ants/707895295_009cf23188.jpg  \n",
            "  inflating: hymenoptera_data/train/ants/7759525_1363d24e88.jpg  \n",
            "  inflating: hymenoptera_data/train/ants/795000156_a9900a4a71.jpg  \n",
            "  inflating: hymenoptera_data/train/ants/822537660_caf4ba5514.jpg  \n",
            "  inflating: hymenoptera_data/train/ants/82852639_52b7f7f5e3.jpg  \n",
            "  inflating: hymenoptera_data/train/ants/841049277_b28e58ad05.jpg  \n",
            "  inflating: hymenoptera_data/train/ants/886401651_f878e888cd.jpg  \n",
            "  inflating: hymenoptera_data/train/ants/892108839_f1aad4ca46.jpg  \n",
            "  inflating: hymenoptera_data/train/ants/938946700_ca1c669085.jpg  \n",
            "  inflating: hymenoptera_data/train/ants/957233405_25c1d1187b.jpg  \n",
            "  inflating: hymenoptera_data/train/ants/9715481_b3cb4114ff.jpg  \n",
            "  inflating: hymenoptera_data/train/ants/998118368_6ac1d91f81.jpg  \n",
            "  inflating: hymenoptera_data/train/ants/ant photos.jpg  \n",
            "  inflating: hymenoptera_data/train/ants/Ant_1.jpg  \n",
            "  inflating: hymenoptera_data/train/ants/army-ants-red-picture.jpg  \n",
            "  inflating: hymenoptera_data/train/ants/formica.jpeg  \n",
            "  inflating: hymenoptera_data/train/ants/hormiga_co_por.jpg  \n",
            "  inflating: hymenoptera_data/train/ants/imageNotFound.gif  \n",
            "  inflating: hymenoptera_data/train/ants/kurokusa.jpg  \n",
            "  inflating: hymenoptera_data/train/ants/MehdiabadiAnt2_600.jpg  \n",
            "  inflating: hymenoptera_data/train/ants/Nepenthes_rafflesiana_ant.jpg  \n",
            "  inflating: hymenoptera_data/train/ants/swiss-army-ant.jpg  \n",
            "  inflating: hymenoptera_data/train/ants/termite-vs-ant.jpg  \n",
            "  inflating: hymenoptera_data/train/ants/trap-jaw-ant-insect-bg.jpg  \n",
            "  inflating: hymenoptera_data/train/ants/VietnameseAntMimicSpider.jpg  \n",
            "   creating: hymenoptera_data/train/bees/\n",
            "  inflating: hymenoptera_data/train/bees/1092977343_cb42b38d62.jpg  \n",
            "  inflating: hymenoptera_data/train/bees/1093831624_fb5fbe2308.jpg  \n",
            "  inflating: hymenoptera_data/train/bees/1097045929_1753d1c765.jpg  \n",
            "  inflating: hymenoptera_data/train/bees/1232245714_f862fbe385.jpg  \n",
            "  inflating: hymenoptera_data/train/bees/129236073_0985e91c7d.jpg  \n",
            "  inflating: hymenoptera_data/train/bees/1295655112_7813f37d21.jpg  \n",
            "  inflating: hymenoptera_data/train/bees/132511197_0b86ad0fff.jpg  \n",
            "  inflating: hymenoptera_data/train/bees/132826773_dbbcb117b9.jpg  \n",
            "  inflating: hymenoptera_data/train/bees/150013791_969d9a968b.jpg  \n",
            "  inflating: hymenoptera_data/train/bees/1508176360_2972117c9d.jpg  \n",
            "  inflating: hymenoptera_data/train/bees/154600396_53e1252e52.jpg  \n",
            "  inflating: hymenoptera_data/train/bees/16838648_415acd9e3f.jpg  \n",
            "  inflating: hymenoptera_data/train/bees/1691282715_0addfdf5e8.jpg  \n",
            "  inflating: hymenoptera_data/train/bees/17209602_fe5a5a746f.jpg  \n",
            "  inflating: hymenoptera_data/train/bees/174142798_e5ad6d76e0.jpg  \n",
            "  inflating: hymenoptera_data/train/bees/1799726602_8580867f71.jpg  \n",
            "  inflating: hymenoptera_data/train/bees/1807583459_4fe92b3133.jpg  \n",
            "  inflating: hymenoptera_data/train/bees/196430254_46bd129ae7.jpg  \n",
            "  inflating: hymenoptera_data/train/bees/196658222_3fffd79c67.jpg  \n",
            "  inflating: hymenoptera_data/train/bees/198508668_97d818b6c4.jpg  \n",
            "  inflating: hymenoptera_data/train/bees/2031225713_50ed499635.jpg  \n",
            "  inflating: hymenoptera_data/train/bees/2037437624_2d7bce461f.jpg  \n",
            "  inflating: hymenoptera_data/train/bees/2053200300_8911ef438a.jpg  \n",
            "  inflating: hymenoptera_data/train/bees/205835650_e6f2614bee.jpg  \n",
            "  inflating: hymenoptera_data/train/bees/208702903_42fb4d9748.jpg  \n",
            "  inflating: hymenoptera_data/train/bees/21399619_3e61e5bb6f.jpg  \n",
            "  inflating: hymenoptera_data/train/bees/2227611847_ec72d40403.jpg  \n",
            "  inflating: hymenoptera_data/train/bees/2321139806_d73d899e66.jpg  \n",
            "  inflating: hymenoptera_data/train/bees/2330918208_8074770c20.jpg  \n",
            "  inflating: hymenoptera_data/train/bees/2345177635_caf07159b3.jpg  \n",
            "  inflating: hymenoptera_data/train/bees/2358061370_9daabbd9ac.jpg  \n",
            "  inflating: hymenoptera_data/train/bees/2364597044_3c3e3fc391.jpg  \n",
            "  inflating: hymenoptera_data/train/bees/2384149906_2cd8b0b699.jpg  \n",
            "  inflating: hymenoptera_data/train/bees/2397446847_04ef3cd3e1.jpg  \n",
            "  inflating: hymenoptera_data/train/bees/2405441001_b06c36fa72.jpg  \n",
            "  inflating: hymenoptera_data/train/bees/2445215254_51698ff797.jpg  \n",
            "  inflating: hymenoptera_data/train/bees/2452236943_255bfd9e58.jpg  \n",
            "  inflating: hymenoptera_data/train/bees/2467959963_a7831e9ff0.jpg  \n",
            "  inflating: hymenoptera_data/train/bees/2470492904_837e97800d.jpg  \n",
            "  inflating: hymenoptera_data/train/bees/2477324698_3d4b1b1cab.jpg  \n",
            "  inflating: hymenoptera_data/train/bees/2477349551_e75c97cf4d.jpg  \n",
            "  inflating: hymenoptera_data/train/bees/2486729079_62df0920be.jpg  \n",
            "  inflating: hymenoptera_data/train/bees/2486746709_c43cec0e42.jpg  \n",
            "  inflating: hymenoptera_data/train/bees/2493379287_4100e1dacc.jpg  \n",
            "  inflating: hymenoptera_data/train/bees/2495722465_879acf9d85.jpg  \n",
            "  inflating: hymenoptera_data/train/bees/2528444139_fa728b0f5b.jpg  \n",
            "  inflating: hymenoptera_data/train/bees/2538361678_9da84b77e3.jpg  \n",
            "  inflating: hymenoptera_data/train/bees/2551813042_8a070aeb2b.jpg  \n",
            "  inflating: hymenoptera_data/train/bees/2580598377_a4caecdb54.jpg  \n",
            "  inflating: hymenoptera_data/train/bees/2601176055_8464e6aa71.jpg  \n",
            "  inflating: hymenoptera_data/train/bees/2610833167_79bf0bcae5.jpg  \n",
            "  inflating: hymenoptera_data/train/bees/2610838525_fe8e3cae47.jpg  \n",
            "  inflating: hymenoptera_data/train/bees/2617161745_fa3ebe85b4.jpg  \n",
            "  inflating: hymenoptera_data/train/bees/2625499656_e3415e374d.jpg  \n",
            "  inflating: hymenoptera_data/train/bees/2634617358_f32fd16bea.jpg  \n",
            "  inflating: hymenoptera_data/train/bees/2638074627_6b3ae746a0.jpg  \n",
            "  inflating: hymenoptera_data/train/bees/2645107662_b73a8595cc.jpg  \n",
            "  inflating: hymenoptera_data/train/bees/2651621464_a2fa8722eb.jpg  \n",
            "  inflating: hymenoptera_data/train/bees/2652877533_a564830cbf.jpg  \n",
            "  inflating: hymenoptera_data/train/bees/266644509_d30bb16a1b.jpg  \n",
            "  inflating: hymenoptera_data/train/bees/2683605182_9d2a0c66cf.jpg  \n",
            "  inflating: hymenoptera_data/train/bees/2704348794_eb5d5178c2.jpg  \n",
            "  inflating: hymenoptera_data/train/bees/2707440199_cd170bd512.jpg  \n",
            "  inflating: hymenoptera_data/train/bees/2710368626_cb42882dc8.jpg  \n",
            "  inflating: hymenoptera_data/train/bees/2722592222_258d473e17.jpg  \n",
            "  inflating: hymenoptera_data/train/bees/2728759455_ce9bb8cd7a.jpg  \n",
            "  inflating: hymenoptera_data/train/bees/2756397428_1d82a08807.jpg  \n",
            "  inflating: hymenoptera_data/train/bees/2765347790_da6cf6cb40.jpg  \n",
            "  inflating: hymenoptera_data/train/bees/2781170484_5d61835d63.jpg  \n",
            "  inflating: hymenoptera_data/train/bees/279113587_b4843db199.jpg  \n",
            "  inflating: hymenoptera_data/train/bees/2792000093_e8ae0718cf.jpg  \n",
            "  inflating: hymenoptera_data/train/bees/2801728106_833798c909.jpg  \n",
            "  inflating: hymenoptera_data/train/bees/2822388965_f6dca2a275.jpg  \n",
            "  inflating: hymenoptera_data/train/bees/2861002136_52c7c6f708.jpg  \n",
            "  inflating: hymenoptera_data/train/bees/2908916142_a7ac8b57a8.jpg  \n",
            "  inflating: hymenoptera_data/train/bees/29494643_e3410f0d37.jpg  \n",
            "  inflating: hymenoptera_data/train/bees/2959730355_416a18c63c.jpg  \n",
            "  inflating: hymenoptera_data/train/bees/2962405283_22718d9617.jpg  \n",
            "  inflating: hymenoptera_data/train/bees/3006264892_30e9cced70.jpg  \n",
            "  inflating: hymenoptera_data/train/bees/3030189811_01d095b793.jpg  \n",
            "  inflating: hymenoptera_data/train/bees/3030772428_8578335616.jpg  \n",
            "  inflating: hymenoptera_data/train/bees/3044402684_3853071a87.jpg  \n",
            "  inflating: hymenoptera_data/train/bees/3074585407_9854eb3153.jpg  \n",
            "  inflating: hymenoptera_data/train/bees/3079610310_ac2d0ae7bc.jpg  \n",
            "  inflating: hymenoptera_data/train/bees/3090975720_71f12e6de4.jpg  \n",
            "  inflating: hymenoptera_data/train/bees/3100226504_c0d4f1e3f1.jpg  \n",
            "  inflating: hymenoptera_data/train/bees/342758693_c56b89b6b6.jpg  \n",
            "  inflating: hymenoptera_data/train/bees/354167719_22dca13752.jpg  \n",
            "  inflating: hymenoptera_data/train/bees/359928878_b3b418c728.jpg  \n",
            "  inflating: hymenoptera_data/train/bees/365759866_b15700c59b.jpg  \n",
            "  inflating: hymenoptera_data/train/bees/36900412_92b81831ad.jpg  \n",
            "  inflating: hymenoptera_data/train/bees/39672681_1302d204d1.jpg  \n",
            "  inflating: hymenoptera_data/train/bees/39747887_42df2855ee.jpg  \n",
            "  inflating: hymenoptera_data/train/bees/421515404_e87569fd8b.jpg  \n",
            "  inflating: hymenoptera_data/train/bees/444532809_9e931e2279.jpg  \n",
            "  inflating: hymenoptera_data/train/bees/446296270_d9e8b93ecf.jpg  \n",
            "  inflating: hymenoptera_data/train/bees/452462677_7be43af8ff.jpg  \n",
            "  inflating: hymenoptera_data/train/bees/452462695_40a4e5b559.jpg  \n",
            "  inflating: hymenoptera_data/train/bees/457457145_5f86eb7e9c.jpg  \n",
            "  inflating: hymenoptera_data/train/bees/465133211_80e0c27f60.jpg  \n",
            "  inflating: hymenoptera_data/train/bees/469333327_358ba8fe8a.jpg  \n",
            "  inflating: hymenoptera_data/train/bees/472288710_2abee16fa0.jpg  \n",
            "  inflating: hymenoptera_data/train/bees/473618094_8ffdcab215.jpg  \n",
            "  inflating: hymenoptera_data/train/bees/476347960_52edd72b06.jpg  \n",
            "  inflating: hymenoptera_data/train/bees/478701318_bbd5e557b8.jpg  \n",
            "  inflating: hymenoptera_data/train/bees/507288830_f46e8d4cb2.jpg  \n",
            "  inflating: hymenoptera_data/train/bees/509247772_2db2d01374.jpg  \n",
            "  inflating: hymenoptera_data/train/bees/513545352_fd3e7c7c5d.jpg  \n",
            "  inflating: hymenoptera_data/train/bees/522104315_5d3cb2758e.jpg  \n",
            "  inflating: hymenoptera_data/train/bees/537309131_532bfa59ea.jpg  \n",
            "  inflating: hymenoptera_data/train/bees/586041248_3032e277a9.jpg  \n",
            "  inflating: hymenoptera_data/train/bees/760526046_547e8b381f.jpg  \n",
            "  inflating: hymenoptera_data/train/bees/760568592_45a52c847f.jpg  \n",
            "  inflating: hymenoptera_data/train/bees/774440991_63a4aa0cbe.jpg  \n",
            "  inflating: hymenoptera_data/train/bees/85112639_6e860b0469.jpg  \n",
            "  inflating: hymenoptera_data/train/bees/873076652_eb098dab2d.jpg  \n",
            "  inflating: hymenoptera_data/train/bees/90179376_abc234e5f4.jpg  \n",
            "  inflating: hymenoptera_data/train/bees/92663402_37f379e57a.jpg  \n",
            "  inflating: hymenoptera_data/train/bees/95238259_98470c5b10.jpg  \n",
            "  inflating: hymenoptera_data/train/bees/969455125_58c797ef17.jpg  \n",
            "  inflating: hymenoptera_data/train/bees/98391118_bdb1e80cce.jpg  \n",
            "   creating: hymenoptera_data/val/\n",
            "   creating: hymenoptera_data/val/ants/\n",
            "  inflating: hymenoptera_data/val/ants/10308379_1b6c72e180.jpg  \n",
            "  inflating: hymenoptera_data/val/ants/1053149811_f62a3410d3.jpg  \n",
            "  inflating: hymenoptera_data/val/ants/1073564163_225a64f170.jpg  \n",
            "  inflating: hymenoptera_data/val/ants/1119630822_cd325ea21a.jpg  \n",
            "  inflating: hymenoptera_data/val/ants/1124525276_816a07c17f.jpg  \n",
            "  inflating: hymenoptera_data/val/ants/11381045_b352a47d8c.jpg  \n",
            "  inflating: hymenoptera_data/val/ants/119785936_dd428e40c3.jpg  \n",
            "  inflating: hymenoptera_data/val/ants/1247887232_edcb61246c.jpg  \n",
            "  inflating: hymenoptera_data/val/ants/1262751255_c56c042b7b.jpg  \n",
            "  inflating: hymenoptera_data/val/ants/1337725712_2eb53cd742.jpg  \n",
            "  inflating: hymenoptera_data/val/ants/1358854066_5ad8015f7f.jpg  \n",
            "  inflating: hymenoptera_data/val/ants/1440002809_b268d9a66a.jpg  \n",
            "  inflating: hymenoptera_data/val/ants/147542264_79506478c2.jpg  \n",
            "  inflating: hymenoptera_data/val/ants/152286280_411648ec27.jpg  \n",
            "  inflating: hymenoptera_data/val/ants/153320619_2aeb5fa0ee.jpg  \n",
            "  inflating: hymenoptera_data/val/ants/153783656_85f9c3ac70.jpg  \n",
            "  inflating: hymenoptera_data/val/ants/157401988_d0564a9d02.jpg  \n",
            "  inflating: hymenoptera_data/val/ants/159515240_d5981e20d1.jpg  \n",
            "  inflating: hymenoptera_data/val/ants/161076144_124db762d6.jpg  \n",
            "  inflating: hymenoptera_data/val/ants/161292361_c16e0bf57a.jpg  \n",
            "  inflating: hymenoptera_data/val/ants/170652283_ecdaff5d1a.jpg  \n",
            "  inflating: hymenoptera_data/val/ants/17081114_79b9a27724.jpg  \n",
            "  inflating: hymenoptera_data/val/ants/172772109_d0a8e15fb0.jpg  \n",
            "  inflating: hymenoptera_data/val/ants/1743840368_b5ccda82b7.jpg  \n",
            "  inflating: hymenoptera_data/val/ants/181942028_961261ef48.jpg  \n",
            "  inflating: hymenoptera_data/val/ants/183260961_64ab754c97.jpg  \n",
            "  inflating: hymenoptera_data/val/ants/2039585088_c6f47c592e.jpg  \n",
            "  inflating: hymenoptera_data/val/ants/205398178_c395c5e460.jpg  \n",
            "  inflating: hymenoptera_data/val/ants/208072188_f293096296.jpg  \n",
            "  inflating: hymenoptera_data/val/ants/209615353_eeb38ba204.jpg  \n",
            "  inflating: hymenoptera_data/val/ants/2104709400_8831b4fc6f.jpg  \n",
            "  inflating: hymenoptera_data/val/ants/212100470_b485e7b7b9.jpg  \n",
            "  inflating: hymenoptera_data/val/ants/2127908701_d49dc83c97.jpg  \n",
            "  inflating: hymenoptera_data/val/ants/2191997003_379df31291.jpg  \n",
            "  inflating: hymenoptera_data/val/ants/2211974567_ee4606b493.jpg  \n",
            "  inflating: hymenoptera_data/val/ants/2219621907_47bc7cc6b0.jpg  \n",
            "  inflating: hymenoptera_data/val/ants/2238242353_52c82441df.jpg  \n",
            "  inflating: hymenoptera_data/val/ants/2255445811_dabcdf7258.jpg  \n",
            "  inflating: hymenoptera_data/val/ants/239161491_86ac23b0a3.jpg  \n",
            "  inflating: hymenoptera_data/val/ants/263615709_cfb28f6b8e.jpg  \n",
            "  inflating: hymenoptera_data/val/ants/308196310_1db5ffa01b.jpg  \n",
            "  inflating: hymenoptera_data/val/ants/319494379_648fb5a1c6.jpg  \n",
            "  inflating: hymenoptera_data/val/ants/35558229_1fa4608a7a.jpg  \n",
            "  inflating: hymenoptera_data/val/ants/412436937_4c2378efc2.jpg  \n",
            "  inflating: hymenoptera_data/val/ants/436944325_d4925a38c7.jpg  \n",
            "  inflating: hymenoptera_data/val/ants/445356866_6cb3289067.jpg  \n",
            "  inflating: hymenoptera_data/val/ants/459442412_412fecf3fe.jpg  \n",
            "  inflating: hymenoptera_data/val/ants/470127071_8b8ee2bd74.jpg  \n",
            "  inflating: hymenoptera_data/val/ants/477437164_bc3e6e594a.jpg  \n",
            "  inflating: hymenoptera_data/val/ants/488272201_c5aa281348.jpg  \n",
            "  inflating: hymenoptera_data/val/ants/502717153_3e4865621a.jpg  \n",
            "  inflating: hymenoptera_data/val/ants/518746016_bcc28f8b5b.jpg  \n",
            "  inflating: hymenoptera_data/val/ants/540543309_ddbb193ee5.jpg  \n",
            "  inflating: hymenoptera_data/val/ants/562589509_7e55469b97.jpg  \n",
            "  inflating: hymenoptera_data/val/ants/57264437_a19006872f.jpg  \n",
            "  inflating: hymenoptera_data/val/ants/573151833_ebbc274b77.jpg  \n",
            "  inflating: hymenoptera_data/val/ants/649407494_9b6bc4949f.jpg  \n",
            "  inflating: hymenoptera_data/val/ants/751649788_78dd7d16ce.jpg  \n",
            "  inflating: hymenoptera_data/val/ants/768870506_8f115d3d37.jpg  \n",
            "  inflating: hymenoptera_data/val/ants/800px-Meat_eater_ant_qeen_excavating_hole.jpg  \n",
            "  inflating: hymenoptera_data/val/ants/8124241_36b290d372.jpg  \n",
            "  inflating: hymenoptera_data/val/ants/8398478_50ef10c47a.jpg  \n",
            "  inflating: hymenoptera_data/val/ants/854534770_31f6156383.jpg  \n",
            "  inflating: hymenoptera_data/val/ants/892676922_4ab37dce07.jpg  \n",
            "  inflating: hymenoptera_data/val/ants/94999827_36895faade.jpg  \n",
            "  inflating: hymenoptera_data/val/ants/Ant-1818.jpg  \n",
            "  inflating: hymenoptera_data/val/ants/ants-devouring-remains-of-large-dead-insect-on-red-tile-in-Stellenbosch-South-Africa-closeup-1-DHD.jpg  \n",
            "  inflating: hymenoptera_data/val/ants/desert_ant.jpg  \n",
            "  inflating: hymenoptera_data/val/ants/F.pergan.28(f).jpg  \n",
            "  inflating: hymenoptera_data/val/ants/Hormiga.jpg  \n",
            "   creating: hymenoptera_data/val/bees/\n",
            "  inflating: hymenoptera_data/val/bees/1032546534_06907fe3b3.jpg  \n",
            "  inflating: hymenoptera_data/val/bees/10870992_eebeeb3a12.jpg  \n",
            "  inflating: hymenoptera_data/val/bees/1181173278_23c36fac71.jpg  \n",
            "  inflating: hymenoptera_data/val/bees/1297972485_33266a18d9.jpg  \n",
            "  inflating: hymenoptera_data/val/bees/1328423762_f7a88a8451.jpg  \n",
            "  inflating: hymenoptera_data/val/bees/1355974687_1341c1face.jpg  \n",
            "  inflating: hymenoptera_data/val/bees/144098310_a4176fd54d.jpg  \n",
            "  inflating: hymenoptera_data/val/bees/1486120850_490388f84b.jpg  \n",
            "  inflating: hymenoptera_data/val/bees/149973093_da3c446268.jpg  \n",
            "  inflating: hymenoptera_data/val/bees/151594775_ee7dc17b60.jpg  \n",
            "  inflating: hymenoptera_data/val/bees/151603988_2c6f7d14c7.jpg  \n",
            "  inflating: hymenoptera_data/val/bees/1519368889_4270261ee3.jpg  \n",
            "  inflating: hymenoptera_data/val/bees/152789693_220b003452.jpg  \n",
            "  inflating: hymenoptera_data/val/bees/177677657_a38c97e572.jpg  \n",
            "  inflating: hymenoptera_data/val/bees/1799729694_0c40101071.jpg  \n",
            "  inflating: hymenoptera_data/val/bees/181171681_c5a1a82ded.jpg  \n",
            "  inflating: hymenoptera_data/val/bees/187130242_4593a4c610.jpg  \n",
            "  inflating: hymenoptera_data/val/bees/203868383_0fcbb48278.jpg  \n",
            "  inflating: hymenoptera_data/val/bees/2060668999_e11edb10d0.jpg  \n",
            "  inflating: hymenoptera_data/val/bees/2086294791_6f3789d8a6.jpg  \n",
            "  inflating: hymenoptera_data/val/bees/2103637821_8d26ee6b90.jpg  \n",
            "  inflating: hymenoptera_data/val/bees/2104135106_a65eede1de.jpg  \n",
            "  inflating: hymenoptera_data/val/bees/215512424_687e1e0821.jpg  \n",
            "  inflating: hymenoptera_data/val/bees/2173503984_9c6aaaa7e2.jpg  \n",
            "  inflating: hymenoptera_data/val/bees/220376539_20567395d8.jpg  \n",
            "  inflating: hymenoptera_data/val/bees/224841383_d050f5f510.jpg  \n",
            "  inflating: hymenoptera_data/val/bees/2321144482_f3785ba7b2.jpg  \n",
            "  inflating: hymenoptera_data/val/bees/238161922_55fa9a76ae.jpg  \n",
            "  inflating: hymenoptera_data/val/bees/2407809945_fb525ef54d.jpg  \n",
            "  inflating: hymenoptera_data/val/bees/2415414155_1916f03b42.jpg  \n",
            "  inflating: hymenoptera_data/val/bees/2438480600_40a1249879.jpg  \n",
            "  inflating: hymenoptera_data/val/bees/2444778727_4b781ac424.jpg  \n",
            "  inflating: hymenoptera_data/val/bees/2457841282_7867f16639.jpg  \n",
            "  inflating: hymenoptera_data/val/bees/2470492902_3572c90f75.jpg  \n",
            "  inflating: hymenoptera_data/val/bees/2478216347_535c8fe6d7.jpg  \n",
            "  inflating: hymenoptera_data/val/bees/2501530886_e20952b97d.jpg  \n",
            "  inflating: hymenoptera_data/val/bees/2506114833_90a41c5267.jpg  \n",
            "  inflating: hymenoptera_data/val/bees/2509402554_31821cb0b6.jpg  \n",
            "  inflating: hymenoptera_data/val/bees/2525379273_dcb26a516d.jpg  \n",
            "  inflating: hymenoptera_data/val/bees/26589803_5ba7000313.jpg  \n",
            "  inflating: hymenoptera_data/val/bees/2668391343_45e272cd07.jpg  \n",
            "  inflating: hymenoptera_data/val/bees/2670536155_c170f49cd0.jpg  \n",
            "  inflating: hymenoptera_data/val/bees/2685605303_9eed79d59d.jpg  \n",
            "  inflating: hymenoptera_data/val/bees/2702408468_d9ed795f4f.jpg  \n",
            "  inflating: hymenoptera_data/val/bees/2709775832_85b4b50a57.jpg  \n",
            "  inflating: hymenoptera_data/val/bees/2717418782_bd83307d9f.jpg  \n",
            "  inflating: hymenoptera_data/val/bees/272986700_d4d4bf8c4b.jpg  \n",
            "  inflating: hymenoptera_data/val/bees/2741763055_9a7bb00802.jpg  \n",
            "  inflating: hymenoptera_data/val/bees/2745389517_250a397f31.jpg  \n",
            "  inflating: hymenoptera_data/val/bees/2751836205_6f7b5eff30.jpg  \n",
            "  inflating: hymenoptera_data/val/bees/2782079948_8d4e94a826.jpg  \n",
            "  inflating: hymenoptera_data/val/bees/2809496124_5f25b5946a.jpg  \n",
            "  inflating: hymenoptera_data/val/bees/2815838190_0a9889d995.jpg  \n",
            "  inflating: hymenoptera_data/val/bees/2841437312_789699c740.jpg  \n",
            "  inflating: hymenoptera_data/val/bees/2883093452_7e3a1eb53f.jpg  \n",
            "  inflating: hymenoptera_data/val/bees/290082189_f66cb80bfc.jpg  \n",
            "  inflating: hymenoptera_data/val/bees/296565463_d07a7bed96.jpg  \n",
            "  inflating: hymenoptera_data/val/bees/3077452620_548c79fda0.jpg  \n",
            "  inflating: hymenoptera_data/val/bees/348291597_ee836fbb1a.jpg  \n",
            "  inflating: hymenoptera_data/val/bees/350436573_41f4ecb6c8.jpg  \n",
            "  inflating: hymenoptera_data/val/bees/353266603_d3eac7e9a0.jpg  \n",
            "  inflating: hymenoptera_data/val/bees/372228424_16da1f8884.jpg  \n",
            "  inflating: hymenoptera_data/val/bees/400262091_701c00031c.jpg  \n",
            "  inflating: hymenoptera_data/val/bees/416144384_961c326481.jpg  \n",
            "  inflating: hymenoptera_data/val/bees/44105569_16720a960c.jpg  \n",
            "  inflating: hymenoptera_data/val/bees/456097971_860949c4fc.jpg  \n",
            "  inflating: hymenoptera_data/val/bees/464594019_1b24a28bb1.jpg  \n",
            "  inflating: hymenoptera_data/val/bees/485743562_d8cc6b8f73.jpg  \n",
            "  inflating: hymenoptera_data/val/bees/540976476_844950623f.jpg  \n",
            "  inflating: hymenoptera_data/val/bees/54736755_c057723f64.jpg  \n",
            "  inflating: hymenoptera_data/val/bees/57459255_752774f1b2.jpg  \n",
            "  inflating: hymenoptera_data/val/bees/576452297_897023f002.jpg  \n",
            "  inflating: hymenoptera_data/val/bees/586474709_ae436da045.jpg  \n",
            "  inflating: hymenoptera_data/val/bees/590318879_68cf112861.jpg  \n",
            "  inflating: hymenoptera_data/val/bees/59798110_2b6a3c8031.jpg  \n",
            "  inflating: hymenoptera_data/val/bees/603709866_a97c7cfc72.jpg  \n",
            "  inflating: hymenoptera_data/val/bees/603711658_4c8cd2201e.jpg  \n",
            "  inflating: hymenoptera_data/val/bees/65038344_52a45d090d.jpg  \n",
            "  inflating: hymenoptera_data/val/bees/6a00d8341c630a53ef00e553d0beb18834-800wi.jpg  \n",
            "  inflating: hymenoptera_data/val/bees/72100438_73de9f17af.jpg  \n",
            "  inflating: hymenoptera_data/val/bees/759745145_e8bc776ec8.jpg  \n",
            "  inflating: hymenoptera_data/val/bees/936182217_c4caa5222d.jpg  \n",
            "  inflating: hymenoptera_data/val/bees/abeja.jpg  \n"
          ],
          "name": "stdout"
        }
      ]
    },
    {
      "cell_type": "code",
      "metadata": {
        "colab_type": "code",
        "id": "1lKZZSUYZV5b",
        "colab": {}
      },
      "source": [
        "# Преобразование обучающих данных для расширения обучающей выборки и её нормализация\n",
        "# Для валидационной (тестовой) выборки только нормализация\n",
        "data_transforms = {\n",
        "    'train': transforms.Compose([\n",
        "        transforms.RandomResizedCrop(244),\n",
        "        transforms.RandomHorizontalFlip(),\n",
        "        transforms.ToTensor(),\n",
        "        transforms.Normalize([0.485, 0.456, 0.406], [0.229, 0.224, 0.225])\n",
        "    ]),\n",
        "    'val': transforms.Compose([\n",
        "        transforms.Resize(256),\n",
        "        transforms.CenterCrop(244),\n",
        "        transforms.ToTensor(),\n",
        "        transforms.Normalize([0.485, 0.456, 0.406], [0.229, 0.224, 0.225])\n",
        "    ]),\n",
        "}\n",
        "# папка с данными. Если запускаете в колабе, нужно скопировать данные к себе в директорию и примонтировать диск. Если запускаете локально -- просто скачайте данные\n",
        "data_dir = './hymenoptera_data'\n",
        "image_datasets = {x: datasets.ImageFolder(os.path.join(data_dir, x),\n",
        "                                          data_transforms[x])\n",
        "                  for x in ['train', 'val']}\n",
        "# специальный класс для загрузки данных в виде батчей\n",
        "dataloaders = {x: torch.utils.data.DataLoader(image_datasets[x], batch_size=4,\n",
        "                                              shuffle=True, num_workers=4)\n",
        "               for x in ['train', 'val']}\n",
        "dataset_sizes = {x: len(image_datasets[x]) for x in ['train', 'val']}\n",
        "class_names = image_datasets['train'].classes\n",
        "\n",
        "use_gpu = torch.cuda.is_available()"
      ],
      "execution_count": 0,
      "outputs": []
    },
    {
      "cell_type": "markdown",
      "metadata": {
        "colab_type": "text",
        "id": "03FqarW9ZV5e"
      },
      "source": [
        "Размеры обучающей и валидационной выборок:"
      ]
    },
    {
      "cell_type": "code",
      "metadata": {
        "colab_type": "code",
        "id": "MxjRd-5OZV5f",
        "outputId": "e9cdcb1d-5295-4517-cd78-0d552fcb2b1d",
        "colab": {
          "base_uri": "https://localhost:8080/",
          "height": 34
        }
      },
      "source": [
        "print(dataset_sizes)"
      ],
      "execution_count": 11,
      "outputs": [
        {
          "output_type": "stream",
          "text": [
            "{'train': 244, 'val': 153}\n"
          ],
          "name": "stdout"
        }
      ]
    },
    {
      "cell_type": "markdown",
      "metadata": {
        "colab_type": "text",
        "id": "vx3QiNAcZV5k"
      },
      "source": [
        "**Вопрос (на понимание кода выше):**  \n",
        "1. В DataLoader() выше стоит \"shuffle=True\". Для чего это нужно?\n",
        "2. Сколько картинок будет в каждом батче?"
      ]
    },
    {
      "cell_type": "markdown",
      "metadata": {
        "colab_type": "text",
        "id": "IZPe4pfoZV5l"
      },
      "source": [
        "**Ответ:** 1) зашафлить муравьев и пчёл\n",
        "2) 244/4,153/4"
      ]
    },
    {
      "cell_type": "markdown",
      "metadata": {
        "colab_type": "text",
        "id": "GXqEVA1ZZV5m"
      },
      "source": [
        "* Посмотрим на картинки из датасета:"
      ]
    },
    {
      "cell_type": "code",
      "metadata": {
        "colab_type": "code",
        "id": "wQG2_RrvZV5n",
        "outputId": "a0b74a46-8b71-4977-8cd7-f35491398943",
        "colab": {
          "base_uri": "https://localhost:8080/",
          "height": 274
        }
      },
      "source": [
        "def imshow(inp, title=None):\n",
        "    \"\"\"Imshow for Tensor.\"\"\"\n",
        "    inp = inp.numpy().transpose((1, 2, 0))\n",
        "    mean = np.array([0.485, 0.456, 0.406])\n",
        "    std = np.array([0.229, 0.224, 0.225])\n",
        "    inp = std * inp + mean\n",
        "    inp = np.clip(inp, 0, 1)\n",
        "    plt.figure(figsize=(15, 12))\n",
        "    plt.imshow(inp)\n",
        "    if title is not None:\n",
        "        plt.title(title)\n",
        "    plt.pause(0.001)\n",
        "\n",
        "\n",
        "# Получим 1 батч (картнки-метки) из обучающей выборки\n",
        "inputs, classes = next(iter(dataloaders['train']))\n",
        "\n",
        "# Расположим картинки рядом\n",
        "out = torchvision.utils.make_grid(inputs)\n",
        "\n",
        "imshow(out, title=[class_names[x] for x in classes])"
      ],
      "execution_count": 12,
      "outputs": [
        {
          "output_type": "display_data",
          "data": {
            "image/png": "[encoded data removed]",
            "text/plain": [
              "<Figure size 1080x864 with 1 Axes>"
            ]
          },
          "metadata": {
            "tags": [],
            "needs_background": "light"
          }
        }
      ]
    },
    {
      "cell_type": "code",
      "metadata": {
        "colab_type": "code",
        "id": "KqOOeBFpZV6T",
        "outputId": "5d30ae03-6c1f-4278-e470-992bb255eddc",
        "colab": {
          "base_uri": "https://localhost:8080/",
          "height": 408
        }
      },
      "source": [
        "for i in dataloaders['train']:\n",
        "    print(i[0][0])\n",
        "    break"
      ],
      "execution_count": 13,
      "outputs": [
        {
          "output_type": "stream",
          "text": [
            "tensor([[[ 1.6495,  1.7009,  1.7694,  ...,  1.6667,  1.6153,  1.5982],\n",
            "         [ 1.5468,  1.6495,  1.7865,  ...,  1.7009,  1.6324,  1.6324],\n",
            "         [ 1.3413,  1.4440,  1.6153,  ...,  1.6838,  1.5982,  1.5468],\n",
            "         ...,\n",
            "         [ 1.1529,  0.5193,  0.6049,  ..., -1.1075, -1.1760, -1.0390],\n",
            "         [ 0.4679,  0.2111,  0.4851,  ..., -1.0562, -1.0562, -1.1589],\n",
            "         [ 0.5536,  0.8104,  0.6734,  ..., -1.1075, -1.1589, -1.3302]],\n",
            "\n",
            "        [[ 1.5882,  1.6057,  1.6758,  ...,  1.5357,  1.4832,  1.4307],\n",
            "         [ 1.3782,  1.4832,  1.6232,  ...,  1.5357,  1.4657,  1.4482],\n",
            "         [ 1.2031,  1.2906,  1.4482,  ...,  1.5182,  1.4307,  1.3431],\n",
            "         ...,\n",
            "         [ 1.0980,  0.4153,  0.4153,  ..., -1.1954, -1.3179, -1.2654],\n",
            "         [ 0.2927,  0.1527,  0.5378,  ..., -1.2304, -1.2654, -1.4055],\n",
            "         [ 0.1877,  0.4503,  0.3452,  ..., -1.2829, -1.3529, -1.5630]],\n",
            "\n",
            "        [[ 1.2457,  1.2631,  1.3328,  ...,  1.1759,  1.1237,  1.0714],\n",
            "         [ 1.0365,  1.0888,  1.2457,  ...,  1.2282,  1.1411,  1.0888],\n",
            "         [ 0.8971,  0.9145,  1.0714,  ...,  1.1759,  1.0888,  1.0191],\n",
            "         ...,\n",
            "         [ 0.6531,  0.0256,  0.0779,  ..., -1.4036, -1.4384, -1.2990],\n",
            "         [-0.1487, -0.1661,  0.1999,  ..., -1.2816, -1.3513, -1.5953],\n",
            "         [-0.1487,  0.1128,  0.0953,  ..., -1.3164, -1.3861, -1.6302]]])\n"
          ],
          "name": "stdout"
        }
      ]
    },
    {
      "cell_type": "markdown",
      "metadata": {
        "id": "6exRIPRbSgzS",
        "colab_type": "text"
      },
      "source": [
        "### Обучение моделей"
      ]
    },
    {
      "cell_type": "markdown",
      "metadata": {
        "colab_type": "text",
        "id": "UzP9AdAwZV5s"
      },
      "source": [
        "Следующая функция будет использоваться для обучения модели. Аргументы:  \n",
        "* model $-$ нейросеть\n",
        "* loss $-$ оптимизируемая функция (criterion, cost function, objective)\n",
        "* optimizer $-$ оптимизационный алгоритм\n",
        "* scheduler $-$ политика изменения learning_rate\n",
        "* num_epochs $-$ количество итераций обучения"
      ]
    },
    {
      "cell_type": "markdown",
      "metadata": {
        "colab_type": "text",
        "id": "Q6kaT01UZV5u"
      },
      "source": [
        "**Задание**: Вам нужно модифицировать эту функцию, чтобы она возвращала ещё и массивы loss'а на обучающей и валидационной выборках (чтобы потом Вы могли нарисовать графики). Можете модифицировать эту функцию как угодно, лишь бы она правильно работала."
      ]
    },
    {
      "cell_type": "code",
      "metadata": {
        "colab_type": "code",
        "id": "yGD0lrIaZV5u",
        "colab": {}
      },
      "source": [
        "def train_model(model, criterion, optimizer, scheduler, num_epochs=25):\n",
        "    since = time.time()\n",
        "\n",
        "    best_model_wts = model.state_dict()\n",
        "    best_acc = 0.0\n",
        "    \n",
        "    #Ваш код здесь\n",
        "    losses = {'train': [], 'val': []}\n",
        "\n",
        "    for epoch in range(num_epochs):\n",
        "        print('Epoch {}/{}'.format(epoch, num_epochs - 1))\n",
        "        print('-' * 10)\n",
        "\n",
        "        # каждя эпоха имеет обучающую и тестовую стадии\n",
        "        for phase in ['train', 'val']:\n",
        "            if phase == 'train':\n",
        "                scheduler.step()\n",
        "                model.train(True)  # установаить модель в режим обучения\n",
        "            else:\n",
        "                model.train(False)  # установить модель в режим предсказания\n",
        "\n",
        "            running_loss = 0.0\n",
        "            running_corrects = 0\n",
        "\n",
        "            # итерируемся по батчам\n",
        "            for data in dataloaders[phase]:\n",
        "                # получаем картинки и метки\n",
        "                inputs, labels = data\n",
        "\n",
        "                # оборачиваем в переменные\n",
        "                if use_gpu:\n",
        "                    inputs = inputs.cuda()\n",
        "                    labels = labels.cuda()\n",
        "                else:\n",
        "                    inputs, labels = inputs, labels\n",
        "\n",
        "                # инициализируем градиенты параметров\n",
        "                optimizer.zero_grad()\n",
        "\n",
        "                # forward pass\n",
        "                outputs = model(inputs)\n",
        "                _, preds = torch.max(outputs.data, 1)\n",
        "                loss = criterion(outputs, labels)\n",
        "\n",
        "                # backward pass + оптимизируем только если это стадия обучения\n",
        "                if phase == 'train':\n",
        "                    loss.backward()\n",
        "                    optimizer.step()\n",
        "\n",
        "                # статистика\n",
        "                running_loss += loss.item()\n",
        "                running_corrects += int(torch.sum(preds == labels.data))\n",
        "\n",
        "            epoch_loss = running_loss / dataset_sizes[phase]\n",
        "            epoch_acc = running_corrects / dataset_sizes[phase]\n",
        "            \n",
        "            # Ваш код здесь\n",
        "            losses[phase].append(epoch_loss)\n",
        "            \n",
        "            print('{} Loss: {:.4f} Acc: {:.4f}'.format(\n",
        "                phase, epoch_loss, epoch_acc))\n",
        "\n",
        "            # если достиглось лучшее качество, то запомним веса модели\n",
        "            if phase == 'val' and epoch_acc > best_acc:\n",
        "                best_acc = epoch_acc\n",
        "                best_model_wts = model.state_dict()\n",
        "\n",
        "        print()\n",
        "\n",
        "    time_elapsed = time.time() - since\n",
        "    print('Training complete in {:.0f}m {:.0f}s'.format(\n",
        "        time_elapsed // 60, time_elapsed % 60))\n",
        "    print('Best val Acc: {:4f}'.format(best_acc))\n",
        "\n",
        "    # загрузим лучшие веса модели\n",
        "    model.load_state_dict(best_model_wts)\n",
        "    return model, losses"
      ],
      "execution_count": 0,
      "outputs": []
    },
    {
      "cell_type": "markdown",
      "metadata": {
        "colab_type": "text",
        "id": "7VsQHae5ZV5x"
      },
      "source": [
        "* Функция для отрисовки тестовых изображений и предсказаний для них:"
      ]
    },
    {
      "cell_type": "code",
      "metadata": {
        "colab_type": "code",
        "id": "Pyth5M_FZV5y",
        "colab": {}
      },
      "source": [
        "def visualize_model(model, num_images=6):\n",
        "    images_so_far = 0\n",
        "    fig = plt.figure()\n",
        "\n",
        "    for i, data in enumerate(dataloaders['val']):\n",
        "        inputs, labels = data\n",
        "        if use_gpu:\n",
        "            inputs, labels = Variable(inputs.cuda()), Variable(labels.cuda())\n",
        "        else:\n",
        "            inputs, labels = Variable(inputs), Variable(labels)\n",
        "\n",
        "        outputs = model(inputs)\n",
        "        _, preds = torch.max(outputs.data, 1)\n",
        "\n",
        "        for j in range(inputs.size()[0]):\n",
        "            images_so_far += 1\n",
        "            ax = plt.subplot(num_images // 2, 2, images_so_far)\n",
        "            ax.axis('off')\n",
        "            ax.set_title('predicted: {}'.format(class_names[preds[j]]))\n",
        "            imshow(inputs.cpu().data[j])\n",
        "\n",
        "            if images_so_far == num_images:\n",
        "                return"
      ],
      "execution_count": 0,
      "outputs": []
    },
    {
      "cell_type": "markdown",
      "metadata": {
        "id": "h6G4XJbmSgz_",
        "colab_type": "text"
      },
      "source": [
        "* Функция для измерения точности модели на валидационном датасете"
      ]
    },
    {
      "cell_type": "code",
      "metadata": {
        "id": "qAzhvxyASg0F",
        "colab_type": "code",
        "colab": {}
      },
      "source": [
        "def evaluate(model):\n",
        "    model.train(False)\n",
        "    \n",
        "    runninig_correct = 0\n",
        "    for data in dataloaders['val']:\n",
        "        # получаем картинки и метки\n",
        "        inputs, labels = data\n",
        "        \n",
        "        # переносим на gpu, если возможно\n",
        "        if use_gpu:\n",
        "            inputs = inputs.cuda()\n",
        "            labels = labels.cuda()\n",
        "            \n",
        "        # forard pass\n",
        "        output = model(inputs)\n",
        "        _, predicted = torch.max(output, 1)\n",
        "        \n",
        "        runninig_correct += int(torch.sum(predicted == labels))\n",
        "        \n",
        "    return runninig_correct / dataset_sizes['val']"
      ],
      "execution_count": 0,
      "outputs": []
    },
    {
      "cell_type": "markdown",
      "metadata": {
        "colab_type": "text",
        "id": "Afrq3SA1ZV53"
      },
      "source": [
        "### Задание"
      ]
    },
    {
      "cell_type": "markdown",
      "metadata": {
        "colab_type": "text",
        "id": "kNCYHC8oZV53"
      },
      "source": [
        "Для каждой из следующих нейросетей:\n",
        "* **AlexNet** (уже сделано в примере)\n",
        "* **VGG16**\n",
        "* **Inception_v3**\n",
        "\n",
        "Напишите код и выведите результат (график лосса, accuracy и вывод примера классификации картинок с визализацией (с помощью функции `vizualize_model()`)) для трёх способов:\n",
        "* Использование готовой нейросети **\"из коробки\"**\n",
        "* Использование нейросети как **Feature Extractor**\n",
        "* **Fine Tuning** нейросети\n",
        "\n",
        "Для каждого пункта нужно:\n",
        "* сделать с сетью то, что нужно в пункте (\"из коробки\", FE или FT)\n",
        "* вывести график loss'а на обучающей и на валидационной выборке\n",
        "* вывести качество модели (accuracy) на валидационной (тестовой) выборке\n",
        "* (по желанию) использовать функцию visualize_model()"
      ]
    },
    {
      "cell_type": "markdown",
      "metadata": {
        "colab_type": "text",
        "id": "8XzWmgE7ZV54"
      },
      "source": [
        "### AlexNet"
      ]
    },
    {
      "cell_type": "markdown",
      "metadata": {
        "colab_type": "text",
        "id": "g6zW24cSZV56"
      },
      "source": [
        "*ПРИМЕЧАНИЕ: Здесь не выведены графики loss'а и не использована visualize_model(). От Вас это ожидается.*"
      ]
    },
    {
      "cell_type": "markdown",
      "metadata": {
        "colab_type": "text",
        "id": "FmLx0a_uZV56"
      },
      "source": [
        "Загрузка модели:"
      ]
    },
    {
      "cell_type": "code",
      "metadata": {
        "colab_type": "code",
        "id": "1mHbrvXAZV57",
        "colab": {
          "base_uri": "https://localhost:8080/",
          "height": 83,
          "referenced_widgets": [
            "78637d50576b4fe18682b731ca629d0b",
            "c477dcd689bc4eba9e1d04469a27c9b9",
            "7bab387ae4f94e14b0431cc44db7ccab",
            "99a306cf018f44d1868a892e95e2ffa4",
            "7a6dce58e13142e0a115727472b1a19b",
            "f83ea97242e940da8bf44d03e28631e0",
            "c88872752258420c99e47450f61b5b23",
            "2ca3ac41220946ddbf475acab8c4c6be"
          ]
        },
        "outputId": "dc9ea73c-ff95-4667-fc66-9463781192c5"
      },
      "source": [
        "model = models.alexnet(pretrained=True)"
      ],
      "execution_count": 17,
      "outputs": [
        {
          "output_type": "stream",
          "text": [
            "Downloading: \"https://download.pytorch.org/models/alexnet-owt-4df8aa71.pth\" to /root/.cache/torch/checkpoints/alexnet-owt-4df8aa71.pth\n"
          ],
          "name": "stderr"
        },
        {
          "output_type": "display_data",
          "data": {
            "application/vnd.jupyter.widget-view+json": {
              "model_id": "78637d50576b4fe18682b731ca629d0b",
              "version_minor": 0,
              "version_major": 2
            },
            "text/plain": [
              "HBox(children=(IntProgress(value=0, max=244418560), HTML(value='')))"
            ]
          },
          "metadata": {
            "tags": []
          }
        },
        {
          "output_type": "stream",
          "text": [
            "\n"
          ],
          "name": "stdout"
        }
      ]
    },
    {
      "cell_type": "markdown",
      "metadata": {
        "colab_type": "text",
        "id": "W_g9XqLsZV5-"
      },
      "source": [
        "Посмотрим, что внутри:"
      ]
    },
    {
      "cell_type": "code",
      "metadata": {
        "colab_type": "code",
        "id": "N-OLqslsZV6A",
        "outputId": "a387c4e3-5007-4c98-c84b-05a8edee513a",
        "colab": {
          "base_uri": "https://localhost:8080/",
          "height": 476
        }
      },
      "source": [
        "model"
      ],
      "execution_count": 18,
      "outputs": [
        {
          "output_type": "execute_result",
          "data": {
            "text/plain": [
              "AlexNet(\n",
              "  (features): Sequential(\n",
              "    (0): Conv2d(3, 64, kernel_size=(11, 11), stride=(4, 4), padding=(2, 2))\n",
              "    (1): ReLU(inplace=True)\n",
              "    (2): MaxPool2d(kernel_size=3, stride=2, padding=0, dilation=1, ceil_mode=False)\n",
              "    (3): Conv2d(64, 192, kernel_size=(5, 5), stride=(1, 1), padding=(2, 2))\n",
              "    (4): ReLU(inplace=True)\n",
              "    (5): MaxPool2d(kernel_size=3, stride=2, padding=0, dilation=1, ceil_mode=False)\n",
              "    (6): Conv2d(192, 384, kernel_size=(3, 3), stride=(1, 1), padding=(1, 1))\n",
              "    (7): ReLU(inplace=True)\n",
              "    (8): Conv2d(384, 256, kernel_size=(3, 3), stride=(1, 1), padding=(1, 1))\n",
              "    (9): ReLU(inplace=True)\n",
              "    (10): Conv2d(256, 256, kernel_size=(3, 3), stride=(1, 1), padding=(1, 1))\n",
              "    (11): ReLU(inplace=True)\n",
              "    (12): MaxPool2d(kernel_size=3, stride=2, padding=0, dilation=1, ceil_mode=False)\n",
              "  )\n",
              "  (avgpool): AdaptiveAvgPool2d(output_size=(6, 6))\n",
              "  (classifier): Sequential(\n",
              "    (0): Dropout(p=0.5, inplace=False)\n",
              "    (1): Linear(in_features=9216, out_features=4096, bias=True)\n",
              "    (2): ReLU(inplace=True)\n",
              "    (3): Dropout(p=0.5, inplace=False)\n",
              "    (4): Linear(in_features=4096, out_features=4096, bias=True)\n",
              "    (5): ReLU(inplace=True)\n",
              "    (6): Linear(in_features=4096, out_features=1000, bias=True)\n",
              "  )\n",
              ")"
            ]
          },
          "metadata": {
            "tags": []
          },
          "execution_count": 18
        }
      ]
    },
    {
      "cell_type": "markdown",
      "metadata": {
        "colab_type": "text",
        "id": "O9LYMESWZV6E"
      },
      "source": [
        "Видим, что на вход классификатору (classifier) подаётся *9216 признаков*. Это и будет размер входа для нашего нового классификатора."
      ]
    },
    {
      "cell_type": "markdown",
      "metadata": {
        "colab_type": "text",
        "id": "FA5qB523ZV6G"
      },
      "source": [
        "* **Fine Tuning** способ"
      ]
    },
    {
      "cell_type": "markdown",
      "metadata": {
        "colab_type": "text",
        "id": "AxucpA3FZV6H"
      },
      "source": [
        "Сконфигурируем - изменим FC-слой и зададим *cost function* и *оптимизирующий алгоритм*:"
      ]
    },
    {
      "cell_type": "markdown",
      "metadata": {
        "colab_type": "text",
        "id": "6JKPZYgVZV6J"
      },
      "source": [
        "(*по умолчанию backpropagation распространяется на все слои, поэтому здесь мы только заменяем FC-слой на свой классификатор*)"
      ]
    },
    {
      "cell_type": "code",
      "metadata": {
        "colab_type": "code",
        "id": "ppIGmkz4ZV6K",
        "colab": {}
      },
      "source": [
        "# num_features -- это размерность вектора фич, поступающего на вход FC-слою\n",
        "num_features = 9216\n",
        "# Заменяем Fully-Connected слой на наш линейный классификатор\n",
        "model.classifier = nn.Linear(num_features, 2)\n",
        "\n",
        "# Использовать ли GPU\n",
        "if use_gpu:\n",
        "    model = model.cuda()\n",
        "\n",
        "# В качестве cost function используем кросс-энтропию\n",
        "loss_fn = nn.CrossEntropyLoss()\n",
        "\n",
        "# В качестве оптимизатора - стохастический градиентный спуск\n",
        "optimizer_ft = optim.SGD(model.parameters(), lr=0.001, momentum=0.9)\n",
        "\n",
        "# Умножает learning_rate на 0.1 каждые 7 эпох (это одна из эвристик, не было на лекциях)\n",
        "exp_lr_scheduler = lr_scheduler.StepLR(optimizer_ft, step_size=7, gamma=0.1)"
      ],
      "execution_count": 0,
      "outputs": []
    },
    {
      "cell_type": "code",
      "metadata": {
        "colab_type": "code",
        "id": "DXDZK7JVZV6X",
        "outputId": "8489092c-6416-42ea-9b8d-7c2a3e2b3f14",
        "scrolled": true,
        "colab": {
          "base_uri": "https://localhost:8080/",
          "height": 1000
        }
      },
      "source": [
        "model, losses = train_model(model, loss_fn, optimizer_ft, exp_lr_scheduler, num_epochs=25)"
      ],
      "execution_count": 20,
      "outputs": [
        {
          "output_type": "stream",
          "text": [
            "Epoch 0/24\n",
            "----------\n"
          ],
          "name": "stdout"
        },
        {
          "output_type": "stream",
          "text": [
            "/usr/local/lib/python3.6/dist-packages/torch/optim/lr_scheduler.py:123: UserWarning: Detected call of `lr_scheduler.step()` before `optimizer.step()`. In PyTorch 1.1.0 and later, you should call them in the opposite order: `optimizer.step()` before `lr_scheduler.step()`.  Failure to do this will result in PyTorch skipping the first value of the learning rate schedule. See more details at https://pytorch.org/docs/stable/optim.html#how-to-adjust-learning-rate\n",
            "  \"https://pytorch.org/docs/stable/optim.html#how-to-adjust-learning-rate\", UserWarning)\n"
          ],
          "name": "stderr"
        },
        {
          "output_type": "stream",
          "text": [
            "train Loss: 0.2454 Acc: 0.5943\n",
            "val Loss: 0.1721 Acc: 0.5621\n",
            "\n",
            "Epoch 1/24\n",
            "----------\n",
            "train Loss: 0.1748 Acc: 0.4385\n",
            "val Loss: 0.1764 Acc: 0.4641\n",
            "\n",
            "Epoch 2/24\n",
            "----------\n",
            "train Loss: 0.1721 Acc: 0.4877\n",
            "val Loss: 0.1772 Acc: 0.5686\n",
            "\n",
            "Epoch 3/24\n",
            "----------\n",
            "train Loss: 0.1723 Acc: 0.4918\n",
            "val Loss: 0.1763 Acc: 0.5686\n",
            "\n",
            "Epoch 4/24\n",
            "----------\n",
            "train Loss: 0.1712 Acc: 0.5205\n",
            "val Loss: 0.1793 Acc: 0.5490\n",
            "\n",
            "Epoch 5/24\n",
            "----------\n",
            "train Loss: 0.1712 Acc: 0.5164\n",
            "val Loss: 0.1764 Acc: 0.6144\n",
            "\n",
            "Epoch 6/24\n",
            "----------\n",
            "train Loss: 0.1692 Acc: 0.6107\n",
            "val Loss: 0.1757 Acc: 0.6732\n",
            "\n",
            "Epoch 7/24\n",
            "----------\n",
            "train Loss: 0.1677 Acc: 0.6066\n",
            "val Loss: 0.1733 Acc: 0.6536\n",
            "\n",
            "Epoch 8/24\n",
            "----------\n",
            "train Loss: 0.1632 Acc: 0.6557\n",
            "val Loss: 0.1703 Acc: 0.6405\n",
            "\n",
            "Epoch 9/24\n",
            "----------\n",
            "train Loss: 0.1609 Acc: 0.6352\n",
            "val Loss: 0.1707 Acc: 0.6078\n",
            "\n",
            "Epoch 10/24\n",
            "----------\n",
            "train Loss: 0.1619 Acc: 0.6434\n",
            "val Loss: 0.1681 Acc: 0.6471\n",
            "\n",
            "Epoch 11/24\n",
            "----------\n",
            "train Loss: 0.1615 Acc: 0.6270\n",
            "val Loss: 0.1674 Acc: 0.6601\n",
            "\n",
            "Epoch 12/24\n",
            "----------\n",
            "train Loss: 0.1586 Acc: 0.6762\n",
            "val Loss: 0.1668 Acc: 0.6340\n",
            "\n",
            "Epoch 13/24\n",
            "----------\n",
            "train Loss: 0.1578 Acc: 0.6393\n",
            "val Loss: 0.1684 Acc: 0.6405\n",
            "\n",
            "Epoch 14/24\n",
            "----------\n",
            "train Loss: 0.1572 Acc: 0.6434\n",
            "val Loss: 0.1682 Acc: 0.6340\n",
            "\n",
            "Epoch 15/24\n",
            "----------\n",
            "train Loss: 0.1564 Acc: 0.6598\n",
            "val Loss: 0.1705 Acc: 0.6340\n",
            "\n",
            "Epoch 16/24\n",
            "----------\n",
            "train Loss: 0.1548 Acc: 0.6721\n",
            "val Loss: 0.1686 Acc: 0.6471\n",
            "\n",
            "Epoch 17/24\n",
            "----------\n",
            "train Loss: 0.1537 Acc: 0.6762\n",
            "val Loss: 0.1690 Acc: 0.6405\n",
            "\n",
            "Epoch 18/24\n",
            "----------\n",
            "train Loss: 0.1550 Acc: 0.6721\n",
            "val Loss: 0.1702 Acc: 0.6013\n",
            "\n",
            "Epoch 19/24\n",
            "----------\n",
            "train Loss: 0.1579 Acc: 0.6598\n",
            "val Loss: 0.1667 Acc: 0.6275\n",
            "\n",
            "Epoch 20/24\n",
            "----------\n",
            "train Loss: 0.1554 Acc: 0.6762\n",
            "val Loss: 0.1696 Acc: 0.6340\n",
            "\n",
            "Epoch 21/24\n",
            "----------\n",
            "train Loss: 0.1555 Acc: 0.6475\n",
            "val Loss: 0.1766 Acc: 0.6340\n",
            "\n",
            "Epoch 22/24\n",
            "----------\n",
            "train Loss: 0.1559 Acc: 0.6516\n",
            "val Loss: 0.1663 Acc: 0.6340\n",
            "\n",
            "Epoch 23/24\n",
            "----------\n",
            "train Loss: 0.1533 Acc: 0.6680\n",
            "val Loss: 0.1707 Acc: 0.6340\n",
            "\n",
            "Epoch 24/24\n",
            "----------\n",
            "train Loss: 0.1562 Acc: 0.6475\n",
            "val Loss: 0.1691 Acc: 0.6405\n",
            "\n",
            "Training complete in 1m 22s\n",
            "Best val Acc: 0.673203\n"
          ],
          "name": "stdout"
        }
      ]
    },
    {
      "cell_type": "code",
      "metadata": {
        "id": "_MsDT40aSg1n",
        "colab_type": "code",
        "outputId": "ce5efd49-7a72-4654-cf88-4a0bba709926",
        "colab": {
          "base_uri": "https://localhost:8080/",
          "height": 282
        }
      },
      "source": [
        "# Построим график лосса при обучении и валидации\n",
        "\n",
        "#Ваш код здесь\n",
        "plt.plot(losses['train'])\n",
        "plt.plot(losses['val'])"
      ],
      "execution_count": 21,
      "outputs": [
        {
          "output_type": "execute_result",
          "data": {
            "text/plain": [
              "[<matplotlib.lines.Line2D at 0x7f776d520978>]"
            ]
          },
          "metadata": {
            "tags": []
          },
          "execution_count": 21
        },
        {
          "output_type": "display_data",
          "data": {
            "image/png": "[encoded data removed]",
            "text/plain": [
              "<Figure size 432x288 with 1 Axes>"
            ]
          },
          "metadata": {
            "tags": [],
            "needs_background": "light"
          }
        }
      ]
    },
    {
      "cell_type": "code",
      "metadata": {
        "id": "dNd48MpZSg12",
        "colab_type": "code",
        "colab": {}
      },
      "source": [
        "torch.save(model.state_dict(), 'AlexNet_fine_tune.pth')"
      ],
      "execution_count": 0,
      "outputs": []
    },
    {
      "cell_type": "code",
      "metadata": {
        "id": "BxIMaFmZSg19",
        "colab_type": "code",
        "colab": {
          "base_uri": "https://localhost:8080/",
          "height": 34
        },
        "outputId": "ffcc239b-994b-4b40-fd7f-60ace9e76de4"
      },
      "source": [
        "model.load_state_dict(torch.load('AlexNet_fine_tune.pth'))"
      ],
      "execution_count": 23,
      "outputs": [
        {
          "output_type": "execute_result",
          "data": {
            "text/plain": [
              "<All keys matched successfully>"
            ]
          },
          "metadata": {
            "tags": []
          },
          "execution_count": 23
        }
      ]
    },
    {
      "cell_type": "code",
      "metadata": {
        "scrolled": false,
        "id": "cVrjg7P9Sg2E",
        "colab_type": "code",
        "outputId": "291cf79e-d4d7-43fc-f5eb-26b8b9422ea9",
        "colab": {
          "base_uri": "https://localhost:8080/",
          "height": 34
        }
      },
      "source": [
        "print(\"Accuracy: {0:.4f}\".format(evaluate(model)))"
      ],
      "execution_count": 24,
      "outputs": [
        {
          "output_type": "stream",
          "text": [
            "Accuracy: 0.6405\n"
          ],
          "name": "stdout"
        }
      ]
    },
    {
      "cell_type": "markdown",
      "metadata": {
        "colab_type": "text",
        "id": "3wy3MHj1ZV6d"
      },
      "source": [
        "Видим, что Fine Tuning AlexNet'а не дал хороших результатов, поскольку качество получается ~70%, что маловато для свёрточной нейросети для задачи классификации картинок. Посмотрим, как будет с AlexNet в роли Feature Extractor'а."
      ]
    },
    {
      "cell_type": "markdown",
      "metadata": {
        "colab_type": "text",
        "id": "vyM6SLNZZV6g"
      },
      "source": [
        "* **Feature Extractor** способ:"
      ]
    },
    {
      "cell_type": "code",
      "metadata": {
        "colab_type": "code",
        "id": "81XVFTJiZV6h",
        "colab": {}
      },
      "source": [
        "model_extractor = models.alexnet(pretrained=True)"
      ],
      "execution_count": 0,
      "outputs": []
    },
    {
      "cell_type": "markdown",
      "metadata": {
        "colab_type": "text",
        "id": "6XUzgLSlZV6m"
      },
      "source": [
        "Помним, что по-умолчанию все слои нейросети обучаются заново:"
      ]
    },
    {
      "cell_type": "code",
      "metadata": {
        "colab_type": "code",
        "id": "8kiGUDNqZV6n",
        "colab": {
          "base_uri": "https://localhost:8080/",
          "height": 289
        },
        "outputId": "53a771fd-035f-4f12-b7fd-17dd9366f835"
      },
      "source": [
        "for param in model_extractor.parameters():\n",
        "    print(param.requires_grad)"
      ],
      "execution_count": 26,
      "outputs": [
        {
          "output_type": "stream",
          "text": [
            "True\n",
            "True\n",
            "True\n",
            "True\n",
            "True\n",
            "True\n",
            "True\n",
            "True\n",
            "True\n",
            "True\n",
            "True\n",
            "True\n",
            "True\n",
            "True\n",
            "True\n",
            "True\n"
          ],
          "name": "stdout"
        }
      ]
    },
    {
      "cell_type": "markdown",
      "metadata": {
        "colab_type": "text",
        "id": "qOTXa28JZV6s"
      },
      "source": [
        "Сделаем так, чтобы на них *не распространялся backpropagation* (заморозим их), и подменим классификатор (ведь старый уже с весами для ImageNet'а)."
      ]
    },
    {
      "cell_type": "code",
      "metadata": {
        "colab_type": "code",
        "id": "K7rW4vKaZV6u",
        "colab": {}
      },
      "source": [
        "# замораживаем параметры (веса)\n",
        "for param in model_extractor.parameters():\n",
        "    param.requires_grad = False\n",
        "\n",
        "# num_features -- это размерность вектора фич, поступающего на вход FC-слою\n",
        "num_features = 9216\n",
        "# Заменяем Fully-Connected слой на наш линейный классификатор\n",
        "model_extractor.classifier = nn.Linear(num_features, 2)\n",
        "\n",
        "# Использовать ли GPU\n",
        "if use_gpu:\n",
        "    model_extractor = model_extractor.cuda()\n",
        "\n",
        "# В качестве cost function используем кросс-энтропию\n",
        "loss_fn = nn.CrossEntropyLoss()\n",
        "\n",
        "# Обучаем только классификатор\n",
        "optimizer = optim.SGD(model_extractor.classifier.parameters(), lr=0.001, momentum=0.9)\n",
        "\n",
        "# Умножает learning_rate на 0.1 каждые 7 эпох (это одна из эвристик, не было на лекциях)\n",
        "exp_lr_scheduler = lr_scheduler.StepLR(optimizer, step_size=7, gamma=0.1)"
      ],
      "execution_count": 0,
      "outputs": []
    },
    {
      "cell_type": "code",
      "metadata": {
        "colab_type": "code",
        "id": "bVL7TjRIZV6z",
        "outputId": "36f970fc-7fa7-4c06-c246-85cf2cd56aa9",
        "colab": {
          "base_uri": "https://localhost:8080/",
          "height": 1000
        }
      },
      "source": [
        "%%time\n",
        "model_extractor,losses = train_model(model_extractor, loss_fn, optimizer, exp_lr_scheduler, num_epochs=25)"
      ],
      "execution_count": 28,
      "outputs": [
        {
          "output_type": "stream",
          "text": [
            "Epoch 0/24\n",
            "----------\n"
          ],
          "name": "stdout"
        },
        {
          "output_type": "stream",
          "text": [
            "/usr/local/lib/python3.6/dist-packages/torch/optim/lr_scheduler.py:123: UserWarning: Detected call of `lr_scheduler.step()` before `optimizer.step()`. In PyTorch 1.1.0 and later, you should call them in the opposite order: `optimizer.step()` before `lr_scheduler.step()`.  Failure to do this will result in PyTorch skipping the first value of the learning rate schedule. See more details at https://pytorch.org/docs/stable/optim.html#how-to-adjust-learning-rate\n",
            "  \"https://pytorch.org/docs/stable/optim.html#how-to-adjust-learning-rate\", UserWarning)\n"
          ],
          "name": "stderr"
        },
        {
          "output_type": "stream",
          "text": [
            "train Loss: 0.8273 Acc: 0.7418\n",
            "val Loss: 0.8724 Acc: 0.8562\n",
            "\n",
            "Epoch 1/24\n",
            "----------\n",
            "train Loss: 0.8428 Acc: 0.8607\n",
            "val Loss: 0.8673 Acc: 0.8497\n",
            "\n",
            "Epoch 2/24\n",
            "----------\n",
            "train Loss: 0.8811 Acc: 0.8402\n",
            "val Loss: 0.9505 Acc: 0.8366\n",
            "\n",
            "Epoch 3/24\n",
            "----------\n",
            "train Loss: 0.8165 Acc: 0.8689\n",
            "val Loss: 1.1990 Acc: 0.7843\n",
            "\n",
            "Epoch 4/24\n",
            "----------\n",
            "train Loss: 0.8850 Acc: 0.8525\n",
            "val Loss: 1.6470 Acc: 0.8039\n",
            "\n",
            "Epoch 5/24\n",
            "----------\n",
            "train Loss: 1.0645 Acc: 0.8238\n",
            "val Loss: 0.7738 Acc: 0.8824\n",
            "\n",
            "Epoch 6/24\n",
            "----------\n",
            "train Loss: 0.6623 Acc: 0.8811\n",
            "val Loss: 0.6807 Acc: 0.9281\n",
            "\n",
            "Epoch 7/24\n",
            "----------\n",
            "train Loss: 0.3328 Acc: 0.9139\n",
            "val Loss: 0.6842 Acc: 0.9150\n",
            "\n",
            "Epoch 8/24\n",
            "----------\n",
            "train Loss: 0.6863 Acc: 0.8852\n",
            "val Loss: 0.6640 Acc: 0.9085\n",
            "\n",
            "Epoch 9/24\n",
            "----------\n",
            "train Loss: 0.4327 Acc: 0.9303\n",
            "val Loss: 0.6452 Acc: 0.9216\n",
            "\n",
            "Epoch 10/24\n",
            "----------\n",
            "train Loss: 0.3575 Acc: 0.9262\n",
            "val Loss: 0.6441 Acc: 0.9150\n",
            "\n",
            "Epoch 11/24\n",
            "----------\n",
            "train Loss: 0.2612 Acc: 0.9221\n",
            "val Loss: 0.6598 Acc: 0.9150\n",
            "\n",
            "Epoch 12/24\n",
            "----------\n",
            "train Loss: 0.3363 Acc: 0.9098\n",
            "val Loss: 0.6704 Acc: 0.9150\n",
            "\n",
            "Epoch 13/24\n",
            "----------\n",
            "train Loss: 0.2656 Acc: 0.9303\n",
            "val Loss: 0.6697 Acc: 0.9150\n",
            "\n",
            "Epoch 14/24\n",
            "----------\n",
            "train Loss: 0.2791 Acc: 0.9098\n",
            "val Loss: 0.6667 Acc: 0.9150\n",
            "\n",
            "Epoch 15/24\n",
            "----------\n",
            "train Loss: 0.6597 Acc: 0.8893\n",
            "val Loss: 0.9844 Acc: 0.9150\n",
            "\n",
            "Epoch 16/24\n",
            "----------\n",
            "train Loss: 0.2670 Acc: 0.9180\n",
            "val Loss: 0.6767 Acc: 0.9150\n",
            "\n",
            "Epoch 17/24\n",
            "----------\n",
            "train Loss: 0.3757 Acc: 0.9262\n",
            "val Loss: 0.6790 Acc: 0.9150\n",
            "\n",
            "Epoch 18/24\n",
            "----------\n",
            "train Loss: 0.2929 Acc: 0.9221\n",
            "val Loss: 0.6807 Acc: 0.9150\n",
            "\n",
            "Epoch 19/24\n",
            "----------\n",
            "train Loss: 0.2506 Acc: 0.9098\n",
            "val Loss: 0.6788 Acc: 0.9150\n",
            "\n",
            "Epoch 20/24\n",
            "----------\n",
            "train Loss: 0.1914 Acc: 0.9508\n",
            "val Loss: 0.6794 Acc: 0.9150\n",
            "\n",
            "Epoch 21/24\n",
            "----------\n",
            "train Loss: 0.2074 Acc: 0.9508\n",
            "val Loss: 0.6789 Acc: 0.9150\n",
            "\n",
            "Epoch 22/24\n",
            "----------\n",
            "train Loss: 0.2083 Acc: 0.9426\n",
            "val Loss: 0.6787 Acc: 0.9150\n",
            "\n",
            "Epoch 23/24\n",
            "----------\n",
            "train Loss: 0.3617 Acc: 0.9057\n",
            "val Loss: 0.6786 Acc: 0.9150\n",
            "\n",
            "Epoch 24/24\n",
            "----------\n",
            "train Loss: 0.2498 Acc: 0.9385\n",
            "val Loss: 0.6784 Acc: 0.9150\n",
            "\n",
            "Training complete in 1m 26s\n",
            "Best val Acc: 0.928105\n",
            "CPU times: user 9.87 s, sys: 7.16 s, total: 17 s\n",
            "Wall time: 1min 25s\n"
          ],
          "name": "stdout"
        }
      ]
    },
    {
      "cell_type": "code",
      "metadata": {
        "id": "cxasz-cDSg2y",
        "colab_type": "code",
        "colab": {}
      },
      "source": [
        "torch.save(model_extractor.state_dict(), 'AlexNet_extractor.pth')"
      ],
      "execution_count": 0,
      "outputs": []
    },
    {
      "cell_type": "code",
      "metadata": {
        "id": "_G64zxDwSg25",
        "colab_type": "code",
        "colab": {
          "base_uri": "https://localhost:8080/",
          "height": 34
        },
        "outputId": "0e82e244-5c8e-4f29-a08b-cb8bfa9e7dbe"
      },
      "source": [
        "model_extractor.load_state_dict(torch.load('AlexNet_extractor.pth'))"
      ],
      "execution_count": 30,
      "outputs": [
        {
          "output_type": "execute_result",
          "data": {
            "text/plain": [
              "<All keys matched successfully>"
            ]
          },
          "metadata": {
            "tags": []
          },
          "execution_count": 30
        }
      ]
    },
    {
      "cell_type": "code",
      "metadata": {
        "scrolled": false,
        "id": "0k4y9e9pSg3T",
        "colab_type": "code",
        "colab": {
          "base_uri": "https://localhost:8080/",
          "height": 34
        },
        "outputId": "8c9b5c5f-25d0-4ff3-9c2d-d54709be1b0f"
      },
      "source": [
        "print(\"Accuracy: {0:.4f}\".format(evaluate(model_extractor)))"
      ],
      "execution_count": 31,
      "outputs": [
        {
          "output_type": "stream",
          "text": [
            "Accuracy: 0.9150\n"
          ],
          "name": "stdout"
        }
      ]
    },
    {
      "cell_type": "markdown",
      "metadata": {
        "colab_type": "text",
        "id": "_5Tn3EAXZV66"
      },
      "source": [
        "Видим, что качество намного лучше: ~90%."
      ]
    },
    {
      "cell_type": "markdown",
      "metadata": {
        "id": "RmehLHv9Sg3d",
        "colab_type": "text"
      },
      "source": [
        "* **Смешанный** способ:\n",
        "Мы будем обучать не только последний **fully connected** слой, но и несколько предпоследних"
      ]
    },
    {
      "cell_type": "code",
      "metadata": {
        "id": "NAcI23-OSg3e",
        "colab_type": "code",
        "colab": {}
      },
      "source": [
        "model_mixed = models.alexnet(pretrained=True)"
      ],
      "execution_count": 0,
      "outputs": []
    },
    {
      "cell_type": "code",
      "metadata": {
        "id": "TG7n2z9bSg3h",
        "colab_type": "code",
        "colab": {}
      },
      "source": [
        "layers_to_unfreeze = 5\n",
        "\n",
        "# Выключаем подсчет градиентов для слоев, которые не будем обучать\n",
        "for param in model_mixed.features[:-layers_to_unfreeze].parameters():\n",
        "    param.requires_grad = False\n",
        "    \n",
        "# num_features -- это размерность вектора фич, поступающего на вход FC-слою\n",
        "num_features = 9216\n",
        "# Заменяем Fully-Connected слой на наш линейный классификатор\n",
        "model_mixed.classifier = nn.Linear(num_features, 2)\n",
        "\n",
        "# Использовать ли GPU\n",
        "if use_gpu:\n",
        "    model_mixed = model_mixed.cuda()\n",
        "\n",
        "# В качестве cost function используем кросс-энтропию\n",
        "loss_fn = nn.CrossEntropyLoss()\n",
        "\n",
        "# Обучаем последние layers_to_unfreeze слоев из сверточной части и fully connected слой \n",
        "# parameters() возвращает просто список тензоров парамтеров, поэтому два таких списка можно сложить\n",
        "optimizer = optim.SGD(list(model_mixed.features.parameters())[-layers_to_unfreeze:] + \n",
        "                      list(model_mixed.classifier.parameters()), lr=0.001, momentum=0.9)\n",
        "\n",
        "# Умножает learning_rate на 0.1 каждые 7 эпох (это одна из эвристик, не было на лекциях)\n",
        "exp_lr_scheduler = lr_scheduler.StepLR(optimizer, step_size=7, gamma=0.1)"
      ],
      "execution_count": 0,
      "outputs": []
    },
    {
      "cell_type": "code",
      "metadata": {
        "scrolled": true,
        "id": "908lTwBoSg3n",
        "colab_type": "code",
        "outputId": "8bdffc78-30dc-4807-c7f8-c72fb1521395",
        "colab": {
          "base_uri": "https://localhost:8080/",
          "height": 1000
        }
      },
      "source": [
        "%%time\n",
        "_, losses = train_model(model_mixed, loss_fn, optimizer, exp_lr_scheduler, num_epochs=25)"
      ],
      "execution_count": 34,
      "outputs": [
        {
          "output_type": "stream",
          "text": [
            "Epoch 0/24\n",
            "----------\n"
          ],
          "name": "stdout"
        },
        {
          "output_type": "stream",
          "text": [
            "/usr/local/lib/python3.6/dist-packages/torch/optim/lr_scheduler.py:123: UserWarning: Detected call of `lr_scheduler.step()` before `optimizer.step()`. In PyTorch 1.1.0 and later, you should call them in the opposite order: `optimizer.step()` before `lr_scheduler.step()`.  Failure to do this will result in PyTorch skipping the first value of the learning rate schedule. See more details at https://pytorch.org/docs/stable/optim.html#how-to-adjust-learning-rate\n",
            "  \"https://pytorch.org/docs/stable/optim.html#how-to-adjust-learning-rate\", UserWarning)\n"
          ],
          "name": "stderr"
        },
        {
          "output_type": "stream",
          "text": [
            "train Loss: 0.3834 Acc: 0.7049\n",
            "val Loss: 0.1547 Acc: 0.7451\n",
            "\n",
            "Epoch 1/24\n",
            "----------\n",
            "train Loss: 0.1266 Acc: 0.7746\n",
            "val Loss: 0.1526 Acc: 0.7843\n",
            "\n",
            "Epoch 2/24\n",
            "----------\n",
            "train Loss: 0.1170 Acc: 0.8197\n",
            "val Loss: 0.3013 Acc: 0.7255\n",
            "\n",
            "Epoch 3/24\n",
            "----------\n",
            "train Loss: 0.1110 Acc: 0.8156\n",
            "val Loss: 0.1685 Acc: 0.8693\n",
            "\n",
            "Epoch 4/24\n",
            "----------\n",
            "train Loss: 0.0802 Acc: 0.8689\n",
            "val Loss: 0.1904 Acc: 0.8105\n",
            "\n",
            "Epoch 5/24\n",
            "----------\n",
            "train Loss: 0.0869 Acc: 0.8770\n",
            "val Loss: 0.2090 Acc: 0.7712\n",
            "\n",
            "Epoch 6/24\n",
            "----------\n",
            "train Loss: 0.0571 Acc: 0.8852\n",
            "val Loss: 0.1728 Acc: 0.8235\n",
            "\n",
            "Epoch 7/24\n",
            "----------\n",
            "train Loss: 0.0549 Acc: 0.9057\n",
            "val Loss: 0.1636 Acc: 0.8627\n",
            "\n",
            "Epoch 8/24\n",
            "----------\n",
            "train Loss: 0.0488 Acc: 0.9180\n",
            "val Loss: 0.1666 Acc: 0.8693\n",
            "\n",
            "Epoch 9/24\n",
            "----------\n",
            "train Loss: 0.0429 Acc: 0.9262\n",
            "val Loss: 0.1732 Acc: 0.8562\n",
            "\n",
            "Epoch 10/24\n",
            "----------\n",
            "train Loss: 0.0393 Acc: 0.9385\n",
            "val Loss: 0.1753 Acc: 0.8431\n",
            "\n",
            "Epoch 11/24\n",
            "----------\n",
            "train Loss: 0.0254 Acc: 0.9631\n",
            "val Loss: 0.1733 Acc: 0.8627\n",
            "\n",
            "Epoch 12/24\n",
            "----------\n",
            "train Loss: 0.0334 Acc: 0.9426\n",
            "val Loss: 0.1819 Acc: 0.8824\n",
            "\n",
            "Epoch 13/24\n",
            "----------\n",
            "train Loss: 0.0459 Acc: 0.9385\n",
            "val Loss: 0.1810 Acc: 0.8693\n",
            "\n",
            "Epoch 14/24\n",
            "----------\n",
            "train Loss: 0.0299 Acc: 0.9590\n",
            "val Loss: 0.1811 Acc: 0.8627\n",
            "\n",
            "Epoch 15/24\n",
            "----------\n",
            "train Loss: 0.0348 Acc: 0.9344\n",
            "val Loss: 0.1809 Acc: 0.8627\n",
            "\n",
            "Epoch 16/24\n",
            "----------\n",
            "train Loss: 0.0240 Acc: 0.9631\n",
            "val Loss: 0.1827 Acc: 0.8627\n",
            "\n",
            "Epoch 17/24\n",
            "----------\n",
            "train Loss: 0.0314 Acc: 0.9303\n",
            "val Loss: 0.1808 Acc: 0.8627\n",
            "\n",
            "Epoch 18/24\n",
            "----------\n",
            "train Loss: 0.0250 Acc: 0.9754\n",
            "val Loss: 0.1809 Acc: 0.8627\n",
            "\n",
            "Epoch 19/24\n",
            "----------\n",
            "train Loss: 0.0462 Acc: 0.9303\n",
            "val Loss: 0.1804 Acc: 0.8627\n",
            "\n",
            "Epoch 20/24\n",
            "----------\n",
            "train Loss: 0.0339 Acc: 0.9467\n",
            "val Loss: 0.1804 Acc: 0.8627\n",
            "\n",
            "Epoch 21/24\n",
            "----------\n",
            "train Loss: 0.0388 Acc: 0.9303\n",
            "val Loss: 0.1804 Acc: 0.8627\n",
            "\n",
            "Epoch 22/24\n",
            "----------\n",
            "train Loss: 0.0298 Acc: 0.9590\n",
            "val Loss: 0.1866 Acc: 0.8627\n",
            "\n",
            "Epoch 23/24\n",
            "----------\n",
            "train Loss: 0.0327 Acc: 0.9508\n",
            "val Loss: 0.1804 Acc: 0.8627\n",
            "\n",
            "Epoch 24/24\n",
            "----------\n",
            "train Loss: 0.0278 Acc: 0.9508\n",
            "val Loss: 0.1806 Acc: 0.8627\n",
            "\n",
            "Training complete in 1m 23s\n",
            "Best val Acc: 0.882353\n",
            "CPU times: user 11.6 s, sys: 7.43 s, total: 19 s\n",
            "Wall time: 1min 23s\n"
          ],
          "name": "stdout"
        }
      ]
    },
    {
      "cell_type": "code",
      "metadata": {
        "id": "shvL3HAESg31",
        "colab_type": "code",
        "colab": {}
      },
      "source": [
        "torch.save(model_mixed.state_dict(), 'AlexNet_mixed.pth')"
      ],
      "execution_count": 0,
      "outputs": []
    },
    {
      "cell_type": "code",
      "metadata": {
        "id": "v_QtOxJcSg3-",
        "colab_type": "code",
        "colab": {
          "base_uri": "https://localhost:8080/",
          "height": 34
        },
        "outputId": "7e53725d-f5d9-4078-f4c8-6efce20c0a57"
      },
      "source": [
        "model_mixed.load_state_dict(torch.load('AlexNet_mixed.pth'))"
      ],
      "execution_count": 36,
      "outputs": [
        {
          "output_type": "execute_result",
          "data": {
            "text/plain": [
              "<All keys matched successfully>"
            ]
          },
          "metadata": {
            "tags": []
          },
          "execution_count": 36
        }
      ]
    },
    {
      "cell_type": "code",
      "metadata": {
        "scrolled": false,
        "id": "mSJH-k5_Sg4R",
        "colab_type": "code",
        "colab": {
          "base_uri": "https://localhost:8080/",
          "height": 34
        },
        "outputId": "0bda1942-3a38-438c-84ad-cbe0add9ce92"
      },
      "source": [
        "print(\"Accuracy: {0:.4f}\".format(evaluate(model_mixed)))"
      ],
      "execution_count": 37,
      "outputs": [
        {
          "output_type": "stream",
          "text": [
            "Accuracy: 0.8627\n"
          ],
          "name": "stdout"
        }
      ]
    },
    {
      "cell_type": "markdown",
      "metadata": {
        "colab_type": "text",
        "id": "Ue3eslBDZV67"
      },
      "source": [
        "**Вопрос 1 (важный):** С чем связано повышение качества если мы перестаем учить всю сеть? (Подсказка: посмотрите на датасет и на то, как он согласуется с 4-мя ситуациями, описанными выше)"
      ]
    },
    {
      "cell_type": "markdown",
      "metadata": {
        "colab_type": "text",
        "id": "Zz5G8Z2IZV69"
      },
      "source": [
        "**Ответ (важный):** переобучение\n"
      ]
    },
    {
      "cell_type": "markdown",
      "metadata": {
        "id": "aXmlLczGSg4l",
        "colab_type": "text"
      },
      "source": [
        "**Вопрос 2**: Почему разморозка последних слоев не дает прироста к точности, хотя разморозить несколько послдних слоев обычно хорошеее решение для классификации похожего датасета? (Вопрос на внимательность)"
      ]
    },
    {
      "cell_type": "markdown",
      "metadata": {
        "id": "bA2MxfZfSg4q",
        "colab_type": "text"
      },
      "source": [
        "**Ответ:** и так уже нормально \n"
      ]
    },
    {
      "cell_type": "markdown",
      "metadata": {
        "colab_type": "text",
        "id": "90JYIt39ZV7W"
      },
      "source": [
        "### Другие, более современные нейросети"
      ]
    },
    {
      "cell_type": "markdown",
      "metadata": {
        "colab_type": "text",
        "id": "6McVYGoIZV7X"
      },
      "source": [
        "**Вопрос:** Какую стратегию Вы выберете, учитывая размер и специфику нового датасета?"
      ]
    },
    {
      "cell_type": "markdown",
      "metadata": {
        "colab_type": "text",
        "id": "gg9c_ngBZV7X"
      },
      "source": [
        "**Ответ:** ну, собственно, все 4 варианта, учитвая размер и специфику - выше описаны"
      ]
    },
    {
      "cell_type": "markdown",
      "metadata": {
        "colab_type": "text",
        "id": "YLb_VQ-nZV7Y"
      },
      "source": [
        "### VGG16"
      ]
    },
    {
      "cell_type": "code",
      "metadata": {
        "colab_type": "code",
        "id": "HrmyWuu-ZV7Z",
        "colab": {
          "base_uri": "https://localhost:8080/",
          "height": 83,
          "referenced_widgets": [
            "2650040984d74efc842570d672d1d131",
            "842fd8fad1114e879cb67645fc474a0a",
            "6e025830b5f54ce9867a0fdd25666f03",
            "e0df6b4fc72d49a4935a0d53f9ea2ce3",
            "3a01dac2a69f4c31b0e3af4633b7108a",
            "a70dae29e5ca47948c9e39cbf9fad72c",
            "787ce5ae97d9459197a40dc2f9906b51",
            "9be527b3f4674125b6c22c5d9315ce5e"
          ]
        },
        "outputId": "db382983-66cb-4f07-c306-f69fa2526ec1"
      },
      "source": [
        "# Ваш код здесь\n",
        "model_extractor = models.vgg16(pretrained=True)\n",
        "\n",
        "# замораживаем параметры (веса)\n",
        "for param in model_extractor.parameters():\n",
        "    param.requires_grad = False\n",
        "\n",
        "# num_features -- это размерность вектора фич, поступающего на вход FC-слою\n",
        "num_features = 25088\n",
        "# Заменяем Fully-Connected слой на наш линейный классификатор\n",
        "model_extractor.classifier = nn.Linear(num_features, 2)\n",
        "\n",
        "# Использовать ли GPU\n",
        "if use_gpu:\n",
        "    model_extractor = model_extractor.cuda()\n",
        "\n",
        "# В качестве cost function используем кросс-энтропию\n",
        "loss_fn = nn.CrossEntropyLoss()\n",
        "\n",
        "# Обучаем только классификатор\n",
        "optimizer = optim.SGD(model_extractor.classifier.parameters(), lr=0.001, momentum=0.9)\n",
        "\n",
        "# Умножает learning_rate на 0.1 каждые 7 эпох (это одна из эвристик, не было на лекциях)\n",
        "exp_lr_scheduler = lr_scheduler.StepLR(optimizer, step_size=7, gamma=0.1)"
      ],
      "execution_count": 38,
      "outputs": [
        {
          "output_type": "stream",
          "text": [
            "Downloading: \"https://download.pytorch.org/models/vgg16-397923af.pth\" to /root/.cache/torch/checkpoints/vgg16-397923af.pth\n"
          ],
          "name": "stderr"
        },
        {
          "output_type": "display_data",
          "data": {
            "application/vnd.jupyter.widget-view+json": {
              "model_id": "2650040984d74efc842570d672d1d131",
              "version_minor": 0,
              "version_major": 2
            },
            "text/plain": [
              "HBox(children=(IntProgress(value=0, max=553433881), HTML(value='')))"
            ]
          },
          "metadata": {
            "tags": []
          }
        },
        {
          "output_type": "stream",
          "text": [
            "\n"
          ],
          "name": "stdout"
        }
      ]
    },
    {
      "cell_type": "code",
      "metadata": {
        "id": "umLXlQZT_-zt",
        "colab_type": "code",
        "colab": {
          "base_uri": "https://localhost:8080/",
          "height": 646
        },
        "outputId": "a1a3c422-b473-4548-ac49-b56a1c4f03c0"
      },
      "source": [
        "model_extractor"
      ],
      "execution_count": 39,
      "outputs": [
        {
          "output_type": "execute_result",
          "data": {
            "text/plain": [
              "VGG(\n",
              "  (features): Sequential(\n",
              "    (0): Conv2d(3, 64, kernel_size=(3, 3), stride=(1, 1), padding=(1, 1))\n",
              "    (1): ReLU(inplace=True)\n",
              "    (2): Conv2d(64, 64, kernel_size=(3, 3), stride=(1, 1), padding=(1, 1))\n",
              "    (3): ReLU(inplace=True)\n",
              "    (4): MaxPool2d(kernel_size=2, stride=2, padding=0, dilation=1, ceil_mode=False)\n",
              "    (5): Conv2d(64, 128, kernel_size=(3, 3), stride=(1, 1), padding=(1, 1))\n",
              "    (6): ReLU(inplace=True)\n",
              "    (7): Conv2d(128, 128, kernel_size=(3, 3), stride=(1, 1), padding=(1, 1))\n",
              "    (8): ReLU(inplace=True)\n",
              "    (9): MaxPool2d(kernel_size=2, stride=2, padding=0, dilation=1, ceil_mode=False)\n",
              "    (10): Conv2d(128, 256, kernel_size=(3, 3), stride=(1, 1), padding=(1, 1))\n",
              "    (11): ReLU(inplace=True)\n",
              "    (12): Conv2d(256, 256, kernel_size=(3, 3), stride=(1, 1), padding=(1, 1))\n",
              "    (13): ReLU(inplace=True)\n",
              "    (14): Conv2d(256, 256, kernel_size=(3, 3), stride=(1, 1), padding=(1, 1))\n",
              "    (15): ReLU(inplace=True)\n",
              "    (16): MaxPool2d(kernel_size=2, stride=2, padding=0, dilation=1, ceil_mode=False)\n",
              "    (17): Conv2d(256, 512, kernel_size=(3, 3), stride=(1, 1), padding=(1, 1))\n",
              "    (18): ReLU(inplace=True)\n",
              "    (19): Conv2d(512, 512, kernel_size=(3, 3), stride=(1, 1), padding=(1, 1))\n",
              "    (20): ReLU(inplace=True)\n",
              "    (21): Conv2d(512, 512, kernel_size=(3, 3), stride=(1, 1), padding=(1, 1))\n",
              "    (22): ReLU(inplace=True)\n",
              "    (23): MaxPool2d(kernel_size=2, stride=2, padding=0, dilation=1, ceil_mode=False)\n",
              "    (24): Conv2d(512, 512, kernel_size=(3, 3), stride=(1, 1), padding=(1, 1))\n",
              "    (25): ReLU(inplace=True)\n",
              "    (26): Conv2d(512, 512, kernel_size=(3, 3), stride=(1, 1), padding=(1, 1))\n",
              "    (27): ReLU(inplace=True)\n",
              "    (28): Conv2d(512, 512, kernel_size=(3, 3), stride=(1, 1), padding=(1, 1))\n",
              "    (29): ReLU(inplace=True)\n",
              "    (30): MaxPool2d(kernel_size=2, stride=2, padding=0, dilation=1, ceil_mode=False)\n",
              "  )\n",
              "  (avgpool): AdaptiveAvgPool2d(output_size=(7, 7))\n",
              "  (classifier): Linear(in_features=25088, out_features=2, bias=True)\n",
              ")"
            ]
          },
          "metadata": {
            "tags": []
          },
          "execution_count": 39
        }
      ]
    },
    {
      "cell_type": "code",
      "metadata": {
        "scrolled": true,
        "id": "5b72ftgCSg44",
        "colab_type": "code",
        "outputId": "bec403d9-043a-45af-f8bd-020b5ae8a487",
        "colab": {
          "base_uri": "https://localhost:8080/",
          "height": 1000
        }
      },
      "source": [
        "# Запустите обучение\n",
        "\n",
        "model_extractor, losses = train_model(model_extractor, loss_fn, optimizer, exp_lr_scheduler, num_epochs=25)"
      ],
      "execution_count": 40,
      "outputs": [
        {
          "output_type": "stream",
          "text": [
            "Epoch 0/24\n",
            "----------\n"
          ],
          "name": "stdout"
        },
        {
          "output_type": "stream",
          "text": [
            "/usr/local/lib/python3.6/dist-packages/torch/optim/lr_scheduler.py:123: UserWarning: Detected call of `lr_scheduler.step()` before `optimizer.step()`. In PyTorch 1.1.0 and later, you should call them in the opposite order: `optimizer.step()` before `lr_scheduler.step()`.  Failure to do this will result in PyTorch skipping the first value of the learning rate schedule. See more details at https://pytorch.org/docs/stable/optim.html#how-to-adjust-learning-rate\n",
            "  \"https://pytorch.org/docs/stable/optim.html#how-to-adjust-learning-rate\", UserWarning)\n"
          ],
          "name": "stderr"
        },
        {
          "output_type": "stream",
          "text": [
            "train Loss: 0.5803 Acc: 0.8074\n",
            "val Loss: 0.3374 Acc: 0.9477\n",
            "\n",
            "Epoch 1/24\n",
            "----------\n",
            "train Loss: 0.2988 Acc: 0.8934\n",
            "val Loss: 0.3526 Acc: 0.9020\n",
            "\n",
            "Epoch 2/24\n",
            "----------\n",
            "train Loss: 0.3581 Acc: 0.8893\n",
            "val Loss: 0.5497 Acc: 0.9085\n",
            "\n",
            "Epoch 3/24\n",
            "----------\n",
            "train Loss: 0.3630 Acc: 0.9262\n",
            "val Loss: 0.8888 Acc: 0.9216\n",
            "\n",
            "Epoch 4/24\n",
            "----------\n",
            "train Loss: 0.1849 Acc: 0.9221\n",
            "val Loss: 0.5535 Acc: 0.9346\n",
            "\n",
            "Epoch 5/24\n",
            "----------\n",
            "train Loss: 0.2717 Acc: 0.9262\n",
            "val Loss: 0.5384 Acc: 0.9150\n",
            "\n",
            "Epoch 6/24\n",
            "----------\n",
            "train Loss: 0.0847 Acc: 0.9549\n",
            "val Loss: 0.5225 Acc: 0.9150\n",
            "\n",
            "Epoch 7/24\n",
            "----------\n",
            "train Loss: 0.1564 Acc: 0.9344\n",
            "val Loss: 0.5142 Acc: 0.9150\n",
            "\n",
            "Epoch 8/24\n",
            "----------\n",
            "train Loss: 0.1266 Acc: 0.9508\n",
            "val Loss: 0.5178 Acc: 0.9150\n",
            "\n",
            "Epoch 9/24\n",
            "----------\n",
            "train Loss: 0.1938 Acc: 0.9303\n",
            "val Loss: 0.4870 Acc: 0.9216\n",
            "\n",
            "Epoch 10/24\n",
            "----------\n",
            "train Loss: 0.0853 Acc: 0.9590\n",
            "val Loss: 0.4826 Acc: 0.9216\n",
            "\n",
            "Epoch 11/24\n",
            "----------\n",
            "train Loss: 0.1088 Acc: 0.9426\n",
            "val Loss: 0.4748 Acc: 0.9216\n",
            "\n",
            "Epoch 12/24\n",
            "----------\n",
            "train Loss: 0.0543 Acc: 0.9590\n",
            "val Loss: 0.4672 Acc: 0.9216\n",
            "\n",
            "Epoch 13/24\n",
            "----------\n",
            "train Loss: 0.1652 Acc: 0.9262\n",
            "val Loss: 0.4685 Acc: 0.9216\n",
            "\n",
            "Epoch 14/24\n",
            "----------\n",
            "train Loss: 0.1632 Acc: 0.9467\n",
            "val Loss: 0.4684 Acc: 0.9216\n",
            "\n",
            "Epoch 15/24\n",
            "----------\n",
            "train Loss: 0.2352 Acc: 0.9303\n",
            "val Loss: 0.4684 Acc: 0.9216\n",
            "\n",
            "Epoch 16/24\n",
            "----------\n",
            "train Loss: 0.0320 Acc: 0.9631\n",
            "val Loss: 0.4685 Acc: 0.9216\n",
            "\n",
            "Epoch 17/24\n",
            "----------\n",
            "train Loss: 0.1175 Acc: 0.9508\n",
            "val Loss: 0.4668 Acc: 0.9216\n",
            "\n",
            "Epoch 18/24\n",
            "----------\n",
            "train Loss: 0.0543 Acc: 0.9754\n",
            "val Loss: 0.4661 Acc: 0.9216\n",
            "\n",
            "Epoch 19/24\n",
            "----------\n",
            "train Loss: 0.1734 Acc: 0.9344\n",
            "val Loss: 0.4648 Acc: 0.9216\n",
            "\n",
            "Epoch 20/24\n",
            "----------\n",
            "train Loss: 0.1433 Acc: 0.9508\n",
            "val Loss: 0.4649 Acc: 0.9216\n",
            "\n",
            "Epoch 21/24\n",
            "----------\n",
            "train Loss: 0.0927 Acc: 0.9549\n",
            "val Loss: 0.4647 Acc: 0.9216\n",
            "\n",
            "Epoch 22/24\n",
            "----------\n",
            "train Loss: 0.0819 Acc: 0.9549\n",
            "val Loss: 0.4647 Acc: 0.9216\n",
            "\n",
            "Epoch 23/24\n",
            "----------\n",
            "train Loss: 0.0893 Acc: 0.9672\n",
            "val Loss: 0.4646 Acc: 0.9216\n",
            "\n",
            "Epoch 24/24\n",
            "----------\n",
            "train Loss: 0.1262 Acc: 0.9631\n",
            "val Loss: 0.4646 Acc: 0.9216\n",
            "\n",
            "Training complete in 2m 14s\n",
            "Best val Acc: 0.947712\n"
          ],
          "name": "stdout"
        }
      ]
    },
    {
      "cell_type": "code",
      "metadata": {
        "id": "WrPonofMSg5A",
        "colab_type": "code",
        "colab": {}
      },
      "source": [
        "torch.save(model_extractor.state_dict(), 'VGG16.pth')"
      ],
      "execution_count": 0,
      "outputs": []
    },
    {
      "cell_type": "code",
      "metadata": {
        "id": "gJj2lAIoSg5H",
        "colab_type": "code",
        "colab": {
          "base_uri": "https://localhost:8080/",
          "height": 34
        },
        "outputId": "9ebe0cab-678d-444f-ec29-968946591c62"
      },
      "source": [
        "model_extractor.load_state_dict(torch.load('VGG16.pth'))"
      ],
      "execution_count": 42,
      "outputs": [
        {
          "output_type": "execute_result",
          "data": {
            "text/plain": [
              "<All keys matched successfully>"
            ]
          },
          "metadata": {
            "tags": []
          },
          "execution_count": 42
        }
      ]
    },
    {
      "cell_type": "code",
      "metadata": {
        "scrolled": true,
        "id": "Z4miOmC9Sg5M",
        "colab_type": "code",
        "colab": {
          "base_uri": "https://localhost:8080/",
          "height": 34
        },
        "outputId": "1899c5f4-2b6f-4d7f-c325-d828f3ec5426"
      },
      "source": [
        "print(\"Accuracy: {0:.4f}\".format(evaluate(model_extractor)))"
      ],
      "execution_count": 43,
      "outputs": [
        {
          "output_type": "stream",
          "text": [
            "Accuracy: 0.9216\n"
          ],
          "name": "stdout"
        }
      ]
    },
    {
      "cell_type": "markdown",
      "metadata": {
        "colab_type": "text",
        "id": "lw96OH0SZV7b"
      },
      "source": [
        "### Inception_v3"
      ]
    },
    {
      "cell_type": "code",
      "metadata": {
        "id": "P3hcfum_Sg5R",
        "colab_type": "code",
        "colab": {}
      },
      "source": [
        "# Нужно поменять размер картинок на 299, иначе будет ошибка, так как размерность станет отрицательной.\n",
        "# Это вызвано тем, что нейросеть изначально обучалась на картинках размера 299.\n",
        "\n",
        "# Результирующий размер картинок определяется трансформациями\n",
        "data_transforms = {\n",
        "    'train': transforms.Compose([\n",
        "        transforms.RandomResizedCrop(299),\n",
        "        transforms.RandomHorizontalFlip(),\n",
        "        transforms.ToTensor(),\n",
        "        transforms.Normalize([0.485, 0.456, 0.406], [0.229, 0.224, 0.225])\n",
        "    ]),\n",
        "    'val': transforms.Compose([\n",
        "        transforms.Resize(299),\n",
        "        transforms.CenterCrop(299),\n",
        "        transforms.ToTensor(),\n",
        "        transforms.Normalize([0.485, 0.456, 0.406], [0.229, 0.224, 0.225])\n",
        "    ]),\n",
        "}\n",
        "\n",
        "# Сам объект датасета\n",
        "image_datasets = {x: datasets.ImageFolder(os.path.join(data_dir, x),\n",
        "                                          data_transforms[x])\n",
        "                  for x in ['train', 'val']}\n",
        "\n",
        "# специальный класс для загрузки данных в виде батчей\n",
        "dataloaders = {x: torch.utils.data.DataLoader(image_datasets[x], batch_size=4,\n",
        "                                              shuffle=True, num_workers=4)\n",
        "               for x in ['train', 'val']}"
      ],
      "execution_count": 0,
      "outputs": []
    },
    {
      "cell_type": "code",
      "metadata": {
        "scrolled": true,
        "id": "7N1RICFESg5a",
        "colab_type": "code",
        "outputId": "9666b220-6636-46d6-c93c-046e343068d1",
        "colab": {
          "base_uri": "https://localhost:8080/",
          "height": 1000
        }
      },
      "source": [
        "%%time\n",
        "model_extractor.aux_logits = False\n",
        "model_extractor, losses = train_model(model_extractor, loss_fn, optimizer, exp_lr_scheduler, num_epochs=25)"
      ],
      "execution_count": 45,
      "outputs": [
        {
          "output_type": "stream",
          "text": [
            "Epoch 0/24\n",
            "----------\n",
            "train Loss: 0.0708 Acc: 0.9631\n",
            "val Loss: 0.3718 Acc: 0.9281\n",
            "\n",
            "Epoch 1/24\n",
            "----------\n",
            "train Loss: 0.1026 Acc: 0.9508\n",
            "val Loss: 0.3717 Acc: 0.9281\n",
            "\n",
            "Epoch 2/24\n",
            "----------\n",
            "train Loss: 0.0964 Acc: 0.9549\n",
            "val Loss: 0.3717 Acc: 0.9281\n",
            "\n",
            "Epoch 3/24\n",
            "----------\n",
            "train Loss: 0.1173 Acc: 0.9426\n",
            "val Loss: 0.6696 Acc: 0.9281\n",
            "\n",
            "Epoch 4/24\n",
            "----------\n",
            "train Loss: 0.0883 Acc: 0.9426\n",
            "val Loss: 0.3716 Acc: 0.9281\n",
            "\n",
            "Epoch 5/24\n",
            "----------\n",
            "train Loss: 0.0764 Acc: 0.9508\n",
            "val Loss: 0.3716 Acc: 0.9281\n",
            "\n",
            "Epoch 6/24\n",
            "----------\n",
            "train Loss: 0.1325 Acc: 0.9303\n",
            "val Loss: 0.3716 Acc: 0.9281\n",
            "\n",
            "Epoch 7/24\n",
            "----------\n",
            "train Loss: 0.1477 Acc: 0.9344\n",
            "val Loss: 0.3716 Acc: 0.9281\n",
            "\n",
            "Epoch 8/24\n",
            "----------\n",
            "train Loss: 0.0827 Acc: 0.9549\n",
            "val Loss: 0.3716 Acc: 0.9281\n",
            "\n",
            "Epoch 9/24\n",
            "----------\n",
            "train Loss: 0.1722 Acc: 0.9139\n",
            "val Loss: 0.4296 Acc: 0.9281\n",
            "\n",
            "Epoch 10/24\n",
            "----------\n",
            "train Loss: 0.0898 Acc: 0.9508\n",
            "val Loss: 0.3716 Acc: 0.9281\n",
            "\n",
            "Epoch 11/24\n",
            "----------\n",
            "train Loss: 0.0540 Acc: 0.9713\n",
            "val Loss: 0.3716 Acc: 0.9281\n",
            "\n",
            "Epoch 12/24\n",
            "----------\n",
            "train Loss: 0.0919 Acc: 0.9344\n",
            "val Loss: 0.3716 Acc: 0.9281\n",
            "\n",
            "Epoch 13/24\n",
            "----------\n",
            "train Loss: 0.1494 Acc: 0.9344\n",
            "val Loss: 0.3716 Acc: 0.9281\n",
            "\n",
            "Epoch 14/24\n",
            "----------\n",
            "train Loss: 0.1183 Acc: 0.9467\n",
            "val Loss: 0.3716 Acc: 0.9281\n",
            "\n",
            "Epoch 15/24\n",
            "----------\n",
            "train Loss: 0.0701 Acc: 0.9713\n",
            "val Loss: 0.3716 Acc: 0.9281\n",
            "\n",
            "Epoch 16/24\n",
            "----------\n",
            "train Loss: 0.1145 Acc: 0.9385\n",
            "val Loss: 0.3716 Acc: 0.9281\n",
            "\n",
            "Epoch 17/24\n",
            "----------\n",
            "train Loss: 0.1067 Acc: 0.9508\n",
            "val Loss: 0.3716 Acc: 0.9281\n",
            "\n",
            "Epoch 18/24\n",
            "----------\n",
            "train Loss: 0.0822 Acc: 0.9631\n",
            "val Loss: 0.4295 Acc: 0.9281\n",
            "\n",
            "Epoch 19/24\n",
            "----------\n",
            "train Loss: 0.0768 Acc: 0.9549\n",
            "val Loss: 0.3716 Acc: 0.9281\n",
            "\n",
            "Epoch 20/24\n",
            "----------\n",
            "train Loss: 0.0905 Acc: 0.9426\n",
            "val Loss: 0.3716 Acc: 0.9281\n",
            "\n",
            "Epoch 21/24\n",
            "----------\n",
            "train Loss: 0.0751 Acc: 0.9672\n",
            "val Loss: 0.3937 Acc: 0.9281\n",
            "\n",
            "Epoch 22/24\n",
            "----------\n",
            "train Loss: 0.0474 Acc: 0.9631\n",
            "val Loss: 0.3716 Acc: 0.9281\n",
            "\n",
            "Epoch 23/24\n",
            "----------\n",
            "train Loss: 0.1200 Acc: 0.9549\n",
            "val Loss: 0.3716 Acc: 0.9281\n",
            "\n",
            "Epoch 24/24\n",
            "----------\n",
            "train Loss: 0.1605 Acc: 0.9344\n",
            "val Loss: 0.3716 Acc: 0.9281\n",
            "\n",
            "Training complete in 3m 8s\n",
            "Best val Acc: 0.928105\n",
            "CPU times: user 1min 8s, sys: 44.8 s, total: 1min 52s\n",
            "Wall time: 3min 7s\n"
          ],
          "name": "stdout"
        }
      ]
    },
    {
      "cell_type": "code",
      "metadata": {
        "id": "vf7KKR3wSg5j",
        "colab_type": "code",
        "colab": {}
      },
      "source": [
        "torch.save(model_extractor.state_dict(), 'Inceptionv3.pth')"
      ],
      "execution_count": 0,
      "outputs": []
    },
    {
      "cell_type": "code",
      "metadata": {
        "id": "63_hZCP_Sg5o",
        "colab_type": "code",
        "colab": {
          "base_uri": "https://localhost:8080/",
          "height": 34
        },
        "outputId": "d5de4d5f-4761-4003-adcb-726adfa1225d"
      },
      "source": [
        "model_extractor.load_state_dict(torch.load('Inceptionv3.pth'))"
      ],
      "execution_count": 47,
      "outputs": [
        {
          "output_type": "execute_result",
          "data": {
            "text/plain": [
              "<All keys matched successfully>"
            ]
          },
          "metadata": {
            "tags": []
          },
          "execution_count": 47
        }
      ]
    },
    {
      "cell_type": "code",
      "metadata": {
        "scrolled": true,
        "id": "U7m4-eCoSg57",
        "colab_type": "code",
        "colab": {
          "base_uri": "https://localhost:8080/",
          "height": 34
        },
        "outputId": "9cbc7f1f-16eb-4a7f-f950-687be1b7bd62"
      },
      "source": [
        "print(\"Accuracy: {0:.4f}\".format(evaluate(model_extractor)))"
      ],
      "execution_count": 48,
      "outputs": [
        {
          "output_type": "stream",
          "text": [
            "Accuracy: 0.9281\n"
          ],
          "name": "stdout"
        }
      ]
    },
    {
      "cell_type": "markdown",
      "metadata": {
        "colab_type": "text",
        "id": "DK1TsMVZZV7h"
      },
      "source": [
        "**Вопрос:** Какая из сетей оказалась наилучшей? Как думаете, почему?"
      ]
    },
    {
      "cell_type": "markdown",
      "metadata": {
        "colab_type": "text",
        "id": "sRukNGePZV7j"
      },
      "source": [
        "**Ответ:** гуглнет) ну вцг почти также. алекснет - новичок, а вцг и гуглнет - добавили слоев. гуглнет ещё градиенту не слишком даёт затухнуть. "
      ]
    },
    {
      "cell_type": "markdown",
      "metadata": {
        "colab_type": "text",
        "id": "c57p6EIi6qv2"
      },
      "source": [
        "\n",
        "<h2 style=\"text-align: center;\"><b>Полезные ссылки</b></h3>"
      ]
    },
    {
      "cell_type": "markdown",
      "metadata": {
        "colab_type": "text",
        "id": "8CvOZffV6qv2"
      },
      "source": [
        "1). *cs231n: http://cs231n.github.io/transfer-learning/*\n",
        "\n",
        "2). *Туториал на PyTorch Tutorials: https://pytorch.org/tutorials/beginner/transfer_learning_tutorial*\n",
        "\n",
        "3). *Статья на Medium про TL в PyTorch: https://medium.com/@14prakash/almost-any-image-classification-problem-using-pytorch-i-am-in-love-with-pytorch-26c7aa979ec4*  "
      ]
    }
  ]
}